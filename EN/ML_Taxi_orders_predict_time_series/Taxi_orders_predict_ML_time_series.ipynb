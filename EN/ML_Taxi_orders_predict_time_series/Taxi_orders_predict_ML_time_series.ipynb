{
 "cells": [
  {
   "cell_type": "markdown",
   "metadata": {},
   "source": [
    "#  Taxi orders prediction"
   ]
  },
  {
   "cell_type": "markdown",
   "metadata": {},
   "source": [
    "The company has historical data on taxi orders at airports. To attract more drivers during the peak period, company needs a model, which can predict number of orders.\n",
    "Main task: to build a model for predicting a taxi orders for the next hour.\n",
    "\n",
    "The client's target metric *RMSE* on the test set must not exceed 48. The test set size is set to 10%."
   ]
  },
  {
   "cell_type": "markdown",
   "metadata": {},
   "source": [
    "## Data preprosesing and EDA"
   ]
  },
  {
   "cell_type": "code",
   "execution_count": 1,
   "metadata": {},
   "outputs": [],
   "source": [
    "import matplotlib.pyplot as plt\n",
    "import numpy as np\n",
    "import pandas as pd\n",
    "import seaborn as sns\n",
    "from catboost import CatBoostRegressor\n",
    "from sklearn.ensemble import RandomForestRegressor\n",
    "from sklearn.linear_model import LinearRegression\n",
    "from sklearn.metrics import mean_squared_error\n",
    "from sklearn.model_selection import GridSearchCV\n",
    "from sklearn.model_selection import RandomizedSearchCV\n",
    "from sklearn.model_selection import train_test_split\n",
    "from sklearn.preprocessing import OneHotEncoder\n",
    "from sklearn.preprocessing import StandardScaler\n",
    "from sklearn.model_selection import TimeSeriesSplit\n",
    "from statsmodels.tsa.seasonal import seasonal_decompose"
   ]
  },
  {
   "cell_type": "code",
   "execution_count": 2,
   "metadata": {},
   "outputs": [],
   "source": [
    "data = pd.read_csv('/Users/andreyshagin/Downloads/taxi.csv', index_col=[0], parse_dates=[0])"
   ]
  },
  {
   "cell_type": "code",
   "execution_count": 3,
   "metadata": {},
   "outputs": [
    {
     "data": {
      "text/html": [
       "<div>\n",
       "<style scoped>\n",
       "    .dataframe tbody tr th:only-of-type {\n",
       "        vertical-align: middle;\n",
       "    }\n",
       "\n",
       "    .dataframe tbody tr th {\n",
       "        vertical-align: top;\n",
       "    }\n",
       "\n",
       "    .dataframe thead th {\n",
       "        text-align: right;\n",
       "    }\n",
       "</style>\n",
       "<table border=\"1\" class=\"dataframe\">\n",
       "  <thead>\n",
       "    <tr style=\"text-align: right;\">\n",
       "      <th></th>\n",
       "      <th>num_orders</th>\n",
       "    </tr>\n",
       "    <tr>\n",
       "      <th>datetime</th>\n",
       "      <th></th>\n",
       "    </tr>\n",
       "  </thead>\n",
       "  <tbody>\n",
       "    <tr>\n",
       "      <th>2018-03-01 00:00:00</th>\n",
       "      <td>9</td>\n",
       "    </tr>\n",
       "    <tr>\n",
       "      <th>2018-03-01 00:10:00</th>\n",
       "      <td>14</td>\n",
       "    </tr>\n",
       "    <tr>\n",
       "      <th>2018-03-01 00:20:00</th>\n",
       "      <td>28</td>\n",
       "    </tr>\n",
       "    <tr>\n",
       "      <th>2018-03-01 00:30:00</th>\n",
       "      <td>20</td>\n",
       "    </tr>\n",
       "    <tr>\n",
       "      <th>2018-03-01 00:40:00</th>\n",
       "      <td>32</td>\n",
       "    </tr>\n",
       "    <tr>\n",
       "      <th>...</th>\n",
       "      <td>...</td>\n",
       "    </tr>\n",
       "    <tr>\n",
       "      <th>2018-08-31 23:10:00</th>\n",
       "      <td>32</td>\n",
       "    </tr>\n",
       "    <tr>\n",
       "      <th>2018-08-31 23:20:00</th>\n",
       "      <td>24</td>\n",
       "    </tr>\n",
       "    <tr>\n",
       "      <th>2018-08-31 23:30:00</th>\n",
       "      <td>27</td>\n",
       "    </tr>\n",
       "    <tr>\n",
       "      <th>2018-08-31 23:40:00</th>\n",
       "      <td>39</td>\n",
       "    </tr>\n",
       "    <tr>\n",
       "      <th>2018-08-31 23:50:00</th>\n",
       "      <td>53</td>\n",
       "    </tr>\n",
       "  </tbody>\n",
       "</table>\n",
       "<p>26496 rows × 1 columns</p>\n",
       "</div>"
      ],
      "text/plain": [
       "                     num_orders\n",
       "datetime                       \n",
       "2018-03-01 00:00:00           9\n",
       "2018-03-01 00:10:00          14\n",
       "2018-03-01 00:20:00          28\n",
       "2018-03-01 00:30:00          20\n",
       "2018-03-01 00:40:00          32\n",
       "...                         ...\n",
       "2018-08-31 23:10:00          32\n",
       "2018-08-31 23:20:00          24\n",
       "2018-08-31 23:30:00          27\n",
       "2018-08-31 23:40:00          39\n",
       "2018-08-31 23:50:00          53\n",
       "\n",
       "[26496 rows x 1 columns]"
      ]
     },
     "execution_count": 3,
     "metadata": {},
     "output_type": "execute_result"
    }
   ],
   "source": [
    "data"
   ]
  },
  {
   "cell_type": "markdown",
   "metadata": {},
   "source": [
    "Sort by index, index contains time.\n",
    "Perform resampling for 1 hour, cause main target orders for next hour."
   ]
  },
  {
   "cell_type": "code",
   "execution_count": 4,
   "metadata": {},
   "outputs": [],
   "source": [
    "data.sort_index(inplace=True)\n",
    "data = data.resample('1H').sum()"
   ]
  },
  {
   "cell_type": "code",
   "execution_count": 5,
   "metadata": {
    "scrolled": true
   },
   "outputs": [
    {
     "name": "stdout",
     "output_type": "stream",
     "text": [
      "<class 'pandas.core.frame.DataFrame'>\n",
      "DatetimeIndex: 4416 entries, 2018-03-01 00:00:00 to 2018-08-31 23:00:00\n",
      "Freq: H\n",
      "Data columns (total 1 columns):\n",
      " #   Column      Non-Null Count  Dtype\n",
      "---  ------      --------------  -----\n",
      " 0   num_orders  4416 non-null   int64\n",
      "dtypes: int64(1)\n",
      "memory usage: 69.0 KB\n"
     ]
    }
   ],
   "source": [
    "data.info()"
   ]
  },
  {
   "cell_type": "markdown",
   "metadata": {},
   "source": [
    "Checking that time in index is ascending"
   ]
  },
  {
   "cell_type": "code",
   "execution_count": 6,
   "metadata": {
    "scrolled": false
   },
   "outputs": [
    {
     "data": {
      "text/html": [
       "<div>\n",
       "<style scoped>\n",
       "    .dataframe tbody tr th:only-of-type {\n",
       "        vertical-align: middle;\n",
       "    }\n",
       "\n",
       "    .dataframe tbody tr th {\n",
       "        vertical-align: top;\n",
       "    }\n",
       "\n",
       "    .dataframe thead th {\n",
       "        text-align: right;\n",
       "    }\n",
       "</style>\n",
       "<table border=\"1\" class=\"dataframe\">\n",
       "  <thead>\n",
       "    <tr style=\"text-align: right;\">\n",
       "      <th></th>\n",
       "      <th>num_orders</th>\n",
       "    </tr>\n",
       "    <tr>\n",
       "      <th>datetime</th>\n",
       "      <th></th>\n",
       "    </tr>\n",
       "  </thead>\n",
       "  <tbody>\n",
       "    <tr>\n",
       "      <th>2018-03-01 00:00:00</th>\n",
       "      <td>124</td>\n",
       "    </tr>\n",
       "    <tr>\n",
       "      <th>2018-03-01 01:00:00</th>\n",
       "      <td>85</td>\n",
       "    </tr>\n",
       "    <tr>\n",
       "      <th>2018-03-01 02:00:00</th>\n",
       "      <td>71</td>\n",
       "    </tr>\n",
       "    <tr>\n",
       "      <th>2018-03-01 03:00:00</th>\n",
       "      <td>66</td>\n",
       "    </tr>\n",
       "    <tr>\n",
       "      <th>2018-03-01 04:00:00</th>\n",
       "      <td>43</td>\n",
       "    </tr>\n",
       "  </tbody>\n",
       "</table>\n",
       "</div>"
      ],
      "text/plain": [
       "                     num_orders\n",
       "datetime                       \n",
       "2018-03-01 00:00:00         124\n",
       "2018-03-01 01:00:00          85\n",
       "2018-03-01 02:00:00          71\n",
       "2018-03-01 03:00:00          66\n",
       "2018-03-01 04:00:00          43"
      ]
     },
     "metadata": {},
     "output_type": "display_data"
    },
    {
     "data": {
      "text/html": [
       "<div>\n",
       "<style scoped>\n",
       "    .dataframe tbody tr th:only-of-type {\n",
       "        vertical-align: middle;\n",
       "    }\n",
       "\n",
       "    .dataframe tbody tr th {\n",
       "        vertical-align: top;\n",
       "    }\n",
       "\n",
       "    .dataframe thead th {\n",
       "        text-align: right;\n",
       "    }\n",
       "</style>\n",
       "<table border=\"1\" class=\"dataframe\">\n",
       "  <thead>\n",
       "    <tr style=\"text-align: right;\">\n",
       "      <th></th>\n",
       "      <th>num_orders</th>\n",
       "    </tr>\n",
       "    <tr>\n",
       "      <th>datetime</th>\n",
       "      <th></th>\n",
       "    </tr>\n",
       "  </thead>\n",
       "  <tbody>\n",
       "    <tr>\n",
       "      <th>2018-08-31 19:00:00</th>\n",
       "      <td>136</td>\n",
       "    </tr>\n",
       "    <tr>\n",
       "      <th>2018-08-31 20:00:00</th>\n",
       "      <td>154</td>\n",
       "    </tr>\n",
       "    <tr>\n",
       "      <th>2018-08-31 21:00:00</th>\n",
       "      <td>159</td>\n",
       "    </tr>\n",
       "    <tr>\n",
       "      <th>2018-08-31 22:00:00</th>\n",
       "      <td>223</td>\n",
       "    </tr>\n",
       "    <tr>\n",
       "      <th>2018-08-31 23:00:00</th>\n",
       "      <td>205</td>\n",
       "    </tr>\n",
       "  </tbody>\n",
       "</table>\n",
       "</div>"
      ],
      "text/plain": [
       "                     num_orders\n",
       "datetime                       \n",
       "2018-08-31 19:00:00         136\n",
       "2018-08-31 20:00:00         154\n",
       "2018-08-31 21:00:00         159\n",
       "2018-08-31 22:00:00         223\n",
       "2018-08-31 23:00:00         205"
      ]
     },
     "execution_count": 6,
     "metadata": {},
     "output_type": "execute_result"
    }
   ],
   "source": [
    "display(data.head())\n",
    "data.tail()"
   ]
  },
  {
   "cell_type": "markdown",
   "metadata": {},
   "source": [
    "Create day of the week column (because we have weekly seasonality) and hour (because there is hourly (daily) seasonality), year and month factors are not needed, since we predict an order for an hour, so to determine trends, this will not help.\n",
    "The lag autoregression parameter to take into account previous events, I also add the rolling smoothing factor, an analogue of the trend, I set it for 24 hours."
   ]
  },
  {
   "cell_type": "code",
   "execution_count": 7,
   "metadata": {},
   "outputs": [],
   "source": [
    "def make_features(data, max_lag, rolling_mean_size):\n",
    "    data['dayofweek'] = data.index.dayofweek\n",
    "    data['hour'] = data.index.hour\n",
    "    \n",
    "    for lag in range(1, max_lag + 1):\n",
    "        data['lag_{}'.format(lag)] = data['num_orders'].shift(lag)\n",
    "\n",
    "    data['rolling_mean'] = data['num_orders'].shift().rolling(rolling_mean_size).mean()\n",
    "\n",
    "\n",
    "make_features(data, 72, 24)"
   ]
  },
  {
   "cell_type": "markdown",
   "metadata": {},
   "source": [
    "Check that all factors included"
   ]
  },
  {
   "cell_type": "code",
   "execution_count": 8,
   "metadata": {
    "scrolled": false
   },
   "outputs": [
    {
     "data": {
      "text/html": [
       "<div>\n",
       "<style scoped>\n",
       "    .dataframe tbody tr th:only-of-type {\n",
       "        vertical-align: middle;\n",
       "    }\n",
       "\n",
       "    .dataframe tbody tr th {\n",
       "        vertical-align: top;\n",
       "    }\n",
       "\n",
       "    .dataframe thead th {\n",
       "        text-align: right;\n",
       "    }\n",
       "</style>\n",
       "<table border=\"1\" class=\"dataframe\">\n",
       "  <thead>\n",
       "    <tr style=\"text-align: right;\">\n",
       "      <th></th>\n",
       "      <th>num_orders</th>\n",
       "      <th>dayofweek</th>\n",
       "      <th>hour</th>\n",
       "      <th>lag_1</th>\n",
       "      <th>lag_2</th>\n",
       "      <th>lag_3</th>\n",
       "      <th>lag_4</th>\n",
       "      <th>lag_5</th>\n",
       "      <th>lag_6</th>\n",
       "      <th>lag_7</th>\n",
       "      <th>...</th>\n",
       "      <th>lag_64</th>\n",
       "      <th>lag_65</th>\n",
       "      <th>lag_66</th>\n",
       "      <th>lag_67</th>\n",
       "      <th>lag_68</th>\n",
       "      <th>lag_69</th>\n",
       "      <th>lag_70</th>\n",
       "      <th>lag_71</th>\n",
       "      <th>lag_72</th>\n",
       "      <th>rolling_mean</th>\n",
       "    </tr>\n",
       "    <tr>\n",
       "      <th>datetime</th>\n",
       "      <th></th>\n",
       "      <th></th>\n",
       "      <th></th>\n",
       "      <th></th>\n",
       "      <th></th>\n",
       "      <th></th>\n",
       "      <th></th>\n",
       "      <th></th>\n",
       "      <th></th>\n",
       "      <th></th>\n",
       "      <th></th>\n",
       "      <th></th>\n",
       "      <th></th>\n",
       "      <th></th>\n",
       "      <th></th>\n",
       "      <th></th>\n",
       "      <th></th>\n",
       "      <th></th>\n",
       "      <th></th>\n",
       "      <th></th>\n",
       "      <th></th>\n",
       "    </tr>\n",
       "  </thead>\n",
       "  <tbody>\n",
       "    <tr>\n",
       "      <th>2018-03-01 00:00:00</th>\n",
       "      <td>124</td>\n",
       "      <td>3</td>\n",
       "      <td>0</td>\n",
       "      <td>NaN</td>\n",
       "      <td>NaN</td>\n",
       "      <td>NaN</td>\n",
       "      <td>NaN</td>\n",
       "      <td>NaN</td>\n",
       "      <td>NaN</td>\n",
       "      <td>NaN</td>\n",
       "      <td>...</td>\n",
       "      <td>NaN</td>\n",
       "      <td>NaN</td>\n",
       "      <td>NaN</td>\n",
       "      <td>NaN</td>\n",
       "      <td>NaN</td>\n",
       "      <td>NaN</td>\n",
       "      <td>NaN</td>\n",
       "      <td>NaN</td>\n",
       "      <td>NaN</td>\n",
       "      <td>NaN</td>\n",
       "    </tr>\n",
       "    <tr>\n",
       "      <th>2018-03-01 01:00:00</th>\n",
       "      <td>85</td>\n",
       "      <td>3</td>\n",
       "      <td>1</td>\n",
       "      <td>124.0</td>\n",
       "      <td>NaN</td>\n",
       "      <td>NaN</td>\n",
       "      <td>NaN</td>\n",
       "      <td>NaN</td>\n",
       "      <td>NaN</td>\n",
       "      <td>NaN</td>\n",
       "      <td>...</td>\n",
       "      <td>NaN</td>\n",
       "      <td>NaN</td>\n",
       "      <td>NaN</td>\n",
       "      <td>NaN</td>\n",
       "      <td>NaN</td>\n",
       "      <td>NaN</td>\n",
       "      <td>NaN</td>\n",
       "      <td>NaN</td>\n",
       "      <td>NaN</td>\n",
       "      <td>NaN</td>\n",
       "    </tr>\n",
       "    <tr>\n",
       "      <th>2018-03-01 02:00:00</th>\n",
       "      <td>71</td>\n",
       "      <td>3</td>\n",
       "      <td>2</td>\n",
       "      <td>85.0</td>\n",
       "      <td>124.0</td>\n",
       "      <td>NaN</td>\n",
       "      <td>NaN</td>\n",
       "      <td>NaN</td>\n",
       "      <td>NaN</td>\n",
       "      <td>NaN</td>\n",
       "      <td>...</td>\n",
       "      <td>NaN</td>\n",
       "      <td>NaN</td>\n",
       "      <td>NaN</td>\n",
       "      <td>NaN</td>\n",
       "      <td>NaN</td>\n",
       "      <td>NaN</td>\n",
       "      <td>NaN</td>\n",
       "      <td>NaN</td>\n",
       "      <td>NaN</td>\n",
       "      <td>NaN</td>\n",
       "    </tr>\n",
       "    <tr>\n",
       "      <th>2018-03-01 03:00:00</th>\n",
       "      <td>66</td>\n",
       "      <td>3</td>\n",
       "      <td>3</td>\n",
       "      <td>71.0</td>\n",
       "      <td>85.0</td>\n",
       "      <td>124.0</td>\n",
       "      <td>NaN</td>\n",
       "      <td>NaN</td>\n",
       "      <td>NaN</td>\n",
       "      <td>NaN</td>\n",
       "      <td>...</td>\n",
       "      <td>NaN</td>\n",
       "      <td>NaN</td>\n",
       "      <td>NaN</td>\n",
       "      <td>NaN</td>\n",
       "      <td>NaN</td>\n",
       "      <td>NaN</td>\n",
       "      <td>NaN</td>\n",
       "      <td>NaN</td>\n",
       "      <td>NaN</td>\n",
       "      <td>NaN</td>\n",
       "    </tr>\n",
       "    <tr>\n",
       "      <th>2018-03-01 04:00:00</th>\n",
       "      <td>43</td>\n",
       "      <td>3</td>\n",
       "      <td>4</td>\n",
       "      <td>66.0</td>\n",
       "      <td>71.0</td>\n",
       "      <td>85.0</td>\n",
       "      <td>124.0</td>\n",
       "      <td>NaN</td>\n",
       "      <td>NaN</td>\n",
       "      <td>NaN</td>\n",
       "      <td>...</td>\n",
       "      <td>NaN</td>\n",
       "      <td>NaN</td>\n",
       "      <td>NaN</td>\n",
       "      <td>NaN</td>\n",
       "      <td>NaN</td>\n",
       "      <td>NaN</td>\n",
       "      <td>NaN</td>\n",
       "      <td>NaN</td>\n",
       "      <td>NaN</td>\n",
       "      <td>NaN</td>\n",
       "    </tr>\n",
       "    <tr>\n",
       "      <th>...</th>\n",
       "      <td>...</td>\n",
       "      <td>...</td>\n",
       "      <td>...</td>\n",
       "      <td>...</td>\n",
       "      <td>...</td>\n",
       "      <td>...</td>\n",
       "      <td>...</td>\n",
       "      <td>...</td>\n",
       "      <td>...</td>\n",
       "      <td>...</td>\n",
       "      <td>...</td>\n",
       "      <td>...</td>\n",
       "      <td>...</td>\n",
       "      <td>...</td>\n",
       "      <td>...</td>\n",
       "      <td>...</td>\n",
       "      <td>...</td>\n",
       "      <td>...</td>\n",
       "      <td>...</td>\n",
       "      <td>...</td>\n",
       "      <td>...</td>\n",
       "    </tr>\n",
       "    <tr>\n",
       "      <th>2018-08-31 19:00:00</th>\n",
       "      <td>136</td>\n",
       "      <td>4</td>\n",
       "      <td>19</td>\n",
       "      <td>207.0</td>\n",
       "      <td>217.0</td>\n",
       "      <td>197.0</td>\n",
       "      <td>116.0</td>\n",
       "      <td>133.0</td>\n",
       "      <td>166.0</td>\n",
       "      <td>136.0</td>\n",
       "      <td>...</td>\n",
       "      <td>126.0</td>\n",
       "      <td>163.0</td>\n",
       "      <td>152.0</td>\n",
       "      <td>234.0</td>\n",
       "      <td>179.0</td>\n",
       "      <td>160.0</td>\n",
       "      <td>189.0</td>\n",
       "      <td>94.0</td>\n",
       "      <td>111.0</td>\n",
       "      <td>164.875000</td>\n",
       "    </tr>\n",
       "    <tr>\n",
       "      <th>2018-08-31 20:00:00</th>\n",
       "      <td>154</td>\n",
       "      <td>4</td>\n",
       "      <td>20</td>\n",
       "      <td>136.0</td>\n",
       "      <td>207.0</td>\n",
       "      <td>217.0</td>\n",
       "      <td>197.0</td>\n",
       "      <td>116.0</td>\n",
       "      <td>133.0</td>\n",
       "      <td>166.0</td>\n",
       "      <td>...</td>\n",
       "      <td>136.0</td>\n",
       "      <td>126.0</td>\n",
       "      <td>163.0</td>\n",
       "      <td>152.0</td>\n",
       "      <td>234.0</td>\n",
       "      <td>179.0</td>\n",
       "      <td>160.0</td>\n",
       "      <td>189.0</td>\n",
       "      <td>94.0</td>\n",
       "      <td>167.541667</td>\n",
       "    </tr>\n",
       "    <tr>\n",
       "      <th>2018-08-31 21:00:00</th>\n",
       "      <td>159</td>\n",
       "      <td>4</td>\n",
       "      <td>21</td>\n",
       "      <td>154.0</td>\n",
       "      <td>136.0</td>\n",
       "      <td>207.0</td>\n",
       "      <td>217.0</td>\n",
       "      <td>197.0</td>\n",
       "      <td>116.0</td>\n",
       "      <td>133.0</td>\n",
       "      <td>...</td>\n",
       "      <td>55.0</td>\n",
       "      <td>136.0</td>\n",
       "      <td>126.0</td>\n",
       "      <td>163.0</td>\n",
       "      <td>152.0</td>\n",
       "      <td>234.0</td>\n",
       "      <td>179.0</td>\n",
       "      <td>160.0</td>\n",
       "      <td>189.0</td>\n",
       "      <td>168.041667</td>\n",
       "    </tr>\n",
       "    <tr>\n",
       "      <th>2018-08-31 22:00:00</th>\n",
       "      <td>223</td>\n",
       "      <td>4</td>\n",
       "      <td>22</td>\n",
       "      <td>159.0</td>\n",
       "      <td>154.0</td>\n",
       "      <td>136.0</td>\n",
       "      <td>207.0</td>\n",
       "      <td>217.0</td>\n",
       "      <td>197.0</td>\n",
       "      <td>116.0</td>\n",
       "      <td>...</td>\n",
       "      <td>36.0</td>\n",
       "      <td>55.0</td>\n",
       "      <td>136.0</td>\n",
       "      <td>126.0</td>\n",
       "      <td>163.0</td>\n",
       "      <td>152.0</td>\n",
       "      <td>234.0</td>\n",
       "      <td>179.0</td>\n",
       "      <td>160.0</td>\n",
       "      <td>166.416667</td>\n",
       "    </tr>\n",
       "    <tr>\n",
       "      <th>2018-08-31 23:00:00</th>\n",
       "      <td>205</td>\n",
       "      <td>4</td>\n",
       "      <td>23</td>\n",
       "      <td>223.0</td>\n",
       "      <td>159.0</td>\n",
       "      <td>154.0</td>\n",
       "      <td>136.0</td>\n",
       "      <td>207.0</td>\n",
       "      <td>217.0</td>\n",
       "      <td>197.0</td>\n",
       "      <td>...</td>\n",
       "      <td>60.0</td>\n",
       "      <td>36.0</td>\n",
       "      <td>55.0</td>\n",
       "      <td>136.0</td>\n",
       "      <td>126.0</td>\n",
       "      <td>163.0</td>\n",
       "      <td>152.0</td>\n",
       "      <td>234.0</td>\n",
       "      <td>179.0</td>\n",
       "      <td>169.125000</td>\n",
       "    </tr>\n",
       "  </tbody>\n",
       "</table>\n",
       "<p>4416 rows × 76 columns</p>\n",
       "</div>"
      ],
      "text/plain": [
       "                     num_orders  dayofweek  hour  lag_1  lag_2  lag_3  lag_4  \\\n",
       "datetime                                                                       \n",
       "2018-03-01 00:00:00         124          3     0    NaN    NaN    NaN    NaN   \n",
       "2018-03-01 01:00:00          85          3     1  124.0    NaN    NaN    NaN   \n",
       "2018-03-01 02:00:00          71          3     2   85.0  124.0    NaN    NaN   \n",
       "2018-03-01 03:00:00          66          3     3   71.0   85.0  124.0    NaN   \n",
       "2018-03-01 04:00:00          43          3     4   66.0   71.0   85.0  124.0   \n",
       "...                         ...        ...   ...    ...    ...    ...    ...   \n",
       "2018-08-31 19:00:00         136          4    19  207.0  217.0  197.0  116.0   \n",
       "2018-08-31 20:00:00         154          4    20  136.0  207.0  217.0  197.0   \n",
       "2018-08-31 21:00:00         159          4    21  154.0  136.0  207.0  217.0   \n",
       "2018-08-31 22:00:00         223          4    22  159.0  154.0  136.0  207.0   \n",
       "2018-08-31 23:00:00         205          4    23  223.0  159.0  154.0  136.0   \n",
       "\n",
       "                     lag_5  lag_6  lag_7  ...  lag_64  lag_65  lag_66  lag_67  \\\n",
       "datetime                                  ...                                   \n",
       "2018-03-01 00:00:00    NaN    NaN    NaN  ...     NaN     NaN     NaN     NaN   \n",
       "2018-03-01 01:00:00    NaN    NaN    NaN  ...     NaN     NaN     NaN     NaN   \n",
       "2018-03-01 02:00:00    NaN    NaN    NaN  ...     NaN     NaN     NaN     NaN   \n",
       "2018-03-01 03:00:00    NaN    NaN    NaN  ...     NaN     NaN     NaN     NaN   \n",
       "2018-03-01 04:00:00    NaN    NaN    NaN  ...     NaN     NaN     NaN     NaN   \n",
       "...                    ...    ...    ...  ...     ...     ...     ...     ...   \n",
       "2018-08-31 19:00:00  133.0  166.0  136.0  ...   126.0   163.0   152.0   234.0   \n",
       "2018-08-31 20:00:00  116.0  133.0  166.0  ...   136.0   126.0   163.0   152.0   \n",
       "2018-08-31 21:00:00  197.0  116.0  133.0  ...    55.0   136.0   126.0   163.0   \n",
       "2018-08-31 22:00:00  217.0  197.0  116.0  ...    36.0    55.0   136.0   126.0   \n",
       "2018-08-31 23:00:00  207.0  217.0  197.0  ...    60.0    36.0    55.0   136.0   \n",
       "\n",
       "                     lag_68  lag_69  lag_70  lag_71  lag_72  rolling_mean  \n",
       "datetime                                                                   \n",
       "2018-03-01 00:00:00     NaN     NaN     NaN     NaN     NaN           NaN  \n",
       "2018-03-01 01:00:00     NaN     NaN     NaN     NaN     NaN           NaN  \n",
       "2018-03-01 02:00:00     NaN     NaN     NaN     NaN     NaN           NaN  \n",
       "2018-03-01 03:00:00     NaN     NaN     NaN     NaN     NaN           NaN  \n",
       "2018-03-01 04:00:00     NaN     NaN     NaN     NaN     NaN           NaN  \n",
       "...                     ...     ...     ...     ...     ...           ...  \n",
       "2018-08-31 19:00:00   179.0   160.0   189.0    94.0   111.0    164.875000  \n",
       "2018-08-31 20:00:00   234.0   179.0   160.0   189.0    94.0    167.541667  \n",
       "2018-08-31 21:00:00   152.0   234.0   179.0   160.0   189.0    168.041667  \n",
       "2018-08-31 22:00:00   163.0   152.0   234.0   179.0   160.0    166.416667  \n",
       "2018-08-31 23:00:00   126.0   163.0   152.0   234.0   179.0    169.125000  \n",
       "\n",
       "[4416 rows x 76 columns]"
      ]
     },
     "execution_count": 8,
     "metadata": {},
     "output_type": "execute_result"
    }
   ],
   "source": [
    "data"
   ]
  },
  {
   "cell_type": "markdown",
   "metadata": {},
   "source": [
    "Delete all missing values after adding new columns"
   ]
  },
  {
   "cell_type": "code",
   "execution_count": 9,
   "metadata": {},
   "outputs": [],
   "source": [
    "data.dropna(inplace = True)"
   ]
  },
  {
   "cell_type": "code",
   "execution_count": 10,
   "metadata": {},
   "outputs": [
    {
     "data": {
      "text/html": [
       "<div>\n",
       "<style scoped>\n",
       "    .dataframe tbody tr th:only-of-type {\n",
       "        vertical-align: middle;\n",
       "    }\n",
       "\n",
       "    .dataframe tbody tr th {\n",
       "        vertical-align: top;\n",
       "    }\n",
       "\n",
       "    .dataframe thead th {\n",
       "        text-align: right;\n",
       "    }\n",
       "</style>\n",
       "<table border=\"1\" class=\"dataframe\">\n",
       "  <thead>\n",
       "    <tr style=\"text-align: right;\">\n",
       "      <th></th>\n",
       "      <th>num_orders</th>\n",
       "      <th>dayofweek</th>\n",
       "      <th>hour</th>\n",
       "      <th>lag_1</th>\n",
       "      <th>lag_2</th>\n",
       "      <th>lag_3</th>\n",
       "      <th>lag_4</th>\n",
       "      <th>lag_5</th>\n",
       "      <th>lag_6</th>\n",
       "      <th>lag_7</th>\n",
       "      <th>...</th>\n",
       "      <th>lag_64</th>\n",
       "      <th>lag_65</th>\n",
       "      <th>lag_66</th>\n",
       "      <th>lag_67</th>\n",
       "      <th>lag_68</th>\n",
       "      <th>lag_69</th>\n",
       "      <th>lag_70</th>\n",
       "      <th>lag_71</th>\n",
       "      <th>lag_72</th>\n",
       "      <th>rolling_mean</th>\n",
       "    </tr>\n",
       "    <tr>\n",
       "      <th>datetime</th>\n",
       "      <th></th>\n",
       "      <th></th>\n",
       "      <th></th>\n",
       "      <th></th>\n",
       "      <th></th>\n",
       "      <th></th>\n",
       "      <th></th>\n",
       "      <th></th>\n",
       "      <th></th>\n",
       "      <th></th>\n",
       "      <th></th>\n",
       "      <th></th>\n",
       "      <th></th>\n",
       "      <th></th>\n",
       "      <th></th>\n",
       "      <th></th>\n",
       "      <th></th>\n",
       "      <th></th>\n",
       "      <th></th>\n",
       "      <th></th>\n",
       "      <th></th>\n",
       "    </tr>\n",
       "  </thead>\n",
       "  <tbody>\n",
       "    <tr>\n",
       "      <th>2018-03-04 00:00:00</th>\n",
       "      <td>75</td>\n",
       "      <td>6</td>\n",
       "      <td>0</td>\n",
       "      <td>43.0</td>\n",
       "      <td>63.0</td>\n",
       "      <td>48.0</td>\n",
       "      <td>83.0</td>\n",
       "      <td>30.0</td>\n",
       "      <td>68.0</td>\n",
       "      <td>49.0</td>\n",
       "      <td>...</td>\n",
       "      <td>34.0</td>\n",
       "      <td>15.0</td>\n",
       "      <td>12.0</td>\n",
       "      <td>6.0</td>\n",
       "      <td>43.0</td>\n",
       "      <td>66.0</td>\n",
       "      <td>71.0</td>\n",
       "      <td>85.0</td>\n",
       "      <td>124.0</td>\n",
       "      <td>53.750000</td>\n",
       "    </tr>\n",
       "    <tr>\n",
       "      <th>2018-03-04 01:00:00</th>\n",
       "      <td>60</td>\n",
       "      <td>6</td>\n",
       "      <td>1</td>\n",
       "      <td>75.0</td>\n",
       "      <td>43.0</td>\n",
       "      <td>63.0</td>\n",
       "      <td>48.0</td>\n",
       "      <td>83.0</td>\n",
       "      <td>30.0</td>\n",
       "      <td>68.0</td>\n",
       "      <td>...</td>\n",
       "      <td>69.0</td>\n",
       "      <td>34.0</td>\n",
       "      <td>15.0</td>\n",
       "      <td>12.0</td>\n",
       "      <td>6.0</td>\n",
       "      <td>43.0</td>\n",
       "      <td>66.0</td>\n",
       "      <td>71.0</td>\n",
       "      <td>85.0</td>\n",
       "      <td>50.083333</td>\n",
       "    </tr>\n",
       "    <tr>\n",
       "      <th>2018-03-04 02:00:00</th>\n",
       "      <td>26</td>\n",
       "      <td>6</td>\n",
       "      <td>2</td>\n",
       "      <td>60.0</td>\n",
       "      <td>75.0</td>\n",
       "      <td>43.0</td>\n",
       "      <td>63.0</td>\n",
       "      <td>48.0</td>\n",
       "      <td>83.0</td>\n",
       "      <td>30.0</td>\n",
       "      <td>...</td>\n",
       "      <td>64.0</td>\n",
       "      <td>69.0</td>\n",
       "      <td>34.0</td>\n",
       "      <td>15.0</td>\n",
       "      <td>12.0</td>\n",
       "      <td>6.0</td>\n",
       "      <td>43.0</td>\n",
       "      <td>66.0</td>\n",
       "      <td>71.0</td>\n",
       "      <td>48.083333</td>\n",
       "    </tr>\n",
       "    <tr>\n",
       "      <th>2018-03-04 03:00:00</th>\n",
       "      <td>42</td>\n",
       "      <td>6</td>\n",
       "      <td>3</td>\n",
       "      <td>26.0</td>\n",
       "      <td>60.0</td>\n",
       "      <td>75.0</td>\n",
       "      <td>43.0</td>\n",
       "      <td>63.0</td>\n",
       "      <td>48.0</td>\n",
       "      <td>83.0</td>\n",
       "      <td>...</td>\n",
       "      <td>96.0</td>\n",
       "      <td>64.0</td>\n",
       "      <td>69.0</td>\n",
       "      <td>34.0</td>\n",
       "      <td>15.0</td>\n",
       "      <td>12.0</td>\n",
       "      <td>6.0</td>\n",
       "      <td>43.0</td>\n",
       "      <td>66.0</td>\n",
       "      <td>48.125000</td>\n",
       "    </tr>\n",
       "    <tr>\n",
       "      <th>2018-03-04 04:00:00</th>\n",
       "      <td>27</td>\n",
       "      <td>6</td>\n",
       "      <td>4</td>\n",
       "      <td>42.0</td>\n",
       "      <td>26.0</td>\n",
       "      <td>60.0</td>\n",
       "      <td>75.0</td>\n",
       "      <td>43.0</td>\n",
       "      <td>63.0</td>\n",
       "      <td>48.0</td>\n",
       "      <td>...</td>\n",
       "      <td>30.0</td>\n",
       "      <td>96.0</td>\n",
       "      <td>64.0</td>\n",
       "      <td>69.0</td>\n",
       "      <td>34.0</td>\n",
       "      <td>15.0</td>\n",
       "      <td>12.0</td>\n",
       "      <td>6.0</td>\n",
       "      <td>43.0</td>\n",
       "      <td>47.208333</td>\n",
       "    </tr>\n",
       "    <tr>\n",
       "      <th>...</th>\n",
       "      <td>...</td>\n",
       "      <td>...</td>\n",
       "      <td>...</td>\n",
       "      <td>...</td>\n",
       "      <td>...</td>\n",
       "      <td>...</td>\n",
       "      <td>...</td>\n",
       "      <td>...</td>\n",
       "      <td>...</td>\n",
       "      <td>...</td>\n",
       "      <td>...</td>\n",
       "      <td>...</td>\n",
       "      <td>...</td>\n",
       "      <td>...</td>\n",
       "      <td>...</td>\n",
       "      <td>...</td>\n",
       "      <td>...</td>\n",
       "      <td>...</td>\n",
       "      <td>...</td>\n",
       "      <td>...</td>\n",
       "      <td>...</td>\n",
       "    </tr>\n",
       "    <tr>\n",
       "      <th>2018-08-31 19:00:00</th>\n",
       "      <td>136</td>\n",
       "      <td>4</td>\n",
       "      <td>19</td>\n",
       "      <td>207.0</td>\n",
       "      <td>217.0</td>\n",
       "      <td>197.0</td>\n",
       "      <td>116.0</td>\n",
       "      <td>133.0</td>\n",
       "      <td>166.0</td>\n",
       "      <td>136.0</td>\n",
       "      <td>...</td>\n",
       "      <td>126.0</td>\n",
       "      <td>163.0</td>\n",
       "      <td>152.0</td>\n",
       "      <td>234.0</td>\n",
       "      <td>179.0</td>\n",
       "      <td>160.0</td>\n",
       "      <td>189.0</td>\n",
       "      <td>94.0</td>\n",
       "      <td>111.0</td>\n",
       "      <td>164.875000</td>\n",
       "    </tr>\n",
       "    <tr>\n",
       "      <th>2018-08-31 20:00:00</th>\n",
       "      <td>154</td>\n",
       "      <td>4</td>\n",
       "      <td>20</td>\n",
       "      <td>136.0</td>\n",
       "      <td>207.0</td>\n",
       "      <td>217.0</td>\n",
       "      <td>197.0</td>\n",
       "      <td>116.0</td>\n",
       "      <td>133.0</td>\n",
       "      <td>166.0</td>\n",
       "      <td>...</td>\n",
       "      <td>136.0</td>\n",
       "      <td>126.0</td>\n",
       "      <td>163.0</td>\n",
       "      <td>152.0</td>\n",
       "      <td>234.0</td>\n",
       "      <td>179.0</td>\n",
       "      <td>160.0</td>\n",
       "      <td>189.0</td>\n",
       "      <td>94.0</td>\n",
       "      <td>167.541667</td>\n",
       "    </tr>\n",
       "    <tr>\n",
       "      <th>2018-08-31 21:00:00</th>\n",
       "      <td>159</td>\n",
       "      <td>4</td>\n",
       "      <td>21</td>\n",
       "      <td>154.0</td>\n",
       "      <td>136.0</td>\n",
       "      <td>207.0</td>\n",
       "      <td>217.0</td>\n",
       "      <td>197.0</td>\n",
       "      <td>116.0</td>\n",
       "      <td>133.0</td>\n",
       "      <td>...</td>\n",
       "      <td>55.0</td>\n",
       "      <td>136.0</td>\n",
       "      <td>126.0</td>\n",
       "      <td>163.0</td>\n",
       "      <td>152.0</td>\n",
       "      <td>234.0</td>\n",
       "      <td>179.0</td>\n",
       "      <td>160.0</td>\n",
       "      <td>189.0</td>\n",
       "      <td>168.041667</td>\n",
       "    </tr>\n",
       "    <tr>\n",
       "      <th>2018-08-31 22:00:00</th>\n",
       "      <td>223</td>\n",
       "      <td>4</td>\n",
       "      <td>22</td>\n",
       "      <td>159.0</td>\n",
       "      <td>154.0</td>\n",
       "      <td>136.0</td>\n",
       "      <td>207.0</td>\n",
       "      <td>217.0</td>\n",
       "      <td>197.0</td>\n",
       "      <td>116.0</td>\n",
       "      <td>...</td>\n",
       "      <td>36.0</td>\n",
       "      <td>55.0</td>\n",
       "      <td>136.0</td>\n",
       "      <td>126.0</td>\n",
       "      <td>163.0</td>\n",
       "      <td>152.0</td>\n",
       "      <td>234.0</td>\n",
       "      <td>179.0</td>\n",
       "      <td>160.0</td>\n",
       "      <td>166.416667</td>\n",
       "    </tr>\n",
       "    <tr>\n",
       "      <th>2018-08-31 23:00:00</th>\n",
       "      <td>205</td>\n",
       "      <td>4</td>\n",
       "      <td>23</td>\n",
       "      <td>223.0</td>\n",
       "      <td>159.0</td>\n",
       "      <td>154.0</td>\n",
       "      <td>136.0</td>\n",
       "      <td>207.0</td>\n",
       "      <td>217.0</td>\n",
       "      <td>197.0</td>\n",
       "      <td>...</td>\n",
       "      <td>60.0</td>\n",
       "      <td>36.0</td>\n",
       "      <td>55.0</td>\n",
       "      <td>136.0</td>\n",
       "      <td>126.0</td>\n",
       "      <td>163.0</td>\n",
       "      <td>152.0</td>\n",
       "      <td>234.0</td>\n",
       "      <td>179.0</td>\n",
       "      <td>169.125000</td>\n",
       "    </tr>\n",
       "  </tbody>\n",
       "</table>\n",
       "<p>4344 rows × 76 columns</p>\n",
       "</div>"
      ],
      "text/plain": [
       "                     num_orders  dayofweek  hour  lag_1  lag_2  lag_3  lag_4  \\\n",
       "datetime                                                                       \n",
       "2018-03-04 00:00:00          75          6     0   43.0   63.0   48.0   83.0   \n",
       "2018-03-04 01:00:00          60          6     1   75.0   43.0   63.0   48.0   \n",
       "2018-03-04 02:00:00          26          6     2   60.0   75.0   43.0   63.0   \n",
       "2018-03-04 03:00:00          42          6     3   26.0   60.0   75.0   43.0   \n",
       "2018-03-04 04:00:00          27          6     4   42.0   26.0   60.0   75.0   \n",
       "...                         ...        ...   ...    ...    ...    ...    ...   \n",
       "2018-08-31 19:00:00         136          4    19  207.0  217.0  197.0  116.0   \n",
       "2018-08-31 20:00:00         154          4    20  136.0  207.0  217.0  197.0   \n",
       "2018-08-31 21:00:00         159          4    21  154.0  136.0  207.0  217.0   \n",
       "2018-08-31 22:00:00         223          4    22  159.0  154.0  136.0  207.0   \n",
       "2018-08-31 23:00:00         205          4    23  223.0  159.0  154.0  136.0   \n",
       "\n",
       "                     lag_5  lag_6  lag_7  ...  lag_64  lag_65  lag_66  lag_67  \\\n",
       "datetime                                  ...                                   \n",
       "2018-03-04 00:00:00   30.0   68.0   49.0  ...    34.0    15.0    12.0     6.0   \n",
       "2018-03-04 01:00:00   83.0   30.0   68.0  ...    69.0    34.0    15.0    12.0   \n",
       "2018-03-04 02:00:00   48.0   83.0   30.0  ...    64.0    69.0    34.0    15.0   \n",
       "2018-03-04 03:00:00   63.0   48.0   83.0  ...    96.0    64.0    69.0    34.0   \n",
       "2018-03-04 04:00:00   43.0   63.0   48.0  ...    30.0    96.0    64.0    69.0   \n",
       "...                    ...    ...    ...  ...     ...     ...     ...     ...   \n",
       "2018-08-31 19:00:00  133.0  166.0  136.0  ...   126.0   163.0   152.0   234.0   \n",
       "2018-08-31 20:00:00  116.0  133.0  166.0  ...   136.0   126.0   163.0   152.0   \n",
       "2018-08-31 21:00:00  197.0  116.0  133.0  ...    55.0   136.0   126.0   163.0   \n",
       "2018-08-31 22:00:00  217.0  197.0  116.0  ...    36.0    55.0   136.0   126.0   \n",
       "2018-08-31 23:00:00  207.0  217.0  197.0  ...    60.0    36.0    55.0   136.0   \n",
       "\n",
       "                     lag_68  lag_69  lag_70  lag_71  lag_72  rolling_mean  \n",
       "datetime                                                                   \n",
       "2018-03-04 00:00:00    43.0    66.0    71.0    85.0   124.0     53.750000  \n",
       "2018-03-04 01:00:00     6.0    43.0    66.0    71.0    85.0     50.083333  \n",
       "2018-03-04 02:00:00    12.0     6.0    43.0    66.0    71.0     48.083333  \n",
       "2018-03-04 03:00:00    15.0    12.0     6.0    43.0    66.0     48.125000  \n",
       "2018-03-04 04:00:00    34.0    15.0    12.0     6.0    43.0     47.208333  \n",
       "...                     ...     ...     ...     ...     ...           ...  \n",
       "2018-08-31 19:00:00   179.0   160.0   189.0    94.0   111.0    164.875000  \n",
       "2018-08-31 20:00:00   234.0   179.0   160.0   189.0    94.0    167.541667  \n",
       "2018-08-31 21:00:00   152.0   234.0   179.0   160.0   189.0    168.041667  \n",
       "2018-08-31 22:00:00   163.0   152.0   234.0   179.0   160.0    166.416667  \n",
       "2018-08-31 23:00:00   126.0   163.0   152.0   234.0   179.0    169.125000  \n",
       "\n",
       "[4344 rows x 76 columns]"
      ]
     },
     "execution_count": 10,
     "metadata": {},
     "output_type": "execute_result"
    }
   ],
   "source": [
    "data"
   ]
  },
  {
   "cell_type": "markdown",
   "metadata": {},
   "source": [
    "I am using a boxplot , the median is 78, and the maximum value is 462, this is clearly visible on the graph.\n",
    "Values from 25 quantile to 75 in the range is from 54 to 108 taxi orders.\n",
    "It can also be seen that there are quite a lot of outliers - probably these are all peak hours, it should be noticeable on the trend."
   ]
  },
  {
   "cell_type": "code",
   "execution_count": 11,
   "metadata": {
    "scrolled": false
   },
   "outputs": [
    {
     "data": {
      "image/png": "[encoded data removed]",
      "text/plain": [
       "<Figure size 288x576 with 1 Axes>"
      ]
     },
     "metadata": {
      "needs_background": "light"
     },
     "output_type": "display_data"
    }
   ],
   "source": [
    "fig, ax = plt.subplots()\n",
    "ax.set_title('Number of orders')\n",
    "fig.set_size_inches(4, 8)\n",
    "ax.boxplot(data['num_orders'])\n",
    "plt.show()"
   ]
  },
  {
   "cell_type": "code",
   "execution_count": 12,
   "metadata": {},
   "outputs": [
    {
     "data": {
      "text/plain": [
       "count    4344.000000\n",
       "mean       84.864411\n",
       "std        45.084144\n",
       "min         0.000000\n",
       "25%        55.000000\n",
       "50%        79.000000\n",
       "75%       108.000000\n",
       "max       462.000000\n",
       "Name: num_orders, dtype: float64"
      ]
     },
     "execution_count": 12,
     "metadata": {},
     "output_type": "execute_result"
    }
   ],
   "source": [
    "data['num_orders'].describe()"
   ]
  },
  {
   "cell_type": "markdown",
   "metadata": {},
   "source": [
    "Check for missing values and duplicates"
   ]
  },
  {
   "cell_type": "code",
   "execution_count": 14,
   "metadata": {},
   "outputs": [
    {
     "data": {
      "text/plain": [
       "num_orders      0\n",
       "dayofweek       0\n",
       "hour            0\n",
       "lag_1           0\n",
       "lag_2           0\n",
       "               ..\n",
       "lag_69          0\n",
       "lag_70          0\n",
       "lag_71          0\n",
       "lag_72          0\n",
       "rolling_mean    0\n",
       "Length: 76, dtype: int64"
      ]
     },
     "execution_count": 14,
     "metadata": {},
     "output_type": "execute_result"
    }
   ],
   "source": [
    "data.isna().sum()"
   ]
  },
  {
   "cell_type": "code",
   "execution_count": 15,
   "metadata": {
    "scrolled": true
   },
   "outputs": [
    {
     "data": {
      "text/plain": [
       "0"
      ]
     },
     "execution_count": 15,
     "metadata": {},
     "output_type": "execute_result"
    }
   ],
   "source": [
    "data.duplicated().sum()"
   ]
  },
  {
   "cell_type": "markdown",
   "metadata": {},
   "source": [
    "Decompose the data to see the overall dynamics, it is noticeable that the demand for taxis is growing, this may be a seasonal phenomenon, for example, from winter to summer, but this could only be verified with data for several years."
   ]
  },
  {
   "cell_type": "code",
   "execution_count": 16,
   "metadata": {},
   "outputs": [
    {
     "data": {
      "image/png": "[encoded data removed]",
      "text/plain": [
       "<Figure size 720x288 with 1 Axes>"
      ]
     },
     "metadata": {
      "needs_background": "light"
     },
     "output_type": "display_data"
    }
   ],
   "source": [
    "decomposed = seasonal_decompose(data['num_orders']) \n",
    "\n",
    "plt.figure(figsize=(10, 4))\n",
    "decomposed.trend.plot(ax=plt.gca())\n",
    "plt.title('Trend')\n",
    "plt.show()"
   ]
  },
  {
   "cell_type": "markdown",
   "metadata": {},
   "source": [
    "Next, I look at the trend by the hour in the middle of the day, for this I take a period of three days from March 5 - this is Monday in 2018.\n",
    "The trend is very similar: at 2-3 a.m. orders decrease, in the morning there is a noticeable drawdown, with the start of working hours at 8-9 a.m. orders increase, in the evening at 4 p.m. there is another peak, then growth begins at 6 p.m. and reaches its maximum n midnight.\n",
    "I also built another chart for 2 days off to check this, the trend is similar."
   ]
  },
  {
   "cell_type": "code",
   "execution_count": 17,
   "metadata": {
    "scrolled": true
   },
   "outputs": [
    {
     "data": {
      "image/png": "[encoded data removed]",
      "text/plain": [
       "<Figure size 1440x720 with 1 Axes>"
      ]
     },
     "metadata": {
      "needs_background": "light"
     },
     "output_type": "display_data"
    }
   ],
   "source": [
    "plt.figure(figsize=(20, 10))\n",
    "decomposed.seasonal['2018-03-05':'2018-03-7'].plot(ax=plt.gca())\n",
    "plt.title('Seasonality');"
   ]
  },
  {
   "cell_type": "code",
   "execution_count": 18,
   "metadata": {
    "scrolled": false
   },
   "outputs": [
    {
     "data": {
      "image/png": "[encoded data removed]",
      "text/plain": [
       "<Figure size 1440x720 with 1 Axes>"
      ]
     },
     "metadata": {
      "needs_background": "light"
     },
     "output_type": "display_data"
    }
   ],
   "source": [
    "plt.figure(figsize=(20, 10))\n",
    "decomposed.seasonal['2018-03-10':'2018-03-11'].plot(ax=plt.gca())\n",
    "plt.title('Seasonality');"
   ]
  },
  {
   "cell_type": "markdown",
   "metadata": {},
   "source": [
    "Make a plot by day, for this I do resampling by day.\n",
    "Start date March 5 is Monday for 2 weeks.\n",
    "On Monday the peak, due to night orders, on Tuesday there is a clear decrease in the number of orders on the 6th and 13th. On Wednesday, the largest number of orders could be attributed to the March 8 holiday, but on March 15 the situation is the same.\n",
    "On Saturday, the number of orders decreases and rises by Sunday night."
   ]
  },
  {
   "cell_type": "code",
   "execution_count": 19,
   "metadata": {
    "scrolled": false
   },
   "outputs": [
    {
     "data": {
      "image/png": "[encoded data removed]",
      "text/plain": [
       "<Figure size 720x576 with 1 Axes>"
      ]
     },
     "metadata": {
      "needs_background": "light"
     },
     "output_type": "display_data"
    }
   ],
   "source": [
    "plt.figure(figsize=(10, 8))\n",
    "data_day = data['2018-01':'2018-03'].resample('1D').sum() \n",
    "decomposed_day = seasonal_decompose(data_day['num_orders']) \n",
    "decomposed_day.seasonal['2018-03-05':'2018-03-17'].plot(ax=plt.gca())\n",
    "plt.title('Seasonality');\n",
    "plt.grid()\n",
    "plt.show()"
   ]
  },
  {
   "cell_type": "markdown",
   "metadata": {},
   "source": [
    "## Training"
   ]
  },
  {
   "cell_type": "code",
   "execution_count": 20,
   "metadata": {},
   "outputs": [],
   "source": [
    "features = data.drop(['num_orders'], axis=1)\n",
    "target = data['num_orders']"
   ]
  },
  {
   "cell_type": "markdown",
   "metadata": {},
   "source": [
    "Split into train/valid/test subsets in proportion 80/10/10"
   ]
  },
  {
   "cell_type": "code",
   "execution_count": 21,
   "metadata": {},
   "outputs": [],
   "source": [
    "features_train, features_valid_1, target_train, target_valid_1 = train_test_split(\n",
    "    features, target, test_size=0.20, random_state=42, shuffle=False)"
   ]
  },
  {
   "cell_type": "code",
   "execution_count": 22,
   "metadata": {},
   "outputs": [],
   "source": [
    "features_valid, features_test, target_valid, target_test = train_test_split(\n",
    "    features_valid_1, target_valid_1, test_size=0.50, random_state=42, shuffle=False)"
   ]
  },
  {
   "cell_type": "code",
   "execution_count": 23,
   "metadata": {},
   "outputs": [
    {
     "data": {
      "text/html": [
       "<div>\n",
       "<style scoped>\n",
       "    .dataframe tbody tr th:only-of-type {\n",
       "        vertical-align: middle;\n",
       "    }\n",
       "\n",
       "    .dataframe tbody tr th {\n",
       "        vertical-align: top;\n",
       "    }\n",
       "\n",
       "    .dataframe thead th {\n",
       "        text-align: right;\n",
       "    }\n",
       "</style>\n",
       "<table border=\"1\" class=\"dataframe\">\n",
       "  <thead>\n",
       "    <tr style=\"text-align: right;\">\n",
       "      <th></th>\n",
       "      <th>dayofweek</th>\n",
       "      <th>hour</th>\n",
       "      <th>lag_1</th>\n",
       "      <th>lag_2</th>\n",
       "      <th>lag_3</th>\n",
       "      <th>lag_4</th>\n",
       "      <th>lag_5</th>\n",
       "      <th>lag_6</th>\n",
       "      <th>lag_7</th>\n",
       "      <th>lag_8</th>\n",
       "      <th>...</th>\n",
       "      <th>lag_64</th>\n",
       "      <th>lag_65</th>\n",
       "      <th>lag_66</th>\n",
       "      <th>lag_67</th>\n",
       "      <th>lag_68</th>\n",
       "      <th>lag_69</th>\n",
       "      <th>lag_70</th>\n",
       "      <th>lag_71</th>\n",
       "      <th>lag_72</th>\n",
       "      <th>rolling_mean</th>\n",
       "    </tr>\n",
       "    <tr>\n",
       "      <th>datetime</th>\n",
       "      <th></th>\n",
       "      <th></th>\n",
       "      <th></th>\n",
       "      <th></th>\n",
       "      <th></th>\n",
       "      <th></th>\n",
       "      <th></th>\n",
       "      <th></th>\n",
       "      <th></th>\n",
       "      <th></th>\n",
       "      <th></th>\n",
       "      <th></th>\n",
       "      <th></th>\n",
       "      <th></th>\n",
       "      <th></th>\n",
       "      <th></th>\n",
       "      <th></th>\n",
       "      <th></th>\n",
       "      <th></th>\n",
       "      <th></th>\n",
       "      <th></th>\n",
       "    </tr>\n",
       "  </thead>\n",
       "  <tbody>\n",
       "    <tr>\n",
       "      <th>2018-08-13 21:00:00</th>\n",
       "      <td>0</td>\n",
       "      <td>21</td>\n",
       "      <td>82.0</td>\n",
       "      <td>91.0</td>\n",
       "      <td>104.0</td>\n",
       "      <td>152.0</td>\n",
       "      <td>144.0</td>\n",
       "      <td>175.0</td>\n",
       "      <td>102.0</td>\n",
       "      <td>119.0</td>\n",
       "      <td>...</td>\n",
       "      <td>55.0</td>\n",
       "      <td>126.0</td>\n",
       "      <td>171.0</td>\n",
       "      <td>175.0</td>\n",
       "      <td>226.0</td>\n",
       "      <td>249.0</td>\n",
       "      <td>162.0</td>\n",
       "      <td>188.0</td>\n",
       "      <td>143.0</td>\n",
       "      <td>141.500000</td>\n",
       "    </tr>\n",
       "    <tr>\n",
       "      <th>2018-08-13 22:00:00</th>\n",
       "      <td>0</td>\n",
       "      <td>22</td>\n",
       "      <td>160.0</td>\n",
       "      <td>82.0</td>\n",
       "      <td>91.0</td>\n",
       "      <td>104.0</td>\n",
       "      <td>152.0</td>\n",
       "      <td>144.0</td>\n",
       "      <td>175.0</td>\n",
       "      <td>102.0</td>\n",
       "      <td>...</td>\n",
       "      <td>56.0</td>\n",
       "      <td>55.0</td>\n",
       "      <td>126.0</td>\n",
       "      <td>171.0</td>\n",
       "      <td>175.0</td>\n",
       "      <td>226.0</td>\n",
       "      <td>249.0</td>\n",
       "      <td>162.0</td>\n",
       "      <td>188.0</td>\n",
       "      <td>142.541667</td>\n",
       "    </tr>\n",
       "    <tr>\n",
       "      <th>2018-08-13 23:00:00</th>\n",
       "      <td>0</td>\n",
       "      <td>23</td>\n",
       "      <td>104.0</td>\n",
       "      <td>160.0</td>\n",
       "      <td>82.0</td>\n",
       "      <td>91.0</td>\n",
       "      <td>104.0</td>\n",
       "      <td>152.0</td>\n",
       "      <td>144.0</td>\n",
       "      <td>175.0</td>\n",
       "      <td>...</td>\n",
       "      <td>33.0</td>\n",
       "      <td>56.0</td>\n",
       "      <td>55.0</td>\n",
       "      <td>126.0</td>\n",
       "      <td>171.0</td>\n",
       "      <td>175.0</td>\n",
       "      <td>226.0</td>\n",
       "      <td>249.0</td>\n",
       "      <td>162.0</td>\n",
       "      <td>141.958333</td>\n",
       "    </tr>\n",
       "    <tr>\n",
       "      <th>2018-08-14 00:00:00</th>\n",
       "      <td>1</td>\n",
       "      <td>0</td>\n",
       "      <td>134.0</td>\n",
       "      <td>104.0</td>\n",
       "      <td>160.0</td>\n",
       "      <td>82.0</td>\n",
       "      <td>91.0</td>\n",
       "      <td>104.0</td>\n",
       "      <td>152.0</td>\n",
       "      <td>144.0</td>\n",
       "      <td>...</td>\n",
       "      <td>106.0</td>\n",
       "      <td>33.0</td>\n",
       "      <td>56.0</td>\n",
       "      <td>55.0</td>\n",
       "      <td>126.0</td>\n",
       "      <td>171.0</td>\n",
       "      <td>175.0</td>\n",
       "      <td>226.0</td>\n",
       "      <td>249.0</td>\n",
       "      <td>139.833333</td>\n",
       "    </tr>\n",
       "    <tr>\n",
       "      <th>2018-08-14 01:00:00</th>\n",
       "      <td>1</td>\n",
       "      <td>1</td>\n",
       "      <td>139.0</td>\n",
       "      <td>134.0</td>\n",
       "      <td>104.0</td>\n",
       "      <td>160.0</td>\n",
       "      <td>82.0</td>\n",
       "      <td>91.0</td>\n",
       "      <td>104.0</td>\n",
       "      <td>152.0</td>\n",
       "      <td>...</td>\n",
       "      <td>120.0</td>\n",
       "      <td>106.0</td>\n",
       "      <td>33.0</td>\n",
       "      <td>56.0</td>\n",
       "      <td>55.0</td>\n",
       "      <td>126.0</td>\n",
       "      <td>171.0</td>\n",
       "      <td>175.0</td>\n",
       "      <td>226.0</td>\n",
       "      <td>138.958333</td>\n",
       "    </tr>\n",
       "  </tbody>\n",
       "</table>\n",
       "<p>5 rows × 75 columns</p>\n",
       "</div>"
      ],
      "text/plain": [
       "                     dayofweek  hour  lag_1  lag_2  lag_3  lag_4  lag_5  \\\n",
       "datetime                                                                  \n",
       "2018-08-13 21:00:00          0    21   82.0   91.0  104.0  152.0  144.0   \n",
       "2018-08-13 22:00:00          0    22  160.0   82.0   91.0  104.0  152.0   \n",
       "2018-08-13 23:00:00          0    23  104.0  160.0   82.0   91.0  104.0   \n",
       "2018-08-14 00:00:00          1     0  134.0  104.0  160.0   82.0   91.0   \n",
       "2018-08-14 01:00:00          1     1  139.0  134.0  104.0  160.0   82.0   \n",
       "\n",
       "                     lag_6  lag_7  lag_8  ...  lag_64  lag_65  lag_66  lag_67  \\\n",
       "datetime                                  ...                                   \n",
       "2018-08-13 21:00:00  175.0  102.0  119.0  ...    55.0   126.0   171.0   175.0   \n",
       "2018-08-13 22:00:00  144.0  175.0  102.0  ...    56.0    55.0   126.0   171.0   \n",
       "2018-08-13 23:00:00  152.0  144.0  175.0  ...    33.0    56.0    55.0   126.0   \n",
       "2018-08-14 00:00:00  104.0  152.0  144.0  ...   106.0    33.0    56.0    55.0   \n",
       "2018-08-14 01:00:00   91.0  104.0  152.0  ...   120.0   106.0    33.0    56.0   \n",
       "\n",
       "                     lag_68  lag_69  lag_70  lag_71  lag_72  rolling_mean  \n",
       "datetime                                                                   \n",
       "2018-08-13 21:00:00   226.0   249.0   162.0   188.0   143.0    141.500000  \n",
       "2018-08-13 22:00:00   175.0   226.0   249.0   162.0   188.0    142.541667  \n",
       "2018-08-13 23:00:00   171.0   175.0   226.0   249.0   162.0    141.958333  \n",
       "2018-08-14 00:00:00   126.0   171.0   175.0   226.0   249.0    139.833333  \n",
       "2018-08-14 01:00:00    55.0   126.0   171.0   175.0   226.0    138.958333  \n",
       "\n",
       "[5 rows x 75 columns]"
      ]
     },
     "execution_count": 23,
     "metadata": {},
     "output_type": "execute_result"
    }
   ],
   "source": [
    "features_test.head()"
   ]
  },
  {
   "cell_type": "markdown",
   "metadata": {},
   "source": [
    "Train Linear Regression"
   ]
  },
  {
   "cell_type": "code",
   "execution_count": 24,
   "metadata": {},
   "outputs": [],
   "source": [
    "LRmodel = LinearRegression()"
   ]
  },
  {
   "cell_type": "code",
   "execution_count": 25,
   "metadata": {},
   "outputs": [
    {
     "data": {
      "text/plain": [
       "LinearRegression()"
      ]
     },
     "execution_count": 25,
     "metadata": {},
     "output_type": "execute_result"
    }
   ],
   "source": [
    "LRmodel.fit(features_train, target_train)"
   ]
  },
  {
   "cell_type": "code",
   "execution_count": 26,
   "metadata": {
    "scrolled": true
   },
   "outputs": [
    {
     "data": {
      "text/plain": [
       "30.716685983231393"
      ]
     },
     "execution_count": 26,
     "metadata": {},
     "output_type": "execute_result"
    }
   ],
   "source": [
    "LR_pred = LRmodel.predict(features_valid)\n",
    "RMSE_LR = mean_squared_error (target_valid, LR_pred, squared= False)\n",
    "RMSE_LR"
   ]
  },
  {
   "cell_type": "markdown",
   "metadata": {},
   "source": [
    "RMSE 30, suit client target of RMSE 48"
   ]
  },
  {
   "cell_type": "markdown",
   "metadata": {},
   "source": [
    "Train RandomForestRegressor"
   ]
  },
  {
   "cell_type": "code",
   "execution_count": 27,
   "metadata": {},
   "outputs": [],
   "source": [
    "RFmodel = RandomForestRegressor (random_state=42, n_estimators=15, max_depth = 20)"
   ]
  },
  {
   "cell_type": "code",
   "execution_count": 28,
   "metadata": {},
   "outputs": [
    {
     "data": {
      "text/plain": [
       "RandomForestRegressor(max_depth=20, n_estimators=15, random_state=42)"
      ]
     },
     "execution_count": 28,
     "metadata": {},
     "output_type": "execute_result"
    }
   ],
   "source": [
    "RFmodel.fit (features_train, target_train)"
   ]
  },
  {
   "cell_type": "code",
   "execution_count": 29,
   "metadata": {},
   "outputs": [
    {
     "data": {
      "text/plain": [
       "32.32629774348561"
      ]
     },
     "execution_count": 29,
     "metadata": {},
     "output_type": "execute_result"
    }
   ],
   "source": [
    "RF_pred = RFmodel.predict(features_valid)\n",
    "RMSE_RF = mean_squared_error (target_valid, RF_pred, squared= False)\n",
    "RMSE_RF"
   ]
  },
  {
   "cell_type": "markdown",
   "metadata": {},
   "source": [
    "RMSE turned out to be 32, which is below the target, I'm trying to make an improvement through the selection of hyperparameters in the cycle."
   ]
  },
  {
   "cell_type": "code",
   "execution_count": 30,
   "metadata": {
    "scrolled": false
   },
   "outputs": [
    {
     "data": {
      "text/plain": [
       "31.329871352476633"
      ]
     },
     "execution_count": 30,
     "metadata": {},
     "output_type": "execute_result"
    }
   ],
   "source": [
    "best_depth = 0\n",
    "best_n_estimators = 0\n",
    "best_rmse = 100\n",
    "\n",
    "for depth in range(15, 26, 5):\n",
    "    for estimators in range(10, 101, 10):\n",
    "        RFmodel1 = RandomForestRegressor(random_state=42, n_estimators=estimators, max_depth=depth)\n",
    "        RFmodel1.fit(features_train, target_train)\n",
    "        RFmodel1_pred = RFmodel1.predict(features_valid)\n",
    "        RMSE_RF1 = mean_squared_error(target_valid, RFmodel1_pred, squared= False)\n",
    "\n",
    "        if RMSE_RF1 < best_rmse:\n",
    "            best_rmse = RMSE_RF1\n",
    "            best_depth = depth\n",
    "            best_est = estimators\n",
    "\n",
    "best_rmse"
   ]
  },
  {
   "cell_type": "markdown",
   "metadata": {},
   "source": [
    "RMSE improved, but not mush, I'll try Catboost"
   ]
  },
  {
   "cell_type": "markdown",
   "metadata": {},
   "source": [
    "Train first model Catboost"
   ]
  },
  {
   "cell_type": "code",
   "execution_count": 31,
   "metadata": {},
   "outputs": [],
   "source": [
    "Cat_model = CatBoostRegressor(verbose = 100,\n",
    "                              random_seed=42)"
   ]
  },
  {
   "cell_type": "code",
   "execution_count": 32,
   "metadata": {},
   "outputs": [
    {
     "name": "stdout",
     "output_type": "stream",
     "text": [
      "Learning rate set to 0.049848\n",
      "0:\tlearn: 34.8915577\ttotal: 58.2ms\tremaining: 58.1s\n",
      "100:\tlearn: 19.3804426\ttotal: 531ms\tremaining: 4.72s\n",
      "200:\tlearn: 17.2484717\ttotal: 881ms\tremaining: 3.5s\n",
      "300:\tlearn: 15.6583734\ttotal: 1.26s\tremaining: 2.92s\n",
      "400:\tlearn: 14.3007013\ttotal: 1.64s\tremaining: 2.45s\n",
      "500:\tlearn: 13.1238257\ttotal: 2.02s\tremaining: 2.01s\n",
      "600:\tlearn: 12.1028046\ttotal: 2.37s\tremaining: 1.57s\n",
      "700:\tlearn: 11.0957350\ttotal: 2.74s\tremaining: 1.17s\n",
      "800:\tlearn: 10.2090320\ttotal: 3.1s\tremaining: 770ms\n",
      "900:\tlearn: 9.4375273\ttotal: 3.45s\tremaining: 379ms\n",
      "999:\tlearn: 8.7630026\ttotal: 3.8s\tremaining: 0us\n"
     ]
    },
    {
     "data": {
      "text/plain": [
       "<catboost.core.CatBoostRegressor at 0x12424e610>"
      ]
     },
     "execution_count": 32,
     "metadata": {},
     "output_type": "execute_result"
    }
   ],
   "source": [
    "Cat_model.fit(features_train, target_train)"
   ]
  },
  {
   "cell_type": "code",
   "execution_count": 33,
   "metadata": {},
   "outputs": [
    {
     "data": {
      "text/plain": [
       "30.226652635163475"
      ]
     },
     "execution_count": 33,
     "metadata": {},
     "output_type": "execute_result"
    }
   ],
   "source": [
    "Cat_pred = Cat_model.predict(features_valid)\n",
    "RMSE_cat = mean_squared_error(target_valid, Cat_pred, squared= False)\n",
    "RMSE_cat"
   ]
  },
  {
   "cell_type": "markdown",
   "metadata": {},
   "source": [
    "RMSE turned out to be 30, below the target, comparable to the Linear Regression model, I'm trying to adjust the parameters to improve."
   ]
  },
  {
   "cell_type": "code",
   "execution_count": 34,
   "metadata": {
    "scrolled": true
   },
   "outputs": [],
   "source": [
    "Cat_model2 = CatBoostRegressor()\n"
   ]
  },
  {
   "cell_type": "code",
   "execution_count": 35,
   "metadata": {
    "scrolled": false
   },
   "outputs": [
    {
     "name": "stdout",
     "output_type": "stream",
     "text": [
      "0:\tlearn: 28.7909270\ttotal: 1.57ms\tremaining: 1.57s\n",
      "200:\tlearn: 14.6938641\ttotal: 191ms\tremaining: 759ms\n",
      "400:\tlearn: 11.7895518\ttotal: 349ms\tremaining: 522ms\n",
      "600:\tlearn: 9.8710010\ttotal: 500ms\tremaining: 332ms\n",
      "800:\tlearn: 8.4734619\ttotal: 660ms\tremaining: 164ms\n",
      "999:\tlearn: 7.2636069\ttotal: 845ms\tremaining: 0us\n",
      "0:\tlearn: 30.8042669\ttotal: 1.9ms\tremaining: 1.9s\n",
      "200:\tlearn: 16.9056664\ttotal: 201ms\tremaining: 799ms\n",
      "400:\tlearn: 14.6322167\ttotal: 392ms\tremaining: 586ms\n",
      "600:\tlearn: 13.0732062\ttotal: 588ms\tremaining: 390ms\n",
      "800:\tlearn: 11.8966969\ttotal: 781ms\tremaining: 194ms\n",
      "999:\tlearn: 10.8637360\ttotal: 981ms\tremaining: 0us\n",
      "0:\tlearn: 32.6617059\ttotal: 1.37ms\tremaining: 1.37s\n",
      "200:\tlearn: 18.2960194\ttotal: 226ms\tremaining: 897ms\n",
      "400:\tlearn: 16.4556738\ttotal: 447ms\tremaining: 668ms\n",
      "600:\tlearn: 15.0816489\ttotal: 691ms\tremaining: 459ms\n",
      "800:\tlearn: 13.9998863\ttotal: 919ms\tremaining: 228ms\n",
      "999:\tlearn: 13.0339099\ttotal: 1.15s\tremaining: 0us\n",
      "0:\tlearn: 29.0365971\ttotal: 1.57ms\tremaining: 1.57s\n",
      "200:\tlearn: 16.2213308\ttotal: 188ms\tremaining: 748ms\n",
      "400:\tlearn: 13.8049200\ttotal: 342ms\tremaining: 511ms\n",
      "600:\tlearn: 12.1499184\ttotal: 496ms\tremaining: 329ms\n",
      "800:\tlearn: 10.8370123\ttotal: 655ms\tremaining: 163ms\n",
      "999:\tlearn: 9.7494834\ttotal: 818ms\tremaining: 0us\n",
      "0:\tlearn: 31.0174777\ttotal: 992us\tremaining: 992ms\n",
      "200:\tlearn: 18.0467702\ttotal: 188ms\tremaining: 747ms\n",
      "400:\tlearn: 16.3359036\ttotal: 397ms\tremaining: 593ms\n",
      "600:\tlearn: 15.0286024\ttotal: 567ms\tremaining: 376ms\n",
      "800:\tlearn: 14.0310010\ttotal: 736ms\tremaining: 183ms\n",
      "999:\tlearn: 13.1861505\ttotal: 907ms\tremaining: 0us\n",
      "0:\tlearn: 32.9337332\ttotal: 1.23ms\tremaining: 1.23s\n",
      "200:\tlearn: 19.3247074\ttotal: 204ms\tremaining: 809ms\n",
      "400:\tlearn: 17.7745037\ttotal: 408ms\tremaining: 609ms\n",
      "600:\tlearn: 16.7065729\ttotal: 611ms\tremaining: 406ms\n",
      "800:\tlearn: 15.8116512\ttotal: 818ms\tremaining: 203ms\n",
      "999:\tlearn: 15.0372719\ttotal: 1.04s\tremaining: 0us\n",
      "0:\tlearn: 29.2850457\ttotal: 835us\tremaining: 835ms\n",
      "200:\tlearn: 19.2326257\ttotal: 170ms\tremaining: 677ms\n",
      "400:\tlearn: 17.2449096\ttotal: 333ms\tremaining: 498ms\n",
      "600:\tlearn: 16.2407828\ttotal: 487ms\tremaining: 324ms\n",
      "800:\tlearn: 15.3998793\ttotal: 647ms\tremaining: 161ms\n",
      "999:\tlearn: 14.5647325\ttotal: 803ms\tremaining: 0us\n",
      "0:\tlearn: 31.2335219\ttotal: 943us\tremaining: 942ms\n",
      "200:\tlearn: 20.7243891\ttotal: 185ms\tremaining: 737ms\n",
      "400:\tlearn: 18.8082440\ttotal: 374ms\tremaining: 559ms\n",
      "600:\tlearn: 17.9902044\ttotal: 563ms\tremaining: 374ms\n",
      "800:\tlearn: 17.3822791\ttotal: 745ms\tremaining: 185ms\n",
      "999:\tlearn: 16.8708650\ttotal: 926ms\tremaining: 0us\n",
      "0:\tlearn: 33.2090780\ttotal: 1.11ms\tremaining: 1.11s\n",
      "200:\tlearn: 21.8770828\ttotal: 232ms\tremaining: 921ms\n",
      "400:\tlearn: 20.0361183\ttotal: 450ms\tremaining: 673ms\n",
      "600:\tlearn: 19.2990458\ttotal: 680ms\tremaining: 452ms\n",
      "800:\tlearn: 18.7300476\ttotal: 941ms\tremaining: 234ms\n",
      "999:\tlearn: 18.2340718\ttotal: 1.18s\tremaining: 0us\n",
      "0:\tlearn: 28.7709125\ttotal: 2.16ms\tremaining: 2.15s\n",
      "200:\tlearn: 11.8307274\ttotal: 383ms\tremaining: 1.52s\n",
      "400:\tlearn: 7.8045031\ttotal: 773ms\tremaining: 1.16s\n",
      "600:\tlearn: 5.4573889\ttotal: 1.14s\tremaining: 755ms\n",
      "800:\tlearn: 3.8942839\ttotal: 1.49s\tremaining: 370ms\n",
      "999:\tlearn: 2.8479302\ttotal: 1.84s\tremaining: 0us\n",
      "0:\tlearn: 30.6970785\ttotal: 2.15ms\tremaining: 2.14s\n",
      "200:\tlearn: 14.8597568\ttotal: 407ms\tremaining: 1.62s\n",
      "400:\tlearn: 11.5053178\ttotal: 805ms\tremaining: 1.2s\n",
      "600:\tlearn: 9.2378894\ttotal: 1.2s\tremaining: 797ms\n",
      "800:\tlearn: 7.5026652\ttotal: 1.68s\tremaining: 418ms\n",
      "999:\tlearn: 6.1285537\ttotal: 2.14s\tremaining: 0us\n",
      "0:\tlearn: 32.6093938\ttotal: 2.85ms\tremaining: 2.85s\n",
      "200:\tlearn: 16.5039027\ttotal: 595ms\tremaining: 2.37s\n",
      "400:\tlearn: 13.6260281\ttotal: 1.1s\tremaining: 1.65s\n",
      "600:\tlearn: 11.4845465\ttotal: 1.87s\tremaining: 1.24s\n",
      "800:\tlearn: 9.8236795\ttotal: 3.82s\tremaining: 950ms\n",
      "999:\tlearn: 8.4839492\ttotal: 4.71s\tremaining: 0us\n",
      "0:\tlearn: 29.0247763\ttotal: 3.29ms\tremaining: 3.28s\n",
      "200:\tlearn: 14.0553810\ttotal: 492ms\tremaining: 1.96s\n",
      "400:\tlearn: 10.8237386\ttotal: 1.08s\tremaining: 1.62s\n",
      "600:\tlearn: 8.4027423\ttotal: 1.67s\tremaining: 1.11s\n",
      "800:\tlearn: 6.7578567\ttotal: 2.3s\tremaining: 572ms\n",
      "999:\tlearn: 5.4825025\ttotal: 2.8s\tremaining: 0us\n",
      "0:\tlearn: 30.9530974\ttotal: 3.43ms\tremaining: 3.42s\n",
      "200:\tlearn: 16.3699250\ttotal: 538ms\tremaining: 2.14s\n",
      "400:\tlearn: 14.0163292\ttotal: 1.05s\tremaining: 1.56s\n",
      "600:\tlearn: 11.8837180\ttotal: 1.48s\tremaining: 986ms\n",
      "800:\tlearn: 10.2937927\ttotal: 1.9s\tremaining: 472ms\n",
      "999:\tlearn: 9.0296113\ttotal: 2.3s\tremaining: 0us\n",
      "0:\tlearn: 32.9024211\ttotal: 2.42ms\tremaining: 2.42s\n",
      "200:\tlearn: 17.9392204\ttotal: 545ms\tremaining: 2.17s\n",
      "400:\tlearn: 15.7644211\ttotal: 1.04s\tremaining: 1.56s\n",
      "600:\tlearn: 14.1163945\ttotal: 1.5s\tremaining: 1000ms\n",
      "800:\tlearn: 12.6939336\ttotal: 2.06s\tremaining: 511ms\n",
      "999:\tlearn: 11.5384153\ttotal: 2.62s\tremaining: 0us\n",
      "0:\tlearn: 29.2811674\ttotal: 3.05ms\tremaining: 3.04s\n",
      "200:\tlearn: 18.1159962\ttotal: 557ms\tremaining: 2.21s\n",
      "400:\tlearn: 15.6434574\ttotal: 1.05s\tremaining: 1.57s\n",
      "600:\tlearn: 14.2039858\ttotal: 1.61s\tremaining: 1.07s\n",
      "800:\tlearn: 13.0809569\ttotal: 2s\tremaining: 498ms\n",
      "999:\tlearn: 11.9208006\ttotal: 2.38s\tremaining: 0us\n",
      "0:\tlearn: 31.2120417\ttotal: 2.81ms\tremaining: 2.81s\n",
      "200:\tlearn: 19.6984637\ttotal: 621ms\tremaining: 2.47s\n",
      "400:\tlearn: 17.4549758\ttotal: 1.19s\tremaining: 1.78s\n",
      "600:\tlearn: 16.3357869\ttotal: 1.74s\tremaining: 1.16s\n",
      "800:\tlearn: 15.5236771\ttotal: 2.23s\tremaining: 554ms\n",
      "999:\tlearn: 14.7429309\ttotal: 2.71s\tremaining: 0us\n",
      "0:\tlearn: 33.1986663\ttotal: 2.72ms\tremaining: 2.71s\n",
      "200:\tlearn: 20.9656083\ttotal: 500ms\tremaining: 1.99s\n",
      "400:\tlearn: 18.9264363\ttotal: 1.1s\tremaining: 1.65s\n",
      "600:\tlearn: 17.9339750\ttotal: 1.66s\tremaining: 1.1s\n",
      "800:\tlearn: 17.1232006\ttotal: 2.18s\tremaining: 541ms\n",
      "999:\tlearn: 16.4096914\ttotal: 2.91s\tremaining: 0us\n",
      "0:\tlearn: 28.7682704\ttotal: 12ms\tremaining: 12s\n",
      "200:\tlearn: 9.0989036\ttotal: 1.13s\tremaining: 4.5s\n",
      "400:\tlearn: 4.6291567\ttotal: 2.65s\tremaining: 3.96s\n",
      "600:\tlearn: 2.5210898\ttotal: 3.79s\tremaining: 2.51s\n",
      "800:\tlearn: 1.3806376\ttotal: 5.02s\tremaining: 1.25s\n",
      "999:\tlearn: 0.7493143\ttotal: 6.36s\tremaining: 0us\n",
      "0:\tlearn: 30.7001315\ttotal: 14.4ms\tremaining: 14.4s\n",
      "200:\tlearn: 12.2489086\ttotal: 1.41s\tremaining: 5.62s\n",
      "400:\tlearn: 8.2961974\ttotal: 2.63s\tremaining: 3.93s\n",
      "600:\tlearn: 5.6306411\ttotal: 3.81s\tremaining: 2.53s\n",
      "800:\tlearn: 3.9445975\ttotal: 4.95s\tremaining: 1.23s\n",
      "999:\tlearn: 2.8002991\ttotal: 6.11s\tremaining: 0us\n",
      "0:\tlearn: 32.6120015\ttotal: 15ms\tremaining: 15s\n",
      "200:\tlearn: 14.2214812\ttotal: 1.28s\tremaining: 5.09s\n",
      "400:\tlearn: 10.4253117\ttotal: 2.52s\tremaining: 3.76s\n",
      "600:\tlearn: 7.8436520\ttotal: 3.75s\tremaining: 2.49s\n",
      "800:\tlearn: 5.8689769\ttotal: 4.97s\tremaining: 1.24s\n",
      "999:\tlearn: 4.5194204\ttotal: 6.16s\tremaining: 0us\n",
      "0:\tlearn: 29.0236089\ttotal: 11.2ms\tremaining: 11.2s\n",
      "200:\tlearn: 11.8797285\ttotal: 1.02s\tremaining: 4.06s\n",
      "400:\tlearn: 8.1837508\ttotal: 2.04s\tremaining: 3.04s\n",
      "600:\tlearn: 5.5439091\ttotal: 3s\tremaining: 1.99s\n",
      "800:\tlearn: 3.7704182\ttotal: 3.96s\tremaining: 984ms\n",
      "999:\tlearn: 2.6576304\ttotal: 4.85s\tremaining: 0us\n",
      "0:\tlearn: 30.9552217\ttotal: 12.2ms\tremaining: 12.1s\n",
      "200:\tlearn: 14.2417144\ttotal: 1.08s\tremaining: 4.29s\n",
      "400:\tlearn: 11.1494859\ttotal: 2.15s\tremaining: 3.21s\n",
      "600:\tlearn: 8.6114148\ttotal: 3.28s\tremaining: 2.18s\n",
      "800:\tlearn: 6.7863069\ttotal: 4.34s\tremaining: 1.08s\n",
      "999:\tlearn: 5.5121845\ttotal: 5.48s\tremaining: 0us\n",
      "0:\tlearn: 32.9042876\ttotal: 13.9ms\tremaining: 13.9s\n",
      "200:\tlearn: 16.1719822\ttotal: 1.33s\tremaining: 5.31s\n",
      "400:\tlearn: 13.1460404\ttotal: 2.55s\tremaining: 3.8s\n",
      "600:\tlearn: 10.9516427\ttotal: 3.69s\tremaining: 2.45s\n",
      "800:\tlearn: 9.1411885\ttotal: 4.91s\tremaining: 1.22s\n",
      "999:\tlearn: 7.6744789\ttotal: 6.15s\tremaining: 0us\n",
      "0:\tlearn: 29.2809151\ttotal: 10.7ms\tremaining: 10.7s\n",
      "200:\tlearn: 17.1266682\ttotal: 990ms\tremaining: 3.94s\n",
      "400:\tlearn: 13.8189721\ttotal: 2.11s\tremaining: 3.15s\n",
      "600:\tlearn: 11.9387094\ttotal: 3.15s\tremaining: 2.09s\n",
      "800:\tlearn: 10.5364823\ttotal: 4.11s\tremaining: 1.02s\n",
      "999:\tlearn: 9.1751639\ttotal: 5.12s\tremaining: 0us\n",
      "0:\tlearn: 31.2128456\ttotal: 13ms\tremaining: 13s\n",
      "200:\tlearn: 18.6960949\ttotal: 1.31s\tremaining: 5.22s\n",
      "400:\tlearn: 15.8159154\ttotal: 2.68s\tremaining: 4s\n",
      "600:\tlearn: 14.3315917\ttotal: 4.02s\tremaining: 2.67s\n",
      "800:\tlearn: 13.1750159\ttotal: 5.5s\tremaining: 1.37s\n",
      "999:\tlearn: 12.1400746\ttotal: 6.85s\tremaining: 0us\n",
      "0:\tlearn: 33.1993873\ttotal: 16ms\tremaining: 15.9s\n",
      "200:\tlearn: 20.0883301\ttotal: 1.87s\tremaining: 7.43s\n",
      "400:\tlearn: 17.4770606\ttotal: 4.03s\tremaining: 6.02s\n",
      "600:\tlearn: 16.0735455\ttotal: 7.24s\tremaining: 4.8s\n",
      "800:\tlearn: 15.0357971\ttotal: 8.67s\tremaining: 2.15s\n",
      "999:\tlearn: 14.1402803\ttotal: 10.1s\tremaining: 0us\n",
      "0:\tlearn: 35.2343721\ttotal: 5.81ms\tremaining: 5.8s\n",
      "200:\tlearn: 19.5569295\ttotal: 614ms\tremaining: 2.44s\n",
      "400:\tlearn: 17.6279913\ttotal: 1.24s\tremaining: 1.85s\n",
      "600:\tlearn: 16.0982376\ttotal: 1.85s\tremaining: 1.23s\n",
      "800:\tlearn: 14.8874729\ttotal: 2.42s\tremaining: 601ms\n",
      "999:\tlearn: 13.8272720\ttotal: 3s\tremaining: 0us\n"
     ]
    },
    {
     "data": {
      "text/plain": [
       "GridSearchCV(cv=TimeSeriesSplit(gap=0, max_train_size=None, n_splits=3, test_size=None),\n",
       "             estimator=<catboost.core.CatBoostRegressor object at 0x124c07ac0>,\n",
       "             param_grid={'depth': [3, 5, 7], 'early_stopping_rounds': [200],\n",
       "                         'iterations': [1000],\n",
       "                         'learning_rate': [0.05, 0.03, 0.01],\n",
       "                         'random_seed': [42], 'verbose': [200]})"
      ]
     },
     "execution_count": 35,
     "metadata": {},
     "output_type": "execute_result"
    }
   ],
   "source": [
    "tscv = TimeSeriesSplit(n_splits=3)\n",
    "param_search = {'depth'         : [3,5,7],\n",
    "                 'learning_rate' : [0.05, 0.03, 0.01],\n",
    "                  'iterations'    : [1000],\n",
    "                'verbose': [200],\n",
    "                'early_stopping_rounds': [200],\n",
    "                'random_seed':[42]\n",
    "                 }\n",
    "gsearch = GridSearchCV(estimator=Cat_model2, cv=tscv, param_grid=param_search)\n",
    "gsearch.fit(features_train, target_train)"
   ]
  },
  {
   "cell_type": "code",
   "execution_count": 36,
   "metadata": {},
   "outputs": [
    {
     "name": "stdout",
     "output_type": "stream",
     "text": [
      " Results from Grid Search \n",
      "\n",
      " The best estimator across ALL searched params:\n",
      " <catboost.core.CatBoostRegressor object at 0x124c019d0>\n",
      "\n",
      " The best score across ALL searched params:\n",
      " 0.5526758459716751\n",
      "\n",
      " The best parameters across ALL searched params:\n",
      " {'depth': 5, 'early_stopping_rounds': 200, 'iterations': 1000, 'learning_rate': 0.03, 'random_seed': 42, 'verbose': 200}\n"
     ]
    }
   ],
   "source": [
    "print(\" Results from Grid Search \" )\n",
    "print(\"\\n The best estimator across ALL searched params:\\n\",gsearch.best_estimator_)\n",
    "print(\"\\n The best score across ALL searched params:\\n\",gsearch.best_score_)\n",
    "print(\"\\n The best parameters across ALL searched params:\\n\",gsearch.best_params_)"
   ]
  },
  {
   "cell_type": "code",
   "execution_count": 37,
   "metadata": {},
   "outputs": [],
   "source": [
    "Cat_model3 = CatBoostRegressor(iterations=1000,\n",
    "                          learning_rate=0.03,\n",
    "                          depth=5,\n",
    "                         verbose = 100,\n",
    "                              random_seed=42)"
   ]
  },
  {
   "cell_type": "code",
   "execution_count": 38,
   "metadata": {},
   "outputs": [
    {
     "name": "stdout",
     "output_type": "stream",
     "text": [
      "0:\tlearn: 35.2343721\ttotal: 6.41ms\tremaining: 6.4s\n",
      "100:\tlearn: 21.1579062\ttotal: 318ms\tremaining: 2.83s\n",
      "200:\tlearn: 19.5569295\ttotal: 621ms\tremaining: 2.47s\n",
      "300:\tlearn: 18.5357571\ttotal: 901ms\tremaining: 2.09s\n",
      "400:\tlearn: 17.6279913\ttotal: 1.16s\tremaining: 1.74s\n",
      "500:\tlearn: 16.7883790\ttotal: 1.46s\tremaining: 1.46s\n",
      "600:\tlearn: 16.0982376\ttotal: 1.74s\tremaining: 1.15s\n",
      "700:\tlearn: 15.4815322\ttotal: 2.04s\tremaining: 871ms\n",
      "800:\tlearn: 14.8874729\ttotal: 2.38s\tremaining: 592ms\n",
      "900:\tlearn: 14.3539003\ttotal: 2.71s\tremaining: 297ms\n",
      "999:\tlearn: 13.8272720\ttotal: 3s\tremaining: 0us\n"
     ]
    },
    {
     "data": {
      "text/plain": [
       "<catboost.core.CatBoostRegressor at 0x1241c2790>"
      ]
     },
     "execution_count": 38,
     "metadata": {},
     "output_type": "execute_result"
    }
   ],
   "source": [
    "Cat_model3.fit(features_train, target_train)"
   ]
  },
  {
   "cell_type": "code",
   "execution_count": 39,
   "metadata": {},
   "outputs": [
    {
     "data": {
      "text/plain": [
       "30.65189569445424"
      ]
     },
     "execution_count": 39,
     "metadata": {},
     "output_type": "execute_result"
    }
   ],
   "source": [
    "Cat_pred3 = Cat_model3.predict(features_valid)\n",
    "RMSE_cat3 = mean_squared_error(target_valid, Cat_pred3, squared= False)\n",
    "RMSE_cat3"
   ]
  },
  {
   "cell_type": "markdown",
   "metadata": {},
   "source": [
    "## Testing"
   ]
  },
  {
   "cell_type": "markdown",
   "metadata": {},
   "source": [
    "I test Linear Regression, CatBoost Regressor and Random Forest models."
   ]
  },
  {
   "cell_type": "code",
   "execution_count": 40,
   "metadata": {},
   "outputs": [
    {
     "data": {
      "text/plain": [
       "41.74006968960917"
      ]
     },
     "execution_count": 40,
     "metadata": {},
     "output_type": "execute_result"
    }
   ],
   "source": [
    "pred_test = LRmodel.predict(features_test)\n",
    "RMSE_test = mean_squared_error(target_test, pred_test, squared= False)\n",
    "RMSE_test"
   ]
  },
  {
   "cell_type": "code",
   "execution_count": 46,
   "metadata": {},
   "outputs": [
    {
     "data": {
      "text/plain": [
       "46.7183898365124"
      ]
     },
     "execution_count": 46,
     "metadata": {},
     "output_type": "execute_result"
    }
   ],
   "source": [
    "pred_test2 = Cat_model3.predict(features_test)\n",
    "RMSE_test2 = mean_squared_error(target_test, pred_test2, squared= False)\n",
    "RMSE_test2"
   ]
  },
  {
   "cell_type": "code",
   "execution_count": 42,
   "metadata": {},
   "outputs": [
    {
     "data": {
      "text/plain": [
       "47.37865724010707"
      ]
     },
     "execution_count": 42,
     "metadata": {},
     "output_type": "execute_result"
    }
   ],
   "source": [
    "pred_test3 = RFmodel1.predict(features_test)\n",
    "RMSE_test3 = mean_squared_error(target_test, pred_test3, squared= False)\n",
    "RMSE_test3"
   ]
  },
  {
   "cell_type": "markdown",
   "metadata": {},
   "source": [
    "Make final table with all results"
   ]
  },
  {
   "cell_type": "code",
   "execution_count": 43,
   "metadata": {},
   "outputs": [],
   "source": [
    "LinearRegression = {'RMSE': RMSE_LR}\n",
    "RandomForestRegressor = {'RMSE': RMSE_RF}\n",
    "RandomForestRegressor_tuned = {'RMSE': best_rmse}\n",
    "CatBoostRegressor = {'RMSE': RMSE_cat}\n",
    "CatBoostRegressor_tuned = {'RMSE': RMSE_cat3}\n",
    "CatBoostRegressor_test = {'RMSE': RMSE_test2}\n",
    "LinearRegression_test = {'RMSE': RMSE_test}"
   ]
  },
  {
   "cell_type": "markdown",
   "metadata": {},
   "source": [
    "The best result for the model is Linear regression - 41, CatBoost with selected parameters on the test sample, the result is 46 - meets the customer's requirement - RMSE is less than 48."
   ]
  },
  {
   "cell_type": "code",
   "execution_count": 44,
   "metadata": {
    "scrolled": false
   },
   "outputs": [
    {
     "data": {
      "text/html": [
       "<div>\n",
       "<style scoped>\n",
       "    .dataframe tbody tr th:only-of-type {\n",
       "        vertical-align: middle;\n",
       "    }\n",
       "\n",
       "    .dataframe tbody tr th {\n",
       "        vertical-align: top;\n",
       "    }\n",
       "\n",
       "    .dataframe thead th {\n",
       "        text-align: right;\n",
       "    }\n",
       "</style>\n",
       "<table border=\"1\" class=\"dataframe\">\n",
       "  <thead>\n",
       "    <tr style=\"text-align: right;\">\n",
       "      <th></th>\n",
       "      <th>RMSE</th>\n",
       "    </tr>\n",
       "  </thead>\n",
       "  <tbody>\n",
       "    <tr>\n",
       "      <th>LinearRegression</th>\n",
       "      <td>30.716686</td>\n",
       "    </tr>\n",
       "    <tr>\n",
       "      <th>RandomForestRegressor</th>\n",
       "      <td>32.326298</td>\n",
       "    </tr>\n",
       "    <tr>\n",
       "      <th>RandomForestRegressor_tuned</th>\n",
       "      <td>31.329871</td>\n",
       "    </tr>\n",
       "    <tr>\n",
       "      <th>CatBoostRegressor</th>\n",
       "      <td>30.226653</td>\n",
       "    </tr>\n",
       "    <tr>\n",
       "      <th>CatBoostRegressor_tuned</th>\n",
       "      <td>30.651896</td>\n",
       "    </tr>\n",
       "    <tr>\n",
       "      <th>CatBoostRegressor_test</th>\n",
       "      <td>46.718390</td>\n",
       "    </tr>\n",
       "    <tr>\n",
       "      <th>LinearRegression_test</th>\n",
       "      <td>41.740070</td>\n",
       "    </tr>\n",
       "  </tbody>\n",
       "</table>\n",
       "</div>"
      ],
      "text/plain": [
       "                                  RMSE\n",
       "LinearRegression             30.716686\n",
       "RandomForestRegressor        32.326298\n",
       "RandomForestRegressor_tuned  31.329871\n",
       "CatBoostRegressor            30.226653\n",
       "CatBoostRegressor_tuned      30.651896\n",
       "CatBoostRegressor_test       46.718390\n",
       "LinearRegression_test        41.740070"
      ]
     },
     "execution_count": 44,
     "metadata": {},
     "output_type": "execute_result"
    }
   ],
   "source": [
    "Summary_table = pd.DataFrame([LinearRegression, RandomForestRegressor, RandomForestRegressor_tuned, CatBoostRegressor, CatBoostRegressor_tuned,CatBoostRegressor_test,LinearRegression_test],\n",
    "                     index=['LinearRegression', 'RandomForestRegressor', 'RandomForestRegressor_tuned', 'CatBoostRegressor', 'CatBoostRegressor_tuned', 'CatBoostRegressor_test', 'LinearRegression_test'])\n",
    "Summary_table\n"
   ]
  },
  {
   "cell_type": "markdown",
   "metadata": {},
   "source": [
    "# Conclusion"
   ]
  },
  {
   "cell_type": "markdown",
   "metadata": {},
   "source": [
    "The following steps were taken for the project:\n",
    "\n",
    "Data loaded, checked for mising values, duplicates.\n",
    "An analysis was carried out to determine trends by hours during the day and by days. There are clear trends - a lot of orders on Sunday night rolling over to Monday, a drawdown on Tuesday, an increase on Wednesday and a further increase by Friday. There is also a trend by the hour inside the day - a lot of orders at night until 2-3 o'clock, then a decrease in demand, growth at 8-9 in the morning, stabilization and further two peaks around 16 o'clock and the largest by night.\n",
    "\n",
    "Models were trained and predicted with default parameters and additionally using different sets of hyperparameters.\n",
    "The best model was selected according to the results of the RMSE metric.\n",
    "\n",
    "The best model with an RMSE score of 41 on the test sample - LinearRegression, a score below the target of 48.\n",
    "\n",
    "Based on this, the general recommendation is:\n",
    "\n",
    "To solve the problem of predicting the demand for a taxi an hour ahead, use the LinearRegression model."
   ]
  },
  {
   "cell_type": "markdown",
   "metadata": {},
   "source": []
  }
 ],
 "metadata": {
  "ExecuteTimeLog": [
   {
    "duration": 1165,
    "start_time": "2022-10-05T08:06:09.923Z"
   },
   {
    "duration": 121,
    "start_time": "2022-10-05T08:06:12.719Z"
   },
   {
    "duration": 54,
    "start_time": "2022-10-05T08:06:17.159Z"
   },
   {
    "duration": 17,
    "start_time": "2022-10-05T08:06:21.385Z"
   },
   {
    "duration": 1646,
    "start_time": "2022-10-05T08:07:06.337Z"
   },
   {
    "duration": 13,
    "start_time": "2022-10-05T08:07:22.761Z"
   },
   {
    "duration": 42,
    "start_time": "2022-10-05T08:07:40.522Z"
   },
   {
    "duration": 30,
    "start_time": "2022-10-05T08:12:21.593Z"
   },
   {
    "duration": 552,
    "start_time": "2022-10-05T09:22:52.919Z"
   },
   {
    "duration": 33,
    "start_time": "2022-10-05T09:23:56.032Z"
   },
   {
    "duration": 4,
    "start_time": "2022-10-05T09:23:58.023Z"
   },
   {
    "duration": 48,
    "start_time": "2022-10-05T09:23:58.216Z"
   },
   {
    "duration": 8,
    "start_time": "2022-10-05T09:23:58.401Z"
   },
   {
    "duration": 20,
    "start_time": "2022-10-05T09:23:59.999Z"
   },
   {
    "duration": 10,
    "start_time": "2022-10-05T09:24:38.129Z"
   },
   {
    "duration": 14,
    "start_time": "2022-10-05T09:24:41.435Z"
   },
   {
    "duration": 11,
    "start_time": "2022-10-05T09:24:50.614Z"
   },
   {
    "duration": 38,
    "start_time": "2022-10-05T09:27:29.180Z"
   },
   {
    "duration": 9,
    "start_time": "2022-10-05T09:35:03.645Z"
   },
   {
    "duration": 15,
    "start_time": "2022-10-05T09:35:11.708Z"
   },
   {
    "duration": 132,
    "start_time": "2022-10-05T09:38:25.258Z"
   },
   {
    "duration": 100,
    "start_time": "2022-10-05T09:38:35.665Z"
   },
   {
    "duration": 186,
    "start_time": "2022-10-05T09:38:42.452Z"
   },
   {
    "duration": 14,
    "start_time": "2022-10-05T09:39:11.957Z"
   },
   {
    "duration": 14,
    "start_time": "2022-10-05T09:39:24.243Z"
   },
   {
    "duration": 92,
    "start_time": "2022-10-05T09:39:59.817Z"
   },
   {
    "duration": 105,
    "start_time": "2022-10-05T09:40:20.551Z"
   },
   {
    "duration": 4,
    "start_time": "2022-10-05T09:40:40.455Z"
   },
   {
    "duration": 91,
    "start_time": "2022-10-05T09:40:42.344Z"
   },
   {
    "duration": 91,
    "start_time": "2022-10-05T09:40:46.950Z"
   },
   {
    "duration": 116,
    "start_time": "2022-10-05T09:40:55.208Z"
   },
   {
    "duration": 136,
    "start_time": "2022-10-05T09:41:21.748Z"
   },
   {
    "duration": 509,
    "start_time": "2022-10-05T09:42:15.752Z"
   },
   {
    "duration": 116,
    "start_time": "2022-10-05T09:42:59.599Z"
   },
   {
    "duration": 389,
    "start_time": "2022-10-05T09:43:05.589Z"
   },
   {
    "duration": 222,
    "start_time": "2022-10-05T09:43:10.788Z"
   },
   {
    "duration": 197,
    "start_time": "2022-10-05T09:43:16.771Z"
   },
   {
    "duration": 87,
    "start_time": "2022-10-05T09:43:38.704Z"
   },
   {
    "duration": 11,
    "start_time": "2022-10-05T09:44:01.800Z"
   },
   {
    "duration": 7,
    "start_time": "2022-10-05T09:44:04.818Z"
   },
   {
    "duration": 9,
    "start_time": "2022-10-05T09:44:16.764Z"
   },
   {
    "duration": 9,
    "start_time": "2022-10-05T09:44:21.543Z"
   },
   {
    "duration": 348,
    "start_time": "2022-10-05T09:45:37.068Z"
   },
   {
    "duration": 16,
    "start_time": "2022-10-05T09:49:15.199Z"
   },
   {
    "duration": 718,
    "start_time": "2022-10-05T09:49:57.565Z"
   },
   {
    "duration": 224,
    "start_time": "2022-10-05T09:51:15.867Z"
   },
   {
    "duration": 249,
    "start_time": "2022-10-05T09:51:35.478Z"
   },
   {
    "duration": 188,
    "start_time": "2022-10-05T09:52:46.730Z"
   },
   {
    "duration": 1136,
    "start_time": "2022-10-05T10:06:38.738Z"
   },
   {
    "duration": 159,
    "start_time": "2022-10-05T10:06:58.512Z"
   },
   {
    "duration": 53,
    "start_time": "2022-10-05T10:07:06.888Z"
   },
   {
    "duration": 344,
    "start_time": "2022-10-05T10:07:10.544Z"
   },
   {
    "duration": 170,
    "start_time": "2022-10-05T10:07:14.726Z"
   },
   {
    "duration": 805,
    "start_time": "2022-10-05T10:07:51.217Z"
   },
   {
    "duration": 829,
    "start_time": "2022-10-05T10:08:41.994Z"
   },
   {
    "duration": 148,
    "start_time": "2022-10-05T10:09:00.213Z"
   },
   {
    "duration": 143,
    "start_time": "2022-10-05T10:09:29.106Z"
   },
   {
    "duration": 1004,
    "start_time": "2022-10-05T10:09:42.364Z"
   },
   {
    "duration": 184,
    "start_time": "2022-10-05T10:10:15.009Z"
   },
   {
    "duration": 225,
    "start_time": "2022-10-05T10:12:22.723Z"
   },
   {
    "duration": 142,
    "start_time": "2022-10-05T10:15:18.360Z"
   },
   {
    "duration": 157,
    "start_time": "2022-10-05T10:15:35.705Z"
   },
   {
    "duration": 196,
    "start_time": "2022-10-05T10:15:47.364Z"
   },
   {
    "duration": 176,
    "start_time": "2022-10-05T10:16:29.417Z"
   },
   {
    "duration": 217,
    "start_time": "2022-10-05T10:17:11.924Z"
   },
   {
    "duration": 245,
    "start_time": "2022-10-05T10:17:18.168Z"
   },
   {
    "duration": 224,
    "start_time": "2022-10-05T10:17:23.284Z"
   },
   {
    "duration": 258,
    "start_time": "2022-10-05T10:17:51.245Z"
   },
   {
    "duration": 365,
    "start_time": "2022-10-05T10:18:25.820Z"
   },
   {
    "duration": 257,
    "start_time": "2022-10-05T10:18:31.897Z"
   },
   {
    "duration": 242,
    "start_time": "2022-10-05T10:18:50.619Z"
   },
   {
    "duration": 223,
    "start_time": "2022-10-05T10:19:03.681Z"
   },
   {
    "duration": 240,
    "start_time": "2022-10-05T10:19:09.155Z"
   },
   {
    "duration": 240,
    "start_time": "2022-10-05T10:19:14.545Z"
   },
   {
    "duration": 293,
    "start_time": "2022-10-05T10:19:21.514Z"
   },
   {
    "duration": 220,
    "start_time": "2022-10-05T10:19:25.142Z"
   },
   {
    "duration": 208,
    "start_time": "2022-10-05T10:19:55.127Z"
   },
   {
    "duration": 4,
    "start_time": "2022-10-05T10:54:39.695Z"
   },
   {
    "duration": 45,
    "start_time": "2022-10-05T10:54:39.922Z"
   },
   {
    "duration": 9,
    "start_time": "2022-10-05T10:54:40.261Z"
   },
   {
    "duration": 13,
    "start_time": "2022-10-05T10:54:40.497Z"
   },
   {
    "duration": 15,
    "start_time": "2022-10-05T10:54:40.682Z"
   },
   {
    "duration": 10,
    "start_time": "2022-10-05T10:54:40.882Z"
   },
   {
    "duration": 18,
    "start_time": "2022-10-05T10:54:41.064Z"
   },
   {
    "duration": 134,
    "start_time": "2022-10-05T10:54:41.442Z"
   },
   {
    "duration": 11,
    "start_time": "2022-10-05T10:54:41.635Z"
   },
   {
    "duration": 8,
    "start_time": "2022-10-05T10:54:41.847Z"
   },
   {
    "duration": 242,
    "start_time": "2022-10-05T10:54:42.248Z"
   },
   {
    "duration": 173,
    "start_time": "2022-10-05T10:54:42.633Z"
   },
   {
    "duration": 223,
    "start_time": "2022-10-05T10:54:42.985Z"
   },
   {
    "duration": 304,
    "start_time": "2022-10-05T10:55:06.472Z"
   },
   {
    "duration": 230,
    "start_time": "2022-10-05T10:55:41.500Z"
   },
   {
    "duration": 186,
    "start_time": "2022-10-05T10:56:04.058Z"
   },
   {
    "duration": 165,
    "start_time": "2022-10-05T10:56:24.512Z"
   },
   {
    "duration": 206,
    "start_time": "2022-10-05T10:56:48.866Z"
   },
   {
    "duration": 22,
    "start_time": "2022-10-05T10:58:37.691Z"
   },
   {
    "duration": 24,
    "start_time": "2022-10-05T10:58:55.518Z"
   },
   {
    "duration": 22,
    "start_time": "2022-10-05T10:59:03.260Z"
   },
   {
    "duration": 23,
    "start_time": "2022-10-05T10:59:14.042Z"
   },
   {
    "duration": 23,
    "start_time": "2022-10-05T10:59:41.709Z"
   },
   {
    "duration": 23,
    "start_time": "2022-10-05T11:01:15.225Z"
   },
   {
    "duration": 23,
    "start_time": "2022-10-05T11:01:26.856Z"
   },
   {
    "duration": 22,
    "start_time": "2022-10-05T11:01:57.494Z"
   },
   {
    "duration": 23,
    "start_time": "2022-10-05T11:02:05.461Z"
   },
   {
    "duration": 15,
    "start_time": "2022-10-05T11:02:41.017Z"
   },
   {
    "duration": 14,
    "start_time": "2022-10-05T11:02:46.952Z"
   },
   {
    "duration": 14,
    "start_time": "2022-10-05T11:03:29.425Z"
   },
   {
    "duration": 10,
    "start_time": "2022-10-05T11:03:38.864Z"
   },
   {
    "duration": 1683,
    "start_time": "2022-10-07T07:29:25.842Z"
   },
   {
    "duration": 121,
    "start_time": "2022-10-07T07:29:27.527Z"
   },
   {
    "duration": 17,
    "start_time": "2022-10-07T07:29:27.650Z"
   },
   {
    "duration": 9,
    "start_time": "2022-10-07T07:29:27.669Z"
   },
   {
    "duration": 14,
    "start_time": "2022-10-07T07:29:27.679Z"
   },
   {
    "duration": 9,
    "start_time": "2022-10-07T07:29:27.694Z"
   },
   {
    "duration": 13,
    "start_time": "2022-10-07T07:29:27.704Z"
   },
   {
    "duration": 120,
    "start_time": "2022-10-07T07:29:27.718Z"
   },
   {
    "duration": 7,
    "start_time": "2022-10-07T07:29:27.839Z"
   },
   {
    "duration": 14,
    "start_time": "2022-10-07T07:29:27.848Z"
   },
   {
    "duration": 232,
    "start_time": "2022-10-07T07:29:27.864Z"
   },
   {
    "duration": 171,
    "start_time": "2022-10-07T07:29:28.098Z"
   },
   {
    "duration": 260,
    "start_time": "2022-10-07T07:29:28.271Z"
   },
   {
    "duration": 381,
    "start_time": "2022-10-07T07:29:28.532Z"
   },
   {
    "duration": 4,
    "start_time": "2022-10-07T07:34:56.957Z"
   },
   {
    "duration": 5,
    "start_time": "2022-10-07T07:35:10.082Z"
   },
   {
    "duration": 4,
    "start_time": "2022-10-07T07:35:10.990Z"
   },
   {
    "duration": 13,
    "start_time": "2022-10-07T07:38:26.310Z"
   },
   {
    "duration": 10,
    "start_time": "2022-10-07T07:38:41.544Z"
   },
   {
    "duration": 6,
    "start_time": "2022-10-07T07:38:45.455Z"
   },
   {
    "duration": 10,
    "start_time": "2022-10-07T07:39:00.283Z"
   },
   {
    "duration": 2,
    "start_time": "2022-10-07T07:41:29.674Z"
   },
   {
    "duration": 20,
    "start_time": "2022-10-07T07:42:47.474Z"
   },
   {
    "duration": 6,
    "start_time": "2022-10-07T07:43:36.626Z"
   },
   {
    "duration": 1416,
    "start_time": "2022-10-07T07:43:40.780Z"
   },
   {
    "duration": 47,
    "start_time": "2022-10-07T07:43:42.198Z"
   },
   {
    "duration": 11,
    "start_time": "2022-10-07T07:43:42.246Z"
   },
   {
    "duration": 10,
    "start_time": "2022-10-07T07:43:42.259Z"
   },
   {
    "duration": 15,
    "start_time": "2022-10-07T07:43:42.271Z"
   },
   {
    "duration": 9,
    "start_time": "2022-10-07T07:43:42.287Z"
   },
   {
    "duration": 15,
    "start_time": "2022-10-07T07:43:42.298Z"
   },
   {
    "duration": 9,
    "start_time": "2022-10-07T07:43:42.315Z"
   },
   {
    "duration": 122,
    "start_time": "2022-10-07T07:43:42.326Z"
   },
   {
    "duration": 6,
    "start_time": "2022-10-07T07:43:42.450Z"
   },
   {
    "duration": 18,
    "start_time": "2022-10-07T07:43:42.458Z"
   },
   {
    "duration": 225,
    "start_time": "2022-10-07T07:43:42.478Z"
   },
   {
    "duration": 172,
    "start_time": "2022-10-07T07:43:42.706Z"
   },
   {
    "duration": 262,
    "start_time": "2022-10-07T07:43:42.880Z"
   },
   {
    "duration": 5,
    "start_time": "2022-10-07T07:43:43.144Z"
   },
   {
    "duration": 8,
    "start_time": "2022-10-07T07:43:43.150Z"
   },
   {
    "duration": 19,
    "start_time": "2022-10-07T07:43:43.159Z"
   },
   {
    "duration": 8,
    "start_time": "2022-10-07T07:43:43.180Z"
   },
   {
    "duration": 10,
    "start_time": "2022-10-07T07:43:43.190Z"
   },
   {
    "duration": 7,
    "start_time": "2022-10-07T07:46:23.621Z"
   },
   {
    "duration": 7,
    "start_time": "2022-10-07T07:46:32.937Z"
   },
   {
    "duration": 3,
    "start_time": "2022-10-07T07:47:58.648Z"
   },
   {
    "duration": 113,
    "start_time": "2022-10-07T07:48:18.465Z"
   },
   {
    "duration": 7,
    "start_time": "2022-10-07T07:49:03.774Z"
   },
   {
    "duration": 11,
    "start_time": "2022-10-07T07:49:13.279Z"
   },
   {
    "duration": 125,
    "start_time": "2022-10-07T07:53:26.558Z"
   },
   {
    "duration": 4,
    "start_time": "2022-10-07T07:54:05.431Z"
   },
   {
    "duration": 1427,
    "start_time": "2022-10-07T07:54:10.512Z"
   },
   {
    "duration": 49,
    "start_time": "2022-10-07T07:54:11.941Z"
   },
   {
    "duration": 10,
    "start_time": "2022-10-07T07:54:11.993Z"
   },
   {
    "duration": 15,
    "start_time": "2022-10-07T07:54:12.004Z"
   },
   {
    "duration": 36,
    "start_time": "2022-10-07T07:54:12.022Z"
   },
   {
    "duration": 36,
    "start_time": "2022-10-07T07:54:12.060Z"
   },
   {
    "duration": 40,
    "start_time": "2022-10-07T07:54:12.098Z"
   },
   {
    "duration": 35,
    "start_time": "2022-10-07T07:54:12.140Z"
   },
   {
    "duration": 128,
    "start_time": "2022-10-07T07:54:12.177Z"
   },
   {
    "duration": 6,
    "start_time": "2022-10-07T07:54:12.307Z"
   },
   {
    "duration": 19,
    "start_time": "2022-10-07T07:54:12.315Z"
   },
   {
    "duration": 232,
    "start_time": "2022-10-07T07:54:12.336Z"
   },
   {
    "duration": 184,
    "start_time": "2022-10-07T07:54:12.570Z"
   },
   {
    "duration": 307,
    "start_time": "2022-10-07T07:54:12.757Z"
   },
   {
    "duration": 11,
    "start_time": "2022-10-07T07:54:13.066Z"
   },
   {
    "duration": 24,
    "start_time": "2022-10-07T07:54:13.079Z"
   },
   {
    "duration": 26,
    "start_time": "2022-10-07T07:54:13.105Z"
   },
   {
    "duration": 18,
    "start_time": "2022-10-07T07:54:13.133Z"
   },
   {
    "duration": 18,
    "start_time": "2022-10-07T07:54:13.153Z"
   },
   {
    "duration": 13,
    "start_time": "2022-10-07T07:54:13.173Z"
   },
   {
    "duration": 28,
    "start_time": "2022-10-07T07:54:13.188Z"
   },
   {
    "duration": 158,
    "start_time": "2022-10-07T07:54:13.218Z"
   },
   {
    "duration": 16,
    "start_time": "2022-10-07T07:54:13.378Z"
   },
   {
    "duration": 179,
    "start_time": "2022-10-07T07:54:13.396Z"
   },
   {
    "duration": 11,
    "start_time": "2022-10-07T07:54:23.710Z"
   },
   {
    "duration": 11,
    "start_time": "2022-10-07T07:55:09.505Z"
   },
   {
    "duration": 10,
    "start_time": "2022-10-07T07:55:38.537Z"
   },
   {
    "duration": 1571,
    "start_time": "2022-10-07T08:00:05.974Z"
   },
   {
    "duration": 50,
    "start_time": "2022-10-07T08:00:07.547Z"
   },
   {
    "duration": 11,
    "start_time": "2022-10-07T08:00:07.598Z"
   },
   {
    "duration": 11,
    "start_time": "2022-10-07T08:00:07.611Z"
   },
   {
    "duration": 26,
    "start_time": "2022-10-07T08:00:07.624Z"
   },
   {
    "duration": 27,
    "start_time": "2022-10-07T08:00:07.652Z"
   },
   {
    "duration": 14,
    "start_time": "2022-10-07T08:00:07.681Z"
   },
   {
    "duration": 11,
    "start_time": "2022-10-07T08:00:07.697Z"
   },
   {
    "duration": 117,
    "start_time": "2022-10-07T08:00:07.710Z"
   },
   {
    "duration": 6,
    "start_time": "2022-10-07T08:00:07.829Z"
   },
   {
    "duration": 14,
    "start_time": "2022-10-07T08:00:07.836Z"
   },
   {
    "duration": 246,
    "start_time": "2022-10-07T08:00:07.852Z"
   },
   {
    "duration": 177,
    "start_time": "2022-10-07T08:00:08.100Z"
   },
   {
    "duration": 277,
    "start_time": "2022-10-07T08:00:08.280Z"
   },
   {
    "duration": 4,
    "start_time": "2022-10-07T08:00:08.560Z"
   },
   {
    "duration": 20,
    "start_time": "2022-10-07T08:00:08.576Z"
   },
   {
    "duration": 5,
    "start_time": "2022-10-07T08:00:08.598Z"
   },
   {
    "duration": 8,
    "start_time": "2022-10-07T08:00:08.605Z"
   },
   {
    "duration": 14,
    "start_time": "2022-10-07T08:00:08.615Z"
   },
   {
    "duration": 34,
    "start_time": "2022-10-07T08:00:08.631Z"
   },
   {
    "duration": 12,
    "start_time": "2022-10-07T08:00:08.667Z"
   },
   {
    "duration": 131,
    "start_time": "2022-10-07T08:00:08.681Z"
   },
   {
    "duration": 11,
    "start_time": "2022-10-07T08:00:08.814Z"
   },
   {
    "duration": 14628,
    "start_time": "2022-10-07T08:00:08.827Z"
   },
   {
    "duration": 121,
    "start_time": "2022-10-07T08:00:23.456Z"
   },
   {
    "duration": 4,
    "start_time": "2022-10-07T08:00:33.962Z"
   },
   {
    "duration": 24,
    "start_time": "2022-10-07T08:01:00.066Z"
   },
   {
    "duration": 5,
    "start_time": "2022-10-07T08:02:45.248Z"
   },
   {
    "duration": 4,
    "start_time": "2022-10-07T08:03:03.854Z"
   },
   {
    "duration": 9,
    "start_time": "2022-10-07T08:03:14.207Z"
   },
   {
    "duration": 5,
    "start_time": "2022-10-07T08:03:20.554Z"
   },
   {
    "duration": 9,
    "start_time": "2022-10-07T08:03:21.196Z"
   },
   {
    "duration": 4,
    "start_time": "2022-10-07T08:03:40.373Z"
   },
   {
    "duration": 10,
    "start_time": "2022-10-07T08:03:45.409Z"
   },
   {
    "duration": 9,
    "start_time": "2022-10-07T08:03:53.770Z"
   },
   {
    "duration": 12,
    "start_time": "2022-10-07T08:04:05.325Z"
   },
   {
    "duration": 1470,
    "start_time": "2022-10-07T08:15:31.069Z"
   },
   {
    "duration": 80,
    "start_time": "2022-10-07T08:15:32.541Z"
   },
   {
    "duration": 13,
    "start_time": "2022-10-07T08:15:32.624Z"
   },
   {
    "duration": 21,
    "start_time": "2022-10-07T08:15:32.638Z"
   },
   {
    "duration": 43,
    "start_time": "2022-10-07T08:15:32.662Z"
   },
   {
    "duration": 15,
    "start_time": "2022-10-07T08:15:32.707Z"
   },
   {
    "duration": 17,
    "start_time": "2022-10-07T08:15:32.724Z"
   },
   {
    "duration": 13,
    "start_time": "2022-10-07T08:15:32.744Z"
   },
   {
    "duration": 124,
    "start_time": "2022-10-07T08:15:32.759Z"
   },
   {
    "duration": 12,
    "start_time": "2022-10-07T08:15:32.884Z"
   },
   {
    "duration": 7,
    "start_time": "2022-10-07T08:15:32.898Z"
   },
   {
    "duration": 239,
    "start_time": "2022-10-07T08:15:32.907Z"
   },
   {
    "duration": 198,
    "start_time": "2022-10-07T08:15:33.147Z"
   },
   {
    "duration": 304,
    "start_time": "2022-10-07T08:15:33.348Z"
   },
   {
    "duration": 4,
    "start_time": "2022-10-07T08:15:33.654Z"
   },
   {
    "duration": 24,
    "start_time": "2022-10-07T08:15:33.660Z"
   },
   {
    "duration": 21,
    "start_time": "2022-10-07T08:15:33.686Z"
   },
   {
    "duration": 7,
    "start_time": "2022-10-07T08:15:33.709Z"
   },
   {
    "duration": 13,
    "start_time": "2022-10-07T08:15:33.718Z"
   },
   {
    "duration": 7,
    "start_time": "2022-10-07T08:15:33.732Z"
   },
   {
    "duration": 3,
    "start_time": "2022-10-07T08:15:33.742Z"
   },
   {
    "duration": 144,
    "start_time": "2022-10-07T08:15:33.747Z"
   },
   {
    "duration": 11,
    "start_time": "2022-10-07T08:15:33.893Z"
   },
   {
    "duration": 4,
    "start_time": "2022-10-07T08:15:33.906Z"
   },
   {
    "duration": 51887,
    "start_time": "2022-10-07T08:15:33.912Z"
   },
   {
    "duration": 124,
    "start_time": "2022-10-07T08:16:25.801Z"
   },
   {
    "duration": 51,
    "start_time": "2022-10-07T08:19:59.738Z"
   },
   {
    "duration": 4,
    "start_time": "2022-10-07T08:21:17.477Z"
   },
   {
    "duration": 13,
    "start_time": "2022-10-07T08:21:41.517Z"
   },
   {
    "duration": 489,
    "start_time": "2022-10-07T08:22:10.119Z"
   },
   {
    "duration": 17,
    "start_time": "2022-10-07T08:22:10.905Z"
   },
   {
    "duration": 4,
    "start_time": "2022-10-07T08:22:47.990Z"
   },
   {
    "duration": 5,
    "start_time": "2022-10-07T08:22:48.240Z"
   },
   {
    "duration": 5,
    "start_time": "2022-10-07T08:22:48.411Z"
   },
   {
    "duration": 3,
    "start_time": "2022-10-07T08:22:48.601Z"
   },
   {
    "duration": 6,
    "start_time": "2022-10-07T08:22:48.760Z"
   },
   {
    "duration": 6,
    "start_time": "2022-10-07T08:22:49.290Z"
   },
   {
    "duration": 3,
    "start_time": "2022-10-07T08:22:50.846Z"
   },
   {
    "duration": 133,
    "start_time": "2022-10-07T08:22:51.148Z"
   },
   {
    "duration": 11,
    "start_time": "2022-10-07T08:22:52.425Z"
   },
   {
    "duration": 10,
    "start_time": "2022-10-07T08:22:59.380Z"
   },
   {
    "duration": 13,
    "start_time": "2022-10-07T08:31:17.105Z"
   },
   {
    "duration": 3,
    "start_time": "2022-10-07T08:33:04.610Z"
   },
   {
    "duration": 9,
    "start_time": "2022-10-07T08:33:04.930Z"
   },
   {
    "duration": 12,
    "start_time": "2022-10-07T08:33:05.262Z"
   },
   {
    "duration": 1529,
    "start_time": "2022-10-07T08:33:09.884Z"
   },
   {
    "duration": 9,
    "start_time": "2022-10-07T08:33:15.580Z"
   },
   {
    "duration": 6,
    "start_time": "2022-10-07T08:33:19.084Z"
   },
   {
    "duration": 1525,
    "start_time": "2022-10-07T08:57:26.372Z"
   },
   {
    "duration": 47,
    "start_time": "2022-10-07T08:57:27.899Z"
   },
   {
    "duration": 9,
    "start_time": "2022-10-07T08:57:27.948Z"
   },
   {
    "duration": 10,
    "start_time": "2022-10-07T08:57:27.959Z"
   },
   {
    "duration": 14,
    "start_time": "2022-10-07T08:57:27.972Z"
   },
   {
    "duration": 10,
    "start_time": "2022-10-07T08:57:27.988Z"
   },
   {
    "duration": 15,
    "start_time": "2022-10-07T08:57:27.999Z"
   },
   {
    "duration": 7,
    "start_time": "2022-10-07T08:57:28.016Z"
   },
   {
    "duration": 133,
    "start_time": "2022-10-07T08:57:28.025Z"
   },
   {
    "duration": 6,
    "start_time": "2022-10-07T08:57:28.160Z"
   },
   {
    "duration": 7,
    "start_time": "2022-10-07T08:57:28.177Z"
   },
   {
    "duration": 229,
    "start_time": "2022-10-07T08:57:28.186Z"
   },
   {
    "duration": 180,
    "start_time": "2022-10-07T08:57:28.417Z"
   },
   {
    "duration": 260,
    "start_time": "2022-10-07T08:57:28.600Z"
   },
   {
    "duration": 3,
    "start_time": "2022-10-07T08:57:28.862Z"
   },
   {
    "duration": 13,
    "start_time": "2022-10-07T08:57:28.866Z"
   },
   {
    "duration": 6,
    "start_time": "2022-10-07T08:57:28.881Z"
   },
   {
    "duration": 6,
    "start_time": "2022-10-07T08:57:28.889Z"
   },
   {
    "duration": 10,
    "start_time": "2022-10-07T08:57:28.896Z"
   },
   {
    "duration": 7,
    "start_time": "2022-10-07T08:57:28.908Z"
   },
   {
    "duration": 5,
    "start_time": "2022-10-07T08:57:28.916Z"
   },
   {
    "duration": 133,
    "start_time": "2022-10-07T08:57:28.922Z"
   },
   {
    "duration": 10,
    "start_time": "2022-10-07T08:57:29.056Z"
   },
   {
    "duration": 72517,
    "start_time": "2022-10-07T08:57:29.077Z"
   },
   {
    "duration": 3,
    "start_time": "2022-10-07T08:58:41.596Z"
   },
   {
    "duration": 1558,
    "start_time": "2022-10-07T08:58:41.601Z"
   },
   {
    "duration": 6,
    "start_time": "2022-10-07T08:58:43.160Z"
   },
   {
    "duration": 16216,
    "start_time": "2022-10-07T08:59:56.749Z"
   },
   {
    "duration": 17269,
    "start_time": "2022-10-07T09:02:32.273Z"
   },
   {
    "duration": 4,
    "start_time": "2022-10-07T09:03:05.510Z"
   },
   {
    "duration": 36939,
    "start_time": "2022-10-07T09:03:23.474Z"
   },
   {
    "duration": 36681,
    "start_time": "2022-10-07T09:04:09.752Z"
   },
   {
    "duration": 36954,
    "start_time": "2022-10-07T09:06:01.271Z"
   },
   {
    "duration": 2,
    "start_time": "2022-10-07T09:06:44.909Z"
   },
   {
    "duration": 3,
    "start_time": "2022-10-07T09:06:45.599Z"
   },
   {
    "duration": 1499,
    "start_time": "2022-10-07T09:06:46.508Z"
   },
   {
    "duration": 6,
    "start_time": "2022-10-07T09:06:48.009Z"
   },
   {
    "duration": 3,
    "start_time": "2022-10-07T09:07:44.050Z"
   },
   {
    "duration": 7,
    "start_time": "2022-10-07T09:08:29.930Z"
   },
   {
    "duration": 3,
    "start_time": "2022-10-07T09:09:00.506Z"
   },
   {
    "duration": 1869,
    "start_time": "2022-10-07T09:09:00.826Z"
   },
   {
    "duration": 6,
    "start_time": "2022-10-07T09:09:02.697Z"
   },
   {
    "duration": 61,
    "start_time": "2022-10-07T09:09:52.918Z"
   },
   {
    "duration": 2,
    "start_time": "2022-10-07T09:09:53.320Z"
   },
   {
    "duration": 68,
    "start_time": "2022-10-07T09:10:44.177Z"
   },
   {
    "duration": 4,
    "start_time": "2022-10-07T09:12:17.355Z"
   },
   {
    "duration": 4,
    "start_time": "2022-10-07T09:12:44.037Z"
   },
   {
    "duration": 3,
    "start_time": "2022-10-07T09:12:44.896Z"
   },
   {
    "duration": 1468,
    "start_time": "2022-10-07T09:12:45.283Z"
   },
   {
    "duration": 5,
    "start_time": "2022-10-07T09:13:02.096Z"
   },
   {
    "duration": 21,
    "start_time": "2022-10-07T09:13:02.103Z"
   },
   {
    "duration": 508,
    "start_time": "2022-10-07T09:13:02.125Z"
   },
   {
    "duration": 0,
    "start_time": "2022-10-07T09:13:02.635Z"
   },
   {
    "duration": 3,
    "start_time": "2022-10-07T09:13:17.246Z"
   },
   {
    "duration": 3,
    "start_time": "2022-10-07T09:13:17.582Z"
   },
   {
    "duration": 1415,
    "start_time": "2022-10-07T09:13:17.890Z"
   },
   {
    "duration": 6,
    "start_time": "2022-10-07T09:13:19.307Z"
   },
   {
    "duration": 4,
    "start_time": "2022-10-07T09:13:19.315Z"
   },
   {
    "duration": 388,
    "start_time": "2022-10-07T09:13:19.321Z"
   },
   {
    "duration": 12,
    "start_time": "2022-10-07T09:13:20.152Z"
   },
   {
    "duration": 3,
    "start_time": "2022-10-07T09:13:47.532Z"
   },
   {
    "duration": 3,
    "start_time": "2022-10-07T09:13:48.162Z"
   },
   {
    "duration": 1518,
    "start_time": "2022-10-07T09:13:48.386Z"
   },
   {
    "duration": 6,
    "start_time": "2022-10-07T09:13:49.906Z"
   },
   {
    "duration": 6,
    "start_time": "2022-10-07T09:13:49.914Z"
   },
   {
    "duration": 370,
    "start_time": "2022-10-07T09:13:49.922Z"
   },
   {
    "duration": 0,
    "start_time": "2022-10-07T09:13:50.293Z"
   },
   {
    "duration": 3,
    "start_time": "2022-10-07T09:15:08.817Z"
   },
   {
    "duration": 3,
    "start_time": "2022-10-07T09:15:09.153Z"
   },
   {
    "duration": 1424,
    "start_time": "2022-10-07T09:15:09.417Z"
   },
   {
    "duration": 5,
    "start_time": "2022-10-07T09:15:10.843Z"
   },
   {
    "duration": 18,
    "start_time": "2022-10-07T09:15:10.850Z"
   },
   {
    "duration": 443,
    "start_time": "2022-10-07T09:15:10.870Z"
   },
   {
    "duration": 0,
    "start_time": "2022-10-07T09:15:11.315Z"
   },
   {
    "duration": 3,
    "start_time": "2022-10-07T09:15:21.967Z"
   },
   {
    "duration": 3,
    "start_time": "2022-10-07T09:15:22.171Z"
   },
   {
    "duration": 1455,
    "start_time": "2022-10-07T09:15:22.367Z"
   },
   {
    "duration": 5,
    "start_time": "2022-10-07T09:15:23.825Z"
   },
   {
    "duration": 6,
    "start_time": "2022-10-07T09:15:23.831Z"
   },
   {
    "duration": 1368,
    "start_time": "2022-10-07T09:16:45.433Z"
   },
   {
    "duration": 48,
    "start_time": "2022-10-07T09:16:46.803Z"
   },
   {
    "duration": 10,
    "start_time": "2022-10-07T09:16:46.853Z"
   },
   {
    "duration": 13,
    "start_time": "2022-10-07T09:16:46.865Z"
   },
   {
    "duration": 14,
    "start_time": "2022-10-07T09:16:46.880Z"
   },
   {
    "duration": 9,
    "start_time": "2022-10-07T09:16:46.895Z"
   },
   {
    "duration": 15,
    "start_time": "2022-10-07T09:16:46.906Z"
   },
   {
    "duration": 11,
    "start_time": "2022-10-07T09:16:46.923Z"
   },
   {
    "duration": 144,
    "start_time": "2022-10-07T09:16:46.935Z"
   },
   {
    "duration": 9,
    "start_time": "2022-10-07T09:16:47.082Z"
   },
   {
    "duration": 16,
    "start_time": "2022-10-07T09:16:47.093Z"
   },
   {
    "duration": 251,
    "start_time": "2022-10-07T09:16:47.111Z"
   },
   {
    "duration": 181,
    "start_time": "2022-10-07T09:16:47.364Z"
   },
   {
    "duration": 270,
    "start_time": "2022-10-07T09:16:47.548Z"
   },
   {
    "duration": 4,
    "start_time": "2022-10-07T09:16:47.820Z"
   },
   {
    "duration": 10,
    "start_time": "2022-10-07T09:16:47.826Z"
   },
   {
    "duration": 6,
    "start_time": "2022-10-07T09:16:47.838Z"
   },
   {
    "duration": 11,
    "start_time": "2022-10-07T09:16:47.845Z"
   },
   {
    "duration": 18,
    "start_time": "2022-10-07T09:16:47.858Z"
   },
   {
    "duration": 7,
    "start_time": "2022-10-07T09:16:47.878Z"
   },
   {
    "duration": 5,
    "start_time": "2022-10-07T09:16:47.886Z"
   },
   {
    "duration": 126,
    "start_time": "2022-10-07T09:16:47.892Z"
   },
   {
    "duration": 11,
    "start_time": "2022-10-07T09:16:48.019Z"
   },
   {
    "duration": 167,
    "start_time": "2022-10-07T09:16:48.031Z"
   },
   {
    "duration": 0,
    "start_time": "2022-10-07T09:16:48.200Z"
   },
   {
    "duration": 0,
    "start_time": "2022-10-07T09:16:48.201Z"
   },
   {
    "duration": 0,
    "start_time": "2022-10-07T09:16:48.202Z"
   },
   {
    "duration": 0,
    "start_time": "2022-10-07T09:16:48.203Z"
   },
   {
    "duration": 0,
    "start_time": "2022-10-07T09:16:48.204Z"
   },
   {
    "duration": 0,
    "start_time": "2022-10-07T09:16:48.205Z"
   },
   {
    "duration": 0,
    "start_time": "2022-10-07T09:16:48.206Z"
   },
   {
    "duration": 54,
    "start_time": "2022-10-07T09:17:06.598Z"
   },
   {
    "duration": 51,
    "start_time": "2022-10-07T09:17:27.627Z"
   },
   {
    "duration": 35802,
    "start_time": "2022-10-07T09:17:34.973Z"
   },
   {
    "duration": 2,
    "start_time": "2022-10-07T09:18:10.778Z"
   },
   {
    "duration": 15,
    "start_time": "2022-10-07T09:18:10.782Z"
   },
   {
    "duration": 1444,
    "start_time": "2022-10-07T09:18:10.800Z"
   },
   {
    "duration": 6,
    "start_time": "2022-10-07T09:18:12.246Z"
   },
   {
    "duration": 5,
    "start_time": "2022-10-07T09:18:12.253Z"
   },
   {
    "duration": 2181,
    "start_time": "2022-10-07T09:18:12.259Z"
   },
   {
    "duration": 8,
    "start_time": "2022-10-07T09:18:14.443Z"
   },
   {
    "duration": 3,
    "start_time": "2022-10-07T09:19:06.241Z"
   },
   {
    "duration": 3,
    "start_time": "2022-10-07T09:19:06.438Z"
   },
   {
    "duration": 1483,
    "start_time": "2022-10-07T09:19:06.597Z"
   },
   {
    "duration": 6,
    "start_time": "2022-10-07T09:19:08.082Z"
   },
   {
    "duration": 15,
    "start_time": "2022-10-07T09:19:08.089Z"
   },
   {
    "duration": 2106,
    "start_time": "2022-10-07T09:19:08.105Z"
   },
   {
    "duration": 2,
    "start_time": "2022-10-07T09:19:32.366Z"
   },
   {
    "duration": 3,
    "start_time": "2022-10-07T09:19:32.565Z"
   },
   {
    "duration": 1425,
    "start_time": "2022-10-07T09:19:32.759Z"
   },
   {
    "duration": 6,
    "start_time": "2022-10-07T09:19:34.186Z"
   },
   {
    "duration": 4,
    "start_time": "2022-10-07T09:19:34.193Z"
   },
   {
    "duration": 2183,
    "start_time": "2022-10-07T09:19:34.199Z"
   },
   {
    "duration": 3,
    "start_time": "2022-10-07T09:19:44.060Z"
   },
   {
    "duration": 1550,
    "start_time": "2022-10-07T09:19:44.265Z"
   },
   {
    "duration": 5,
    "start_time": "2022-10-07T09:19:45.817Z"
   },
   {
    "duration": 2,
    "start_time": "2022-10-07T09:19:45.824Z"
   },
   {
    "duration": 2120,
    "start_time": "2022-10-07T09:19:45.828Z"
   },
   {
    "duration": 3,
    "start_time": "2022-10-07T09:19:50.548Z"
   },
   {
    "duration": 3,
    "start_time": "2022-10-07T09:19:50.761Z"
   },
   {
    "duration": 1425,
    "start_time": "2022-10-07T09:19:50.893Z"
   },
   {
    "duration": 6,
    "start_time": "2022-10-07T09:19:52.320Z"
   },
   {
    "duration": 4,
    "start_time": "2022-10-07T09:19:52.327Z"
   },
   {
    "duration": 2258,
    "start_time": "2022-10-07T09:19:52.332Z"
   },
   {
    "duration": 6,
    "start_time": "2022-10-07T09:19:54.592Z"
   },
   {
    "duration": 1490,
    "start_time": "2022-10-07T09:30:41.082Z"
   },
   {
    "duration": 49,
    "start_time": "2022-10-07T09:30:42.575Z"
   },
   {
    "duration": 10,
    "start_time": "2022-10-07T09:30:42.626Z"
   },
   {
    "duration": 10,
    "start_time": "2022-10-07T09:30:42.637Z"
   },
   {
    "duration": 13,
    "start_time": "2022-10-07T09:30:42.650Z"
   },
   {
    "duration": 10,
    "start_time": "2022-10-07T09:30:42.759Z"
   },
   {
    "duration": 14,
    "start_time": "2022-10-07T09:30:42.771Z"
   },
   {
    "duration": 10,
    "start_time": "2022-10-07T09:30:42.787Z"
   },
   {
    "duration": 99,
    "start_time": "2022-10-07T09:30:42.799Z"
   },
   {
    "duration": 5,
    "start_time": "2022-10-07T09:30:42.901Z"
   },
   {
    "duration": 8,
    "start_time": "2022-10-07T09:30:42.908Z"
   },
   {
    "duration": 247,
    "start_time": "2022-10-07T09:30:42.917Z"
   },
   {
    "duration": 179,
    "start_time": "2022-10-07T09:30:43.166Z"
   },
   {
    "duration": 277,
    "start_time": "2022-10-07T09:30:43.347Z"
   },
   {
    "duration": 4,
    "start_time": "2022-10-07T09:30:43.626Z"
   },
   {
    "duration": 8,
    "start_time": "2022-10-07T09:30:43.632Z"
   },
   {
    "duration": 5,
    "start_time": "2022-10-07T09:30:43.642Z"
   },
   {
    "duration": 6,
    "start_time": "2022-10-07T09:30:43.649Z"
   },
   {
    "duration": 24,
    "start_time": "2022-10-07T09:30:43.656Z"
   },
   {
    "duration": 11,
    "start_time": "2022-10-07T09:30:43.682Z"
   },
   {
    "duration": 6,
    "start_time": "2022-10-07T09:30:43.695Z"
   },
   {
    "duration": 124,
    "start_time": "2022-10-07T09:30:43.702Z"
   },
   {
    "duration": 10,
    "start_time": "2022-10-07T09:30:43.828Z"
   },
   {
    "duration": 36704,
    "start_time": "2022-10-07T09:30:43.840Z"
   },
   {
    "duration": 3,
    "start_time": "2022-10-07T09:31:20.548Z"
   },
   {
    "duration": 19,
    "start_time": "2022-10-07T09:31:20.553Z"
   },
   {
    "duration": 1702,
    "start_time": "2022-10-07T09:31:20.573Z"
   },
   {
    "duration": 6,
    "start_time": "2022-10-07T09:31:22.277Z"
   },
   {
    "duration": 3,
    "start_time": "2022-10-07T09:31:22.285Z"
   },
   {
    "duration": 2186,
    "start_time": "2022-10-07T09:31:22.290Z"
   },
   {
    "duration": 7,
    "start_time": "2022-10-07T09:31:24.479Z"
   },
   {
    "duration": 1846,
    "start_time": "2022-10-07T11:04:03.305Z"
   },
   {
    "duration": 121,
    "start_time": "2022-10-07T11:04:05.153Z"
   },
   {
    "duration": 13,
    "start_time": "2022-10-07T11:04:05.276Z"
   },
   {
    "duration": 13,
    "start_time": "2022-10-07T11:04:05.292Z"
   },
   {
    "duration": 29,
    "start_time": "2022-10-07T11:04:05.307Z"
   },
   {
    "duration": 10,
    "start_time": "2022-10-07T11:04:05.338Z"
   },
   {
    "duration": 31,
    "start_time": "2022-10-07T11:04:05.350Z"
   },
   {
    "duration": 18,
    "start_time": "2022-10-07T11:04:05.383Z"
   },
   {
    "duration": 120,
    "start_time": "2022-10-07T11:04:05.403Z"
   },
   {
    "duration": 7,
    "start_time": "2022-10-07T11:04:05.526Z"
   },
   {
    "duration": 9,
    "start_time": "2022-10-07T11:04:05.534Z"
   },
   {
    "duration": 314,
    "start_time": "2022-10-07T11:04:05.546Z"
   },
   {
    "duration": 195,
    "start_time": "2022-10-07T11:04:05.862Z"
   },
   {
    "duration": 346,
    "start_time": "2022-10-07T11:04:06.059Z"
   },
   {
    "duration": 13,
    "start_time": "2022-10-07T11:04:06.408Z"
   },
   {
    "duration": 14,
    "start_time": "2022-10-07T11:04:06.423Z"
   },
   {
    "duration": 11,
    "start_time": "2022-10-07T11:04:06.439Z"
   },
   {
    "duration": 5,
    "start_time": "2022-10-07T11:04:06.452Z"
   },
   {
    "duration": 12,
    "start_time": "2022-10-07T11:04:06.459Z"
   },
   {
    "duration": 103,
    "start_time": "2022-10-07T11:04:06.519Z"
   },
   {
    "duration": 3,
    "start_time": "2022-10-07T11:04:06.624Z"
   },
   {
    "duration": 141,
    "start_time": "2022-10-07T11:04:06.630Z"
   },
   {
    "duration": 12,
    "start_time": "2022-10-07T11:04:06.774Z"
   },
   {
    "duration": 38922,
    "start_time": "2022-10-07T11:04:06.788Z"
   },
   {
    "duration": 8,
    "start_time": "2022-10-07T11:04:45.712Z"
   },
   {
    "duration": 7,
    "start_time": "2022-10-07T11:04:45.723Z"
   },
   {
    "duration": 1681,
    "start_time": "2022-10-07T11:04:45.732Z"
   },
   {
    "duration": 6,
    "start_time": "2022-10-07T11:04:47.417Z"
   },
   {
    "duration": 6,
    "start_time": "2022-10-07T11:04:47.425Z"
   },
   {
    "duration": 2365,
    "start_time": "2022-10-07T11:04:47.433Z"
   },
   {
    "duration": 6,
    "start_time": "2022-10-07T11:04:49.800Z"
   },
   {
    "duration": 7,
    "start_time": "2022-10-07T11:09:16.789Z"
   },
   {
    "duration": 7,
    "start_time": "2022-10-07T11:09:23.014Z"
   },
   {
    "duration": 4,
    "start_time": "2022-10-07T11:12:08.491Z"
   },
   {
    "duration": 14,
    "start_time": "2022-10-07T11:13:45.168Z"
   },
   {
    "duration": 12,
    "start_time": "2022-10-07T12:30:56.558Z"
   },
   {
    "duration": 6,
    "start_time": "2022-10-07T12:31:11.212Z"
   },
   {
    "duration": 217,
    "start_time": "2022-10-07T12:35:35.873Z"
   },
   {
    "duration": 295,
    "start_time": "2022-10-07T12:35:41.188Z"
   },
   {
    "duration": 270,
    "start_time": "2022-10-07T12:35:47.780Z"
   },
   {
    "duration": 268,
    "start_time": "2022-10-07T12:38:26.753Z"
   },
   {
    "duration": 239,
    "start_time": "2022-10-07T12:39:43.695Z"
   },
   {
    "duration": 244,
    "start_time": "2022-10-07T12:40:57.725Z"
   },
   {
    "duration": 338,
    "start_time": "2022-10-07T12:41:11.731Z"
   },
   {
    "duration": 243,
    "start_time": "2022-10-07T12:42:23.611Z"
   },
   {
    "duration": 475,
    "start_time": "2022-10-07T12:42:52.346Z"
   },
   {
    "duration": 358,
    "start_time": "2022-10-07T12:42:54.439Z"
   },
   {
    "duration": 1446,
    "start_time": "2022-10-07T13:13:42.592Z"
   },
   {
    "duration": 50,
    "start_time": "2022-10-07T13:13:44.041Z"
   },
   {
    "duration": 9,
    "start_time": "2022-10-07T13:13:44.092Z"
   },
   {
    "duration": 11,
    "start_time": "2022-10-07T13:13:44.103Z"
   },
   {
    "duration": 19,
    "start_time": "2022-10-07T13:13:44.115Z"
   },
   {
    "duration": 10,
    "start_time": "2022-10-07T13:13:44.135Z"
   },
   {
    "duration": 16,
    "start_time": "2022-10-07T13:13:44.146Z"
   },
   {
    "duration": 7,
    "start_time": "2022-10-07T13:13:44.163Z"
   },
   {
    "duration": 124,
    "start_time": "2022-10-07T13:13:44.172Z"
   },
   {
    "duration": 9,
    "start_time": "2022-10-07T13:13:44.299Z"
   },
   {
    "duration": 16,
    "start_time": "2022-10-07T13:13:44.310Z"
   },
   {
    "duration": 9,
    "start_time": "2022-10-07T13:13:44.328Z"
   },
   {
    "duration": 7,
    "start_time": "2022-10-07T13:13:44.339Z"
   },
   {
    "duration": 260,
    "start_time": "2022-10-07T13:13:44.348Z"
   },
   {
    "duration": 333,
    "start_time": "2022-10-07T13:13:44.610Z"
   },
   {
    "duration": 225,
    "start_time": "2022-10-07T13:13:44.945Z"
   },
   {
    "duration": 212,
    "start_time": "2022-10-07T13:13:45.172Z"
   },
   {
    "duration": 4,
    "start_time": "2022-10-07T13:13:45.386Z"
   },
   {
    "duration": 8,
    "start_time": "2022-10-07T13:13:45.392Z"
   },
   {
    "duration": 19,
    "start_time": "2022-10-07T13:13:45.402Z"
   },
   {
    "duration": 5,
    "start_time": "2022-10-07T13:13:45.422Z"
   },
   {
    "duration": 26,
    "start_time": "2022-10-07T13:13:45.429Z"
   },
   {
    "duration": 15,
    "start_time": "2022-10-07T13:13:45.456Z"
   },
   {
    "duration": 14,
    "start_time": "2022-10-07T13:13:45.473Z"
   },
   {
    "duration": 121,
    "start_time": "2022-10-07T13:13:45.490Z"
   },
   {
    "duration": 13,
    "start_time": "2022-10-07T13:13:45.613Z"
   },
   {
    "duration": 36798,
    "start_time": "2022-10-07T13:13:45.627Z"
   },
   {
    "duration": 3,
    "start_time": "2022-10-07T13:14:22.428Z"
   },
   {
    "duration": 18,
    "start_time": "2022-10-07T13:14:22.432Z"
   },
   {
    "duration": 1582,
    "start_time": "2022-10-07T13:14:22.452Z"
   },
   {
    "duration": 6,
    "start_time": "2022-10-07T13:14:24.036Z"
   },
   {
    "duration": 6,
    "start_time": "2022-10-07T13:14:24.044Z"
   },
   {
    "duration": 2364,
    "start_time": "2022-10-07T13:14:24.052Z"
   },
   {
    "duration": 6,
    "start_time": "2022-10-07T13:14:26.418Z"
   },
   {
    "duration": 17,
    "start_time": "2022-10-07T13:14:26.426Z"
   },
   {
    "duration": 4,
    "start_time": "2022-10-07T13:14:26.445Z"
   },
   {
    "duration": 14,
    "start_time": "2022-10-07T13:14:26.451Z"
   },
   {
    "duration": 1436,
    "start_time": "2022-10-07T13:31:55.721Z"
   },
   {
    "duration": 49,
    "start_time": "2022-10-07T13:31:57.159Z"
   },
   {
    "duration": 10,
    "start_time": "2022-10-07T13:31:57.210Z"
   },
   {
    "duration": 32,
    "start_time": "2022-10-07T13:31:57.221Z"
   },
   {
    "duration": 24,
    "start_time": "2022-10-07T13:31:57.256Z"
   },
   {
    "duration": 45,
    "start_time": "2022-10-07T13:31:57.282Z"
   },
   {
    "duration": 20,
    "start_time": "2022-10-07T13:31:57.329Z"
   },
   {
    "duration": 11,
    "start_time": "2022-10-07T13:31:57.351Z"
   },
   {
    "duration": 126,
    "start_time": "2022-10-07T13:31:57.363Z"
   },
   {
    "duration": 8,
    "start_time": "2022-10-07T13:31:57.491Z"
   },
   {
    "duration": 23,
    "start_time": "2022-10-07T13:31:57.501Z"
   },
   {
    "duration": 8,
    "start_time": "2022-10-07T13:31:57.526Z"
   },
   {
    "duration": 20,
    "start_time": "2022-10-07T13:31:57.536Z"
   },
   {
    "duration": 241,
    "start_time": "2022-10-07T13:31:57.560Z"
   },
   {
    "duration": 320,
    "start_time": "2022-10-07T13:31:57.803Z"
   },
   {
    "duration": 226,
    "start_time": "2022-10-07T13:31:58.125Z"
   },
   {
    "duration": 207,
    "start_time": "2022-10-07T13:31:58.353Z"
   },
   {
    "duration": 4,
    "start_time": "2022-10-07T13:31:58.562Z"
   },
   {
    "duration": 26,
    "start_time": "2022-10-07T13:31:58.567Z"
   },
   {
    "duration": 10,
    "start_time": "2022-10-07T13:31:58.595Z"
   },
   {
    "duration": 12,
    "start_time": "2022-10-07T13:31:58.607Z"
   },
   {
    "duration": 11,
    "start_time": "2022-10-07T13:31:58.621Z"
   },
   {
    "duration": 10,
    "start_time": "2022-10-07T13:31:58.634Z"
   },
   {
    "duration": 6,
    "start_time": "2022-10-07T13:31:58.645Z"
   },
   {
    "duration": 119,
    "start_time": "2022-10-07T13:31:58.652Z"
   },
   {
    "duration": 11,
    "start_time": "2022-10-07T13:31:58.772Z"
   },
   {
    "duration": 36971,
    "start_time": "2022-10-07T13:31:58.785Z"
   },
   {
    "duration": 3,
    "start_time": "2022-10-07T13:32:35.758Z"
   },
   {
    "duration": 25,
    "start_time": "2022-10-07T13:32:35.763Z"
   },
   {
    "duration": 1654,
    "start_time": "2022-10-07T13:32:35.790Z"
   },
   {
    "duration": 6,
    "start_time": "2022-10-07T13:32:37.446Z"
   },
   {
    "duration": 38,
    "start_time": "2022-10-07T13:32:37.454Z"
   },
   {
    "duration": 2410,
    "start_time": "2022-10-07T13:32:37.493Z"
   },
   {
    "duration": 6,
    "start_time": "2022-10-07T13:32:39.904Z"
   },
   {
    "duration": 11,
    "start_time": "2022-10-07T13:32:39.912Z"
   },
   {
    "duration": 43,
    "start_time": "2022-10-07T13:32:39.925Z"
   },
   {
    "duration": 57,
    "start_time": "2022-10-07T13:32:39.970Z"
   },
   {
    "duration": 1518,
    "start_time": "2022-10-08T14:42:36.752Z"
   },
   {
    "duration": 153,
    "start_time": "2022-10-08T14:42:38.272Z"
   },
   {
    "duration": 9,
    "start_time": "2022-10-08T14:42:38.426Z"
   },
   {
    "duration": 10,
    "start_time": "2022-10-08T14:42:38.438Z"
   },
   {
    "duration": 18,
    "start_time": "2022-10-08T14:42:38.449Z"
   },
   {
    "duration": 8,
    "start_time": "2022-10-08T14:42:38.469Z"
   },
   {
    "duration": 14,
    "start_time": "2022-10-08T14:42:38.479Z"
   },
   {
    "duration": 28,
    "start_time": "2022-10-08T14:42:38.494Z"
   },
   {
    "duration": 88,
    "start_time": "2022-10-08T14:42:38.523Z"
   },
   {
    "duration": 7,
    "start_time": "2022-10-08T14:42:38.621Z"
   },
   {
    "duration": 5,
    "start_time": "2022-10-08T14:42:38.629Z"
   },
   {
    "duration": 6,
    "start_time": "2022-10-08T14:42:38.635Z"
   },
   {
    "duration": 5,
    "start_time": "2022-10-08T14:42:38.643Z"
   },
   {
    "duration": 221,
    "start_time": "2022-10-08T14:42:38.649Z"
   },
   {
    "duration": 277,
    "start_time": "2022-10-08T14:42:38.871Z"
   },
   {
    "duration": 187,
    "start_time": "2022-10-08T14:42:39.149Z"
   },
   {
    "duration": 178,
    "start_time": "2022-10-08T14:42:39.338Z"
   },
   {
    "duration": 7,
    "start_time": "2022-10-08T14:42:39.517Z"
   },
   {
    "duration": 17,
    "start_time": "2022-10-08T14:42:39.525Z"
   },
   {
    "duration": 7,
    "start_time": "2022-10-08T14:42:39.543Z"
   },
   {
    "duration": 21,
    "start_time": "2022-10-08T14:42:39.551Z"
   },
   {
    "duration": 12,
    "start_time": "2022-10-08T14:42:39.574Z"
   },
   {
    "duration": 8,
    "start_time": "2022-10-08T14:42:39.588Z"
   },
   {
    "duration": 5,
    "start_time": "2022-10-08T14:42:39.598Z"
   },
   {
    "duration": 98,
    "start_time": "2022-10-08T14:42:39.604Z"
   },
   {
    "duration": 10,
    "start_time": "2022-10-08T14:42:39.704Z"
   },
   {
    "duration": 32545,
    "start_time": "2022-10-08T14:42:39.721Z"
   },
   {
    "duration": 3,
    "start_time": "2022-10-08T14:43:12.269Z"
   },
   {
    "duration": 15,
    "start_time": "2022-10-08T14:43:12.274Z"
   },
   {
    "duration": 1541,
    "start_time": "2022-10-08T14:43:12.291Z"
   },
   {
    "duration": 5,
    "start_time": "2022-10-08T14:43:13.833Z"
   },
   {
    "duration": 13,
    "start_time": "2022-10-08T14:43:13.840Z"
   },
   {
    "duration": 1974,
    "start_time": "2022-10-08T14:43:13.855Z"
   },
   {
    "duration": 5,
    "start_time": "2022-10-08T14:43:15.831Z"
   },
   {
    "duration": 19,
    "start_time": "2022-10-08T14:43:15.837Z"
   },
   {
    "duration": 8,
    "start_time": "2022-10-08T14:43:15.857Z"
   },
   {
    "duration": 15,
    "start_time": "2022-10-08T14:43:15.866Z"
   },
   {
    "duration": 5,
    "start_time": "2022-10-08T14:49:27.003Z"
   },
   {
    "duration": 5,
    "start_time": "2022-10-08T14:49:27.580Z"
   },
   {
    "duration": 106,
    "start_time": "2022-10-08T14:49:29.181Z"
   },
   {
    "duration": 16,
    "start_time": "2022-10-08T14:49:29.621Z"
   },
   {
    "duration": 4,
    "start_time": "2022-10-08T14:49:38.300Z"
   },
   {
    "duration": 44,
    "start_time": "2022-10-08T14:49:39.249Z"
   },
   {
    "duration": 14,
    "start_time": "2022-10-08T14:49:39.917Z"
   },
   {
    "duration": 11,
    "start_time": "2022-10-08T14:49:40.412Z"
   },
   {
    "duration": 17,
    "start_time": "2022-10-08T14:49:40.821Z"
   },
   {
    "duration": 9,
    "start_time": "2022-10-08T14:49:41.403Z"
   },
   {
    "duration": 19,
    "start_time": "2022-10-08T14:49:41.970Z"
   },
   {
    "duration": 6,
    "start_time": "2022-10-08T14:49:42.362Z"
   },
   {
    "duration": 81,
    "start_time": "2022-10-08T14:49:43.029Z"
   },
   {
    "duration": 7,
    "start_time": "2022-10-08T14:49:43.409Z"
   },
   {
    "duration": 5,
    "start_time": "2022-10-08T14:49:43.636Z"
   },
   {
    "duration": 5,
    "start_time": "2022-10-08T14:49:44.066Z"
   },
   {
    "duration": 8,
    "start_time": "2022-10-08T14:49:44.255Z"
   },
   {
    "duration": 199,
    "start_time": "2022-10-08T14:49:45.021Z"
   },
   {
    "duration": 198,
    "start_time": "2022-10-08T14:49:45.449Z"
   },
   {
    "duration": 210,
    "start_time": "2022-10-08T14:49:45.707Z"
   },
   {
    "duration": 186,
    "start_time": "2022-10-08T14:49:46.520Z"
   },
   {
    "duration": 5,
    "start_time": "2022-10-08T14:49:48.335Z"
   },
   {
    "duration": 5,
    "start_time": "2022-10-08T14:49:49.145Z"
   },
   {
    "duration": 4,
    "start_time": "2022-10-08T14:49:49.449Z"
   },
   {
    "duration": 3,
    "start_time": "2022-10-08T14:49:51.391Z"
   },
   {
    "duration": 7,
    "start_time": "2022-10-08T14:49:52.137Z"
   },
   {
    "duration": 6,
    "start_time": "2022-10-08T14:49:52.744Z"
   },
   {
    "duration": 9,
    "start_time": "2022-10-08T14:50:11.762Z"
   },
   {
    "duration": 3,
    "start_time": "2022-10-08T14:51:03.098Z"
   },
   {
    "duration": 16,
    "start_time": "2022-10-08T14:51:29.735Z"
   },
   {
    "duration": 4,
    "start_time": "2022-10-08T14:51:38.035Z"
   },
   {
    "duration": 100,
    "start_time": "2022-10-08T14:51:38.309Z"
   },
   {
    "duration": 9,
    "start_time": "2022-10-08T14:51:38.870Z"
   },
   {
    "duration": 30390,
    "start_time": "2022-10-08T14:52:06.291Z"
   },
   {
    "duration": 3,
    "start_time": "2022-10-08T14:52:48.104Z"
   },
   {
    "duration": 1601,
    "start_time": "2022-10-08T14:52:49.307Z"
   },
   {
    "duration": 6,
    "start_time": "2022-10-08T14:53:01.554Z"
   },
   {
    "duration": 3,
    "start_time": "2022-10-08T14:54:13.562Z"
   },
   {
    "duration": 4,
    "start_time": "2022-10-08T14:54:14.536Z"
   },
   {
    "duration": 2220,
    "start_time": "2022-10-08T14:54:15.767Z"
   },
   {
    "duration": 6,
    "start_time": "2022-10-08T14:54:40.496Z"
   },
   {
    "duration": 75,
    "start_time": "2022-10-08T14:56:16.391Z"
   },
   {
    "duration": 8,
    "start_time": "2022-10-08T14:56:24.781Z"
   },
   {
    "duration": 6,
    "start_time": "2022-10-08T14:56:39.172Z"
   },
   {
    "duration": 25,
    "start_time": "2022-10-08T14:57:08.991Z"
   },
   {
    "duration": 28,
    "start_time": "2022-10-08T14:57:16.175Z"
   },
   {
    "duration": 3,
    "start_time": "2022-10-08T14:57:48.195Z"
   },
   {
    "duration": 3,
    "start_time": "2022-10-08T14:57:48.517Z"
   },
   {
    "duration": 3869,
    "start_time": "2022-10-08T14:57:49.119Z"
   },
   {
    "duration": 7,
    "start_time": "2022-10-08T14:57:52.989Z"
   },
   {
    "duration": 3,
    "start_time": "2022-10-08T14:58:00.318Z"
   },
   {
    "duration": 2,
    "start_time": "2022-10-08T14:58:00.511Z"
   },
   {
    "duration": 1279,
    "start_time": "2022-10-08T14:58:00.808Z"
   },
   {
    "duration": 5,
    "start_time": "2022-10-08T14:58:02.089Z"
   },
   {
    "duration": 3,
    "start_time": "2022-10-08T14:58:09.122Z"
   },
   {
    "duration": 3,
    "start_time": "2022-10-08T14:58:09.510Z"
   },
   {
    "duration": 1496,
    "start_time": "2022-10-08T14:58:09.770Z"
   },
   {
    "duration": 8,
    "start_time": "2022-10-08T14:58:11.268Z"
   },
   {
    "duration": 3,
    "start_time": "2022-10-08T14:58:14.522Z"
   },
   {
    "duration": 4,
    "start_time": "2022-10-08T14:58:14.795Z"
   },
   {
    "duration": 1626,
    "start_time": "2022-10-08T14:58:15.051Z"
   },
   {
    "duration": 6,
    "start_time": "2022-10-08T14:58:16.679Z"
   },
   {
    "duration": 3,
    "start_time": "2022-10-08T14:58:20.710Z"
   },
   {
    "duration": 3,
    "start_time": "2022-10-08T14:58:21.215Z"
   },
   {
    "duration": 1970,
    "start_time": "2022-10-08T14:58:21.427Z"
   },
   {
    "duration": 6,
    "start_time": "2022-10-08T14:58:23.399Z"
   },
   {
    "duration": 3,
    "start_time": "2022-10-08T14:58:28.461Z"
   },
   {
    "duration": 3,
    "start_time": "2022-10-08T14:58:28.796Z"
   },
   {
    "duration": 2730,
    "start_time": "2022-10-08T14:58:29.073Z"
   },
   {
    "duration": 6,
    "start_time": "2022-10-08T14:58:31.804Z"
   },
   {
    "duration": 3,
    "start_time": "2022-10-08T14:58:35.877Z"
   },
   {
    "duration": 3,
    "start_time": "2022-10-08T14:58:36.132Z"
   },
   {
    "duration": 2161,
    "start_time": "2022-10-08T14:58:36.414Z"
   },
   {
    "duration": 6,
    "start_time": "2022-10-08T14:58:38.576Z"
   },
   {
    "duration": 3,
    "start_time": "2022-10-08T14:58:52.673Z"
   },
   {
    "duration": 13,
    "start_time": "2022-10-08T14:58:52.678Z"
   },
   {
    "duration": 1947,
    "start_time": "2022-10-08T14:58:52.789Z"
   },
   {
    "duration": 6,
    "start_time": "2022-10-08T14:58:54.738Z"
   },
   {
    "duration": 3,
    "start_time": "2022-10-08T14:58:58.878Z"
   },
   {
    "duration": 3,
    "start_time": "2022-10-08T14:58:59.182Z"
   },
   {
    "duration": 2987,
    "start_time": "2022-10-08T14:58:59.402Z"
   },
   {
    "duration": 5,
    "start_time": "2022-10-08T14:59:02.391Z"
   },
   {
    "duration": 3,
    "start_time": "2022-10-08T14:59:15.448Z"
   },
   {
    "duration": 2,
    "start_time": "2022-10-08T14:59:15.748Z"
   },
   {
    "duration": 1886,
    "start_time": "2022-10-08T14:59:15.974Z"
   },
   {
    "duration": 7,
    "start_time": "2022-10-08T14:59:17.863Z"
   },
   {
    "duration": 3,
    "start_time": "2022-10-08T14:59:21.739Z"
   },
   {
    "duration": 3,
    "start_time": "2022-10-08T14:59:22.014Z"
   },
   {
    "duration": 1948,
    "start_time": "2022-10-08T14:59:22.282Z"
   },
   {
    "duration": 6,
    "start_time": "2022-10-08T14:59:24.232Z"
   },
   {
    "duration": 2,
    "start_time": "2022-10-08T14:59:27.856Z"
   },
   {
    "duration": 8,
    "start_time": "2022-10-08T14:59:27.860Z"
   },
   {
    "duration": 2070,
    "start_time": "2022-10-08T14:59:27.921Z"
   },
   {
    "duration": 5,
    "start_time": "2022-10-08T14:59:29.993Z"
   },
   {
    "duration": 5,
    "start_time": "2022-10-08T14:59:38.005Z"
   },
   {
    "duration": 24,
    "start_time": "2022-10-08T14:59:39.044Z"
   },
   {
    "duration": 3,
    "start_time": "2022-10-08T14:59:41.540Z"
   },
   {
    "duration": 6,
    "start_time": "2022-10-08T15:03:25.982Z"
   },
   {
    "duration": 10,
    "start_time": "2022-10-08T15:03:26.235Z"
   },
   {
    "duration": 9,
    "start_time": "2022-10-08T15:03:26.888Z"
   },
   {
    "duration": 6,
    "start_time": "2022-10-08T15:03:27.007Z"
   },
   {
    "duration": 6,
    "start_time": "2022-10-08T15:03:27.191Z"
   },
   {
    "duration": 10,
    "start_time": "2022-10-08T15:03:28.514Z"
   },
   {
    "duration": 105,
    "start_time": "2022-10-08T15:03:28.715Z"
   },
   {
    "duration": 13,
    "start_time": "2022-10-08T15:03:28.933Z"
   },
   {
    "duration": 1464,
    "start_time": "2022-10-08T15:03:45.694Z"
   },
   {
    "duration": 68,
    "start_time": "2022-10-08T15:03:47.160Z"
   },
   {
    "duration": 9,
    "start_time": "2022-10-08T15:03:47.236Z"
   },
   {
    "duration": 17,
    "start_time": "2022-10-08T15:03:47.246Z"
   },
   {
    "duration": 20,
    "start_time": "2022-10-08T15:03:47.265Z"
   },
   {
    "duration": 8,
    "start_time": "2022-10-08T15:03:47.286Z"
   },
   {
    "duration": 21,
    "start_time": "2022-10-08T15:03:47.295Z"
   },
   {
    "duration": 25,
    "start_time": "2022-10-08T15:03:47.318Z"
   },
   {
    "duration": 104,
    "start_time": "2022-10-08T15:03:47.345Z"
   },
   {
    "duration": 14,
    "start_time": "2022-10-08T15:03:47.450Z"
   },
   {
    "duration": 10,
    "start_time": "2022-10-08T15:03:47.465Z"
   },
   {
    "duration": 9,
    "start_time": "2022-10-08T15:03:47.476Z"
   },
   {
    "duration": 5,
    "start_time": "2022-10-08T15:03:47.487Z"
   },
   {
    "duration": 236,
    "start_time": "2022-10-08T15:03:47.495Z"
   },
   {
    "duration": 379,
    "start_time": "2022-10-08T15:03:47.733Z"
   },
   {
    "duration": 202,
    "start_time": "2022-10-08T15:03:48.114Z"
   },
   {
    "duration": 190,
    "start_time": "2022-10-08T15:03:48.317Z"
   },
   {
    "duration": 4,
    "start_time": "2022-10-08T15:03:48.508Z"
   },
   {
    "duration": 26,
    "start_time": "2022-10-08T15:03:48.513Z"
   },
   {
    "duration": 6,
    "start_time": "2022-10-08T15:03:48.541Z"
   },
   {
    "duration": 6,
    "start_time": "2022-10-08T15:03:48.548Z"
   },
   {
    "duration": 13,
    "start_time": "2022-10-08T15:03:48.556Z"
   },
   {
    "duration": 11,
    "start_time": "2022-10-08T15:03:48.570Z"
   },
   {
    "duration": 4,
    "start_time": "2022-10-08T15:03:48.583Z"
   },
   {
    "duration": 107,
    "start_time": "2022-10-08T15:03:48.588Z"
   },
   {
    "duration": 9,
    "start_time": "2022-10-08T15:03:48.696Z"
   },
   {
    "duration": 34133,
    "start_time": "2022-10-08T15:03:48.707Z"
   },
   {
    "duration": 3,
    "start_time": "2022-10-08T15:04:22.842Z"
   },
   {
    "duration": 1803,
    "start_time": "2022-10-08T15:04:22.846Z"
   },
   {
    "duration": 6,
    "start_time": "2022-10-08T15:04:24.651Z"
   },
   {
    "duration": 6,
    "start_time": "2022-10-08T15:04:24.658Z"
   },
   {
    "duration": 5,
    "start_time": "2022-10-08T15:04:24.666Z"
   },
   {
    "duration": 2320,
    "start_time": "2022-10-08T15:04:24.673Z"
   },
   {
    "duration": 5,
    "start_time": "2022-10-08T15:04:26.994Z"
   },
   {
    "duration": 7,
    "start_time": "2022-10-08T15:04:27.000Z"
   },
   {
    "duration": 36,
    "start_time": "2022-10-08T15:04:27.008Z"
   },
   {
    "duration": 3,
    "start_time": "2022-10-08T15:04:27.045Z"
   },
   {
    "duration": 15,
    "start_time": "2022-10-08T15:04:27.049Z"
   },
   {
    "duration": 1256,
    "start_time": "2022-10-08T15:15:17.973Z"
   },
   {
    "duration": 46,
    "start_time": "2022-10-08T15:15:19.230Z"
   },
   {
    "duration": 8,
    "start_time": "2022-10-08T15:15:19.277Z"
   },
   {
    "duration": 9,
    "start_time": "2022-10-08T15:15:19.287Z"
   },
   {
    "duration": 13,
    "start_time": "2022-10-08T15:15:19.297Z"
   },
   {
    "duration": 7,
    "start_time": "2022-10-08T15:15:19.311Z"
   },
   {
    "duration": 12,
    "start_time": "2022-10-08T15:15:19.319Z"
   },
   {
    "duration": 6,
    "start_time": "2022-10-08T15:15:19.332Z"
   },
   {
    "duration": 101,
    "start_time": "2022-10-08T15:15:19.339Z"
   },
   {
    "duration": 7,
    "start_time": "2022-10-08T15:15:19.442Z"
   },
   {
    "duration": 5,
    "start_time": "2022-10-08T15:15:19.451Z"
   },
   {
    "duration": 10,
    "start_time": "2022-10-08T15:15:19.457Z"
   },
   {
    "duration": 9,
    "start_time": "2022-10-08T15:15:19.468Z"
   },
   {
    "duration": 208,
    "start_time": "2022-10-08T15:15:19.478Z"
   },
   {
    "duration": 276,
    "start_time": "2022-10-08T15:15:19.688Z"
   },
   {
    "duration": 188,
    "start_time": "2022-10-08T15:15:19.965Z"
   },
   {
    "duration": 167,
    "start_time": "2022-10-08T15:15:20.155Z"
   },
   {
    "duration": 4,
    "start_time": "2022-10-08T15:15:20.323Z"
   },
   {
    "duration": 10,
    "start_time": "2022-10-08T15:15:20.328Z"
   },
   {
    "duration": 6,
    "start_time": "2022-10-08T15:15:20.339Z"
   },
   {
    "duration": 5,
    "start_time": "2022-10-08T15:15:20.347Z"
   },
   {
    "duration": 9,
    "start_time": "2022-10-08T15:15:20.353Z"
   },
   {
    "duration": 8,
    "start_time": "2022-10-08T15:15:20.364Z"
   },
   {
    "duration": 6,
    "start_time": "2022-10-08T15:15:20.373Z"
   },
   {
    "duration": 105,
    "start_time": "2022-10-08T15:15:20.380Z"
   },
   {
    "duration": 7,
    "start_time": "2022-10-08T15:15:20.487Z"
   },
   {
    "duration": 30444,
    "start_time": "2022-10-08T15:15:20.495Z"
   },
   {
    "duration": 2,
    "start_time": "2022-10-08T15:15:50.942Z"
   },
   {
    "duration": 1386,
    "start_time": "2022-10-08T15:15:50.945Z"
   },
   {
    "duration": 5,
    "start_time": "2022-10-08T15:15:52.333Z"
   },
   {
    "duration": 5,
    "start_time": "2022-10-08T15:15:52.339Z"
   },
   {
    "duration": 6,
    "start_time": "2022-10-08T15:15:52.345Z"
   },
   {
    "duration": 1957,
    "start_time": "2022-10-08T15:15:52.352Z"
   },
   {
    "duration": 5,
    "start_time": "2022-10-08T15:15:54.311Z"
   },
   {
    "duration": 6,
    "start_time": "2022-10-08T15:15:54.317Z"
   },
   {
    "duration": 24,
    "start_time": "2022-10-08T15:15:54.324Z"
   },
   {
    "duration": 3,
    "start_time": "2022-10-08T15:15:54.349Z"
   },
   {
    "duration": 9,
    "start_time": "2022-10-08T15:15:54.353Z"
   },
   {
    "duration": 1390,
    "start_time": "2022-10-08T15:16:11.230Z"
   },
   {
    "duration": 46,
    "start_time": "2022-10-08T15:16:12.622Z"
   },
   {
    "duration": 7,
    "start_time": "2022-10-08T15:16:12.670Z"
   },
   {
    "duration": 9,
    "start_time": "2022-10-08T15:16:12.679Z"
   },
   {
    "duration": 11,
    "start_time": "2022-10-08T15:16:12.689Z"
   },
   {
    "duration": 7,
    "start_time": "2022-10-08T15:16:12.702Z"
   },
   {
    "duration": 21,
    "start_time": "2022-10-08T15:16:12.710Z"
   },
   {
    "duration": 6,
    "start_time": "2022-10-08T15:16:12.732Z"
   },
   {
    "duration": 99,
    "start_time": "2022-10-08T15:16:12.740Z"
   },
   {
    "duration": 7,
    "start_time": "2022-10-08T15:16:12.841Z"
   },
   {
    "duration": 4,
    "start_time": "2022-10-08T15:16:12.849Z"
   },
   {
    "duration": 7,
    "start_time": "2022-10-08T15:16:12.855Z"
   },
   {
    "duration": 6,
    "start_time": "2022-10-08T15:16:12.863Z"
   },
   {
    "duration": 224,
    "start_time": "2022-10-08T15:16:12.872Z"
   },
   {
    "duration": 311,
    "start_time": "2022-10-08T15:16:13.097Z"
   },
   {
    "duration": 189,
    "start_time": "2022-10-08T15:16:13.410Z"
   },
   {
    "duration": 167,
    "start_time": "2022-10-08T15:16:13.601Z"
   },
   {
    "duration": 4,
    "start_time": "2022-10-08T15:16:13.769Z"
   },
   {
    "duration": 7,
    "start_time": "2022-10-08T15:16:13.774Z"
   },
   {
    "duration": 5,
    "start_time": "2022-10-08T15:16:13.783Z"
   },
   {
    "duration": 5,
    "start_time": "2022-10-08T15:16:13.789Z"
   },
   {
    "duration": 11,
    "start_time": "2022-10-08T15:16:13.796Z"
   },
   {
    "duration": 16,
    "start_time": "2022-10-08T15:16:13.808Z"
   },
   {
    "duration": 5,
    "start_time": "2022-10-08T15:16:13.825Z"
   },
   {
    "duration": 111,
    "start_time": "2022-10-08T15:16:13.831Z"
   },
   {
    "duration": 10,
    "start_time": "2022-10-08T15:16:13.944Z"
   },
   {
    "duration": 31799,
    "start_time": "2022-10-08T15:16:13.955Z"
   },
   {
    "duration": 2,
    "start_time": "2022-10-08T15:16:45.756Z"
   },
   {
    "duration": 1419,
    "start_time": "2022-10-08T15:16:45.759Z"
   },
   {
    "duration": 5,
    "start_time": "2022-10-08T15:16:47.180Z"
   },
   {
    "duration": 8,
    "start_time": "2022-10-08T15:16:47.187Z"
   },
   {
    "duration": 7,
    "start_time": "2022-10-08T15:16:47.196Z"
   },
   {
    "duration": 2090,
    "start_time": "2022-10-08T15:16:47.204Z"
   },
   {
    "duration": 5,
    "start_time": "2022-10-08T15:16:49.296Z"
   },
   {
    "duration": 8,
    "start_time": "2022-10-08T15:16:49.302Z"
   },
   {
    "duration": 36,
    "start_time": "2022-10-08T15:16:49.311Z"
   },
   {
    "duration": 3,
    "start_time": "2022-10-08T15:16:49.349Z"
   },
   {
    "duration": 14,
    "start_time": "2022-10-08T15:16:49.353Z"
   },
   {
    "duration": 2506,
    "start_time": "2022-10-08T20:05:57.113Z"
   },
   {
    "duration": 108,
    "start_time": "2022-10-08T20:05:59.620Z"
   },
   {
    "duration": 8,
    "start_time": "2022-10-08T20:05:59.729Z"
   },
   {
    "duration": 10,
    "start_time": "2022-10-08T20:05:59.739Z"
   },
   {
    "duration": 14,
    "start_time": "2022-10-08T20:05:59.751Z"
   },
   {
    "duration": 8,
    "start_time": "2022-10-08T20:05:59.766Z"
   },
   {
    "duration": 13,
    "start_time": "2022-10-08T20:05:59.775Z"
   },
   {
    "duration": 19,
    "start_time": "2022-10-08T20:05:59.790Z"
   },
   {
    "duration": 89,
    "start_time": "2022-10-08T20:05:59.810Z"
   },
   {
    "duration": 9,
    "start_time": "2022-10-08T20:05:59.908Z"
   },
   {
    "duration": 5,
    "start_time": "2022-10-08T20:05:59.919Z"
   },
   {
    "duration": 9,
    "start_time": "2022-10-08T20:05:59.926Z"
   },
   {
    "duration": 10,
    "start_time": "2022-10-08T20:05:59.937Z"
   },
   {
    "duration": 233,
    "start_time": "2022-10-08T20:05:59.949Z"
   },
   {
    "duration": 316,
    "start_time": "2022-10-08T20:06:00.184Z"
   },
   {
    "duration": 211,
    "start_time": "2022-10-08T20:06:00.502Z"
   },
   {
    "duration": 185,
    "start_time": "2022-10-08T20:06:00.715Z"
   },
   {
    "duration": 8,
    "start_time": "2022-10-08T20:06:00.901Z"
   },
   {
    "duration": 22,
    "start_time": "2022-10-08T20:06:00.911Z"
   },
   {
    "duration": 16,
    "start_time": "2022-10-08T20:06:00.935Z"
   },
   {
    "duration": 19,
    "start_time": "2022-10-08T20:06:00.953Z"
   },
   {
    "duration": 1550,
    "start_time": "2022-10-09T08:41:41.312Z"
   },
   {
    "duration": 118,
    "start_time": "2022-10-09T08:41:42.863Z"
   },
   {
    "duration": 8,
    "start_time": "2022-10-09T08:41:42.982Z"
   },
   {
    "duration": 9,
    "start_time": "2022-10-09T08:41:42.992Z"
   },
   {
    "duration": 15,
    "start_time": "2022-10-09T08:41:43.002Z"
   },
   {
    "duration": 7,
    "start_time": "2022-10-09T08:41:43.019Z"
   },
   {
    "duration": 12,
    "start_time": "2022-10-09T08:41:43.028Z"
   },
   {
    "duration": 5,
    "start_time": "2022-10-09T08:41:43.042Z"
   },
   {
    "duration": 105,
    "start_time": "2022-10-09T08:41:43.048Z"
   },
   {
    "duration": 7,
    "start_time": "2022-10-09T08:41:43.155Z"
   },
   {
    "duration": 8,
    "start_time": "2022-10-09T08:41:43.164Z"
   },
   {
    "duration": 5,
    "start_time": "2022-10-09T08:41:43.174Z"
   },
   {
    "duration": 5,
    "start_time": "2022-10-09T08:41:43.180Z"
   },
   {
    "duration": 218,
    "start_time": "2022-10-09T08:41:43.186Z"
   },
   {
    "duration": 272,
    "start_time": "2022-10-09T08:41:43.408Z"
   },
   {
    "duration": 210,
    "start_time": "2022-10-09T08:41:43.682Z"
   },
   {
    "duration": 186,
    "start_time": "2022-10-09T08:41:43.893Z"
   },
   {
    "duration": 4,
    "start_time": "2022-10-09T08:41:44.081Z"
   },
   {
    "duration": 6,
    "start_time": "2022-10-09T08:41:44.087Z"
   },
   {
    "duration": 3,
    "start_time": "2022-10-09T08:41:44.108Z"
   },
   {
    "duration": 9,
    "start_time": "2022-10-09T08:41:44.113Z"
   },
   {
    "duration": 15,
    "start_time": "2022-10-09T08:41:44.123Z"
   },
   {
    "duration": 8,
    "start_time": "2022-10-09T08:41:44.139Z"
   },
   {
    "duration": 5,
    "start_time": "2022-10-09T08:41:44.148Z"
   },
   {
    "duration": 3,
    "start_time": "2022-10-09T08:41:44.155Z"
   },
   {
    "duration": 124,
    "start_time": "2022-10-09T08:41:44.159Z"
   },
   {
    "duration": 8,
    "start_time": "2022-10-09T08:41:44.284Z"
   },
   {
    "duration": 36861,
    "start_time": "2022-10-09T08:41:44.295Z"
   },
   {
    "duration": 3,
    "start_time": "2022-10-09T08:42:21.157Z"
   },
   {
    "duration": 1651,
    "start_time": "2022-10-09T08:42:21.161Z"
   },
   {
    "duration": 5,
    "start_time": "2022-10-09T08:42:22.813Z"
   },
   {
    "duration": 4,
    "start_time": "2022-10-09T08:42:22.820Z"
   },
   {
    "duration": 5,
    "start_time": "2022-10-09T08:42:22.826Z"
   },
   {
    "duration": 1729,
    "start_time": "2022-10-09T08:42:22.832Z"
   },
   {
    "duration": 6,
    "start_time": "2022-10-09T08:42:24.563Z"
   },
   {
    "duration": 12,
    "start_time": "2022-10-09T08:42:24.571Z"
   },
   {
    "duration": 6,
    "start_time": "2022-10-09T08:42:24.585Z"
   },
   {
    "duration": 14,
    "start_time": "2022-10-09T08:42:24.593Z"
   },
   {
    "duration": 126,
    "start_time": "2022-10-09T08:48:56.337Z"
   },
   {
    "duration": 10,
    "start_time": "2022-10-09T08:49:23.845Z"
   },
   {
    "duration": 1372,
    "start_time": "2022-10-09T08:49:30.729Z"
   },
   {
    "duration": 47,
    "start_time": "2022-10-09T08:49:32.103Z"
   },
   {
    "duration": 7,
    "start_time": "2022-10-09T08:49:32.152Z"
   },
   {
    "duration": 11,
    "start_time": "2022-10-09T08:49:32.161Z"
   },
   {
    "duration": 15,
    "start_time": "2022-10-09T08:49:32.174Z"
   },
   {
    "duration": 7,
    "start_time": "2022-10-09T08:49:32.190Z"
   },
   {
    "duration": 13,
    "start_time": "2022-10-09T08:49:32.198Z"
   },
   {
    "duration": 9,
    "start_time": "2022-10-09T08:49:32.212Z"
   },
   {
    "duration": 90,
    "start_time": "2022-10-09T08:49:32.222Z"
   },
   {
    "duration": 7,
    "start_time": "2022-10-09T08:49:32.314Z"
   },
   {
    "duration": 7,
    "start_time": "2022-10-09T08:49:32.322Z"
   },
   {
    "duration": 10,
    "start_time": "2022-10-09T08:49:32.331Z"
   },
   {
    "duration": 6,
    "start_time": "2022-10-09T08:49:32.342Z"
   },
   {
    "duration": 216,
    "start_time": "2022-10-09T08:49:32.349Z"
   },
   {
    "duration": 285,
    "start_time": "2022-10-09T08:49:32.567Z"
   },
   {
    "duration": 201,
    "start_time": "2022-10-09T08:49:32.853Z"
   },
   {
    "duration": 184,
    "start_time": "2022-10-09T08:49:33.055Z"
   },
   {
    "duration": 3,
    "start_time": "2022-10-09T08:49:33.240Z"
   },
   {
    "duration": 14,
    "start_time": "2022-10-09T08:49:33.245Z"
   },
   {
    "duration": 17,
    "start_time": "2022-10-09T08:49:33.261Z"
   },
   {
    "duration": 17,
    "start_time": "2022-10-09T08:49:33.279Z"
   },
   {
    "duration": 11,
    "start_time": "2022-10-09T08:49:33.297Z"
   },
   {
    "duration": 15,
    "start_time": "2022-10-09T08:49:33.310Z"
   },
   {
    "duration": 8,
    "start_time": "2022-10-09T08:49:33.326Z"
   },
   {
    "duration": 7,
    "start_time": "2022-10-09T08:49:33.335Z"
   },
   {
    "duration": 119,
    "start_time": "2022-10-09T08:49:33.343Z"
   },
   {
    "duration": 9,
    "start_time": "2022-10-09T08:49:33.463Z"
   },
   {
    "duration": 37571,
    "start_time": "2022-10-09T08:49:33.476Z"
   },
   {
    "duration": 3,
    "start_time": "2022-10-09T08:50:11.048Z"
   },
   {
    "duration": 1374,
    "start_time": "2022-10-09T08:50:11.052Z"
   },
   {
    "duration": 5,
    "start_time": "2022-10-09T08:50:12.428Z"
   },
   {
    "duration": 6,
    "start_time": "2022-10-09T08:50:12.434Z"
   },
   {
    "duration": 5,
    "start_time": "2022-10-09T08:50:12.441Z"
   },
   {
    "duration": 1718,
    "start_time": "2022-10-09T08:50:12.447Z"
   },
   {
    "duration": 5,
    "start_time": "2022-10-09T08:50:14.166Z"
   },
   {
    "duration": 123,
    "start_time": "2022-10-09T08:50:14.173Z"
   },
   {
    "duration": 0,
    "start_time": "2022-10-09T08:50:14.298Z"
   },
   {
    "duration": 0,
    "start_time": "2022-10-09T08:50:14.299Z"
   },
   {
    "duration": 0,
    "start_time": "2022-10-09T08:50:14.300Z"
   },
   {
    "duration": 0,
    "start_time": "2022-10-09T08:50:14.301Z"
   },
   {
    "duration": 1328,
    "start_time": "2022-10-09T08:50:51.608Z"
   },
   {
    "duration": 47,
    "start_time": "2022-10-09T08:50:52.938Z"
   },
   {
    "duration": 9,
    "start_time": "2022-10-09T08:50:52.986Z"
   },
   {
    "duration": 10,
    "start_time": "2022-10-09T08:50:52.997Z"
   },
   {
    "duration": 14,
    "start_time": "2022-10-09T08:50:53.008Z"
   },
   {
    "duration": 9,
    "start_time": "2022-10-09T08:50:53.024Z"
   },
   {
    "duration": 17,
    "start_time": "2022-10-09T08:50:53.035Z"
   },
   {
    "duration": 12,
    "start_time": "2022-10-09T08:50:53.053Z"
   },
   {
    "duration": 112,
    "start_time": "2022-10-09T08:50:53.066Z"
   },
   {
    "duration": 7,
    "start_time": "2022-10-09T08:50:53.181Z"
   },
   {
    "duration": 21,
    "start_time": "2022-10-09T08:50:53.189Z"
   },
   {
    "duration": 6,
    "start_time": "2022-10-09T08:50:53.211Z"
   },
   {
    "duration": 11,
    "start_time": "2022-10-09T08:50:53.218Z"
   },
   {
    "duration": 218,
    "start_time": "2022-10-09T08:50:53.230Z"
   },
   {
    "duration": 291,
    "start_time": "2022-10-09T08:50:53.449Z"
   },
   {
    "duration": 212,
    "start_time": "2022-10-09T08:50:53.741Z"
   },
   {
    "duration": 179,
    "start_time": "2022-10-09T08:50:53.955Z"
   },
   {
    "duration": 3,
    "start_time": "2022-10-09T08:50:54.136Z"
   },
   {
    "duration": 10,
    "start_time": "2022-10-09T08:50:54.140Z"
   },
   {
    "duration": 9,
    "start_time": "2022-10-09T08:50:54.151Z"
   },
   {
    "duration": 13,
    "start_time": "2022-10-09T08:50:54.161Z"
   },
   {
    "duration": 7,
    "start_time": "2022-10-09T08:50:54.176Z"
   },
   {
    "duration": 9,
    "start_time": "2022-10-09T08:50:54.184Z"
   },
   {
    "duration": 15,
    "start_time": "2022-10-09T08:50:54.195Z"
   },
   {
    "duration": 7,
    "start_time": "2022-10-09T08:50:54.211Z"
   },
   {
    "duration": 127,
    "start_time": "2022-10-09T08:50:54.220Z"
   },
   {
    "duration": 9,
    "start_time": "2022-10-09T08:50:54.348Z"
   },
   {
    "duration": 37775,
    "start_time": "2022-10-09T08:50:54.360Z"
   },
   {
    "duration": 3,
    "start_time": "2022-10-09T08:51:32.136Z"
   },
   {
    "duration": 1476,
    "start_time": "2022-10-09T08:51:32.140Z"
   },
   {
    "duration": 5,
    "start_time": "2022-10-09T08:51:33.617Z"
   },
   {
    "duration": 3,
    "start_time": "2022-10-09T08:51:33.624Z"
   },
   {
    "duration": 4,
    "start_time": "2022-10-09T08:51:33.628Z"
   },
   {
    "duration": 2913,
    "start_time": "2022-10-09T08:51:33.634Z"
   },
   {
    "duration": 5,
    "start_time": "2022-10-09T08:51:36.551Z"
   },
   {
    "duration": 126,
    "start_time": "2022-10-09T08:51:36.558Z"
   },
   {
    "duration": 0,
    "start_time": "2022-10-09T08:51:36.685Z"
   },
   {
    "duration": 0,
    "start_time": "2022-10-09T08:51:36.686Z"
   },
   {
    "duration": 0,
    "start_time": "2022-10-09T08:51:36.687Z"
   },
   {
    "duration": 0,
    "start_time": "2022-10-09T08:51:36.688Z"
   },
   {
    "duration": 3,
    "start_time": "2022-10-09T08:56:58.645Z"
   },
   {
    "duration": 1845,
    "start_time": "2022-10-09T08:56:59.190Z"
   },
   {
    "duration": 5,
    "start_time": "2022-10-09T08:57:01.037Z"
   },
   {
    "duration": 1446,
    "start_time": "2022-10-09T09:00:14.877Z"
   },
   {
    "duration": 49,
    "start_time": "2022-10-09T09:00:16.325Z"
   },
   {
    "duration": 8,
    "start_time": "2022-10-09T09:00:16.375Z"
   },
   {
    "duration": 11,
    "start_time": "2022-10-09T09:00:16.384Z"
   },
   {
    "duration": 16,
    "start_time": "2022-10-09T09:00:16.396Z"
   },
   {
    "duration": 10,
    "start_time": "2022-10-09T09:00:16.414Z"
   },
   {
    "duration": 14,
    "start_time": "2022-10-09T09:00:16.426Z"
   },
   {
    "duration": 6,
    "start_time": "2022-10-09T09:00:16.442Z"
   },
   {
    "duration": 123,
    "start_time": "2022-10-09T09:00:16.449Z"
   },
   {
    "duration": 6,
    "start_time": "2022-10-09T09:00:16.574Z"
   },
   {
    "duration": 5,
    "start_time": "2022-10-09T09:00:16.582Z"
   },
   {
    "duration": 22,
    "start_time": "2022-10-09T09:00:16.588Z"
   },
   {
    "duration": 9,
    "start_time": "2022-10-09T09:00:16.612Z"
   },
   {
    "duration": 234,
    "start_time": "2022-10-09T09:00:16.626Z"
   },
   {
    "duration": 299,
    "start_time": "2022-10-09T09:00:16.861Z"
   },
   {
    "duration": 226,
    "start_time": "2022-10-09T09:00:17.161Z"
   },
   {
    "duration": 199,
    "start_time": "2022-10-09T09:00:17.388Z"
   },
   {
    "duration": 4,
    "start_time": "2022-10-09T09:00:17.588Z"
   },
   {
    "duration": 19,
    "start_time": "2022-10-09T09:00:17.593Z"
   },
   {
    "duration": 6,
    "start_time": "2022-10-09T09:00:17.614Z"
   },
   {
    "duration": 14,
    "start_time": "2022-10-09T09:00:17.622Z"
   },
   {
    "duration": 18,
    "start_time": "2022-10-09T09:00:17.638Z"
   },
   {
    "duration": 20,
    "start_time": "2022-10-09T09:00:17.657Z"
   },
   {
    "duration": 16,
    "start_time": "2022-10-09T09:00:17.678Z"
   },
   {
    "duration": 9,
    "start_time": "2022-10-09T09:00:17.695Z"
   },
   {
    "duration": 134,
    "start_time": "2022-10-09T09:00:17.706Z"
   },
   {
    "duration": 8,
    "start_time": "2022-10-09T09:00:17.842Z"
   },
   {
    "duration": 39245,
    "start_time": "2022-10-09T09:00:17.852Z"
   },
   {
    "duration": 2,
    "start_time": "2022-10-09T09:00:57.099Z"
   },
   {
    "duration": 1390,
    "start_time": "2022-10-09T09:00:57.108Z"
   },
   {
    "duration": 5,
    "start_time": "2022-10-09T09:00:58.499Z"
   },
   {
    "duration": 8,
    "start_time": "2022-10-09T09:00:58.505Z"
   },
   {
    "duration": 7,
    "start_time": "2022-10-09T09:00:58.514Z"
   },
   {
    "duration": 2350,
    "start_time": "2022-10-09T09:00:58.522Z"
   },
   {
    "duration": 5,
    "start_time": "2022-10-09T09:01:00.874Z"
   },
   {
    "duration": 1374,
    "start_time": "2022-10-09T09:01:55.517Z"
   },
   {
    "duration": 55,
    "start_time": "2022-10-09T09:01:56.892Z"
   },
   {
    "duration": 8,
    "start_time": "2022-10-09T09:01:56.948Z"
   },
   {
    "duration": 10,
    "start_time": "2022-10-09T09:01:56.958Z"
   },
   {
    "duration": 14,
    "start_time": "2022-10-09T09:01:56.970Z"
   },
   {
    "duration": 8,
    "start_time": "2022-10-09T09:01:56.985Z"
   },
   {
    "duration": 20,
    "start_time": "2022-10-09T09:01:56.994Z"
   },
   {
    "duration": 10,
    "start_time": "2022-10-09T09:01:57.015Z"
   },
   {
    "duration": 105,
    "start_time": "2022-10-09T09:01:57.026Z"
   },
   {
    "duration": 7,
    "start_time": "2022-10-09T09:01:57.133Z"
   },
   {
    "duration": 9,
    "start_time": "2022-10-09T09:01:57.142Z"
   },
   {
    "duration": 17,
    "start_time": "2022-10-09T09:01:57.152Z"
   },
   {
    "duration": 12,
    "start_time": "2022-10-09T09:01:57.170Z"
   },
   {
    "duration": 227,
    "start_time": "2022-10-09T09:01:57.185Z"
   },
   {
    "duration": 298,
    "start_time": "2022-10-09T09:01:57.414Z"
   },
   {
    "duration": 234,
    "start_time": "2022-10-09T09:01:57.714Z"
   },
   {
    "duration": 193,
    "start_time": "2022-10-09T09:01:57.950Z"
   },
   {
    "duration": 3,
    "start_time": "2022-10-09T09:01:58.145Z"
   },
   {
    "duration": 6,
    "start_time": "2022-10-09T09:01:58.150Z"
   },
   {
    "duration": 6,
    "start_time": "2022-10-09T09:01:58.157Z"
   },
   {
    "duration": 13,
    "start_time": "2022-10-09T09:01:58.164Z"
   },
   {
    "duration": 5,
    "start_time": "2022-10-09T09:01:58.178Z"
   },
   {
    "duration": 12,
    "start_time": "2022-10-09T09:01:58.185Z"
   },
   {
    "duration": 7,
    "start_time": "2022-10-09T09:01:58.210Z"
   },
   {
    "duration": 6,
    "start_time": "2022-10-09T09:01:58.219Z"
   },
   {
    "duration": 133,
    "start_time": "2022-10-09T09:01:58.226Z"
   },
   {
    "duration": 9,
    "start_time": "2022-10-09T09:01:58.361Z"
   },
   {
    "duration": 38411,
    "start_time": "2022-10-09T09:01:58.371Z"
   },
   {
    "duration": 3,
    "start_time": "2022-10-09T09:02:36.783Z"
   },
   {
    "duration": 1286,
    "start_time": "2022-10-09T09:02:36.788Z"
   },
   {
    "duration": 6,
    "start_time": "2022-10-09T09:02:38.076Z"
   },
   {
    "duration": 4,
    "start_time": "2022-10-09T09:02:38.083Z"
   },
   {
    "duration": 7,
    "start_time": "2022-10-09T09:02:38.088Z"
   },
   {
    "duration": 1808,
    "start_time": "2022-10-09T09:02:38.097Z"
   },
   {
    "duration": 6,
    "start_time": "2022-10-09T09:02:39.906Z"
   },
   {
    "duration": 1368,
    "start_time": "2022-10-09T09:04:33.374Z"
   },
   {
    "duration": 46,
    "start_time": "2022-10-09T09:04:34.744Z"
   },
   {
    "duration": 8,
    "start_time": "2022-10-09T09:04:34.792Z"
   },
   {
    "duration": 23,
    "start_time": "2022-10-09T09:04:34.802Z"
   },
   {
    "duration": 23,
    "start_time": "2022-10-09T09:04:34.827Z"
   },
   {
    "duration": 8,
    "start_time": "2022-10-09T09:04:34.851Z"
   },
   {
    "duration": 19,
    "start_time": "2022-10-09T09:04:34.860Z"
   },
   {
    "duration": 8,
    "start_time": "2022-10-09T09:04:34.880Z"
   },
   {
    "duration": 97,
    "start_time": "2022-10-09T09:04:34.889Z"
   },
   {
    "duration": 8,
    "start_time": "2022-10-09T09:04:34.988Z"
   },
   {
    "duration": 5,
    "start_time": "2022-10-09T09:04:35.008Z"
   },
   {
    "duration": 15,
    "start_time": "2022-10-09T09:04:35.014Z"
   },
   {
    "duration": 14,
    "start_time": "2022-10-09T09:04:35.031Z"
   },
   {
    "duration": 216,
    "start_time": "2022-10-09T09:04:35.046Z"
   },
   {
    "duration": 313,
    "start_time": "2022-10-09T09:04:35.263Z"
   },
   {
    "duration": 219,
    "start_time": "2022-10-09T09:04:35.577Z"
   },
   {
    "duration": 194,
    "start_time": "2022-10-09T09:04:35.798Z"
   },
   {
    "duration": 3,
    "start_time": "2022-10-09T09:04:35.993Z"
   },
   {
    "duration": 14,
    "start_time": "2022-10-09T09:04:35.998Z"
   },
   {
    "duration": 40,
    "start_time": "2022-10-09T09:04:36.014Z"
   },
   {
    "duration": 72,
    "start_time": "2022-10-09T09:04:36.055Z"
   },
   {
    "duration": 10,
    "start_time": "2022-10-09T09:04:36.129Z"
   },
   {
    "duration": 10,
    "start_time": "2022-10-09T09:04:36.141Z"
   },
   {
    "duration": 5,
    "start_time": "2022-10-09T09:04:36.153Z"
   },
   {
    "duration": 37,
    "start_time": "2022-10-09T09:04:36.160Z"
   },
   {
    "duration": 141,
    "start_time": "2022-10-09T09:04:36.199Z"
   },
   {
    "duration": 7,
    "start_time": "2022-10-09T09:04:36.342Z"
   },
   {
    "duration": 38173,
    "start_time": "2022-10-09T09:04:36.352Z"
   },
   {
    "duration": 10,
    "start_time": "2022-10-09T09:05:14.526Z"
   },
   {
    "duration": 1833,
    "start_time": "2022-10-09T09:05:14.537Z"
   },
   {
    "duration": 6,
    "start_time": "2022-10-09T09:05:16.372Z"
   },
   {
    "duration": 5,
    "start_time": "2022-10-09T09:05:16.380Z"
   },
   {
    "duration": 5,
    "start_time": "2022-10-09T09:05:16.386Z"
   },
   {
    "duration": 1793,
    "start_time": "2022-10-09T09:05:16.392Z"
   },
   {
    "duration": 5,
    "start_time": "2022-10-09T09:05:18.186Z"
   },
   {
    "duration": 502207,
    "start_time": "2022-10-09T09:05:18.192Z"
   },
   {
    "duration": 5,
    "start_time": "2022-10-09T09:13:40.400Z"
   },
   {
    "duration": 2029,
    "start_time": "2022-10-09T09:13:40.406Z"
   },
   {
    "duration": 6,
    "start_time": "2022-10-09T09:13:42.436Z"
   },
   {
    "duration": 3,
    "start_time": "2022-10-09T09:13:42.443Z"
   },
   {
    "duration": 8,
    "start_time": "2022-10-09T09:13:42.447Z"
   },
   {
    "duration": 132,
    "start_time": "2022-10-09T09:17:16.751Z"
   },
   {
    "duration": 6,
    "start_time": "2022-10-09T09:17:22.078Z"
   },
   {
    "duration": 33,
    "start_time": "2022-10-09T09:17:24.599Z"
   },
   {
    "duration": 1402,
    "start_time": "2022-10-09T09:17:51.670Z"
   },
   {
    "duration": 58,
    "start_time": "2022-10-09T09:17:53.074Z"
   },
   {
    "duration": 10,
    "start_time": "2022-10-09T09:17:53.133Z"
   },
   {
    "duration": 9,
    "start_time": "2022-10-09T09:17:53.145Z"
   },
   {
    "duration": 14,
    "start_time": "2022-10-09T09:17:53.155Z"
   },
   {
    "duration": 7,
    "start_time": "2022-10-09T09:17:53.170Z"
   },
   {
    "duration": 40,
    "start_time": "2022-10-09T09:17:53.179Z"
   },
   {
    "duration": 11,
    "start_time": "2022-10-09T09:17:53.220Z"
   },
   {
    "duration": 119,
    "start_time": "2022-10-09T09:17:53.233Z"
   },
   {
    "duration": 7,
    "start_time": "2022-10-09T09:17:53.355Z"
   },
   {
    "duration": 5,
    "start_time": "2022-10-09T09:17:53.363Z"
   },
   {
    "duration": 5,
    "start_time": "2022-10-09T09:17:53.370Z"
   },
   {
    "duration": 6,
    "start_time": "2022-10-09T09:17:53.376Z"
   },
   {
    "duration": 244,
    "start_time": "2022-10-09T09:17:53.383Z"
   },
   {
    "duration": 335,
    "start_time": "2022-10-09T09:17:53.629Z"
   },
   {
    "duration": 227,
    "start_time": "2022-10-09T09:17:53.966Z"
   },
   {
    "duration": 203,
    "start_time": "2022-10-09T09:17:54.195Z"
   },
   {
    "duration": 4,
    "start_time": "2022-10-09T09:17:54.400Z"
   },
   {
    "duration": 45,
    "start_time": "2022-10-09T09:17:54.409Z"
   },
   {
    "duration": 7,
    "start_time": "2022-10-09T09:17:54.456Z"
   },
   {
    "duration": 14,
    "start_time": "2022-10-09T09:17:54.466Z"
   },
   {
    "duration": 5,
    "start_time": "2022-10-09T09:17:54.482Z"
   },
   {
    "duration": 17,
    "start_time": "2022-10-09T09:17:54.488Z"
   },
   {
    "duration": 31,
    "start_time": "2022-10-09T09:17:54.507Z"
   },
   {
    "duration": 7,
    "start_time": "2022-10-09T09:17:54.540Z"
   },
   {
    "duration": 137,
    "start_time": "2022-10-09T09:17:54.550Z"
   },
   {
    "duration": 10,
    "start_time": "2022-10-09T09:17:54.689Z"
   },
   {
    "duration": 39234,
    "start_time": "2022-10-09T09:17:54.702Z"
   },
   {
    "duration": 4,
    "start_time": "2022-10-09T09:18:33.938Z"
   },
   {
    "duration": 1621,
    "start_time": "2022-10-09T09:18:33.943Z"
   },
   {
    "duration": 5,
    "start_time": "2022-10-09T09:18:35.566Z"
   },
   {
    "duration": 2,
    "start_time": "2022-10-09T09:18:35.573Z"
   },
   {
    "duration": 3,
    "start_time": "2022-10-09T09:18:35.577Z"
   },
   {
    "duration": 2118,
    "start_time": "2022-10-09T09:18:35.582Z"
   },
   {
    "duration": 6,
    "start_time": "2022-10-09T09:18:37.701Z"
   },
   {
    "duration": 154665,
    "start_time": "2022-10-09T09:18:37.708Z"
   },
   {
    "duration": 3,
    "start_time": "2022-10-09T09:21:12.375Z"
   },
   {
    "duration": 1884,
    "start_time": "2022-10-09T09:21:12.380Z"
   },
   {
    "duration": 5,
    "start_time": "2022-10-09T09:21:14.266Z"
   },
   {
    "duration": 4,
    "start_time": "2022-10-09T09:21:14.272Z"
   },
   {
    "duration": 9,
    "start_time": "2022-10-09T09:21:14.277Z"
   },
   {
    "duration": 128,
    "start_time": "2022-10-09T09:22:38.253Z"
   },
   {
    "duration": 9,
    "start_time": "2022-10-09T09:23:02.575Z"
   },
   {
    "duration": 1312,
    "start_time": "2022-10-09T09:23:58.667Z"
   },
   {
    "duration": 58,
    "start_time": "2022-10-09T09:23:59.980Z"
   },
   {
    "duration": 9,
    "start_time": "2022-10-09T09:24:00.040Z"
   },
   {
    "duration": 18,
    "start_time": "2022-10-09T09:24:00.050Z"
   },
   {
    "duration": 25,
    "start_time": "2022-10-09T09:24:00.069Z"
   },
   {
    "duration": 11,
    "start_time": "2022-10-09T09:24:00.096Z"
   },
   {
    "duration": 22,
    "start_time": "2022-10-09T09:24:00.109Z"
   },
   {
    "duration": 21,
    "start_time": "2022-10-09T09:24:00.132Z"
   },
   {
    "duration": 112,
    "start_time": "2022-10-09T09:24:00.154Z"
   },
   {
    "duration": 8,
    "start_time": "2022-10-09T09:24:00.268Z"
   },
   {
    "duration": 14,
    "start_time": "2022-10-09T09:24:00.277Z"
   },
   {
    "duration": 21,
    "start_time": "2022-10-09T09:24:00.292Z"
   },
   {
    "duration": 26,
    "start_time": "2022-10-09T09:24:00.315Z"
   },
   {
    "duration": 218,
    "start_time": "2022-10-09T09:24:00.343Z"
   },
   {
    "duration": 301,
    "start_time": "2022-10-09T09:24:00.563Z"
   },
   {
    "duration": 207,
    "start_time": "2022-10-09T09:24:00.866Z"
   },
   {
    "duration": 178,
    "start_time": "2022-10-09T09:24:01.074Z"
   },
   {
    "duration": 3,
    "start_time": "2022-10-09T09:24:01.254Z"
   },
   {
    "duration": 13,
    "start_time": "2022-10-09T09:24:01.258Z"
   },
   {
    "duration": 11,
    "start_time": "2022-10-09T09:24:01.272Z"
   },
   {
    "duration": 26,
    "start_time": "2022-10-09T09:24:01.285Z"
   },
   {
    "duration": 29,
    "start_time": "2022-10-09T09:24:01.325Z"
   },
   {
    "duration": 11,
    "start_time": "2022-10-09T09:24:01.356Z"
   },
   {
    "duration": 9,
    "start_time": "2022-10-09T09:24:01.368Z"
   },
   {
    "duration": 7,
    "start_time": "2022-10-09T09:24:01.379Z"
   },
   {
    "duration": 144,
    "start_time": "2022-10-09T09:24:01.387Z"
   },
   {
    "duration": 8,
    "start_time": "2022-10-09T09:24:01.533Z"
   },
   {
    "duration": 39009,
    "start_time": "2022-10-09T09:24:01.545Z"
   },
   {
    "duration": 2,
    "start_time": "2022-10-09T09:24:40.555Z"
   },
   {
    "duration": 1334,
    "start_time": "2022-10-09T09:24:40.559Z"
   },
   {
    "duration": 5,
    "start_time": "2022-10-09T09:24:41.895Z"
   },
   {
    "duration": 5,
    "start_time": "2022-10-09T09:24:41.902Z"
   },
   {
    "duration": 11,
    "start_time": "2022-10-09T09:24:41.909Z"
   },
   {
    "duration": 1768,
    "start_time": "2022-10-09T09:24:41.921Z"
   },
   {
    "duration": 6,
    "start_time": "2022-10-09T09:24:43.691Z"
   },
   {
    "duration": 144860,
    "start_time": "2022-10-09T09:24:43.698Z"
   },
   {
    "duration": 4,
    "start_time": "2022-10-09T09:27:08.560Z"
   },
   {
    "duration": 5,
    "start_time": "2022-10-09T09:27:08.566Z"
   },
   {
    "duration": 1059,
    "start_time": "2022-10-09T09:27:08.572Z"
   },
   {
    "duration": 6,
    "start_time": "2022-10-09T09:27:09.636Z"
   },
   {
    "duration": 24,
    "start_time": "2022-10-09T09:27:09.643Z"
   },
   {
    "duration": 172,
    "start_time": "2022-10-09T09:27:09.668Z"
   },
   {
    "duration": 0,
    "start_time": "2022-10-09T09:27:09.844Z"
   },
   {
    "duration": 0,
    "start_time": "2022-10-09T09:27:09.845Z"
   },
   {
    "duration": 0,
    "start_time": "2022-10-09T09:27:09.846Z"
   },
   {
    "duration": 5,
    "start_time": "2022-10-09T09:27:47.582Z"
   },
   {
    "duration": 3,
    "start_time": "2022-10-09T09:27:52.068Z"
   },
   {
    "duration": 15,
    "start_time": "2022-10-09T09:28:48.033Z"
   },
   {
    "duration": 9,
    "start_time": "2022-10-09T09:29:06.368Z"
   },
   {
    "duration": 1513,
    "start_time": "2022-10-09T09:29:13.802Z"
   },
   {
    "duration": 53,
    "start_time": "2022-10-09T09:29:15.321Z"
   },
   {
    "duration": 8,
    "start_time": "2022-10-09T09:29:15.376Z"
   },
   {
    "duration": 9,
    "start_time": "2022-10-09T09:29:15.386Z"
   },
   {
    "duration": 35,
    "start_time": "2022-10-09T09:29:15.397Z"
   },
   {
    "duration": 9,
    "start_time": "2022-10-09T09:29:15.434Z"
   },
   {
    "duration": 16,
    "start_time": "2022-10-09T09:29:15.445Z"
   },
   {
    "duration": 6,
    "start_time": "2022-10-09T09:29:15.463Z"
   },
   {
    "duration": 102,
    "start_time": "2022-10-09T09:29:15.470Z"
   },
   {
    "duration": 7,
    "start_time": "2022-10-09T09:29:15.575Z"
   },
   {
    "duration": 8,
    "start_time": "2022-10-09T09:29:15.583Z"
   },
   {
    "duration": 27,
    "start_time": "2022-10-09T09:29:15.592Z"
   },
   {
    "duration": 7,
    "start_time": "2022-10-09T09:29:15.631Z"
   },
   {
    "duration": 210,
    "start_time": "2022-10-09T09:29:15.640Z"
   },
   {
    "duration": 312,
    "start_time": "2022-10-09T09:29:15.852Z"
   },
   {
    "duration": 228,
    "start_time": "2022-10-09T09:29:16.166Z"
   },
   {
    "duration": 227,
    "start_time": "2022-10-09T09:29:16.396Z"
   },
   {
    "duration": 4,
    "start_time": "2022-10-09T09:29:16.627Z"
   },
   {
    "duration": 28,
    "start_time": "2022-10-09T09:29:16.644Z"
   },
   {
    "duration": 6,
    "start_time": "2022-10-09T09:29:16.673Z"
   },
   {
    "duration": 10,
    "start_time": "2022-10-09T09:29:16.680Z"
   },
   {
    "duration": 7,
    "start_time": "2022-10-09T09:29:16.692Z"
   },
   {
    "duration": 17,
    "start_time": "2022-10-09T09:29:16.700Z"
   },
   {
    "duration": 27,
    "start_time": "2022-10-09T09:29:16.722Z"
   },
   {
    "duration": 4,
    "start_time": "2022-10-09T09:29:16.751Z"
   },
   {
    "duration": 139,
    "start_time": "2022-10-09T09:29:16.756Z"
   },
   {
    "duration": 7,
    "start_time": "2022-10-09T09:29:16.896Z"
   },
   {
    "duration": 39939,
    "start_time": "2022-10-09T09:29:16.906Z"
   },
   {
    "duration": 3,
    "start_time": "2022-10-09T09:29:56.847Z"
   },
   {
    "duration": 1618,
    "start_time": "2022-10-09T09:29:56.852Z"
   },
   {
    "duration": 5,
    "start_time": "2022-10-09T09:29:58.472Z"
   },
   {
    "duration": 18,
    "start_time": "2022-10-09T09:29:58.478Z"
   },
   {
    "duration": 40,
    "start_time": "2022-10-09T09:29:58.497Z"
   },
   {
    "duration": 2362,
    "start_time": "2022-10-09T09:29:58.539Z"
   },
   {
    "duration": 32,
    "start_time": "2022-10-09T09:30:00.903Z"
   },
   {
    "duration": 20,
    "start_time": "2022-10-09T09:30:00.937Z"
   },
   {
    "duration": 258875,
    "start_time": "2022-10-09T09:30:00.959Z"
   },
   {
    "duration": 4,
    "start_time": "2022-10-09T09:34:19.836Z"
   },
   {
    "duration": 6,
    "start_time": "2022-10-09T09:34:19.841Z"
   },
   {
    "duration": 928,
    "start_time": "2022-10-09T09:34:19.849Z"
   },
   {
    "duration": 5,
    "start_time": "2022-10-09T09:34:20.778Z"
   },
   {
    "duration": 8,
    "start_time": "2022-10-09T09:34:20.785Z"
   },
   {
    "duration": 5,
    "start_time": "2022-10-09T09:34:20.794Z"
   },
   {
    "duration": 3,
    "start_time": "2022-10-09T09:34:20.800Z"
   },
   {
    "duration": 34,
    "start_time": "2022-10-09T09:34:20.804Z"
   },
   {
    "duration": 132,
    "start_time": "2022-10-09T09:35:52.145Z"
   },
   {
    "duration": 1011,
    "start_time": "2022-10-09T09:35:53.554Z"
   },
   {
    "duration": 23,
    "start_time": "2022-10-09T09:36:00.309Z"
   },
   {
    "duration": 6,
    "start_time": "2022-10-09T09:36:07.260Z"
   },
   {
    "duration": 6,
    "start_time": "2022-10-09T09:36:07.851Z"
   },
   {
    "duration": 1427,
    "start_time": "2022-10-09T09:37:43.545Z"
   },
   {
    "duration": 59,
    "start_time": "2022-10-09T09:37:44.974Z"
   },
   {
    "duration": 9,
    "start_time": "2022-10-09T09:37:45.035Z"
   },
   {
    "duration": 10,
    "start_time": "2022-10-09T09:37:45.046Z"
   },
   {
    "duration": 14,
    "start_time": "2022-10-09T09:37:45.057Z"
   },
   {
    "duration": 7,
    "start_time": "2022-10-09T09:37:45.072Z"
   },
   {
    "duration": 48,
    "start_time": "2022-10-09T09:37:45.080Z"
   },
   {
    "duration": 11,
    "start_time": "2022-10-09T09:37:45.129Z"
   },
   {
    "duration": 120,
    "start_time": "2022-10-09T09:37:45.142Z"
   },
   {
    "duration": 8,
    "start_time": "2022-10-09T09:37:45.265Z"
   },
   {
    "duration": 8,
    "start_time": "2022-10-09T09:37:45.275Z"
   },
   {
    "duration": 6,
    "start_time": "2022-10-09T09:37:45.284Z"
   },
   {
    "duration": 6,
    "start_time": "2022-10-09T09:37:45.292Z"
   },
   {
    "duration": 232,
    "start_time": "2022-10-09T09:37:45.300Z"
   },
   {
    "duration": 314,
    "start_time": "2022-10-09T09:37:45.534Z"
   },
   {
    "duration": 216,
    "start_time": "2022-10-09T09:37:45.850Z"
   },
   {
    "duration": 194,
    "start_time": "2022-10-09T09:37:46.067Z"
   },
   {
    "duration": 4,
    "start_time": "2022-10-09T09:37:46.262Z"
   },
   {
    "duration": 7,
    "start_time": "2022-10-09T09:37:46.267Z"
   },
   {
    "duration": 4,
    "start_time": "2022-10-09T09:37:46.275Z"
   },
   {
    "duration": 38,
    "start_time": "2022-10-09T09:37:46.281Z"
   },
   {
    "duration": 27,
    "start_time": "2022-10-09T09:37:46.320Z"
   },
   {
    "duration": 7,
    "start_time": "2022-10-09T09:37:46.349Z"
   },
   {
    "duration": 6,
    "start_time": "2022-10-09T09:37:46.358Z"
   },
   {
    "duration": 3,
    "start_time": "2022-10-09T09:37:46.365Z"
   },
   {
    "duration": 123,
    "start_time": "2022-10-09T09:37:46.369Z"
   },
   {
    "duration": 9,
    "start_time": "2022-10-09T09:37:46.494Z"
   },
   {
    "duration": 39443,
    "start_time": "2022-10-09T09:37:46.513Z"
   },
   {
    "duration": 3,
    "start_time": "2022-10-09T09:38:25.957Z"
   },
   {
    "duration": 1594,
    "start_time": "2022-10-09T09:38:25.961Z"
   },
   {
    "duration": 5,
    "start_time": "2022-10-09T09:38:27.556Z"
   },
   {
    "duration": 3,
    "start_time": "2022-10-09T09:38:27.563Z"
   },
   {
    "duration": 6,
    "start_time": "2022-10-09T09:38:27.567Z"
   },
   {
    "duration": 2201,
    "start_time": "2022-10-09T09:38:27.574Z"
   },
   {
    "duration": 5,
    "start_time": "2022-10-09T09:38:29.776Z"
   },
   {
    "duration": 3,
    "start_time": "2022-10-09T09:38:29.782Z"
   },
   {
    "duration": 232870,
    "start_time": "2022-10-09T09:38:29.787Z"
   },
   {
    "duration": 3,
    "start_time": "2022-10-09T09:42:22.659Z"
   },
   {
    "duration": 14,
    "start_time": "2022-10-09T09:42:22.664Z"
   },
   {
    "duration": 1300,
    "start_time": "2022-10-09T09:42:22.679Z"
   },
   {
    "duration": 5,
    "start_time": "2022-10-09T09:42:23.981Z"
   },
   {
    "duration": 9,
    "start_time": "2022-10-09T09:42:23.987Z"
   },
   {
    "duration": 6,
    "start_time": "2022-10-09T09:42:23.997Z"
   },
   {
    "duration": 40,
    "start_time": "2022-10-09T09:42:24.004Z"
   },
   {
    "duration": 14,
    "start_time": "2022-10-09T09:42:24.045Z"
   },
   {
    "duration": 1489,
    "start_time": "2022-10-10T07:14:43.000Z"
   },
   {
    "duration": 139,
    "start_time": "2022-10-10T07:14:44.491Z"
   },
   {
    "duration": 8,
    "start_time": "2022-10-10T07:14:44.632Z"
   },
   {
    "duration": 10,
    "start_time": "2022-10-10T07:14:44.642Z"
   },
   {
    "duration": 18,
    "start_time": "2022-10-10T07:14:44.654Z"
   },
   {
    "duration": 20,
    "start_time": "2022-10-10T07:14:44.674Z"
   },
   {
    "duration": 31,
    "start_time": "2022-10-10T07:14:44.695Z"
   },
   {
    "duration": 9,
    "start_time": "2022-10-10T07:14:44.728Z"
   },
   {
    "duration": 120,
    "start_time": "2022-10-10T07:14:44.739Z"
   },
   {
    "duration": 9,
    "start_time": "2022-10-10T07:14:44.861Z"
   },
   {
    "duration": 6,
    "start_time": "2022-10-10T07:14:44.871Z"
   },
   {
    "duration": 7,
    "start_time": "2022-10-10T07:14:44.895Z"
   },
   {
    "duration": 14,
    "start_time": "2022-10-10T07:14:44.903Z"
   },
   {
    "duration": 234,
    "start_time": "2022-10-10T07:14:44.918Z"
   },
   {
    "duration": 295,
    "start_time": "2022-10-10T07:14:45.153Z"
   },
   {
    "duration": 198,
    "start_time": "2022-10-10T07:14:45.450Z"
   },
   {
    "duration": 174,
    "start_time": "2022-10-10T07:14:45.650Z"
   },
   {
    "duration": 4,
    "start_time": "2022-10-10T07:14:45.825Z"
   },
   {
    "duration": 7,
    "start_time": "2022-10-10T07:14:45.830Z"
   },
   {
    "duration": 6,
    "start_time": "2022-10-10T07:14:45.839Z"
   },
   {
    "duration": 23,
    "start_time": "2022-10-10T07:14:45.847Z"
   },
   {
    "duration": 5,
    "start_time": "2022-10-10T07:14:45.871Z"
   },
   {
    "duration": 27,
    "start_time": "2022-10-10T07:14:45.877Z"
   },
   {
    "duration": 193,
    "start_time": "2022-10-10T07:14:45.905Z"
   },
   {
    "duration": 3,
    "start_time": "2022-10-10T07:14:46.100Z"
   },
   {
    "duration": 773,
    "start_time": "2022-10-10T07:14:46.106Z"
   },
   {
    "duration": 17,
    "start_time": "2022-10-10T07:14:46.881Z"
   },
   {
    "duration": 192186,
    "start_time": "2022-10-10T07:14:46.901Z"
   },
   {
    "duration": 6,
    "start_time": "2022-10-10T07:17:59.089Z"
   },
   {
    "duration": 4350,
    "start_time": "2022-10-10T07:17:59.096Z"
   },
   {
    "duration": 8,
    "start_time": "2022-10-10T07:18:03.447Z"
   },
   {
    "duration": 7,
    "start_time": "2022-10-10T07:18:03.457Z"
   },
   {
    "duration": 7,
    "start_time": "2022-10-10T07:18:03.466Z"
   },
   {
    "duration": 9554,
    "start_time": "2022-10-10T07:18:03.475Z"
   },
   {
    "duration": 6,
    "start_time": "2022-10-10T07:18:13.030Z"
   },
   {
    "duration": 5,
    "start_time": "2022-10-10T07:18:13.037Z"
   },
   {
    "duration": 1038654,
    "start_time": "2022-10-10T07:18:13.043Z"
   },
   {
    "duration": 4,
    "start_time": "2022-10-10T07:35:31.698Z"
   },
   {
    "duration": 6,
    "start_time": "2022-10-10T07:35:31.704Z"
   },
   {
    "duration": 2735,
    "start_time": "2022-10-10T07:35:31.711Z"
   },
   {
    "duration": 5,
    "start_time": "2022-10-10T07:35:34.447Z"
   },
   {
    "duration": 8,
    "start_time": "2022-10-10T07:35:34.453Z"
   },
   {
    "duration": 5,
    "start_time": "2022-10-10T07:35:34.462Z"
   },
   {
    "duration": 6,
    "start_time": "2022-10-10T07:35:34.468Z"
   },
   {
    "duration": 12,
    "start_time": "2022-10-10T07:35:34.475Z"
   },
   {
    "duration": 1375,
    "start_time": "2022-10-10T07:38:32.696Z"
   },
   {
    "duration": 45,
    "start_time": "2022-10-10T07:38:34.073Z"
   },
   {
    "duration": 9,
    "start_time": "2022-10-10T07:38:34.120Z"
   },
   {
    "duration": 14,
    "start_time": "2022-10-10T07:38:34.130Z"
   },
   {
    "duration": 19,
    "start_time": "2022-10-10T07:38:34.146Z"
   },
   {
    "duration": 50,
    "start_time": "2022-10-10T07:38:34.166Z"
   },
   {
    "duration": 33,
    "start_time": "2022-10-10T07:38:34.217Z"
   },
   {
    "duration": 14,
    "start_time": "2022-10-10T07:38:34.252Z"
   },
   {
    "duration": 109,
    "start_time": "2022-10-10T07:38:34.268Z"
   },
   {
    "duration": 18,
    "start_time": "2022-10-10T07:38:34.378Z"
   },
   {
    "duration": 5,
    "start_time": "2022-10-10T07:38:34.397Z"
   },
   {
    "duration": 17,
    "start_time": "2022-10-10T07:38:34.403Z"
   },
   {
    "duration": 24,
    "start_time": "2022-10-10T07:38:34.422Z"
   },
   {
    "duration": 213,
    "start_time": "2022-10-10T07:38:34.449Z"
   },
   {
    "duration": 312,
    "start_time": "2022-10-10T07:38:34.664Z"
   },
   {
    "duration": 202,
    "start_time": "2022-10-10T07:38:34.978Z"
   },
   {
    "duration": 180,
    "start_time": "2022-10-10T07:38:35.182Z"
   },
   {
    "duration": 4,
    "start_time": "2022-10-10T07:38:35.364Z"
   },
   {
    "duration": 8,
    "start_time": "2022-10-10T07:38:35.369Z"
   },
   {
    "duration": 17,
    "start_time": "2022-10-10T07:38:35.379Z"
   },
   {
    "duration": 30,
    "start_time": "2022-10-10T07:38:35.398Z"
   },
   {
    "duration": 6,
    "start_time": "2022-10-10T07:38:35.429Z"
   },
   {
    "duration": 162,
    "start_time": "2022-10-10T07:38:35.436Z"
   },
   {
    "duration": 101,
    "start_time": "2022-10-10T07:38:35.600Z"
   },
   {
    "duration": 193,
    "start_time": "2022-10-10T07:38:35.703Z"
   },
   {
    "duration": 1091,
    "start_time": "2022-10-10T07:38:35.898Z"
   },
   {
    "duration": 10,
    "start_time": "2022-10-10T07:38:36.994Z"
   },
   {
    "duration": 349929,
    "start_time": "2022-10-10T07:38:37.005Z"
   },
   {
    "duration": 2,
    "start_time": "2022-10-10T07:44:26.936Z"
   },
   {
    "duration": 6905,
    "start_time": "2022-10-10T07:44:26.940Z"
   },
   {
    "duration": 8,
    "start_time": "2022-10-10T07:44:33.846Z"
   },
   {
    "duration": 3,
    "start_time": "2022-10-10T07:44:33.855Z"
   },
   {
    "duration": 6,
    "start_time": "2022-10-10T07:44:33.859Z"
   },
   {
    "duration": 18193,
    "start_time": "2022-10-10T07:44:33.866Z"
   },
   {
    "duration": 7,
    "start_time": "2022-10-10T07:44:52.061Z"
   },
   {
    "duration": 7,
    "start_time": "2022-10-10T07:44:52.069Z"
   },
   {
    "duration": 1889225,
    "start_time": "2022-10-10T07:44:52.077Z"
   },
   {
    "duration": 5,
    "start_time": "2022-10-10T08:16:21.303Z"
   },
   {
    "duration": 9,
    "start_time": "2022-10-10T08:16:21.309Z"
   },
   {
    "duration": 3216,
    "start_time": "2022-10-10T08:16:21.320Z"
   },
   {
    "duration": 6,
    "start_time": "2022-10-10T08:16:24.540Z"
   },
   {
    "duration": 10,
    "start_time": "2022-10-10T08:16:24.548Z"
   },
   {
    "duration": 6,
    "start_time": "2022-10-10T08:16:24.560Z"
   },
   {
    "duration": 5,
    "start_time": "2022-10-10T08:16:24.567Z"
   },
   {
    "duration": 10,
    "start_time": "2022-10-10T08:16:24.574Z"
   },
   {
    "duration": 1383,
    "start_time": "2022-10-10T08:23:11.902Z"
   },
   {
    "duration": 45,
    "start_time": "2022-10-10T08:23:13.287Z"
   },
   {
    "duration": 9,
    "start_time": "2022-10-10T08:23:13.333Z"
   },
   {
    "duration": 10,
    "start_time": "2022-10-10T08:23:13.344Z"
   },
   {
    "duration": 16,
    "start_time": "2022-10-10T08:23:13.355Z"
   },
   {
    "duration": 54,
    "start_time": "2022-10-10T08:23:13.372Z"
   },
   {
    "duration": 31,
    "start_time": "2022-10-10T08:23:13.428Z"
   },
   {
    "duration": 19,
    "start_time": "2022-10-10T08:23:13.461Z"
   },
   {
    "duration": 106,
    "start_time": "2022-10-10T08:23:13.495Z"
   },
   {
    "duration": 9,
    "start_time": "2022-10-10T08:23:13.604Z"
   },
   {
    "duration": 5,
    "start_time": "2022-10-10T08:23:13.614Z"
   },
   {
    "duration": 8,
    "start_time": "2022-10-10T08:23:13.621Z"
   },
   {
    "duration": 21,
    "start_time": "2022-10-10T08:23:13.631Z"
   },
   {
    "duration": 244,
    "start_time": "2022-10-10T08:23:13.653Z"
   },
   {
    "duration": 321,
    "start_time": "2022-10-10T08:23:13.899Z"
   },
   {
    "duration": 203,
    "start_time": "2022-10-10T08:23:14.222Z"
   },
   {
    "duration": 208,
    "start_time": "2022-10-10T08:23:14.427Z"
   },
   {
    "duration": 5,
    "start_time": "2022-10-10T08:23:14.637Z"
   },
   {
    "duration": 10,
    "start_time": "2022-10-10T08:23:14.645Z"
   },
   {
    "duration": 10,
    "start_time": "2022-10-10T08:23:14.656Z"
   },
   {
    "duration": 46,
    "start_time": "2022-10-10T08:23:14.667Z"
   },
   {
    "duration": 3,
    "start_time": "2022-10-10T08:23:14.715Z"
   },
   {
    "duration": 77,
    "start_time": "2022-10-10T08:23:14.720Z"
   },
   {
    "duration": 100,
    "start_time": "2022-10-10T08:23:14.799Z"
   },
   {
    "duration": 3,
    "start_time": "2022-10-10T08:23:14.902Z"
   },
   {
    "duration": 1748,
    "start_time": "2022-10-10T08:23:14.908Z"
   },
   {
    "duration": 14,
    "start_time": "2022-10-10T08:23:16.658Z"
   },
   {
    "duration": 518844,
    "start_time": "2022-10-10T08:23:16.677Z"
   },
   {
    "duration": 3,
    "start_time": "2022-10-10T08:31:55.522Z"
   },
   {
    "duration": 10745,
    "start_time": "2022-10-10T08:31:55.527Z"
   },
   {
    "duration": 10,
    "start_time": "2022-10-10T08:32:06.274Z"
   },
   {
    "duration": 3,
    "start_time": "2022-10-10T08:32:06.286Z"
   },
   {
    "duration": 5,
    "start_time": "2022-10-10T08:32:06.291Z"
   },
   {
    "duration": 27839,
    "start_time": "2022-10-10T08:32:06.298Z"
   },
   {
    "duration": 7,
    "start_time": "2022-10-10T08:32:34.138Z"
   },
   {
    "duration": 26,
    "start_time": "2022-10-10T08:32:34.147Z"
   },
   {
    "duration": 2786487,
    "start_time": "2022-10-10T08:32:34.175Z"
   },
   {
    "duration": 3,
    "start_time": "2022-10-10T09:19:00.664Z"
   },
   {
    "duration": 12,
    "start_time": "2022-10-10T09:19:00.669Z"
   },
   {
    "duration": 4476,
    "start_time": "2022-10-10T09:19:00.683Z"
   },
   {
    "duration": 7,
    "start_time": "2022-10-10T09:19:05.160Z"
   },
   {
    "duration": 21,
    "start_time": "2022-10-10T09:19:05.168Z"
   },
   {
    "duration": 26,
    "start_time": "2022-10-10T09:19:05.191Z"
   },
   {
    "duration": 13,
    "start_time": "2022-10-10T09:19:05.219Z"
   },
   {
    "duration": 13,
    "start_time": "2022-10-10T09:19:05.234Z"
   },
   {
    "duration": 4,
    "start_time": "2022-10-10T09:20:06.596Z"
   },
   {
    "duration": 9,
    "start_time": "2022-10-10T09:20:07.499Z"
   },
   {
    "duration": 3,
    "start_time": "2022-10-10T09:20:28.064Z"
   },
   {
    "duration": 8,
    "start_time": "2022-10-10T09:20:28.863Z"
   }
  ],
  "kernelspec": {
   "display_name": "Python 3 (ipykernel)",
   "language": "python",
   "name": "python3"
  },
  "language_info": {
   "codemirror_mode": {
    "name": "ipython",
    "version": 3
   },
   "file_extension": ".py",
   "mimetype": "text/x-python",
   "name": "python",
   "nbconvert_exporter": "python",
   "pygments_lexer": "ipython3",
   "version": "3.9.12"
  },
  "toc": {
   "base_numbering": 1,
   "nav_menu": {},
   "number_sections": true,
   "sideBar": true,
   "skip_h1_title": true,
   "title_cell": "Содержание",
   "title_sidebar": "Contents",
   "toc_cell": true,
   "toc_position": {},
   "toc_section_display": true,
   "toc_window_display": false
  }
 },
 "nbformat": 4,
 "nbformat_minor": 2
}
