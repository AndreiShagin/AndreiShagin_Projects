{
 "cells": [
  {
   "cell_type": "markdown",
   "metadata": {},
   "source": [
    "# Выбор локации для скважины"
   ]
  },
  {
   "cell_type": "markdown",
   "metadata": {},
   "source": [
    "Допустим, вы работаете в добывающей компании «ГлавРосГосНефть». Нужно решить, где бурить новую скважину.\n",
    "\n",
    "Вам предоставлены пробы нефти в трёх регионах: в каждом 10 000 месторождений, где измерили качество нефти и объём её запасов. Постройте модель машинного обучения, которая поможет определить регион, где добыча принесёт наибольшую прибыль. Проанализируйте возможную прибыль и риски техникой *Bootstrap.*\n",
    "\n",
    "Шаги для выбора локации:\n",
    "\n",
    "- В избранном регионе ищут месторождения, для каждого определяют значения признаков;\n",
    "- Строят модель и оценивают объём запасов;\n",
    "- Выбирают месторождения с самым высокими оценками значений. Количество месторождений зависит от бюджета компании и стоимости разработки одной скважины;\n",
    "- Прибыль равна суммарной прибыли отобранных месторождений."
   ]
  },
  {
   "cell_type": "markdown",
   "metadata": {},
   "source": [
    "# Описание данных"
   ]
  },
  {
   "cell_type": "markdown",
   "metadata": {},
   "source": [
    "Есть данные геологоразведки трёх регионов находятся в файлах:\n",
    "* Первый регион /datasets/geo_data_0.csv.\n",
    "* Второй регион /datasets/geo_data_1.csv. \n",
    "* Третий регион /datasets/geo_data_2.csv. \n",
    "\n",
    "В каждом датасете:\n",
    "* id — уникальный идентификатор скважины;\n",
    "* f0, f1, f2 — три признака точек (неважно, что они означают, но сами признаки значимы);\n",
    "* product — объём запасов в скважине (тыс. баррелей)."
   ]
  },
  {
   "cell_type": "markdown",
   "metadata": {},
   "source": [
    "# Условия задачи:"
   ]
  },
  {
   "cell_type": "markdown",
   "metadata": {},
   "source": [
    "* При разведке региона исследуют 500 точек, из которых с помощью машинного обучения выбирают 200 лучших для разработки.\n",
    "* Бюджет на разработку скважин в регионе — 10 млрд рублей.\n",
    "* При нынешних ценах один баррель сырья приносит 450 рублей дохода. Доход с каждой единицы продукта составляет 450 тыс. рублей, поскольку объём указан в тысячах баррелей.\n",
    "* После оценки рисков нужно оставить лишь те регионы, в которых вероятность убытков меньше 2.5%. Среди них выбирают регион с наибольшей средней прибылью.\n",
    "* Данные синтетические: детали контрактов и характеристики месторождений не разглашаются."
   ]
  },
  {
   "cell_type": "markdown",
   "metadata": {},
   "source": [
    "## Загрузка и подготовка данных"
   ]
  },
  {
   "cell_type": "code",
   "execution_count": 1,
   "metadata": {},
   "outputs": [],
   "source": [
    "import pandas as pd\n",
    "import numpy as np\n",
    "import seaborn as sns\n",
    "import matplotlib.pyplot as plt\n",
    "from sklearn.model_selection import train_test_split\n",
    "from sklearn.linear_model import LinearRegression\n",
    "from sklearn.metrics import  mean_squared_error, mean_absolute_error, r2_score"
   ]
  },
  {
   "cell_type": "code",
   "execution_count": 2,
   "metadata": {},
   "outputs": [],
   "source": [
    "df0 = pd.read_csv('/datasets/geo_data_0.csv')\n",
    "df1 = pd.read_csv('/datasets/geo_data_1.csv')\n",
    "df2 = pd.read_csv('/datasets/geo_data_2.csv')"
   ]
  },
  {
   "cell_type": "code",
   "execution_count": 3,
   "metadata": {
    "scrolled": false
   },
   "outputs": [],
   "source": [
    "def check (dataframe):\n",
    "    display ('*******'*5)\n",
    "    dataframe.info()\n",
    "    display (dataframe.describe())\n",
    "    display (dataframe.isna().sum())\n",
    "    dataframe.duplicated().sum()\n",
    "    display(dataframe.head())\n",
    "    plt.figure(figsize=(8,8))\n",
    "    sns.heatmap(dataframe.corr(),  cmap='RdYlGn', center=0, annot=True)\n",
    "    plt.show()"
   ]
  },
  {
   "cell_type": "markdown",
   "metadata": {},
   "source": [
    "### Изучение данных первый регион"
   ]
  },
  {
   "cell_type": "code",
   "execution_count": 4,
   "metadata": {
    "scrolled": false
   },
   "outputs": [
    {
     "data": {
      "text/plain": [
       "'***********************************'"
      ]
     },
     "metadata": {},
     "output_type": "display_data"
    },
    {
     "name": "stdout",
     "output_type": "stream",
     "text": [
      "<class 'pandas.core.frame.DataFrame'>\n",
      "RangeIndex: 100000 entries, 0 to 99999\n",
      "Data columns (total 5 columns):\n",
      " #   Column   Non-Null Count   Dtype  \n",
      "---  ------   --------------   -----  \n",
      " 0   id       100000 non-null  object \n",
      " 1   f0       100000 non-null  float64\n",
      " 2   f1       100000 non-null  float64\n",
      " 3   f2       100000 non-null  float64\n",
      " 4   product  100000 non-null  float64\n",
      "dtypes: float64(4), object(1)\n",
      "memory usage: 3.8+ MB\n"
     ]
    },
    {
     "data": {
      "text/html": [
       "<div>\n",
       "<style scoped>\n",
       "    .dataframe tbody tr th:only-of-type {\n",
       "        vertical-align: middle;\n",
       "    }\n",
       "\n",
       "    .dataframe tbody tr th {\n",
       "        vertical-align: top;\n",
       "    }\n",
       "\n",
       "    .dataframe thead th {\n",
       "        text-align: right;\n",
       "    }\n",
       "</style>\n",
       "<table border=\"1\" class=\"dataframe\">\n",
       "  <thead>\n",
       "    <tr style=\"text-align: right;\">\n",
       "      <th></th>\n",
       "      <th>f0</th>\n",
       "      <th>f1</th>\n",
       "      <th>f2</th>\n",
       "      <th>product</th>\n",
       "    </tr>\n",
       "  </thead>\n",
       "  <tbody>\n",
       "    <tr>\n",
       "      <th>count</th>\n",
       "      <td>100000.000000</td>\n",
       "      <td>100000.000000</td>\n",
       "      <td>100000.000000</td>\n",
       "      <td>100000.000000</td>\n",
       "    </tr>\n",
       "    <tr>\n",
       "      <th>mean</th>\n",
       "      <td>0.500419</td>\n",
       "      <td>0.250143</td>\n",
       "      <td>2.502647</td>\n",
       "      <td>92.500000</td>\n",
       "    </tr>\n",
       "    <tr>\n",
       "      <th>std</th>\n",
       "      <td>0.871832</td>\n",
       "      <td>0.504433</td>\n",
       "      <td>3.248248</td>\n",
       "      <td>44.288691</td>\n",
       "    </tr>\n",
       "    <tr>\n",
       "      <th>min</th>\n",
       "      <td>-1.408605</td>\n",
       "      <td>-0.848218</td>\n",
       "      <td>-12.088328</td>\n",
       "      <td>0.000000</td>\n",
       "    </tr>\n",
       "    <tr>\n",
       "      <th>25%</th>\n",
       "      <td>-0.072580</td>\n",
       "      <td>-0.200881</td>\n",
       "      <td>0.287748</td>\n",
       "      <td>56.497507</td>\n",
       "    </tr>\n",
       "    <tr>\n",
       "      <th>50%</th>\n",
       "      <td>0.502360</td>\n",
       "      <td>0.250252</td>\n",
       "      <td>2.515969</td>\n",
       "      <td>91.849972</td>\n",
       "    </tr>\n",
       "    <tr>\n",
       "      <th>75%</th>\n",
       "      <td>1.073581</td>\n",
       "      <td>0.700646</td>\n",
       "      <td>4.715088</td>\n",
       "      <td>128.564089</td>\n",
       "    </tr>\n",
       "    <tr>\n",
       "      <th>max</th>\n",
       "      <td>2.362331</td>\n",
       "      <td>1.343769</td>\n",
       "      <td>16.003790</td>\n",
       "      <td>185.364347</td>\n",
       "    </tr>\n",
       "  </tbody>\n",
       "</table>\n",
       "</div>"
      ],
      "text/plain": [
       "                  f0             f1             f2        product\n",
       "count  100000.000000  100000.000000  100000.000000  100000.000000\n",
       "mean        0.500419       0.250143       2.502647      92.500000\n",
       "std         0.871832       0.504433       3.248248      44.288691\n",
       "min        -1.408605      -0.848218     -12.088328       0.000000\n",
       "25%        -0.072580      -0.200881       0.287748      56.497507\n",
       "50%         0.502360       0.250252       2.515969      91.849972\n",
       "75%         1.073581       0.700646       4.715088     128.564089\n",
       "max         2.362331       1.343769      16.003790     185.364347"
      ]
     },
     "metadata": {},
     "output_type": "display_data"
    },
    {
     "data": {
      "text/plain": [
       "id         0\n",
       "f0         0\n",
       "f1         0\n",
       "f2         0\n",
       "product    0\n",
       "dtype: int64"
      ]
     },
     "metadata": {},
     "output_type": "display_data"
    },
    {
     "data": {
      "text/html": [
       "<div>\n",
       "<style scoped>\n",
       "    .dataframe tbody tr th:only-of-type {\n",
       "        vertical-align: middle;\n",
       "    }\n",
       "\n",
       "    .dataframe tbody tr th {\n",
       "        vertical-align: top;\n",
       "    }\n",
       "\n",
       "    .dataframe thead th {\n",
       "        text-align: right;\n",
       "    }\n",
       "</style>\n",
       "<table border=\"1\" class=\"dataframe\">\n",
       "  <thead>\n",
       "    <tr style=\"text-align: right;\">\n",
       "      <th></th>\n",
       "      <th>id</th>\n",
       "      <th>f0</th>\n",
       "      <th>f1</th>\n",
       "      <th>f2</th>\n",
       "      <th>product</th>\n",
       "    </tr>\n",
       "  </thead>\n",
       "  <tbody>\n",
       "    <tr>\n",
       "      <th>0</th>\n",
       "      <td>txEyH</td>\n",
       "      <td>0.705745</td>\n",
       "      <td>-0.497823</td>\n",
       "      <td>1.221170</td>\n",
       "      <td>105.280062</td>\n",
       "    </tr>\n",
       "    <tr>\n",
       "      <th>1</th>\n",
       "      <td>2acmU</td>\n",
       "      <td>1.334711</td>\n",
       "      <td>-0.340164</td>\n",
       "      <td>4.365080</td>\n",
       "      <td>73.037750</td>\n",
       "    </tr>\n",
       "    <tr>\n",
       "      <th>2</th>\n",
       "      <td>409Wp</td>\n",
       "      <td>1.022732</td>\n",
       "      <td>0.151990</td>\n",
       "      <td>1.419926</td>\n",
       "      <td>85.265647</td>\n",
       "    </tr>\n",
       "    <tr>\n",
       "      <th>3</th>\n",
       "      <td>iJLyR</td>\n",
       "      <td>-0.032172</td>\n",
       "      <td>0.139033</td>\n",
       "      <td>2.978566</td>\n",
       "      <td>168.620776</td>\n",
       "    </tr>\n",
       "    <tr>\n",
       "      <th>4</th>\n",
       "      <td>Xdl7t</td>\n",
       "      <td>1.988431</td>\n",
       "      <td>0.155413</td>\n",
       "      <td>4.751769</td>\n",
       "      <td>154.036647</td>\n",
       "    </tr>\n",
       "  </tbody>\n",
       "</table>\n",
       "</div>"
      ],
      "text/plain": [
       "      id        f0        f1        f2     product\n",
       "0  txEyH  0.705745 -0.497823  1.221170  105.280062\n",
       "1  2acmU  1.334711 -0.340164  4.365080   73.037750\n",
       "2  409Wp  1.022732  0.151990  1.419926   85.265647\n",
       "3  iJLyR -0.032172  0.139033  2.978566  168.620776\n",
       "4  Xdl7t  1.988431  0.155413  4.751769  154.036647"
      ]
     },
     "metadata": {},
     "output_type": "display_data"
    },
    {
     "data": {
      "image/png": "[encoded data removed]",
      "text/plain": [
       "<Figure size 576x576 with 2 Axes>"
      ]
     },
     "metadata": {
      "needs_background": "light"
     },
     "output_type": "display_data"
    },
    {
     "data": {
      "text/plain": [
       "None"
      ]
     },
     "metadata": {},
     "output_type": "display_data"
    }
   ],
   "source": [
    "display (check(df0))\n"
   ]
  },
  {
   "cell_type": "markdown",
   "metadata": {},
   "source": [
    "Выводы по первому региону:\n",
    "* Пропусков нет\n",
    "* Дубликатов нет\n",
    "* Самый высокий уровень корреличии 0,48 с признаком f2"
   ]
  },
  {
   "cell_type": "markdown",
   "metadata": {},
   "source": [
    "### Изучение данных второй регион"
   ]
  },
  {
   "cell_type": "code",
   "execution_count": 5,
   "metadata": {
    "scrolled": false
   },
   "outputs": [
    {
     "data": {
      "text/plain": [
       "'***********************************'"
      ]
     },
     "metadata": {},
     "output_type": "display_data"
    },
    {
     "name": "stdout",
     "output_type": "stream",
     "text": [
      "<class 'pandas.core.frame.DataFrame'>\n",
      "RangeIndex: 100000 entries, 0 to 99999\n",
      "Data columns (total 5 columns):\n",
      " #   Column   Non-Null Count   Dtype  \n",
      "---  ------   --------------   -----  \n",
      " 0   id       100000 non-null  object \n",
      " 1   f0       100000 non-null  float64\n",
      " 2   f1       100000 non-null  float64\n",
      " 3   f2       100000 non-null  float64\n",
      " 4   product  100000 non-null  float64\n",
      "dtypes: float64(4), object(1)\n",
      "memory usage: 3.8+ MB\n"
     ]
    },
    {
     "data": {
      "text/html": [
       "<div>\n",
       "<style scoped>\n",
       "    .dataframe tbody tr th:only-of-type {\n",
       "        vertical-align: middle;\n",
       "    }\n",
       "\n",
       "    .dataframe tbody tr th {\n",
       "        vertical-align: top;\n",
       "    }\n",
       "\n",
       "    .dataframe thead th {\n",
       "        text-align: right;\n",
       "    }\n",
       "</style>\n",
       "<table border=\"1\" class=\"dataframe\">\n",
       "  <thead>\n",
       "    <tr style=\"text-align: right;\">\n",
       "      <th></th>\n",
       "      <th>f0</th>\n",
       "      <th>f1</th>\n",
       "      <th>f2</th>\n",
       "      <th>product</th>\n",
       "    </tr>\n",
       "  </thead>\n",
       "  <tbody>\n",
       "    <tr>\n",
       "      <th>count</th>\n",
       "      <td>100000.000000</td>\n",
       "      <td>100000.000000</td>\n",
       "      <td>100000.000000</td>\n",
       "      <td>100000.000000</td>\n",
       "    </tr>\n",
       "    <tr>\n",
       "      <th>mean</th>\n",
       "      <td>1.141296</td>\n",
       "      <td>-4.796579</td>\n",
       "      <td>2.494541</td>\n",
       "      <td>68.825000</td>\n",
       "    </tr>\n",
       "    <tr>\n",
       "      <th>std</th>\n",
       "      <td>8.965932</td>\n",
       "      <td>5.119872</td>\n",
       "      <td>1.703572</td>\n",
       "      <td>45.944423</td>\n",
       "    </tr>\n",
       "    <tr>\n",
       "      <th>min</th>\n",
       "      <td>-31.609576</td>\n",
       "      <td>-26.358598</td>\n",
       "      <td>-0.018144</td>\n",
       "      <td>0.000000</td>\n",
       "    </tr>\n",
       "    <tr>\n",
       "      <th>25%</th>\n",
       "      <td>-6.298551</td>\n",
       "      <td>-8.267985</td>\n",
       "      <td>1.000021</td>\n",
       "      <td>26.953261</td>\n",
       "    </tr>\n",
       "    <tr>\n",
       "      <th>50%</th>\n",
       "      <td>1.153055</td>\n",
       "      <td>-4.813172</td>\n",
       "      <td>2.011479</td>\n",
       "      <td>57.085625</td>\n",
       "    </tr>\n",
       "    <tr>\n",
       "      <th>75%</th>\n",
       "      <td>8.621015</td>\n",
       "      <td>-1.332816</td>\n",
       "      <td>3.999904</td>\n",
       "      <td>107.813044</td>\n",
       "    </tr>\n",
       "    <tr>\n",
       "      <th>max</th>\n",
       "      <td>29.421755</td>\n",
       "      <td>18.734063</td>\n",
       "      <td>5.019721</td>\n",
       "      <td>137.945408</td>\n",
       "    </tr>\n",
       "  </tbody>\n",
       "</table>\n",
       "</div>"
      ],
      "text/plain": [
       "                  f0             f1             f2        product\n",
       "count  100000.000000  100000.000000  100000.000000  100000.000000\n",
       "mean        1.141296      -4.796579       2.494541      68.825000\n",
       "std         8.965932       5.119872       1.703572      45.944423\n",
       "min       -31.609576     -26.358598      -0.018144       0.000000\n",
       "25%        -6.298551      -8.267985       1.000021      26.953261\n",
       "50%         1.153055      -4.813172       2.011479      57.085625\n",
       "75%         8.621015      -1.332816       3.999904     107.813044\n",
       "max        29.421755      18.734063       5.019721     137.945408"
      ]
     },
     "metadata": {},
     "output_type": "display_data"
    },
    {
     "data": {
      "text/plain": [
       "id         0\n",
       "f0         0\n",
       "f1         0\n",
       "f2         0\n",
       "product    0\n",
       "dtype: int64"
      ]
     },
     "metadata": {},
     "output_type": "display_data"
    },
    {
     "data": {
      "text/html": [
       "<div>\n",
       "<style scoped>\n",
       "    .dataframe tbody tr th:only-of-type {\n",
       "        vertical-align: middle;\n",
       "    }\n",
       "\n",
       "    .dataframe tbody tr th {\n",
       "        vertical-align: top;\n",
       "    }\n",
       "\n",
       "    .dataframe thead th {\n",
       "        text-align: right;\n",
       "    }\n",
       "</style>\n",
       "<table border=\"1\" class=\"dataframe\">\n",
       "  <thead>\n",
       "    <tr style=\"text-align: right;\">\n",
       "      <th></th>\n",
       "      <th>id</th>\n",
       "      <th>f0</th>\n",
       "      <th>f1</th>\n",
       "      <th>f2</th>\n",
       "      <th>product</th>\n",
       "    </tr>\n",
       "  </thead>\n",
       "  <tbody>\n",
       "    <tr>\n",
       "      <th>0</th>\n",
       "      <td>kBEdx</td>\n",
       "      <td>-15.001348</td>\n",
       "      <td>-8.276000</td>\n",
       "      <td>-0.005876</td>\n",
       "      <td>3.179103</td>\n",
       "    </tr>\n",
       "    <tr>\n",
       "      <th>1</th>\n",
       "      <td>62mP7</td>\n",
       "      <td>14.272088</td>\n",
       "      <td>-3.475083</td>\n",
       "      <td>0.999183</td>\n",
       "      <td>26.953261</td>\n",
       "    </tr>\n",
       "    <tr>\n",
       "      <th>2</th>\n",
       "      <td>vyE1P</td>\n",
       "      <td>6.263187</td>\n",
       "      <td>-5.948386</td>\n",
       "      <td>5.001160</td>\n",
       "      <td>134.766305</td>\n",
       "    </tr>\n",
       "    <tr>\n",
       "      <th>3</th>\n",
       "      <td>KcrkZ</td>\n",
       "      <td>-13.081196</td>\n",
       "      <td>-11.506057</td>\n",
       "      <td>4.999415</td>\n",
       "      <td>137.945408</td>\n",
       "    </tr>\n",
       "    <tr>\n",
       "      <th>4</th>\n",
       "      <td>AHL4O</td>\n",
       "      <td>12.702195</td>\n",
       "      <td>-8.147433</td>\n",
       "      <td>5.004363</td>\n",
       "      <td>134.766305</td>\n",
       "    </tr>\n",
       "  </tbody>\n",
       "</table>\n",
       "</div>"
      ],
      "text/plain": [
       "      id         f0         f1        f2     product\n",
       "0  kBEdx -15.001348  -8.276000 -0.005876    3.179103\n",
       "1  62mP7  14.272088  -3.475083  0.999183   26.953261\n",
       "2  vyE1P   6.263187  -5.948386  5.001160  134.766305\n",
       "3  KcrkZ -13.081196 -11.506057  4.999415  137.945408\n",
       "4  AHL4O  12.702195  -8.147433  5.004363  134.766305"
      ]
     },
     "metadata": {},
     "output_type": "display_data"
    },
    {
     "data": {
      "image/png": "[encoded data removed]",
      "text/plain": [
       "<Figure size 576x576 with 2 Axes>"
      ]
     },
     "metadata": {
      "needs_background": "light"
     },
     "output_type": "display_data"
    },
    {
     "data": {
      "text/plain": [
       "None"
      ]
     },
     "metadata": {},
     "output_type": "display_data"
    }
   ],
   "source": [
    "display (check(df1))"
   ]
  },
  {
   "cell_type": "markdown",
   "metadata": {},
   "source": [
    "Выводы по первому региону:\n",
    "* Пропусков нет\n",
    "* Дубликатов нет\n",
    "* Второй регион отличается по корреляции, признак f2 здесь максимально влияет на значения в product, в первом регионе этот признак не полностью влияет на резульатат, но самый значимый"
   ]
  },
  {
   "cell_type": "markdown",
   "metadata": {},
   "source": [
    "### Изучение данных второй регион"
   ]
  },
  {
   "cell_type": "code",
   "execution_count": 6,
   "metadata": {
    "scrolled": true
   },
   "outputs": [
    {
     "data": {
      "text/plain": [
       "'***********************************'"
      ]
     },
     "metadata": {},
     "output_type": "display_data"
    },
    {
     "name": "stdout",
     "output_type": "stream",
     "text": [
      "<class 'pandas.core.frame.DataFrame'>\n",
      "RangeIndex: 100000 entries, 0 to 99999\n",
      "Data columns (total 5 columns):\n",
      " #   Column   Non-Null Count   Dtype  \n",
      "---  ------   --------------   -----  \n",
      " 0   id       100000 non-null  object \n",
      " 1   f0       100000 non-null  float64\n",
      " 2   f1       100000 non-null  float64\n",
      " 3   f2       100000 non-null  float64\n",
      " 4   product  100000 non-null  float64\n",
      "dtypes: float64(4), object(1)\n",
      "memory usage: 3.8+ MB\n"
     ]
    },
    {
     "data": {
      "text/html": [
       "<div>\n",
       "<style scoped>\n",
       "    .dataframe tbody tr th:only-of-type {\n",
       "        vertical-align: middle;\n",
       "    }\n",
       "\n",
       "    .dataframe tbody tr th {\n",
       "        vertical-align: top;\n",
       "    }\n",
       "\n",
       "    .dataframe thead th {\n",
       "        text-align: right;\n",
       "    }\n",
       "</style>\n",
       "<table border=\"1\" class=\"dataframe\">\n",
       "  <thead>\n",
       "    <tr style=\"text-align: right;\">\n",
       "      <th></th>\n",
       "      <th>f0</th>\n",
       "      <th>f1</th>\n",
       "      <th>f2</th>\n",
       "      <th>product</th>\n",
       "    </tr>\n",
       "  </thead>\n",
       "  <tbody>\n",
       "    <tr>\n",
       "      <th>count</th>\n",
       "      <td>100000.000000</td>\n",
       "      <td>100000.000000</td>\n",
       "      <td>100000.000000</td>\n",
       "      <td>100000.000000</td>\n",
       "    </tr>\n",
       "    <tr>\n",
       "      <th>mean</th>\n",
       "      <td>0.002023</td>\n",
       "      <td>-0.002081</td>\n",
       "      <td>2.495128</td>\n",
       "      <td>95.000000</td>\n",
       "    </tr>\n",
       "    <tr>\n",
       "      <th>std</th>\n",
       "      <td>1.732045</td>\n",
       "      <td>1.730417</td>\n",
       "      <td>3.473445</td>\n",
       "      <td>44.749921</td>\n",
       "    </tr>\n",
       "    <tr>\n",
       "      <th>min</th>\n",
       "      <td>-8.760004</td>\n",
       "      <td>-7.084020</td>\n",
       "      <td>-11.970335</td>\n",
       "      <td>0.000000</td>\n",
       "    </tr>\n",
       "    <tr>\n",
       "      <th>25%</th>\n",
       "      <td>-1.162288</td>\n",
       "      <td>-1.174820</td>\n",
       "      <td>0.130359</td>\n",
       "      <td>59.450441</td>\n",
       "    </tr>\n",
       "    <tr>\n",
       "      <th>50%</th>\n",
       "      <td>0.009424</td>\n",
       "      <td>-0.009482</td>\n",
       "      <td>2.484236</td>\n",
       "      <td>94.925613</td>\n",
       "    </tr>\n",
       "    <tr>\n",
       "      <th>75%</th>\n",
       "      <td>1.158535</td>\n",
       "      <td>1.163678</td>\n",
       "      <td>4.858794</td>\n",
       "      <td>130.595027</td>\n",
       "    </tr>\n",
       "    <tr>\n",
       "      <th>max</th>\n",
       "      <td>7.238262</td>\n",
       "      <td>7.844801</td>\n",
       "      <td>16.739402</td>\n",
       "      <td>190.029838</td>\n",
       "    </tr>\n",
       "  </tbody>\n",
       "</table>\n",
       "</div>"
      ],
      "text/plain": [
       "                  f0             f1             f2        product\n",
       "count  100000.000000  100000.000000  100000.000000  100000.000000\n",
       "mean        0.002023      -0.002081       2.495128      95.000000\n",
       "std         1.732045       1.730417       3.473445      44.749921\n",
       "min        -8.760004      -7.084020     -11.970335       0.000000\n",
       "25%        -1.162288      -1.174820       0.130359      59.450441\n",
       "50%         0.009424      -0.009482       2.484236      94.925613\n",
       "75%         1.158535       1.163678       4.858794     130.595027\n",
       "max         7.238262       7.844801      16.739402     190.029838"
      ]
     },
     "metadata": {},
     "output_type": "display_data"
    },
    {
     "data": {
      "text/plain": [
       "id         0\n",
       "f0         0\n",
       "f1         0\n",
       "f2         0\n",
       "product    0\n",
       "dtype: int64"
      ]
     },
     "metadata": {},
     "output_type": "display_data"
    },
    {
     "data": {
      "text/html": [
       "<div>\n",
       "<style scoped>\n",
       "    .dataframe tbody tr th:only-of-type {\n",
       "        vertical-align: middle;\n",
       "    }\n",
       "\n",
       "    .dataframe tbody tr th {\n",
       "        vertical-align: top;\n",
       "    }\n",
       "\n",
       "    .dataframe thead th {\n",
       "        text-align: right;\n",
       "    }\n",
       "</style>\n",
       "<table border=\"1\" class=\"dataframe\">\n",
       "  <thead>\n",
       "    <tr style=\"text-align: right;\">\n",
       "      <th></th>\n",
       "      <th>id</th>\n",
       "      <th>f0</th>\n",
       "      <th>f1</th>\n",
       "      <th>f2</th>\n",
       "      <th>product</th>\n",
       "    </tr>\n",
       "  </thead>\n",
       "  <tbody>\n",
       "    <tr>\n",
       "      <th>0</th>\n",
       "      <td>fwXo0</td>\n",
       "      <td>-1.146987</td>\n",
       "      <td>0.963328</td>\n",
       "      <td>-0.828965</td>\n",
       "      <td>27.758673</td>\n",
       "    </tr>\n",
       "    <tr>\n",
       "      <th>1</th>\n",
       "      <td>WJtFt</td>\n",
       "      <td>0.262778</td>\n",
       "      <td>0.269839</td>\n",
       "      <td>-2.530187</td>\n",
       "      <td>56.069697</td>\n",
       "    </tr>\n",
       "    <tr>\n",
       "      <th>2</th>\n",
       "      <td>ovLUW</td>\n",
       "      <td>0.194587</td>\n",
       "      <td>0.289035</td>\n",
       "      <td>-5.586433</td>\n",
       "      <td>62.871910</td>\n",
       "    </tr>\n",
       "    <tr>\n",
       "      <th>3</th>\n",
       "      <td>q6cA6</td>\n",
       "      <td>2.236060</td>\n",
       "      <td>-0.553760</td>\n",
       "      <td>0.930038</td>\n",
       "      <td>114.572842</td>\n",
       "    </tr>\n",
       "    <tr>\n",
       "      <th>4</th>\n",
       "      <td>WPMUX</td>\n",
       "      <td>-0.515993</td>\n",
       "      <td>1.716266</td>\n",
       "      <td>5.899011</td>\n",
       "      <td>149.600746</td>\n",
       "    </tr>\n",
       "  </tbody>\n",
       "</table>\n",
       "</div>"
      ],
      "text/plain": [
       "      id        f0        f1        f2     product\n",
       "0  fwXo0 -1.146987  0.963328 -0.828965   27.758673\n",
       "1  WJtFt  0.262778  0.269839 -2.530187   56.069697\n",
       "2  ovLUW  0.194587  0.289035 -5.586433   62.871910\n",
       "3  q6cA6  2.236060 -0.553760  0.930038  114.572842\n",
       "4  WPMUX -0.515993  1.716266  5.899011  149.600746"
      ]
     },
     "metadata": {},
     "output_type": "display_data"
    },
    {
     "data": {
      "image/png": "[encoded data removed]",
      "text/plain": [
       "<Figure size 576x576 with 2 Axes>"
      ]
     },
     "metadata": {
      "needs_background": "light"
     },
     "output_type": "display_data"
    },
    {
     "data": {
      "text/plain": [
       "None"
      ]
     },
     "metadata": {},
     "output_type": "display_data"
    }
   ],
   "source": [
    "display (check(df2))"
   ]
  },
  {
   "cell_type": "markdown",
   "metadata": {},
   "source": [
    "Выводы по первому региону:\n",
    "* Пропусков нет\n",
    "* Дубликатов нет\n",
    "* Третий ригион похож на второй по корреляции, признак f2 на уровне 0,45 это ниже, чем максимальная единица, но другие признаки не оказывают влияния, а других данных данных нет, поэтому тут также f2 полностью влияет на результат"
   ]
  },
  {
   "cell_type": "markdown",
   "metadata": {},
   "source": [
    "Удаляем во всех датафреймах стоблец id - индивидуальный номер скважины, это порядковый номер, который нам не пригодится, так как нет задач по выделению каких то конкретных скважин и идентификации их."
   ]
  },
  {
   "cell_type": "code",
   "execution_count": 7,
   "metadata": {},
   "outputs": [],
   "source": [
    "df0.drop(columns='id', inplace=True)\n",
    "df1.drop(columns='id', inplace=True)\n",
    "df2.drop(columns='id', inplace=True)"
   ]
  },
  {
   "cell_type": "markdown",
   "metadata": {},
   "source": [
    "Проверим уникальные значения и количество в столбце product - запас нефти"
   ]
  },
  {
   "cell_type": "code",
   "execution_count": 8,
   "metadata": {
    "scrolled": false
   },
   "outputs": [
    {
     "data": {
      "text/plain": [
       "'***********************************'"
      ]
     },
     "metadata": {},
     "output_type": "display_data"
    },
    {
     "data": {
      "text/plain": [
       "array([105.28006184,  73.03775027,  85.26564713, ...,  64.37544259,\n",
       "        74.04076435, 149.63324561])"
      ]
     },
     "metadata": {},
     "output_type": "display_data"
    },
    {
     "data": {
      "text/plain": [
       "100000"
      ]
     },
     "metadata": {},
     "output_type": "display_data"
    },
    {
     "data": {
      "text/plain": [
       "0.000000      1\n",
       "30.141653     1\n",
       "56.573577     1\n",
       "50.182301     1\n",
       "88.989990     1\n",
       "             ..\n",
       "146.560758    1\n",
       "155.729658    1\n",
       "27.829511     1\n",
       "85.382946     1\n",
       "154.424007    1\n",
       "Name: product, Length: 100000, dtype: int64"
      ]
     },
     "metadata": {},
     "output_type": "display_data"
    },
    {
     "data": {
      "text/plain": [
       "None"
      ]
     },
     "metadata": {},
     "output_type": "display_data"
    },
    {
     "data": {
      "text/plain": [
       "'***********************************'"
      ]
     },
     "metadata": {},
     "output_type": "display_data"
    },
    {
     "data": {
      "text/plain": [
       "array([  3.17910258,  26.95326103, 134.76630516, 137.94540774,\n",
       "        84.03888568, 110.99214671,  53.90652206,   0.        ,\n",
       "       107.81304413,  57.08562465,  30.13236361,  80.85978309])"
      ]
     },
     "metadata": {},
     "output_type": "display_data"
    },
    {
     "data": {
      "text/plain": [
       "12"
      ]
     },
     "metadata": {},
     "output_type": "display_data"
    },
    {
     "data": {
      "text/plain": [
       "53.906522     8472\n",
       "26.953261     8468\n",
       "84.038886     8431\n",
       "57.085625     8390\n",
       "3.179103      8337\n",
       "80.859783     8320\n",
       "30.132364     8306\n",
       "134.766305    8304\n",
       "110.992147    8303\n",
       "0.000000      8235\n",
       "137.945408    8233\n",
       "107.813044    8201\n",
       "Name: product, dtype: int64"
      ]
     },
     "metadata": {},
     "output_type": "display_data"
    },
    {
     "data": {
      "text/plain": [
       "None"
      ]
     },
     "metadata": {},
     "output_type": "display_data"
    },
    {
     "data": {
      "text/plain": [
       "'***********************************'"
      ]
     },
     "metadata": {},
     "output_type": "display_data"
    },
    {
     "data": {
      "text/plain": [
       "array([ 27.75867323,  56.06969663,  62.87191005, ..., 157.08007975,\n",
       "        51.79525299, 102.77576749])"
      ]
     },
     "metadata": {},
     "output_type": "display_data"
    },
    {
     "data": {
      "text/plain": [
       "100000"
      ]
     },
     "metadata": {},
     "output_type": "display_data"
    },
    {
     "data": {
      "text/plain": [
       "0.000000      1\n",
       "53.211205     1\n",
       "37.811021     1\n",
       "84.266951     1\n",
       "38.939298     1\n",
       "             ..\n",
       "122.326832    1\n",
       "34.629840     1\n",
       "3.577922      1\n",
       "0.937771      1\n",
       "49.640390     1\n",
       "Name: product, Length: 100000, dtype: int64"
      ]
     },
     "metadata": {},
     "output_type": "display_data"
    },
    {
     "data": {
      "text/plain": [
       "None"
      ]
     },
     "metadata": {},
     "output_type": "display_data"
    }
   ],
   "source": [
    "def check_numbers (dataframe):\n",
    "    display ('*******'*5)\n",
    "    display (dataframe['product'].unique())\n",
    "    display (dataframe['product'].nunique())\n",
    "    display(dataframe['product'].value_counts())\n",
    "display (check_numbers(df0))\n",
    "display (check_numbers(df1))\n",
    "display (check_numbers(df2))"
   ]
  },
  {
   "cell_type": "markdown",
   "metadata": {},
   "source": [
    "Есть только одна особенность, в первом и третьем регоине 10000 значений, значит количество скважин такое же, во втором регионе всего 12 скважин, для анализа это конечно проще."
   ]
  },
  {
   "cell_type": "markdown",
   "metadata": {},
   "source": [
    "## Обучение и проверка модели"
   ]
  },
  {
   "cell_type": "markdown",
   "metadata": {},
   "source": [
    "Разбиваем каждый датафрейм на тренировочную и валидационную выборку в пропорции 75%/25%"
   ]
  },
  {
   "cell_type": "markdown",
   "metadata": {},
   "source": [
    "Первый регион"
   ]
  },
  {
   "cell_type": "code",
   "execution_count": 9,
   "metadata": {},
   "outputs": [],
   "source": [
    "features_train0, features_valid0, target_train0, target_valid0 = train_test_split(\n",
    "   df0.drop(['product'], axis=1), df0['product'], test_size=0.25, random_state=42)"
   ]
  },
  {
   "cell_type": "markdown",
   "metadata": {},
   "source": [
    "Второй регион"
   ]
  },
  {
   "cell_type": "code",
   "execution_count": 10,
   "metadata": {},
   "outputs": [],
   "source": [
    "features_train1, features_valid1, target_train1, target_valid1 = train_test_split(\n",
    "   df1.drop(['product'], axis=1), df1['product'], test_size=0.25, random_state=42)"
   ]
  },
  {
   "cell_type": "markdown",
   "metadata": {},
   "source": [
    "Третий регион"
   ]
  },
  {
   "cell_type": "code",
   "execution_count": 11,
   "metadata": {
    "scrolled": false
   },
   "outputs": [],
   "source": [
    "features_train2, features_valid2, target_train2, target_valid2 = train_test_split(\n",
    "   df2.drop(['product'], axis=1), df2['product'], test_size=0.25, random_state=42)"
   ]
  },
  {
   "cell_type": "markdown",
   "metadata": {},
   "source": [
    "Обучаю модель и делаю предсказания на валидационной выборке. \n",
    "На основе предсказаний рассчитываю два показателя (далее переношу в общую сводную таблицу):  \n",
    "* RMSE  - Квадратный корень среднеквадратической ошибки (MSE), показывает отклонения между наблюдаемым значением и истинным значением.\n",
    "* Средний запас нефти, вычисляю, как среднее от предсказаний"
   ]
  },
  {
   "cell_type": "code",
   "execution_count": 12,
   "metadata": {},
   "outputs": [],
   "source": [
    "model = LinearRegression() "
   ]
  },
  {
   "cell_type": "code",
   "execution_count": 13,
   "metadata": {},
   "outputs": [
    {
     "name": "stdout",
     "output_type": "stream",
     "text": [
      "RMSE: 37.76\n",
      "Средний запас предсказанного сырья: 92.40 тысяч баррелей\n"
     ]
    }
   ],
   "source": [
    "model.fit(features_train0, target_train0) \n",
    "valid_predictions0 = model.predict(features_valid0)\n",
    "rmse0 = mean_squared_error(target_valid0, valid_predictions0)**0.5\n",
    "print(\"RMSE:\", \"{:.2f}\".format(rmse0))\n",
    "print(\"Средний запас предсказанного сырья:\", \"{:.2f}\".format(valid_predictions0.mean()), 'тысяч баррелей')"
   ]
  },
  {
   "cell_type": "code",
   "execution_count": 14,
   "metadata": {},
   "outputs": [
    {
     "name": "stdout",
     "output_type": "stream",
     "text": [
      "RMSE: 0.89\n",
      "Средний запас предсказанного сырья:: 68.71 тысяч баррелей\n"
     ]
    }
   ],
   "source": [
    "model.fit(features_train1, target_train1) \n",
    "valid_predictions1 = model.predict(features_valid1)\n",
    "rmse1 = mean_squared_error(target_valid1, valid_predictions1)**0.5\n",
    "print(\"RMSE:\", \"{:.2f}\".format (rmse1))\n",
    "print(\"Средний запас предсказанного сырья::\", \"{:.2f}\".format (valid_predictions1.mean()), 'тысяч баррелей')"
   ]
  },
  {
   "cell_type": "code",
   "execution_count": 15,
   "metadata": {},
   "outputs": [
    {
     "name": "stdout",
     "output_type": "stream",
     "text": [
      "RMSE: 40.15\n",
      "Средний запас предсказанного сырья: 94.77 тысяч баррелей\n"
     ]
    }
   ],
   "source": [
    "model.fit(features_train2, target_train2) \n",
    "valid_predictions2 = model.predict(features_valid2)\n",
    "rmse2 = mean_squared_error(target_valid2, valid_predictions2)**0.5\n",
    "print(\"RMSE:\", \"{:.2f}\".format (rmse2))\n",
    "print(\"Средний запас предсказанного сырья:\", \"{:.2f}\".format (valid_predictions2.mean()), 'тысяч баррелей')"
   ]
  },
  {
   "cell_type": "code",
   "execution_count": 16,
   "metadata": {
    "scrolled": true
   },
   "outputs": [
    {
     "data": {
      "text/html": [
       "<div>\n",
       "<style scoped>\n",
       "    .dataframe tbody tr th:only-of-type {\n",
       "        vertical-align: middle;\n",
       "    }\n",
       "\n",
       "    .dataframe tbody tr th {\n",
       "        vertical-align: top;\n",
       "    }\n",
       "\n",
       "    .dataframe thead th {\n",
       "        text-align: right;\n",
       "    }\n",
       "</style>\n",
       "<table border=\"1\" class=\"dataframe\">\n",
       "  <thead>\n",
       "    <tr style=\"text-align: right;\">\n",
       "      <th></th>\n",
       "      <th>Первый регион</th>\n",
       "      <th>Второй регион</th>\n",
       "      <th>Третий регион</th>\n",
       "    </tr>\n",
       "  </thead>\n",
       "  <tbody>\n",
       "    <tr>\n",
       "      <th>RMSE</th>\n",
       "      <td>37.76</td>\n",
       "      <td>0.89</td>\n",
       "      <td>40.15</td>\n",
       "    </tr>\n",
       "    <tr>\n",
       "      <th>Средний запас, тыс.баррелей</th>\n",
       "      <td>92.40</td>\n",
       "      <td>68.71</td>\n",
       "      <td>94.77</td>\n",
       "    </tr>\n",
       "  </tbody>\n",
       "</table>\n",
       "</div>"
      ],
      "text/plain": [
       "                            Первый регион Второй регион Третий регион\n",
       "RMSE                                37.76          0.89         40.15\n",
       "Средний запас, тыс.баррелей         92.40         68.71         94.77"
      ]
     },
     "execution_count": 16,
     "metadata": {},
     "output_type": "execute_result"
    }
   ],
   "source": [
    "table = pd.DataFrame({\n",
    "    \"Первый регион\": [\"{:.2f}\".format (rmse0), \"{:.2f}\".format (valid_predictions0.mean())],\n",
    "    \"Второй регион\": [\"{:.2f}\".format (rmse1), \"{:.2f}\".format (valid_predictions1.mean())],\n",
    "    \"Третий регион\": [\"{:.2f}\".format (rmse2), \"{:.2f}\".format (valid_predictions2.mean())]},\n",
    "    index=['RMSE', 'Средний запас, тыс.баррелей'])\n",
    "table"
   ]
  },
  {
   "cell_type": "markdown",
   "metadata": {},
   "source": [
    "Первый, третий регионы похожи, большое отклонение между наблюдаемыми значениями и истинными 37 и 40, это много, т.к. наша единица измерения тысячи бараллей.  \n",
    "В втором регионе меньше средний запас, но ранее выяснили, что там меньшее количество скважин и отклонение между наблюдаемым и истинным, поэтому результаты выше не значит, что этот регион хуже."
   ]
  },
  {
   "cell_type": "markdown",
   "metadata": {},
   "source": [
    "## Подготовка к расчёту прибыли"
   ]
  },
  {
   "cell_type": "markdown",
   "metadata": {},
   "source": [
    "Рассчитываем достаточный объём сырья для безубыточной разработки новой скважины. Задаем переменной search_budget необходимый бюджет на разработку в регионе и переменной price_one_barrel - цены за тысячу баррелей."
   ]
  },
  {
   "cell_type": "code",
   "execution_count": 17,
   "metadata": {},
   "outputs": [],
   "source": [
    "search_budget = 10000000000\n",
    "price_one_barrel = 450000"
   ]
  },
  {
   "cell_type": "code",
   "execution_count": 18,
   "metadata": {},
   "outputs": [
    {
     "data": {
      "text/plain": [
       "'111.11'"
      ]
     },
     "metadata": {},
     "output_type": "display_data"
    }
   ],
   "source": [
    "min_vol_for = search_budget/price_one_barrel/200\n",
    "display (\"{:.2f}\".format(min_vol_for))"
   ]
  },
  {
   "cell_type": "markdown",
   "metadata": {},
   "source": [
    "Достаточный объем для безубыточной разработки  111.11 тысяч баррелей"
   ]
  },
  {
   "cell_type": "markdown",
   "metadata": {},
   "source": [
    "Сравниваем полученный объём сырья для безубыточной разработки со средним запасом в каждом регионе, через функцию."
   ]
  },
  {
   "cell_type": "code",
   "execution_count": 19,
   "metadata": {},
   "outputs": [],
   "source": [
    "def volume (min_vol_for, mean_volume):\n",
    "    if (mean_volume-min_vol_for)<0:\n",
    "        print ('Запаса объема недостаточно, не хватает:', (\"{:.2f}\".format (min_vol_for-mean_volume)), 'тысяч баррелей (рассчитано по среднему запасу)')\n",
    "    else:\n",
    "        print ('Запаса объема достаточно, выше уровня безубыточности на:', (\"{:.2f}\".format (min_vol_for-mean_volume)), 'тысяч баррелей (рассчитано по среднему запасу)')\n",
    "        "
   ]
  },
  {
   "cell_type": "code",
   "execution_count": 20,
   "metadata": {},
   "outputs": [
    {
     "name": "stdout",
     "output_type": "stream",
     "text": [
      "Запаса объема недостаточно, не хватает: 18.71 тысяч баррелей (рассчитано по среднему запасу)\n"
     ]
    }
   ],
   "source": [
    "volume (min_vol_for, valid_predictions0.mean())"
   ]
  },
  {
   "cell_type": "code",
   "execution_count": 21,
   "metadata": {},
   "outputs": [
    {
     "name": "stdout",
     "output_type": "stream",
     "text": [
      "Запаса объема недостаточно, не хватает: 42.40 тысяч баррелей (рассчитано по среднему запасу)\n"
     ]
    }
   ],
   "source": [
    "volume (min_vol_for, valid_predictions1.mean())"
   ]
  },
  {
   "cell_type": "code",
   "execution_count": 22,
   "metadata": {
    "scrolled": true
   },
   "outputs": [
    {
     "name": "stdout",
     "output_type": "stream",
     "text": [
      "Запаса объема недостаточно, не хватает: 16.34 тысяч баррелей (рассчитано по среднему запасу)\n"
     ]
    }
   ],
   "source": [
    "volume (min_vol_for, valid_predictions2.mean())"
   ]
  },
  {
   "cell_type": "markdown",
   "metadata": {},
   "source": [
    "В каждом регионе запаса недостаточно при сравнении со средним запасом, но нельзя сделать вывод о прибыльности, поэтому нужно сдедать рассчет прибыли."
   ]
  },
  {
   "cell_type": "markdown",
   "metadata": {},
   "source": [
    "## Расчёт прибыли и рисков "
   ]
  },
  {
   "cell_type": "markdown",
   "metadata": {},
   "source": [
    "Применяем технику Bootstrap с 1000 выборок, чтобы найти распределение прибыли.  \n",
    "Расчитываю среднюю прибыль, 95%-й доверительный интервал и риск убытков. Так мы узнаем с 95% среднее будет в данном диапазоне.  \n",
    "Убыток — это отрицательная прибыль.  "
   ]
  },
  {
   "cell_type": "code",
   "execution_count": 70,
   "metadata": {},
   "outputs": [],
   "source": [
    "total_oil_well = 500\n",
    "best_oil_well = 200\n",
    "result = []\n",
    "def revenue(target, predict, best_oil_well):\n",
    "    probs_sorted = predict.sort_values(ascending=False)\n",
    "    selected = target[probs_sorted.index][:best_oil_well]\n",
    "    return (price_one_barrel * selected.sum()) - search_budget\n",
    "\n",
    "def bootstrap(target_test, predict):\n",
    "    state = np.random.RandomState(42)   \n",
    "    values = []\n",
    "    target_test = target_test.reset_index(drop=True)\n",
    "    predict = pd.Series(predict)\n",
    "    for i in range(1000):\n",
    "        target_subsample = target_test.sample(n=total_oil_well, replace=True, random_state=state) \n",
    "        probs_subsample = predict.loc[target_subsample.index.to_list()]\n",
    "        values.append (revenue(target_subsample, probs_subsample, best_oil_well))\n",
    "\n",
    "    values = pd.Series(values)\n",
    "    lower = values.quantile(0.025)\n",
    "    upper = values.quantile(0.975)\n",
    "\n",
    "    mean = values.mean()\n",
    "\n",
    "    print(\"Средняя прибыль:\", \"{:.2f}\".format(mean))\n",
    "    print(\"2.5%-квантиль:\", \"{:.2f}\".format(lower))\n",
    "    print(\"97.5%-квантиль:\", \"{:.2f}\".format(upper))\n",
    "\n",
    "    values_loss = [num for num in values if num < 0]\n",
    "    risk = len(values_loss)/len(values)\n",
    "    percentage_risk = \"{:.0%}\".format(risk)\n",
    "    print(\"Риск убытков:\", percentage_risk)\n",
    "    \n",
    "    result.append([\"{:.2f}\".format(mean), \"{:.2f}\".format(lower), \"{:.2f}\".format(upper), percentage_risk])"
   ]
  },
  {
   "cell_type": "code",
   "execution_count": 71,
   "metadata": {},
   "outputs": [
    {
     "name": "stdout",
     "output_type": "stream",
     "text": [
      "Средняя прибыль: 427847560.46\n",
      "2.5%-квантиль: -97249829.57\n",
      "97.5%-квантиль: 954215192.71\n",
      "Риск убытков: 6%\n"
     ]
    }
   ],
   "source": [
    "bootstrap(target_valid0, valid_predictions0)"
   ]
  },
  {
   "cell_type": "code",
   "execution_count": 72,
   "metadata": {},
   "outputs": [
    {
     "name": "stdout",
     "output_type": "stream",
     "text": [
      "Средняя прибыль: 511362776.20\n",
      "2.5%-квантиль: 98870649.90\n",
      "97.5%-квантиль: 940720511.65\n",
      "Риск убытков: 1%\n"
     ]
    }
   ],
   "source": [
    "bootstrap(target_valid1, valid_predictions1)"
   ]
  },
  {
   "cell_type": "code",
   "execution_count": 73,
   "metadata": {
    "scrolled": true
   },
   "outputs": [
    {
     "name": "stdout",
     "output_type": "stream",
     "text": [
      "Средняя прибыль: 402575607.51\n",
      "2.5%-квантиль: -137162225.07\n",
      "97.5%-квантиль: 929887528.03\n",
      "Риск убытков: 7%\n"
     ]
    }
   ],
   "source": [
    "bootstrap(target_valid2, valid_predictions2)"
   ]
  },
  {
   "cell_type": "code",
   "execution_count": 74,
   "metadata": {},
   "outputs": [
    {
     "data": {
      "text/plain": [
       "[['427847560.46', '-97249829.57', '954215192.71', '6%'],\n",
       " ['511362776.20', '98870649.90', '940720511.65', '1%'],\n",
       " ['402575607.51', '-137162225.07', '929887528.03', '7%']]"
      ]
     },
     "execution_count": 74,
     "metadata": {},
     "output_type": "execute_result"
    }
   ],
   "source": [
    "result"
   ]
  },
  {
   "cell_type": "code",
   "execution_count": 75,
   "metadata": {},
   "outputs": [
    {
     "data": {
      "text/html": [
       "<div>\n",
       "<style scoped>\n",
       "    .dataframe tbody tr th:only-of-type {\n",
       "        vertical-align: middle;\n",
       "    }\n",
       "\n",
       "    .dataframe tbody tr th {\n",
       "        vertical-align: top;\n",
       "    }\n",
       "\n",
       "    .dataframe thead th {\n",
       "        text-align: right;\n",
       "    }\n",
       "</style>\n",
       "<table border=\"1\" class=\"dataframe\">\n",
       "  <thead>\n",
       "    <tr style=\"text-align: right;\">\n",
       "      <th></th>\n",
       "      <th>Средняя прибыль, руб.</th>\n",
       "      <th>Квантиль 2,5</th>\n",
       "      <th>Квантиль 97,5</th>\n",
       "      <th>Риск убытков, %</th>\n",
       "    </tr>\n",
       "  </thead>\n",
       "  <tbody>\n",
       "    <tr>\n",
       "      <th>Регион 1</th>\n",
       "      <td>427847560.46</td>\n",
       "      <td>-97249829.57</td>\n",
       "      <td>954215192.71</td>\n",
       "      <td>6%</td>\n",
       "    </tr>\n",
       "    <tr>\n",
       "      <th>Регион 2</th>\n",
       "      <td>511362776.20</td>\n",
       "      <td>98870649.90</td>\n",
       "      <td>940720511.65</td>\n",
       "      <td>1%</td>\n",
       "    </tr>\n",
       "    <tr>\n",
       "      <th>Регион 3</th>\n",
       "      <td>402575607.51</td>\n",
       "      <td>-137162225.07</td>\n",
       "      <td>929887528.03</td>\n",
       "      <td>7%</td>\n",
       "    </tr>\n",
       "  </tbody>\n",
       "</table>\n",
       "</div>"
      ],
      "text/plain": [
       "         Средняя прибыль, руб.  Квантиль 2,5  Квантиль 97,5 Риск убытков, %\n",
       "Регион 1          427847560.46   -97249829.57  954215192.71              6%\n",
       "Регион 2          511362776.20    98870649.90  940720511.65              1%\n",
       "Регион 3          402575607.51  -137162225.07  929887528.03              7%"
      ]
     },
     "metadata": {},
     "output_type": "display_data"
    }
   ],
   "source": [
    "result = pd.DataFrame(result, \n",
    "             columns=['Средняя прибыль, руб.', 'Квантиль 2,5 ','Квантиль 97,5','Риск убытков, %'],\n",
    "             index  =['Регион 1','Регион 2','Регион 3']\n",
    "            )\n",
    "display(result)"
   ]
  },
  {
   "cell_type": "markdown",
   "metadata": {},
   "source": [
    "На основе рассчета прибыли и рисков можно сделать следующие выводы:   \n",
    "* наименьший риск во втором регионе 2 - 1%  \n",
    "* наша цель оставить регионы где вероятность убытков меньше 2.5%, только регион 2 подходит по данное условие  \n",
    "* Если посмотреть на доверительный интервал, то видно, почему риск  в 1 и 3 регионе выше, есть скажины с отрицательной прибылью, если вспомнить, что в этих регионах при этом большое количество скважин, то риск выше. В регионе 2 напротив доверительный интервал только положительные значения, риск минимален."
   ]
  },
  {
   "cell_type": "markdown",
   "metadata": {},
   "source": [
    "## Общий вывод"
   ]
  },
  {
   "cell_type": "markdown",
   "metadata": {},
   "source": [
    "Не первом этапе были изучены данные, не было выявлено пропущенных значений, дубликатов, аномалий. Второй регион значимо отличался по меньшему количеству скважин.\n",
    "\n",
    "Произведено обучение модели линейной регрессии, второй регион показал показал наименьшую ошибку между прогнозируемыми и наблюдаемыми значениями, но средний запас был ниже."
   ]
  },
  {
   "cell_type": "code",
   "execution_count": 76,
   "metadata": {},
   "outputs": [
    {
     "data": {
      "text/html": [
       "<div>\n",
       "<style scoped>\n",
       "    .dataframe tbody tr th:only-of-type {\n",
       "        vertical-align: middle;\n",
       "    }\n",
       "\n",
       "    .dataframe tbody tr th {\n",
       "        vertical-align: top;\n",
       "    }\n",
       "\n",
       "    .dataframe thead th {\n",
       "        text-align: right;\n",
       "    }\n",
       "</style>\n",
       "<table border=\"1\" class=\"dataframe\">\n",
       "  <thead>\n",
       "    <tr style=\"text-align: right;\">\n",
       "      <th></th>\n",
       "      <th>Первый регион</th>\n",
       "      <th>Второй регион</th>\n",
       "      <th>Третий регион</th>\n",
       "    </tr>\n",
       "  </thead>\n",
       "  <tbody>\n",
       "    <tr>\n",
       "      <th>RMSE</th>\n",
       "      <td>37.76</td>\n",
       "      <td>0.89</td>\n",
       "      <td>40.15</td>\n",
       "    </tr>\n",
       "    <tr>\n",
       "      <th>Средний запас, тыс.баррелей</th>\n",
       "      <td>92.40</td>\n",
       "      <td>68.71</td>\n",
       "      <td>94.77</td>\n",
       "    </tr>\n",
       "  </tbody>\n",
       "</table>\n",
       "</div>"
      ],
      "text/plain": [
       "                            Первый регион Второй регион Третий регион\n",
       "RMSE                                37.76          0.89         40.15\n",
       "Средний запас, тыс.баррелей         92.40         68.71         94.77"
      ]
     },
     "execution_count": 76,
     "metadata": {},
     "output_type": "execute_result"
    }
   ],
   "source": [
    "table"
   ]
  },
  {
   "cell_type": "markdown",
   "metadata": {},
   "source": [
    "Произведены рассчеты прибыли доверительного интервала 95% и риска убытков.  \n",
    "Наименший риск, с большей прибылью в регионе 2.  \n",
    "Модель предсказывает более точный результат именно по этому региону. \n",
    "Второй регион предпочтителен для старта разработки месторождений."
   ]
  },
  {
   "cell_type": "code",
   "execution_count": 78,
   "metadata": {},
   "outputs": [
    {
     "data": {
      "text/html": [
       "<div>\n",
       "<style scoped>\n",
       "    .dataframe tbody tr th:only-of-type {\n",
       "        vertical-align: middle;\n",
       "    }\n",
       "\n",
       "    .dataframe tbody tr th {\n",
       "        vertical-align: top;\n",
       "    }\n",
       "\n",
       "    .dataframe thead th {\n",
       "        text-align: right;\n",
       "    }\n",
       "</style>\n",
       "<table border=\"1\" class=\"dataframe\">\n",
       "  <thead>\n",
       "    <tr style=\"text-align: right;\">\n",
       "      <th></th>\n",
       "      <th>Средняя прибыль, руб.</th>\n",
       "      <th>Квантиль 2,5</th>\n",
       "      <th>Квантиль 97,5</th>\n",
       "      <th>Риск убытков, %</th>\n",
       "    </tr>\n",
       "  </thead>\n",
       "  <tbody>\n",
       "    <tr>\n",
       "      <th>Регион 1</th>\n",
       "      <td>427847560.46</td>\n",
       "      <td>-97249829.57</td>\n",
       "      <td>954215192.71</td>\n",
       "      <td>6%</td>\n",
       "    </tr>\n",
       "    <tr>\n",
       "      <th>Регион 2</th>\n",
       "      <td>511362776.20</td>\n",
       "      <td>98870649.90</td>\n",
       "      <td>940720511.65</td>\n",
       "      <td>1%</td>\n",
       "    </tr>\n",
       "    <tr>\n",
       "      <th>Регион 3</th>\n",
       "      <td>402575607.51</td>\n",
       "      <td>-137162225.07</td>\n",
       "      <td>929887528.03</td>\n",
       "      <td>7%</td>\n",
       "    </tr>\n",
       "  </tbody>\n",
       "</table>\n",
       "</div>"
      ],
      "text/plain": [
       "         Средняя прибыль, руб.  Квантиль 2,5  Квантиль 97,5 Риск убытков, %\n",
       "Регион 1          427847560.46   -97249829.57  954215192.71              6%\n",
       "Регион 2          511362776.20    98870649.90  940720511.65              1%\n",
       "Регион 3          402575607.51  -137162225.07  929887528.03              7%"
      ]
     },
     "execution_count": 78,
     "metadata": {},
     "output_type": "execute_result"
    }
   ],
   "source": [
    "result"
   ]
  },
  {
   "cell_type": "markdown",
   "metadata": {},
   "source": [
    "## Чек-лист готовности проекта"
   ]
  },
  {
   "cell_type": "markdown",
   "metadata": {},
   "source": [
    "Поставьте 'x' в выполненных пунктах. Далее нажмите Shift+Enter."
   ]
  },
  {
   "cell_type": "markdown",
   "metadata": {},
   "source": [
    "- [x]  Jupyter Notebook открыт\n",
    "- [x]  Весь код выполняется без ошибок\n",
    "- [x]  Ячейки с кодом расположены в порядке исполнения\n",
    "- [x]  Выполнен шаг 1: данные подготовлены\n",
    "- [x]  Выполнен шаг 2: модели обучены и проверены\n",
    "    - [x]  Данные корректно разбиты на обучающую и валидационную выборки\n",
    "    - [x]  Модели обучены, предсказания сделаны\n",
    "    - [x]  Предсказания и правильные ответы на валидационной выборке сохранены\n",
    "    - [x]  На экране напечатаны результаты\n",
    "    - [x]  Сделаны выводы\n",
    "- [x]  Выполнен шаг 3: проведена подготовка к расчёту прибыли\n",
    "    - [x]  Для всех ключевых значений созданы константы Python\n",
    "    - [x]  Посчитано минимальное среднее количество продукта в месторождениях региона, достаточное для разработки\n",
    "    - [x]  По предыдущему пункту сделаны выводы\n",
    "    - [x]  Написана функция расчёта прибыли\n",
    "- [x]  Выполнен шаг 4: посчитаны риски и прибыль\n",
    "    - [x]  Проведена процедура *Bootstrap*\n",
    "    - [x]  Все параметры бутстрепа соответствуют условию\n",
    "    - [x]  Найдены все нужные величины\n",
    "    - [x]  Предложен регион для разработки месторождения\n",
    "    - [x]  Выбор региона обоснован"
   ]
  },
  {
   "cell_type": "code",
   "execution_count": null,
   "metadata": {},
   "outputs": [],
   "source": []
  }
 ],
 "metadata": {
  "ExecuteTimeLog": [
   {
    "duration": 1097,
    "start_time": "2022-08-01T05:52:50.654Z"
   },
   {
    "duration": 1193,
    "start_time": "2022-08-01T06:02:20.233Z"
   },
   {
    "duration": 106,
    "start_time": "2022-08-01T06:02:21.428Z"
   },
   {
    "duration": 84,
    "start_time": "2022-08-01T06:02:30.728Z"
   },
   {
    "duration": 170,
    "start_time": "2022-08-01T06:02:49.573Z"
   },
   {
    "duration": 59,
    "start_time": "2022-08-01T06:04:36.393Z"
   },
   {
    "duration": 64,
    "start_time": "2022-08-01T06:04:45.672Z"
   },
   {
    "duration": 111,
    "start_time": "2022-08-01T06:04:54.053Z"
   },
   {
    "duration": 116,
    "start_time": "2022-08-01T06:05:15.894Z"
   },
   {
    "duration": 109,
    "start_time": "2022-08-01T06:05:47.030Z"
   },
   {
    "duration": 73,
    "start_time": "2022-08-01T06:06:47.828Z"
   },
   {
    "duration": 82,
    "start_time": "2022-08-01T06:06:54.578Z"
   },
   {
    "duration": 4,
    "start_time": "2022-08-01T06:07:01.833Z"
   },
   {
    "duration": 116,
    "start_time": "2022-08-01T06:07:06.179Z"
   },
   {
    "duration": 3,
    "start_time": "2022-08-01T06:07:15.733Z"
   },
   {
    "duration": 5,
    "start_time": "2022-08-01T06:07:25.123Z"
   },
   {
    "duration": 59,
    "start_time": "2022-08-01T06:07:34.778Z"
   },
   {
    "duration": 57,
    "start_time": "2022-08-01T06:07:39.698Z"
   },
   {
    "duration": 195,
    "start_time": "2022-08-01T06:08:25.068Z"
   },
   {
    "duration": 513,
    "start_time": "2022-08-01T06:10:09.368Z"
   },
   {
    "duration": 393,
    "start_time": "2022-08-01T06:10:09.883Z"
   },
   {
    "duration": 184,
    "start_time": "2022-08-01T06:10:10.278Z"
   },
   {
    "duration": 107,
    "start_time": "2022-08-01T06:12:07.198Z"
   },
   {
    "duration": 319,
    "start_time": "2022-08-01T06:12:17.563Z"
   },
   {
    "duration": 360,
    "start_time": "2022-08-01T06:14:04.518Z"
   },
   {
    "duration": 332,
    "start_time": "2022-08-01T06:14:04.880Z"
   },
   {
    "duration": 331,
    "start_time": "2022-08-01T06:15:12.284Z"
   },
   {
    "duration": 324,
    "start_time": "2022-08-01T06:15:28.414Z"
   },
   {
    "duration": 80,
    "start_time": "2022-08-01T06:19:08.193Z"
   },
   {
    "duration": 14,
    "start_time": "2022-08-01T06:19:12.934Z"
   },
   {
    "duration": 20,
    "start_time": "2022-08-01T06:19:18.417Z"
   },
   {
    "duration": 13,
    "start_time": "2022-08-01T06:20:27.178Z"
   },
   {
    "duration": 15,
    "start_time": "2022-08-01T06:20:47.463Z"
   },
   {
    "duration": 14,
    "start_time": "2022-08-01T06:20:52.138Z"
   },
   {
    "duration": 9,
    "start_time": "2022-08-01T06:20:59.098Z"
   },
   {
    "duration": 13,
    "start_time": "2022-08-01T06:22:44.148Z"
   },
   {
    "duration": 13,
    "start_time": "2022-08-01T06:22:47.708Z"
   },
   {
    "duration": 6,
    "start_time": "2022-08-01T06:22:51.418Z"
   },
   {
    "duration": 18,
    "start_time": "2022-08-01T06:22:55.406Z"
   },
   {
    "duration": 308,
    "start_time": "2022-08-01T06:23:04.997Z"
   },
   {
    "duration": 15,
    "start_time": "2022-08-01T06:23:05.307Z"
   },
   {
    "duration": 10,
    "start_time": "2022-08-01T06:23:09.919Z"
   },
   {
    "duration": 20,
    "start_time": "2022-08-01T06:23:39.545Z"
   },
   {
    "duration": 75,
    "start_time": "2022-08-01T06:23:48.548Z"
   },
   {
    "duration": 13,
    "start_time": "2022-08-01T06:23:51.058Z"
   },
   {
    "duration": 12,
    "start_time": "2022-08-01T06:24:26.963Z"
   },
   {
    "duration": 15,
    "start_time": "2022-08-01T06:25:22.076Z"
   },
   {
    "duration": 12,
    "start_time": "2022-08-01T06:25:29.564Z"
   },
   {
    "duration": 282,
    "start_time": "2022-08-01T06:25:38.843Z"
   },
   {
    "duration": 16,
    "start_time": "2022-08-01T06:25:39.127Z"
   },
   {
    "duration": 18,
    "start_time": "2022-08-01T06:25:47.422Z"
   },
   {
    "duration": 1518,
    "start_time": "2022-08-01T06:26:00.167Z"
   },
   {
    "duration": 390,
    "start_time": "2022-08-01T06:26:01.688Z"
   },
   {
    "duration": 396,
    "start_time": "2022-08-01T06:26:02.080Z"
   },
   {
    "duration": 31,
    "start_time": "2022-08-01T06:26:02.477Z"
   },
   {
    "duration": 139,
    "start_time": "2022-08-01T06:26:10.336Z"
   },
   {
    "duration": 13,
    "start_time": "2022-08-01T06:26:18.566Z"
   },
   {
    "duration": 15,
    "start_time": "2022-08-01T06:26:23.771Z"
   },
   {
    "duration": 15,
    "start_time": "2022-08-01T06:26:26.577Z"
   },
   {
    "duration": 338,
    "start_time": "2022-08-01T06:26:30.221Z"
   },
   {
    "duration": 15,
    "start_time": "2022-08-01T06:26:30.561Z"
   },
   {
    "duration": 7,
    "start_time": "2022-08-01T06:26:33.197Z"
   },
   {
    "duration": 393,
    "start_time": "2022-08-01T06:26:33.206Z"
   },
   {
    "duration": 377,
    "start_time": "2022-08-01T06:26:33.601Z"
   },
   {
    "duration": 7,
    "start_time": "2022-08-01T06:26:33.980Z"
   },
   {
    "duration": 13,
    "start_time": "2022-08-01T06:26:44.563Z"
   },
   {
    "duration": 13,
    "start_time": "2022-08-01T06:26:59.771Z"
   },
   {
    "duration": 1331,
    "start_time": "2022-08-01T06:27:52.353Z"
   },
   {
    "duration": 391,
    "start_time": "2022-08-01T06:27:53.686Z"
   },
   {
    "duration": 427,
    "start_time": "2022-08-01T06:27:54.079Z"
   },
   {
    "duration": 9,
    "start_time": "2022-08-01T06:27:54.508Z"
   },
   {
    "duration": 13,
    "start_time": "2022-08-01T06:27:54.520Z"
   },
   {
    "duration": 1364,
    "start_time": "2022-08-01T06:37:01.991Z"
   },
   {
    "duration": 6,
    "start_time": "2022-08-01T06:37:16.186Z"
   },
   {
    "duration": 48,
    "start_time": "2022-08-01T06:47:29.554Z"
   },
   {
    "duration": 11,
    "start_time": "2022-08-01T06:50:41.103Z"
   },
   {
    "duration": 44,
    "start_time": "2022-08-01T06:50:41.444Z"
   },
   {
    "duration": 5,
    "start_time": "2022-08-01T06:50:41.794Z"
   },
   {
    "duration": 39,
    "start_time": "2022-08-01T06:50:41.954Z"
   },
   {
    "duration": 10,
    "start_time": "2022-08-01T06:50:42.304Z"
   },
   {
    "duration": 10,
    "start_time": "2022-08-01T06:50:42.489Z"
   },
   {
    "duration": 102,
    "start_time": "2022-08-01T06:52:31.534Z"
   },
   {
    "duration": 8,
    "start_time": "2022-08-01T07:02:25.455Z"
   },
   {
    "duration": 29,
    "start_time": "2022-08-01T07:02:25.890Z"
   },
   {
    "duration": 19,
    "start_time": "2022-08-01T07:02:29.665Z"
   },
   {
    "duration": 23,
    "start_time": "2022-08-01T07:02:31.830Z"
   },
   {
    "duration": 13,
    "start_time": "2022-08-01T07:03:22.335Z"
   },
   {
    "duration": 9,
    "start_time": "2022-08-01T07:03:35.120Z"
   },
   {
    "duration": 9,
    "start_time": "2022-08-01T07:03:55.514Z"
   },
   {
    "duration": 13,
    "start_time": "2022-08-01T07:04:05.365Z"
   },
   {
    "duration": 4,
    "start_time": "2022-08-01T07:04:18.465Z"
   },
   {
    "duration": 16,
    "start_time": "2022-08-01T07:04:20.852Z"
   },
   {
    "duration": 10,
    "start_time": "2022-08-01T07:04:34.432Z"
   },
   {
    "duration": 7,
    "start_time": "2022-08-01T07:04:43.970Z"
   },
   {
    "duration": 5,
    "start_time": "2022-08-01T07:04:46.901Z"
   },
   {
    "duration": 9,
    "start_time": "2022-08-01T07:04:56.841Z"
   },
   {
    "duration": 9,
    "start_time": "2022-08-01T07:05:08.340Z"
   },
   {
    "duration": 7,
    "start_time": "2022-08-01T07:05:11.021Z"
   },
   {
    "duration": 7,
    "start_time": "2022-08-01T07:05:13.090Z"
   },
   {
    "duration": 13,
    "start_time": "2022-08-01T07:05:15.890Z"
   },
   {
    "duration": 7,
    "start_time": "2022-08-01T07:05:54.640Z"
   },
   {
    "duration": 16,
    "start_time": "2022-08-01T07:07:36.894Z"
   },
   {
    "duration": 1265,
    "start_time": "2022-08-01T07:08:10.412Z"
   },
   {
    "duration": 51,
    "start_time": "2022-08-01T07:08:15.413Z"
   },
   {
    "duration": 6,
    "start_time": "2022-08-01T07:08:53.819Z"
   },
   {
    "duration": 44,
    "start_time": "2022-08-01T07:08:53.963Z"
   },
   {
    "duration": 5,
    "start_time": "2022-08-01T07:09:03.443Z"
   },
   {
    "duration": 42,
    "start_time": "2022-08-01T07:09:16.538Z"
   },
   {
    "duration": 4,
    "start_time": "2022-08-01T07:09:23.268Z"
   },
   {
    "duration": 49,
    "start_time": "2022-08-01T07:09:23.498Z"
   },
   {
    "duration": 13,
    "start_time": "2022-08-01T07:36:08.245Z"
   },
   {
    "duration": 12,
    "start_time": "2022-08-01T07:36:08.569Z"
   },
   {
    "duration": 41,
    "start_time": "2022-08-01T07:36:14.104Z"
   },
   {
    "duration": 12,
    "start_time": "2022-08-01T07:36:14.754Z"
   },
   {
    "duration": 11,
    "start_time": "2022-08-01T07:36:15.894Z"
   },
   {
    "duration": 11,
    "start_time": "2022-08-01T07:36:24.059Z"
   },
   {
    "duration": 1533,
    "start_time": "2022-08-01T07:36:39.783Z"
   },
   {
    "duration": 371,
    "start_time": "2022-08-01T07:36:41.318Z"
   },
   {
    "duration": 381,
    "start_time": "2022-08-01T07:36:41.690Z"
   },
   {
    "duration": 10,
    "start_time": "2022-08-01T07:36:42.073Z"
   },
   {
    "duration": 30,
    "start_time": "2022-08-01T07:36:42.085Z"
   },
   {
    "duration": 97,
    "start_time": "2022-08-01T07:36:42.117Z"
   },
   {
    "duration": 6,
    "start_time": "2022-08-01T07:36:42.216Z"
   },
   {
    "duration": 75,
    "start_time": "2022-08-01T07:36:42.224Z"
   },
   {
    "duration": 96,
    "start_time": "2022-08-01T07:36:42.301Z"
   },
   {
    "duration": 128,
    "start_time": "2022-08-01T07:36:42.398Z"
   },
   {
    "duration": 51,
    "start_time": "2022-08-01T07:36:42.528Z"
   },
   {
    "duration": 76,
    "start_time": "2022-08-01T07:36:42.581Z"
   },
   {
    "duration": 112,
    "start_time": "2022-08-01T07:36:42.659Z"
   },
   {
    "duration": 0,
    "start_time": "2022-08-01T07:36:42.772Z"
   },
   {
    "duration": 10,
    "start_time": "2022-08-01T07:37:39.568Z"
   },
   {
    "duration": 1755,
    "start_time": "2022-08-01T07:37:51.347Z"
   },
   {
    "duration": 383,
    "start_time": "2022-08-01T07:37:53.104Z"
   },
   {
    "duration": 393,
    "start_time": "2022-08-01T07:37:53.489Z"
   },
   {
    "duration": 10,
    "start_time": "2022-08-01T07:37:53.903Z"
   },
   {
    "duration": 36,
    "start_time": "2022-08-01T07:37:53.916Z"
   },
   {
    "duration": 73,
    "start_time": "2022-08-01T07:37:53.954Z"
   },
   {
    "duration": 6,
    "start_time": "2022-08-01T07:37:54.029Z"
   },
   {
    "duration": 28,
    "start_time": "2022-08-01T07:37:54.037Z"
   },
   {
    "duration": 7,
    "start_time": "2022-08-01T07:37:54.067Z"
   },
   {
    "duration": 54,
    "start_time": "2022-08-01T07:37:54.104Z"
   },
   {
    "duration": 6,
    "start_time": "2022-08-01T07:37:54.160Z"
   },
   {
    "duration": 62,
    "start_time": "2022-08-01T07:37:54.168Z"
   },
   {
    "duration": 121,
    "start_time": "2022-08-01T07:37:54.232Z"
   },
   {
    "duration": 0,
    "start_time": "2022-08-01T07:37:54.355Z"
   },
   {
    "duration": 10,
    "start_time": "2022-08-01T07:38:52.987Z"
   },
   {
    "duration": 14,
    "start_time": "2022-08-01T07:38:56.564Z"
   },
   {
    "duration": 3,
    "start_time": "2022-08-01T07:38:59.741Z"
   },
   {
    "duration": 54,
    "start_time": "2022-08-01T07:39:01.336Z"
   },
   {
    "duration": 35,
    "start_time": "2022-08-01T07:39:30.478Z"
   },
   {
    "duration": 31,
    "start_time": "2022-08-01T07:42:07.979Z"
   },
   {
    "duration": 33,
    "start_time": "2022-08-01T07:44:49.871Z"
   },
   {
    "duration": 36,
    "start_time": "2022-08-01T07:45:16.710Z"
   },
   {
    "duration": 14,
    "start_time": "2022-08-01T07:45:44.344Z"
   },
   {
    "duration": 19,
    "start_time": "2022-08-01T07:46:17.280Z"
   },
   {
    "duration": 1493,
    "start_time": "2022-08-01T07:46:32.705Z"
   },
   {
    "duration": 372,
    "start_time": "2022-08-01T07:46:34.200Z"
   },
   {
    "duration": 396,
    "start_time": "2022-08-01T07:46:34.574Z"
   },
   {
    "duration": 35,
    "start_time": "2022-08-01T07:46:34.972Z"
   },
   {
    "duration": 27,
    "start_time": "2022-08-01T07:46:35.009Z"
   },
   {
    "duration": 77,
    "start_time": "2022-08-01T07:46:35.038Z"
   },
   {
    "duration": 4,
    "start_time": "2022-08-01T07:46:35.117Z"
   },
   {
    "duration": 26,
    "start_time": "2022-08-01T07:46:35.123Z"
   },
   {
    "duration": 8,
    "start_time": "2022-08-01T07:46:35.151Z"
   },
   {
    "duration": 76,
    "start_time": "2022-08-01T07:46:35.162Z"
   },
   {
    "duration": 6,
    "start_time": "2022-08-01T07:46:35.240Z"
   },
   {
    "duration": 45,
    "start_time": "2022-08-01T07:46:35.248Z"
   },
   {
    "duration": 11,
    "start_time": "2022-08-01T07:46:35.295Z"
   },
   {
    "duration": 20,
    "start_time": "2022-08-01T07:46:35.308Z"
   },
   {
    "duration": 82,
    "start_time": "2022-08-01T07:46:35.330Z"
   },
   {
    "duration": 202,
    "start_time": "2022-08-01T07:46:35.414Z"
   },
   {
    "duration": 9,
    "start_time": "2022-08-01T07:48:33.180Z"
   },
   {
    "duration": 20,
    "start_time": "2022-08-01T07:48:38.298Z"
   },
   {
    "duration": 5,
    "start_time": "2022-08-01T07:48:38.548Z"
   },
   {
    "duration": 6,
    "start_time": "2022-08-01T07:49:26.152Z"
   },
   {
    "duration": 17,
    "start_time": "2022-08-01T08:23:26.722Z"
   },
   {
    "duration": 23,
    "start_time": "2022-08-01T08:23:27.255Z"
   },
   {
    "duration": 21,
    "start_time": "2022-08-01T08:23:28.181Z"
   },
   {
    "duration": 14,
    "start_time": "2022-08-01T08:23:37.245Z"
   },
   {
    "duration": 20,
    "start_time": "2022-08-01T08:23:37.480Z"
   },
   {
    "duration": 15,
    "start_time": "2022-08-01T08:23:37.950Z"
   },
   {
    "duration": 15,
    "start_time": "2022-08-01T08:23:52.681Z"
   },
   {
    "duration": 14,
    "start_time": "2022-08-01T08:23:53.218Z"
   },
   {
    "duration": 15,
    "start_time": "2022-08-01T08:23:54.080Z"
   },
   {
    "duration": 15,
    "start_time": "2022-08-01T08:24:09.847Z"
   },
   {
    "duration": 14,
    "start_time": "2022-08-01T08:24:10.742Z"
   },
   {
    "duration": 1571,
    "start_time": "2022-08-01T08:52:36.920Z"
   },
   {
    "duration": 456,
    "start_time": "2022-08-01T08:52:38.493Z"
   },
   {
    "duration": 399,
    "start_time": "2022-08-01T08:52:38.951Z"
   },
   {
    "duration": 16,
    "start_time": "2022-08-01T08:52:39.352Z"
   },
   {
    "duration": 10,
    "start_time": "2022-08-01T08:52:39.371Z"
   },
   {
    "duration": 77,
    "start_time": "2022-08-01T08:52:39.383Z"
   },
   {
    "duration": 4,
    "start_time": "2022-08-01T08:52:39.461Z"
   },
   {
    "duration": 47,
    "start_time": "2022-08-01T08:52:39.467Z"
   },
   {
    "duration": 6,
    "start_time": "2022-08-01T08:52:39.516Z"
   },
   {
    "duration": 56,
    "start_time": "2022-08-01T08:52:39.524Z"
   },
   {
    "duration": 5,
    "start_time": "2022-08-01T08:52:39.582Z"
   },
   {
    "duration": 53,
    "start_time": "2022-08-01T08:52:39.589Z"
   },
   {
    "duration": 3,
    "start_time": "2022-08-01T08:52:39.644Z"
   },
   {
    "duration": 14,
    "start_time": "2022-08-01T08:52:39.649Z"
   },
   {
    "duration": 268,
    "start_time": "2022-08-01T08:52:39.665Z"
   },
   {
    "duration": 0,
    "start_time": "2022-08-01T08:52:39.937Z"
   },
   {
    "duration": 0,
    "start_time": "2022-08-01T08:52:39.942Z"
   },
   {
    "duration": 12,
    "start_time": "2022-08-01T08:54:59.589Z"
   },
   {
    "duration": 7,
    "start_time": "2022-08-01T08:55:00.180Z"
   },
   {
    "duration": 31,
    "start_time": "2022-08-01T08:55:00.190Z"
   },
   {
    "duration": 4,
    "start_time": "2022-08-01T08:55:00.480Z"
   },
   {
    "duration": 3,
    "start_time": "2022-08-01T08:55:00.652Z"
   },
   {
    "duration": 7,
    "start_time": "2022-08-01T08:55:00.817Z"
   },
   {
    "duration": 10,
    "start_time": "2022-08-01T08:55:01.151Z"
   },
   {
    "duration": 21,
    "start_time": "2022-08-01T08:55:01.753Z"
   },
   {
    "duration": 33,
    "start_time": "2022-08-01T08:55:03.600Z"
   },
   {
    "duration": 18,
    "start_time": "2022-08-01T08:55:04.051Z"
   },
   {
    "duration": 26,
    "start_time": "2022-08-01T08:55:11.096Z"
   },
   {
    "duration": 13,
    "start_time": "2022-08-01T08:55:12.754Z"
   },
   {
    "duration": 14,
    "start_time": "2022-08-01T08:55:13.228Z"
   },
   {
    "duration": 6,
    "start_time": "2022-08-01T08:56:12.315Z"
   },
   {
    "duration": 14,
    "start_time": "2022-08-01T08:56:12.530Z"
   },
   {
    "duration": 7,
    "start_time": "2022-08-01T08:56:13.006Z"
   },
   {
    "duration": 11,
    "start_time": "2022-08-01T08:56:13.444Z"
   },
   {
    "duration": 3,
    "start_time": "2022-08-01T08:56:14.284Z"
   },
   {
    "duration": 13,
    "start_time": "2022-08-01T08:56:14.835Z"
   },
   {
    "duration": 49,
    "start_time": "2022-08-01T08:56:14.993Z"
   },
   {
    "duration": 64,
    "start_time": "2022-08-01T08:56:15.191Z"
   },
   {
    "duration": 47,
    "start_time": "2022-08-01T08:56:15.405Z"
   },
   {
    "duration": 12,
    "start_time": "2022-08-01T08:57:39.485Z"
   },
   {
    "duration": 14,
    "start_time": "2022-08-01T08:57:56.929Z"
   },
   {
    "duration": 12,
    "start_time": "2022-08-01T08:57:57.565Z"
   },
   {
    "duration": 16,
    "start_time": "2022-08-01T08:58:16.529Z"
   },
   {
    "duration": 3,
    "start_time": "2022-08-01T08:58:17.195Z"
   },
   {
    "duration": 16,
    "start_time": "2022-08-01T08:58:20.116Z"
   },
   {
    "duration": 15,
    "start_time": "2022-08-01T08:58:23.265Z"
   },
   {
    "duration": 16,
    "start_time": "2022-08-01T08:58:23.771Z"
   },
   {
    "duration": 18,
    "start_time": "2022-08-01T08:58:24.455Z"
   },
   {
    "duration": 1413,
    "start_time": "2022-08-01T09:00:44.551Z"
   },
   {
    "duration": 936,
    "start_time": "2022-08-01T09:00:45.966Z"
   },
   {
    "duration": 340,
    "start_time": "2022-08-01T09:00:46.907Z"
   },
   {
    "duration": 16,
    "start_time": "2022-08-01T09:00:47.249Z"
   },
   {
    "duration": 14,
    "start_time": "2022-08-01T09:00:47.267Z"
   },
   {
    "duration": 94,
    "start_time": "2022-08-01T09:00:47.283Z"
   },
   {
    "duration": 39,
    "start_time": "2022-08-01T09:00:47.379Z"
   },
   {
    "duration": 20,
    "start_time": "2022-08-01T09:00:47.424Z"
   },
   {
    "duration": 13,
    "start_time": "2022-08-01T09:00:47.445Z"
   },
   {
    "duration": 3,
    "start_time": "2022-08-01T09:00:47.459Z"
   },
   {
    "duration": 50,
    "start_time": "2022-08-01T09:00:47.463Z"
   },
   {
    "duration": 104,
    "start_time": "2022-08-01T09:00:47.515Z"
   },
   {
    "duration": 112,
    "start_time": "2022-08-01T09:00:47.621Z"
   },
   {
    "duration": 3,
    "start_time": "2022-08-01T09:17:31.751Z"
   },
   {
    "duration": 3,
    "start_time": "2022-08-01T09:18:00.881Z"
   },
   {
    "duration": 2,
    "start_time": "2022-08-01T09:19:37.687Z"
   },
   {
    "duration": 4,
    "start_time": "2022-08-01T09:19:42.630Z"
   },
   {
    "duration": 8,
    "start_time": "2022-08-01T09:21:24.929Z"
   },
   {
    "duration": 11,
    "start_time": "2022-08-01T09:21:39.528Z"
   },
   {
    "duration": 3,
    "start_time": "2022-08-01T09:24:04.273Z"
   },
   {
    "duration": 8,
    "start_time": "2022-08-01T09:24:04.973Z"
   },
   {
    "duration": 134,
    "start_time": "2022-08-01T09:24:15.248Z"
   },
   {
    "duration": 17,
    "start_time": "2022-08-01T09:24:23.738Z"
   },
   {
    "duration": 79,
    "start_time": "2022-08-01T09:24:28.223Z"
   },
   {
    "duration": 9,
    "start_time": "2022-08-01T09:24:34.888Z"
   },
   {
    "duration": 2,
    "start_time": "2022-08-01T09:36:21.741Z"
   },
   {
    "duration": 15,
    "start_time": "2022-08-01T09:36:22.206Z"
   },
   {
    "duration": 11,
    "start_time": "2022-08-01T09:36:26.173Z"
   },
   {
    "duration": 8,
    "start_time": "2022-08-01T09:36:44.082Z"
   },
   {
    "duration": 10,
    "start_time": "2022-08-01T10:00:27.502Z"
   },
   {
    "duration": 11,
    "start_time": "2022-08-01T10:00:31.207Z"
   },
   {
    "duration": 11,
    "start_time": "2022-08-01T10:00:35.617Z"
   },
   {
    "duration": 1499,
    "start_time": "2022-08-01T12:11:42.157Z"
   },
   {
    "duration": 752,
    "start_time": "2022-08-01T12:11:43.658Z"
   },
   {
    "duration": 388,
    "start_time": "2022-08-01T12:11:44.412Z"
   },
   {
    "duration": 15,
    "start_time": "2022-08-01T12:11:44.803Z"
   },
   {
    "duration": 13,
    "start_time": "2022-08-01T12:11:44.820Z"
   },
   {
    "duration": 103,
    "start_time": "2022-08-01T12:11:44.835Z"
   },
   {
    "duration": 12,
    "start_time": "2022-08-01T12:11:44.941Z"
   },
   {
    "duration": 12,
    "start_time": "2022-08-01T12:11:44.955Z"
   },
   {
    "duration": 14,
    "start_time": "2022-08-01T12:11:44.997Z"
   },
   {
    "duration": 76,
    "start_time": "2022-08-01T12:11:45.013Z"
   },
   {
    "duration": 24,
    "start_time": "2022-08-01T12:11:45.091Z"
   },
   {
    "duration": 185,
    "start_time": "2022-08-01T12:11:45.117Z"
   },
   {
    "duration": 102,
    "start_time": "2022-08-01T12:11:45.303Z"
   },
   {
    "duration": 95,
    "start_time": "2022-08-01T12:11:45.406Z"
   },
   {
    "duration": 209,
    "start_time": "2022-08-01T12:11:45.507Z"
   },
   {
    "duration": 8,
    "start_time": "2022-08-01T12:22:40.140Z"
   },
   {
    "duration": 3,
    "start_time": "2022-08-01T12:22:49.975Z"
   },
   {
    "duration": 8,
    "start_time": "2022-08-01T12:22:50.674Z"
   },
   {
    "duration": 1351,
    "start_time": "2022-08-01T12:22:57.017Z"
   },
   {
    "duration": 350,
    "start_time": "2022-08-01T12:22:58.370Z"
   },
   {
    "duration": 319,
    "start_time": "2022-08-01T12:22:58.721Z"
   },
   {
    "duration": 16,
    "start_time": "2022-08-01T12:22:59.041Z"
   },
   {
    "duration": 10,
    "start_time": "2022-08-01T12:22:59.059Z"
   },
   {
    "duration": 80,
    "start_time": "2022-08-01T12:22:59.071Z"
   },
   {
    "duration": 11,
    "start_time": "2022-08-01T12:22:59.153Z"
   },
   {
    "duration": 38,
    "start_time": "2022-08-01T12:22:59.165Z"
   },
   {
    "duration": 12,
    "start_time": "2022-08-01T12:22:59.205Z"
   },
   {
    "duration": 3,
    "start_time": "2022-08-01T12:22:59.219Z"
   },
   {
    "duration": 77,
    "start_time": "2022-08-01T12:22:59.223Z"
   },
   {
    "duration": 100,
    "start_time": "2022-08-01T12:22:59.303Z"
   },
   {
    "duration": 101,
    "start_time": "2022-08-01T12:22:59.405Z"
   },
   {
    "duration": 103,
    "start_time": "2022-08-01T12:22:59.599Z"
   },
   {
    "duration": 12,
    "start_time": "2022-08-01T12:22:59.703Z"
   },
   {
    "duration": 2,
    "start_time": "2022-08-01T12:25:08.391Z"
   },
   {
    "duration": 9,
    "start_time": "2022-08-01T12:25:08.731Z"
   },
   {
    "duration": 3,
    "start_time": "2022-08-01T12:27:04.356Z"
   },
   {
    "duration": 7,
    "start_time": "2022-08-01T12:27:04.881Z"
   },
   {
    "duration": 115,
    "start_time": "2022-08-01T12:53:59.601Z"
   },
   {
    "duration": 3,
    "start_time": "2022-08-01T12:54:30.527Z"
   },
   {
    "duration": 11,
    "start_time": "2022-08-01T12:54:31.097Z"
   },
   {
    "duration": 3,
    "start_time": "2022-08-01T12:54:37.208Z"
   },
   {
    "duration": 12,
    "start_time": "2022-08-01T12:54:37.752Z"
   },
   {
    "duration": 58,
    "start_time": "2022-08-01T12:54:41.546Z"
   },
   {
    "duration": 16,
    "start_time": "2022-08-01T12:54:42.286Z"
   },
   {
    "duration": 4,
    "start_time": "2022-08-01T12:54:52.456Z"
   },
   {
    "duration": 3,
    "start_time": "2022-08-01T12:54:56.943Z"
   },
   {
    "duration": 13,
    "start_time": "2022-08-01T12:54:57.636Z"
   },
   {
    "duration": 3,
    "start_time": "2022-08-01T12:55:29.996Z"
   },
   {
    "duration": 12,
    "start_time": "2022-08-01T12:55:30.526Z"
   },
   {
    "duration": 8,
    "start_time": "2022-08-01T12:55:35.146Z"
   },
   {
    "duration": 4,
    "start_time": "2022-08-01T12:55:35.846Z"
   },
   {
    "duration": 12,
    "start_time": "2022-08-01T12:55:36.326Z"
   },
   {
    "duration": 3,
    "start_time": "2022-08-01T12:58:15.216Z"
   },
   {
    "duration": 11,
    "start_time": "2022-08-01T12:58:15.456Z"
   },
   {
    "duration": 4,
    "start_time": "2022-08-01T13:00:34.661Z"
   },
   {
    "duration": 14,
    "start_time": "2022-08-01T13:00:35.041Z"
   },
   {
    "duration": 4,
    "start_time": "2022-08-01T13:03:19.111Z"
   },
   {
    "duration": 12,
    "start_time": "2022-08-01T13:03:19.342Z"
   },
   {
    "duration": 3,
    "start_time": "2022-08-01T13:04:19.161Z"
   },
   {
    "duration": 12,
    "start_time": "2022-08-01T13:04:23.981Z"
   },
   {
    "duration": 3,
    "start_time": "2022-08-01T13:04:29.596Z"
   },
   {
    "duration": 3,
    "start_time": "2022-08-01T13:06:30.771Z"
   },
   {
    "duration": 3,
    "start_time": "2022-08-01T13:06:33.216Z"
   },
   {
    "duration": 3,
    "start_time": "2022-08-01T13:06:35.711Z"
   },
   {
    "duration": 12,
    "start_time": "2022-08-01T13:06:37.631Z"
   },
   {
    "duration": 11,
    "start_time": "2022-08-01T13:06:41.516Z"
   },
   {
    "duration": 4,
    "start_time": "2022-08-01T13:07:01.231Z"
   },
   {
    "duration": 6,
    "start_time": "2022-08-01T13:07:05.241Z"
   },
   {
    "duration": 4,
    "start_time": "2022-08-01T13:07:12.443Z"
   },
   {
    "duration": 8,
    "start_time": "2022-08-01T13:07:20.511Z"
   },
   {
    "duration": 3,
    "start_time": "2022-08-01T13:07:27.616Z"
   },
   {
    "duration": 12,
    "start_time": "2022-08-01T13:07:27.846Z"
   },
   {
    "duration": 4,
    "start_time": "2022-08-01T13:07:56.467Z"
   },
   {
    "duration": 5,
    "start_time": "2022-08-01T13:08:03.721Z"
   },
   {
    "duration": 11,
    "start_time": "2022-08-01T13:08:07.526Z"
   },
   {
    "duration": 5,
    "start_time": "2022-08-01T13:08:12.081Z"
   },
   {
    "duration": 9,
    "start_time": "2022-08-01T13:08:18.206Z"
   },
   {
    "duration": 4,
    "start_time": "2022-08-01T13:08:22.031Z"
   },
   {
    "duration": 841,
    "start_time": "2022-08-01T13:08:33.751Z"
   },
   {
    "duration": 1358,
    "start_time": "2022-08-01T13:10:02.576Z"
   },
   {
    "duration": 5,
    "start_time": "2022-08-01T13:10:06.301Z"
   },
   {
    "duration": 1167,
    "start_time": "2022-08-01T13:10:12.591Z"
   },
   {
    "duration": 6,
    "start_time": "2022-08-01T13:10:18.360Z"
   },
   {
    "duration": 11,
    "start_time": "2022-08-01T13:10:32.121Z"
   },
   {
    "duration": 4,
    "start_time": "2022-08-01T13:10:58.591Z"
   },
   {
    "duration": 14,
    "start_time": "2022-08-01T13:10:58.776Z"
   },
   {
    "duration": 12,
    "start_time": "2022-08-01T13:11:00.911Z"
   },
   {
    "duration": 4,
    "start_time": "2022-08-01T13:12:09.346Z"
   },
   {
    "duration": 12,
    "start_time": "2022-08-01T13:12:11.426Z"
   },
   {
    "duration": 4,
    "start_time": "2022-08-01T13:12:19.426Z"
   },
   {
    "duration": 3,
    "start_time": "2022-08-01T13:12:25.567Z"
   },
   {
    "duration": 4,
    "start_time": "2022-08-01T13:12:25.916Z"
   },
   {
    "duration": 12,
    "start_time": "2022-08-01T13:12:26.396Z"
   },
   {
    "duration": 10,
    "start_time": "2022-08-01T13:12:52.921Z"
   },
   {
    "duration": 9,
    "start_time": "2022-08-01T13:12:58.511Z"
   },
   {
    "duration": 10,
    "start_time": "2022-08-01T13:13:08.281Z"
   },
   {
    "duration": 4,
    "start_time": "2022-08-01T13:13:15.711Z"
   },
   {
    "duration": 10,
    "start_time": "2022-08-01T13:13:15.896Z"
   },
   {
    "duration": 3,
    "start_time": "2022-08-01T13:13:16.696Z"
   },
   {
    "duration": 12,
    "start_time": "2022-08-01T13:13:17.551Z"
   },
   {
    "duration": 11,
    "start_time": "2022-08-01T13:13:18.086Z"
   },
   {
    "duration": 1526,
    "start_time": "2022-08-01T13:13:23.296Z"
   },
   {
    "duration": 361,
    "start_time": "2022-08-01T13:13:24.824Z"
   },
   {
    "duration": 333,
    "start_time": "2022-08-01T13:13:25.187Z"
   },
   {
    "duration": 21,
    "start_time": "2022-08-01T13:13:25.525Z"
   },
   {
    "duration": 12,
    "start_time": "2022-08-01T13:13:25.549Z"
   },
   {
    "duration": 87,
    "start_time": "2022-08-01T13:13:25.562Z"
   },
   {
    "duration": 11,
    "start_time": "2022-08-01T13:13:25.650Z"
   },
   {
    "duration": 44,
    "start_time": "2022-08-01T13:13:25.662Z"
   },
   {
    "duration": 17,
    "start_time": "2022-08-01T13:13:25.707Z"
   },
   {
    "duration": 3,
    "start_time": "2022-08-01T13:13:25.725Z"
   },
   {
    "duration": 16,
    "start_time": "2022-08-01T13:13:25.729Z"
   },
   {
    "duration": 103,
    "start_time": "2022-08-01T13:13:25.797Z"
   },
   {
    "duration": 196,
    "start_time": "2022-08-01T13:13:25.902Z"
   },
   {
    "duration": 97,
    "start_time": "2022-08-01T13:13:26.102Z"
   },
   {
    "duration": 24,
    "start_time": "2022-08-01T13:13:26.201Z"
   },
   {
    "duration": 5,
    "start_time": "2022-08-01T13:13:26.227Z"
   },
   {
    "duration": 8,
    "start_time": "2022-08-01T13:13:26.234Z"
   },
   {
    "duration": 5,
    "start_time": "2022-08-01T13:13:26.244Z"
   },
   {
    "duration": 142,
    "start_time": "2022-08-01T13:13:26.250Z"
   },
   {
    "duration": 0,
    "start_time": "2022-08-01T13:13:26.393Z"
   },
   {
    "duration": 11,
    "start_time": "2022-08-01T13:14:09.181Z"
   },
   {
    "duration": 3,
    "start_time": "2022-08-01T13:14:13.110Z"
   },
   {
    "duration": 12,
    "start_time": "2022-08-01T13:14:13.721Z"
   },
   {
    "duration": 4,
    "start_time": "2022-08-01T13:18:30.080Z"
   },
   {
    "duration": 12,
    "start_time": "2022-08-01T13:18:30.401Z"
   },
   {
    "duration": 1379,
    "start_time": "2022-08-01T13:18:35.879Z"
   },
   {
    "duration": 358,
    "start_time": "2022-08-01T13:18:37.260Z"
   },
   {
    "duration": 328,
    "start_time": "2022-08-01T13:18:37.619Z"
   },
   {
    "duration": 14,
    "start_time": "2022-08-01T13:18:37.949Z"
   },
   {
    "duration": 12,
    "start_time": "2022-08-01T13:18:37.964Z"
   },
   {
    "duration": 77,
    "start_time": "2022-08-01T13:18:37.977Z"
   },
   {
    "duration": 11,
    "start_time": "2022-08-01T13:18:38.056Z"
   },
   {
    "duration": 38,
    "start_time": "2022-08-01T13:18:38.069Z"
   },
   {
    "duration": 13,
    "start_time": "2022-08-01T13:18:38.109Z"
   },
   {
    "duration": 2,
    "start_time": "2022-08-01T13:18:38.125Z"
   },
   {
    "duration": 19,
    "start_time": "2022-08-01T13:18:38.128Z"
   },
   {
    "duration": 106,
    "start_time": "2022-08-01T13:18:38.197Z"
   },
   {
    "duration": 102,
    "start_time": "2022-08-01T13:18:38.305Z"
   },
   {
    "duration": 191,
    "start_time": "2022-08-01T13:18:38.408Z"
   },
   {
    "duration": 10,
    "start_time": "2022-08-01T13:18:38.601Z"
   },
   {
    "duration": 4,
    "start_time": "2022-08-01T13:18:38.612Z"
   },
   {
    "duration": 18,
    "start_time": "2022-08-01T13:18:38.617Z"
   },
   {
    "duration": 4,
    "start_time": "2022-08-01T13:18:38.637Z"
   },
   {
    "duration": 140,
    "start_time": "2022-08-01T13:18:38.642Z"
   },
   {
    "duration": 0,
    "start_time": "2022-08-01T13:18:38.783Z"
   },
   {
    "duration": 1369,
    "start_time": "2022-08-01T13:21:26.196Z"
   },
   {
    "duration": 352,
    "start_time": "2022-08-01T13:21:27.566Z"
   },
   {
    "duration": 330,
    "start_time": "2022-08-01T13:21:27.919Z"
   },
   {
    "duration": 16,
    "start_time": "2022-08-01T13:21:28.251Z"
   },
   {
    "duration": 17,
    "start_time": "2022-08-01T13:21:28.270Z"
   },
   {
    "duration": 60,
    "start_time": "2022-08-01T13:21:28.297Z"
   },
   {
    "duration": 40,
    "start_time": "2022-08-01T13:21:28.358Z"
   },
   {
    "duration": 12,
    "start_time": "2022-08-01T13:21:28.399Z"
   },
   {
    "duration": 11,
    "start_time": "2022-08-01T13:21:28.413Z"
   },
   {
    "duration": 2,
    "start_time": "2022-08-01T13:21:28.426Z"
   },
   {
    "duration": 68,
    "start_time": "2022-08-01T13:21:28.429Z"
   },
   {
    "duration": 106,
    "start_time": "2022-08-01T13:21:28.498Z"
   },
   {
    "duration": 101,
    "start_time": "2022-08-01T13:21:28.605Z"
   },
   {
    "duration": 3,
    "start_time": "2022-08-01T13:21:28.799Z"
   },
   {
    "duration": 100,
    "start_time": "2022-08-01T13:21:28.804Z"
   },
   {
    "duration": 4,
    "start_time": "2022-08-01T13:21:28.906Z"
   },
   {
    "duration": 18,
    "start_time": "2022-08-01T13:21:28.911Z"
   },
   {
    "duration": 6,
    "start_time": "2022-08-01T13:21:28.930Z"
   },
   {
    "duration": 140,
    "start_time": "2022-08-01T13:21:28.937Z"
   },
   {
    "duration": 0,
    "start_time": "2022-08-01T13:21:29.079Z"
   },
   {
    "duration": 1379,
    "start_time": "2022-08-01T13:21:49.970Z"
   },
   {
    "duration": 350,
    "start_time": "2022-08-01T13:21:51.351Z"
   },
   {
    "duration": 315,
    "start_time": "2022-08-01T13:21:51.703Z"
   },
   {
    "duration": 15,
    "start_time": "2022-08-01T13:21:52.019Z"
   },
   {
    "duration": 15,
    "start_time": "2022-08-01T13:21:52.036Z"
   },
   {
    "duration": 83,
    "start_time": "2022-08-01T13:21:52.053Z"
   },
   {
    "duration": 12,
    "start_time": "2022-08-01T13:21:52.137Z"
   },
   {
    "duration": 12,
    "start_time": "2022-08-01T13:21:52.150Z"
   },
   {
    "duration": 45,
    "start_time": "2022-08-01T13:21:52.163Z"
   },
   {
    "duration": 2,
    "start_time": "2022-08-01T13:21:52.210Z"
   },
   {
    "duration": 84,
    "start_time": "2022-08-01T13:21:52.214Z"
   },
   {
    "duration": 102,
    "start_time": "2022-08-01T13:21:52.300Z"
   },
   {
    "duration": 207,
    "start_time": "2022-08-01T13:21:52.404Z"
   },
   {
    "duration": 2,
    "start_time": "2022-08-01T13:21:52.614Z"
   },
   {
    "duration": 185,
    "start_time": "2022-08-01T13:21:52.618Z"
   },
   {
    "duration": 4,
    "start_time": "2022-08-01T13:21:52.805Z"
   },
   {
    "duration": 6,
    "start_time": "2022-08-01T13:21:52.811Z"
   },
   {
    "duration": 5,
    "start_time": "2022-08-01T13:21:52.819Z"
   },
   {
    "duration": 149,
    "start_time": "2022-08-01T13:21:52.826Z"
   },
   {
    "duration": 0,
    "start_time": "2022-08-01T13:21:52.977Z"
   },
   {
    "duration": 11,
    "start_time": "2022-08-01T13:22:42.120Z"
   },
   {
    "duration": 9,
    "start_time": "2022-08-01T13:22:56.404Z"
   },
   {
    "duration": 4,
    "start_time": "2022-08-01T13:23:01.285Z"
   },
   {
    "duration": 8,
    "start_time": "2022-08-01T13:23:02.575Z"
   },
   {
    "duration": 10,
    "start_time": "2022-08-01T13:23:39.166Z"
   },
   {
    "duration": 4,
    "start_time": "2022-08-01T13:29:07.140Z"
   },
   {
    "duration": 12,
    "start_time": "2022-08-01T13:29:07.574Z"
   },
   {
    "duration": 3,
    "start_time": "2022-08-01T13:29:57.919Z"
   },
   {
    "duration": 4,
    "start_time": "2022-08-01T13:30:02.715Z"
   },
   {
    "duration": 4,
    "start_time": "2022-08-01T13:30:05.139Z"
   },
   {
    "duration": 10,
    "start_time": "2022-08-01T13:30:05.334Z"
   },
   {
    "duration": 3,
    "start_time": "2022-08-01T13:30:05.539Z"
   },
   {
    "duration": 12,
    "start_time": "2022-08-01T13:30:05.709Z"
   },
   {
    "duration": 9,
    "start_time": "2022-08-01T13:31:33.680Z"
   },
   {
    "duration": 4,
    "start_time": "2022-08-01T13:31:45.349Z"
   },
   {
    "duration": 9,
    "start_time": "2022-08-01T13:36:06.799Z"
   },
   {
    "duration": 11,
    "start_time": "2022-08-01T13:36:31.480Z"
   },
   {
    "duration": 15,
    "start_time": "2022-08-01T13:36:31.709Z"
   },
   {
    "duration": 8,
    "start_time": "2022-08-01T13:38:41.154Z"
   },
   {
    "duration": 9,
    "start_time": "2022-08-01T13:38:43.684Z"
   },
   {
    "duration": 9,
    "start_time": "2022-08-01T13:38:45.914Z"
   },
   {
    "duration": 9,
    "start_time": "2022-08-01T13:38:51.789Z"
   },
   {
    "duration": 3,
    "start_time": "2022-08-01T13:42:29.859Z"
   },
   {
    "duration": 4,
    "start_time": "2022-08-01T13:42:39.573Z"
   },
   {
    "duration": 10,
    "start_time": "2022-08-01T13:51:14.862Z"
   },
   {
    "duration": 12,
    "start_time": "2022-08-01T13:51:23.109Z"
   },
   {
    "duration": 6,
    "start_time": "2022-08-01T13:51:45.529Z"
   },
   {
    "duration": 3,
    "start_time": "2022-08-01T13:51:52.719Z"
   },
   {
    "duration": 4,
    "start_time": "2022-08-01T13:51:55.698Z"
   },
   {
    "duration": 4,
    "start_time": "2022-08-01T13:51:57.178Z"
   },
   {
    "duration": 4,
    "start_time": "2022-08-01T13:51:57.568Z"
   },
   {
    "duration": 12,
    "start_time": "2022-08-01T13:51:58.218Z"
   },
   {
    "duration": 12,
    "start_time": "2022-08-01T13:51:58.916Z"
   },
   {
    "duration": 1685,
    "start_time": "2022-08-02T06:19:09.265Z"
   },
   {
    "duration": 1923,
    "start_time": "2022-08-02T06:19:10.952Z"
   },
   {
    "duration": 348,
    "start_time": "2022-08-02T06:19:12.877Z"
   },
   {
    "duration": 16,
    "start_time": "2022-08-02T06:19:13.226Z"
   },
   {
    "duration": 10,
    "start_time": "2022-08-02T06:19:13.244Z"
   },
   {
    "duration": 103,
    "start_time": "2022-08-02T06:19:13.256Z"
   },
   {
    "duration": 12,
    "start_time": "2022-08-02T06:19:13.361Z"
   },
   {
    "duration": 49,
    "start_time": "2022-08-02T06:19:13.375Z"
   },
   {
    "duration": 15,
    "start_time": "2022-08-02T06:19:13.425Z"
   },
   {
    "duration": 3,
    "start_time": "2022-08-02T06:19:13.442Z"
   },
   {
    "duration": 171,
    "start_time": "2022-08-02T06:19:13.447Z"
   },
   {
    "duration": 86,
    "start_time": "2022-08-02T06:19:13.623Z"
   },
   {
    "duration": 101,
    "start_time": "2022-08-02T06:19:13.713Z"
   },
   {
    "duration": 3,
    "start_time": "2022-08-02T06:19:13.817Z"
   },
   {
    "duration": 90,
    "start_time": "2022-08-02T06:19:13.822Z"
   },
   {
    "duration": 89,
    "start_time": "2022-08-02T06:19:13.916Z"
   },
   {
    "duration": 34,
    "start_time": "2022-08-02T06:19:14.009Z"
   },
   {
    "duration": 8,
    "start_time": "2022-08-02T06:19:14.045Z"
   },
   {
    "duration": 154,
    "start_time": "2022-08-02T06:19:14.055Z"
   },
   {
    "duration": 0,
    "start_time": "2022-08-02T06:19:14.211Z"
   },
   {
    "duration": 3,
    "start_time": "2022-08-02T06:19:24.359Z"
   },
   {
    "duration": 4,
    "start_time": "2022-08-02T06:19:25.818Z"
   },
   {
    "duration": 4,
    "start_time": "2022-08-02T06:19:26.218Z"
   },
   {
    "duration": 18,
    "start_time": "2022-08-02T06:19:27.077Z"
   },
   {
    "duration": 4,
    "start_time": "2022-08-02T06:21:19.419Z"
   },
   {
    "duration": 5,
    "start_time": "2022-08-02T06:21:24.418Z"
   },
   {
    "duration": 4,
    "start_time": "2022-08-02T06:21:28.644Z"
   },
   {
    "duration": 3,
    "start_time": "2022-08-02T06:21:33.970Z"
   },
   {
    "duration": 24,
    "start_time": "2022-08-02T06:21:34.575Z"
   },
   {
    "duration": 4,
    "start_time": "2022-08-02T06:21:48.718Z"
   },
   {
    "duration": 23,
    "start_time": "2022-08-02T06:21:49.179Z"
   },
   {
    "duration": 17,
    "start_time": "2022-08-02T06:21:50.133Z"
   },
   {
    "duration": 19,
    "start_time": "2022-08-02T06:25:46.671Z"
   },
   {
    "duration": 12,
    "start_time": "2022-08-02T06:25:48.620Z"
   },
   {
    "duration": 12,
    "start_time": "2022-08-02T06:25:49.221Z"
   },
   {
    "duration": 11,
    "start_time": "2022-08-02T06:25:49.781Z"
   },
   {
    "duration": 3,
    "start_time": "2022-08-02T06:25:50.071Z"
   },
   {
    "duration": 56,
    "start_time": "2022-08-02T06:25:50.352Z"
   },
   {
    "duration": 14,
    "start_time": "2022-08-02T06:25:50.652Z"
   },
   {
    "duration": 17,
    "start_time": "2022-08-02T06:25:50.990Z"
   },
   {
    "duration": 3,
    "start_time": "2022-08-02T06:25:51.822Z"
   },
   {
    "duration": 10,
    "start_time": "2022-08-02T06:25:52.071Z"
   },
   {
    "duration": 3,
    "start_time": "2022-08-02T06:25:52.656Z"
   },
   {
    "duration": 3,
    "start_time": "2022-08-02T06:25:53.020Z"
   },
   {
    "duration": 3,
    "start_time": "2022-08-02T06:25:53.226Z"
   },
   {
    "duration": 21,
    "start_time": "2022-08-02T06:25:53.455Z"
   },
   {
    "duration": 13,
    "start_time": "2022-08-02T06:25:54.126Z"
   },
   {
    "duration": 3,
    "start_time": "2022-08-02T06:26:06.318Z"
   },
   {
    "duration": 5,
    "start_time": "2022-08-02T06:26:06.542Z"
   },
   {
    "duration": 3,
    "start_time": "2022-08-02T06:26:06.784Z"
   },
   {
    "duration": 22,
    "start_time": "2022-08-02T06:26:06.976Z"
   },
   {
    "duration": 11,
    "start_time": "2022-08-02T06:26:07.886Z"
   },
   {
    "duration": 1454,
    "start_time": "2022-08-02T06:28:42.466Z"
   },
   {
    "duration": 406,
    "start_time": "2022-08-02T06:28:43.922Z"
   },
   {
    "duration": 357,
    "start_time": "2022-08-02T06:28:44.329Z"
   },
   {
    "duration": 37,
    "start_time": "2022-08-02T06:28:44.688Z"
   },
   {
    "duration": 9,
    "start_time": "2022-08-02T06:28:44.727Z"
   },
   {
    "duration": 95,
    "start_time": "2022-08-02T06:28:44.738Z"
   },
   {
    "duration": 14,
    "start_time": "2022-08-02T06:28:44.834Z"
   },
   {
    "duration": 15,
    "start_time": "2022-08-02T06:28:44.850Z"
   },
   {
    "duration": 50,
    "start_time": "2022-08-02T06:28:44.867Z"
   },
   {
    "duration": 2,
    "start_time": "2022-08-02T06:28:44.920Z"
   },
   {
    "duration": 90,
    "start_time": "2022-08-02T06:28:44.924Z"
   },
   {
    "duration": 107,
    "start_time": "2022-08-02T06:28:45.016Z"
   },
   {
    "duration": 209,
    "start_time": "2022-08-02T06:28:45.125Z"
   },
   {
    "duration": 119,
    "start_time": "2022-08-02T06:28:45.404Z"
   },
   {
    "duration": 12,
    "start_time": "2022-08-02T06:28:45.525Z"
   },
   {
    "duration": 4,
    "start_time": "2022-08-02T06:28:45.538Z"
   },
   {
    "duration": 117,
    "start_time": "2022-08-02T06:28:45.544Z"
   },
   {
    "duration": 9,
    "start_time": "2022-08-02T06:29:41.446Z"
   },
   {
    "duration": 5,
    "start_time": "2022-08-02T06:29:48.635Z"
   },
   {
    "duration": 3,
    "start_time": "2022-08-02T06:31:20.931Z"
   },
   {
    "duration": 14,
    "start_time": "2022-08-02T06:31:21.532Z"
   },
   {
    "duration": 5,
    "start_time": "2022-08-02T06:31:25.229Z"
   },
   {
    "duration": 4,
    "start_time": "2022-08-02T06:31:25.830Z"
   },
   {
    "duration": 22,
    "start_time": "2022-08-02T06:31:25.872Z"
   },
   {
    "duration": 4,
    "start_time": "2022-08-02T06:31:49.562Z"
   },
   {
    "duration": 4,
    "start_time": "2022-08-02T06:31:49.783Z"
   },
   {
    "duration": 13,
    "start_time": "2022-08-02T06:31:50.426Z"
   },
   {
    "duration": 4,
    "start_time": "2022-08-02T06:32:08.025Z"
   },
   {
    "duration": 10,
    "start_time": "2022-08-02T06:32:08.253Z"
   },
   {
    "duration": 10,
    "start_time": "2022-08-02T06:32:52.848Z"
   },
   {
    "duration": 11,
    "start_time": "2022-08-02T06:33:04.078Z"
   },
   {
    "duration": 14,
    "start_time": "2022-08-02T06:33:16.034Z"
   },
   {
    "duration": 19,
    "start_time": "2022-08-02T06:56:36.060Z"
   },
   {
    "duration": 14,
    "start_time": "2022-08-02T06:58:27.555Z"
   },
   {
    "duration": 12,
    "start_time": "2022-08-02T07:02:47.042Z"
   },
   {
    "duration": 13,
    "start_time": "2022-08-02T07:02:59.002Z"
   },
   {
    "duration": 13,
    "start_time": "2022-08-02T07:23:49.544Z"
   },
   {
    "duration": 14,
    "start_time": "2022-08-02T07:25:34.963Z"
   },
   {
    "duration": 15,
    "start_time": "2022-08-02T07:34:12.443Z"
   },
   {
    "duration": 15,
    "start_time": "2022-08-02T07:34:59.149Z"
   },
   {
    "duration": 7,
    "start_time": "2022-08-02T07:37:55.734Z"
   },
   {
    "duration": 6,
    "start_time": "2022-08-02T07:38:03.743Z"
   },
   {
    "duration": 9,
    "start_time": "2022-08-02T07:38:14.826Z"
   },
   {
    "duration": 21,
    "start_time": "2022-08-02T07:38:44.726Z"
   },
   {
    "duration": 9,
    "start_time": "2022-08-02T07:40:00.578Z"
   },
   {
    "duration": 1634,
    "start_time": "2022-08-02T07:40:01.734Z"
   },
   {
    "duration": 7,
    "start_time": "2022-08-02T07:58:45.193Z"
   },
   {
    "duration": 16,
    "start_time": "2022-08-02T07:58:45.663Z"
   },
   {
    "duration": 6,
    "start_time": "2022-08-02T07:59:17.242Z"
   },
   {
    "duration": 1657,
    "start_time": "2022-08-02T07:59:17.453Z"
   },
   {
    "duration": 13,
    "start_time": "2022-08-02T08:04:47.773Z"
   },
   {
    "duration": 13,
    "start_time": "2022-08-02T08:08:35.732Z"
   },
   {
    "duration": 15,
    "start_time": "2022-08-02T08:11:21.844Z"
   },
   {
    "duration": 125,
    "start_time": "2022-08-02T08:15:20.088Z"
   },
   {
    "duration": 143,
    "start_time": "2022-08-02T08:15:44.144Z"
   },
   {
    "duration": 95,
    "start_time": "2022-08-02T08:15:50.252Z"
   },
   {
    "duration": 91,
    "start_time": "2022-08-02T08:15:54.240Z"
   },
   {
    "duration": 111,
    "start_time": "2022-08-02T08:15:57.954Z"
   },
   {
    "duration": 14,
    "start_time": "2022-08-02T08:16:04.836Z"
   },
   {
    "duration": 14,
    "start_time": "2022-08-02T08:16:54.782Z"
   },
   {
    "duration": 13,
    "start_time": "2022-08-02T08:17:01.158Z"
   },
   {
    "duration": 17,
    "start_time": "2022-08-02T08:19:47.959Z"
   },
   {
    "duration": 14,
    "start_time": "2022-08-02T08:19:53.263Z"
   },
   {
    "duration": 18,
    "start_time": "2022-08-02T08:33:06.557Z"
   },
   {
    "duration": 14,
    "start_time": "2022-08-02T08:33:54.037Z"
   },
   {
    "duration": 32,
    "start_time": "2022-08-02T08:34:29.758Z"
   },
   {
    "duration": 8,
    "start_time": "2022-08-02T08:34:30.769Z"
   },
   {
    "duration": 22,
    "start_time": "2022-08-02T08:34:43.473Z"
   },
   {
    "duration": 20,
    "start_time": "2022-08-02T08:36:25.434Z"
   },
   {
    "duration": 15,
    "start_time": "2022-08-02T08:36:58.437Z"
   },
   {
    "duration": 30,
    "start_time": "2022-08-02T08:37:08.189Z"
   },
   {
    "duration": 13,
    "start_time": "2022-08-02T08:37:26.198Z"
   },
   {
    "duration": 1580,
    "start_time": "2022-08-02T08:37:33.583Z"
   },
   {
    "duration": 1601,
    "start_time": "2022-08-02T08:48:04.837Z"
   },
   {
    "duration": 6,
    "start_time": "2022-08-02T08:48:13.874Z"
   },
   {
    "duration": 1565,
    "start_time": "2022-08-02T08:56:52.363Z"
   },
   {
    "duration": 1648,
    "start_time": "2022-08-02T08:57:18.878Z"
   },
   {
    "duration": 88,
    "start_time": "2022-08-02T08:57:27.962Z"
   },
   {
    "duration": 1664,
    "start_time": "2022-08-02T09:05:03.281Z"
   },
   {
    "duration": 152,
    "start_time": "2022-08-02T09:05:13.145Z"
   },
   {
    "duration": 5,
    "start_time": "2022-08-02T09:07:19.746Z"
   },
   {
    "duration": 6,
    "start_time": "2022-08-02T09:08:00.732Z"
   },
   {
    "duration": 8,
    "start_time": "2022-08-02T09:08:13.385Z"
   },
   {
    "duration": 7,
    "start_time": "2022-08-02T09:12:39.442Z"
   },
   {
    "duration": 12,
    "start_time": "2022-08-02T09:13:14.346Z"
   },
   {
    "duration": 0,
    "start_time": "2022-08-02T09:13:39.687Z"
   },
   {
    "duration": 7,
    "start_time": "2022-08-02T09:13:48.245Z"
   },
   {
    "duration": 12,
    "start_time": "2022-08-02T09:13:57.542Z"
   },
   {
    "duration": 9,
    "start_time": "2022-08-02T09:14:16.008Z"
   },
   {
    "duration": 10,
    "start_time": "2022-08-02T09:14:23.185Z"
   },
   {
    "duration": 100,
    "start_time": "2022-08-02T09:15:12.865Z"
   },
   {
    "duration": 10,
    "start_time": "2022-08-02T09:15:21.355Z"
   },
   {
    "duration": 8,
    "start_time": "2022-08-02T09:16:51.300Z"
   },
   {
    "duration": 6,
    "start_time": "2022-08-02T09:17:00.131Z"
   },
   {
    "duration": 5,
    "start_time": "2022-08-02T09:17:59.875Z"
   },
   {
    "duration": 11,
    "start_time": "2022-08-02T09:19:24.874Z"
   },
   {
    "duration": 11,
    "start_time": "2022-08-02T09:19:27.745Z"
   },
   {
    "duration": 11,
    "start_time": "2022-08-02T09:19:31.080Z"
   },
   {
    "duration": 11,
    "start_time": "2022-08-02T09:19:48.030Z"
   },
   {
    "duration": 5,
    "start_time": "2022-08-02T09:19:57.065Z"
   },
   {
    "duration": 12,
    "start_time": "2022-08-02T09:20:08.980Z"
   },
   {
    "duration": 11,
    "start_time": "2022-08-02T09:20:19.745Z"
   },
   {
    "duration": 10,
    "start_time": "2022-08-02T09:20:44.691Z"
   },
   {
    "duration": 4049,
    "start_time": "2022-08-02T11:54:40.534Z"
   },
   {
    "duration": 1473,
    "start_time": "2022-08-02T11:54:44.585Z"
   },
   {
    "duration": 300,
    "start_time": "2022-08-02T11:54:46.060Z"
   },
   {
    "duration": 15,
    "start_time": "2022-08-02T11:54:46.362Z"
   },
   {
    "duration": 10,
    "start_time": "2022-08-02T11:54:46.401Z"
   },
   {
    "duration": 91,
    "start_time": "2022-08-02T11:54:46.412Z"
   },
   {
    "duration": 13,
    "start_time": "2022-08-02T11:54:46.504Z"
   },
   {
    "duration": 23,
    "start_time": "2022-08-02T11:54:46.519Z"
   },
   {
    "duration": 35,
    "start_time": "2022-08-02T11:54:46.544Z"
   },
   {
    "duration": 3,
    "start_time": "2022-08-02T11:54:46.580Z"
   },
   {
    "duration": 40,
    "start_time": "2022-08-02T11:54:46.584Z"
   },
   {
    "duration": 196,
    "start_time": "2022-08-02T11:54:46.625Z"
   },
   {
    "duration": 192,
    "start_time": "2022-08-02T11:54:46.822Z"
   },
   {
    "duration": 86,
    "start_time": "2022-08-02T11:54:47.016Z"
   },
   {
    "duration": 9,
    "start_time": "2022-08-02T11:54:47.104Z"
   },
   {
    "duration": 4,
    "start_time": "2022-08-02T11:54:47.203Z"
   },
   {
    "duration": 27,
    "start_time": "2022-08-02T11:54:47.209Z"
   },
   {
    "duration": 1435,
    "start_time": "2022-08-02T11:54:47.238Z"
   },
   {
    "duration": 1301,
    "start_time": "2022-08-02T11:54:48.675Z"
   },
   {
    "duration": 99,
    "start_time": "2022-08-02T11:54:49.978Z"
   },
   {
    "duration": 0,
    "start_time": "2022-08-02T11:54:50.079Z"
   },
   {
    "duration": 0,
    "start_time": "2022-08-02T11:54:50.080Z"
   },
   {
    "duration": 0,
    "start_time": "2022-08-02T11:54:50.081Z"
   },
   {
    "duration": 0,
    "start_time": "2022-08-02T11:54:50.082Z"
   },
   {
    "duration": 1281,
    "start_time": "2022-08-02T11:55:09.638Z"
   },
   {
    "duration": 8,
    "start_time": "2022-08-02T11:55:10.921Z"
   },
   {
    "duration": 4,
    "start_time": "2022-08-02T11:55:22.492Z"
   },
   {
    "duration": 10,
    "start_time": "2022-08-02T11:56:57.992Z"
   },
   {
    "duration": 5,
    "start_time": "2022-08-02T11:57:04.034Z"
   },
   {
    "duration": 4,
    "start_time": "2022-08-02T11:57:34.538Z"
   },
   {
    "duration": 4,
    "start_time": "2022-08-02T11:57:37.701Z"
   },
   {
    "duration": 1342,
    "start_time": "2022-08-02T11:58:25.492Z"
   },
   {
    "duration": 1340,
    "start_time": "2022-08-02T11:58:34.638Z"
   },
   {
    "duration": 12,
    "start_time": "2022-08-02T11:59:20.903Z"
   },
   {
    "duration": 14,
    "start_time": "2022-08-02T11:59:40.342Z"
   },
   {
    "duration": 12,
    "start_time": "2022-08-02T11:59:59.873Z"
   },
   {
    "duration": 1341,
    "start_time": "2022-08-02T12:00:42.302Z"
   },
   {
    "duration": 1323,
    "start_time": "2022-08-02T12:01:08.438Z"
   },
   {
    "duration": 7,
    "start_time": "2022-08-02T12:11:27.333Z"
   },
   {
    "duration": 9,
    "start_time": "2022-08-02T12:12:23.857Z"
   },
   {
    "duration": 6,
    "start_time": "2022-08-02T12:12:33.038Z"
   },
   {
    "duration": 1302,
    "start_time": "2022-08-02T12:12:33.242Z"
   },
   {
    "duration": 1309,
    "start_time": "2022-08-02T12:12:45.893Z"
   },
   {
    "duration": 7,
    "start_time": "2022-08-02T12:13:29.202Z"
   },
   {
    "duration": 1340,
    "start_time": "2022-08-02T12:13:29.562Z"
   },
   {
    "duration": 1286,
    "start_time": "2022-08-02T12:13:32.457Z"
   },
   {
    "duration": 1301,
    "start_time": "2022-08-02T12:13:39.097Z"
   },
   {
    "duration": 6,
    "start_time": "2022-08-02T12:14:03.833Z"
   },
   {
    "duration": 18,
    "start_time": "2022-08-02T12:14:05.033Z"
   },
   {
    "duration": 6,
    "start_time": "2022-08-02T12:14:38.488Z"
   },
   {
    "duration": 44,
    "start_time": "2022-08-02T12:14:38.495Z"
   },
   {
    "duration": 6,
    "start_time": "2022-08-02T12:15:00.777Z"
   },
   {
    "duration": 11,
    "start_time": "2022-08-02T12:15:01.934Z"
   },
   {
    "duration": 5,
    "start_time": "2022-08-02T12:15:18.693Z"
   },
   {
    "duration": 12,
    "start_time": "2022-08-02T12:15:19.528Z"
   },
   {
    "duration": 5,
    "start_time": "2022-08-02T12:15:27.288Z"
   },
   {
    "duration": 1330,
    "start_time": "2022-08-02T12:15:27.609Z"
   },
   {
    "duration": 1298,
    "start_time": "2022-08-02T12:15:32.592Z"
   },
   {
    "duration": 1309,
    "start_time": "2022-08-02T12:15:42.408Z"
   },
   {
    "duration": 6,
    "start_time": "2022-08-02T12:20:08.129Z"
   },
   {
    "duration": 1401,
    "start_time": "2022-08-02T12:20:08.137Z"
   },
   {
    "duration": 1311,
    "start_time": "2022-08-02T12:20:09.540Z"
   },
   {
    "duration": 1304,
    "start_time": "2022-08-02T12:20:10.853Z"
   },
   {
    "duration": 5,
    "start_time": "2022-08-02T12:22:32.828Z"
   },
   {
    "duration": 1326,
    "start_time": "2022-08-02T12:22:33.197Z"
   },
   {
    "duration": 1512,
    "start_time": "2022-08-02T12:22:36.597Z"
   },
   {
    "duration": 1347,
    "start_time": "2022-08-02T12:22:38.997Z"
   },
   {
    "duration": 1289,
    "start_time": "2022-08-02T12:24:38.746Z"
   },
   {
    "duration": 329,
    "start_time": "2022-08-02T12:24:40.037Z"
   },
   {
    "duration": 303,
    "start_time": "2022-08-02T12:24:40.368Z"
   },
   {
    "duration": 30,
    "start_time": "2022-08-02T12:24:40.672Z"
   },
   {
    "duration": 9,
    "start_time": "2022-08-02T12:24:40.704Z"
   },
   {
    "duration": 101,
    "start_time": "2022-08-02T12:24:40.714Z"
   },
   {
    "duration": 14,
    "start_time": "2022-08-02T12:24:40.817Z"
   },
   {
    "duration": 18,
    "start_time": "2022-08-02T12:24:40.833Z"
   },
   {
    "duration": 13,
    "start_time": "2022-08-02T12:24:40.853Z"
   },
   {
    "duration": 3,
    "start_time": "2022-08-02T12:24:40.867Z"
   },
   {
    "duration": 23,
    "start_time": "2022-08-02T12:24:40.901Z"
   },
   {
    "duration": 105,
    "start_time": "2022-08-02T12:24:41.003Z"
   },
   {
    "duration": 118,
    "start_time": "2022-08-02T12:24:41.110Z"
   },
   {
    "duration": 76,
    "start_time": "2022-08-02T12:24:41.230Z"
   },
   {
    "duration": 106,
    "start_time": "2022-08-02T12:24:41.308Z"
   },
   {
    "duration": 1373,
    "start_time": "2022-08-02T12:24:41.416Z"
   },
   {
    "duration": 11,
    "start_time": "2022-08-02T12:24:42.791Z"
   },
   {
    "duration": 6,
    "start_time": "2022-08-02T12:24:42.803Z"
   },
   {
    "duration": 1454,
    "start_time": "2022-08-02T12:24:42.810Z"
   },
   {
    "duration": 1379,
    "start_time": "2022-08-02T12:24:44.266Z"
   },
   {
    "duration": 1317,
    "start_time": "2022-08-02T12:24:45.646Z"
   },
   {
    "duration": 110,
    "start_time": "2022-08-02T12:37:55.059Z"
   },
   {
    "duration": 51,
    "start_time": "2022-08-02T12:37:55.451Z"
   },
   {
    "duration": 3,
    "start_time": "2022-08-02T12:38:00.682Z"
   },
   {
    "duration": 14,
    "start_time": "2022-08-02T12:38:01.099Z"
   },
   {
    "duration": 42,
    "start_time": "2022-08-02T12:38:02.779Z"
   },
   {
    "duration": 1281,
    "start_time": "2022-08-02T12:38:17.434Z"
   },
   {
    "duration": 325,
    "start_time": "2022-08-02T12:38:18.717Z"
   },
   {
    "duration": 310,
    "start_time": "2022-08-02T12:38:19.043Z"
   },
   {
    "duration": 15,
    "start_time": "2022-08-02T12:38:19.355Z"
   },
   {
    "duration": 16,
    "start_time": "2022-08-02T12:38:19.372Z"
   },
   {
    "duration": 73,
    "start_time": "2022-08-02T12:38:19.390Z"
   },
   {
    "duration": 46,
    "start_time": "2022-08-02T12:38:19.465Z"
   },
   {
    "duration": 16,
    "start_time": "2022-08-02T12:38:19.512Z"
   },
   {
    "duration": 13,
    "start_time": "2022-08-02T12:38:19.530Z"
   },
   {
    "duration": 2,
    "start_time": "2022-08-02T12:38:19.545Z"
   },
   {
    "duration": 59,
    "start_time": "2022-08-02T12:38:19.549Z"
   },
   {
    "duration": 111,
    "start_time": "2022-08-02T12:38:19.610Z"
   },
   {
    "duration": 105,
    "start_time": "2022-08-02T12:38:19.803Z"
   },
   {
    "duration": 92,
    "start_time": "2022-08-02T12:38:19.911Z"
   },
   {
    "duration": 100,
    "start_time": "2022-08-02T12:38:20.005Z"
   },
   {
    "duration": 1314,
    "start_time": "2022-08-02T12:38:20.107Z"
   },
   {
    "duration": 5,
    "start_time": "2022-08-02T12:38:21.423Z"
   },
   {
    "duration": 9,
    "start_time": "2022-08-02T12:38:21.430Z"
   },
   {
    "duration": 1297,
    "start_time": "2022-08-02T12:38:21.441Z"
   },
   {
    "duration": 1312,
    "start_time": "2022-08-02T12:38:22.740Z"
   },
   {
    "duration": 1285,
    "start_time": "2022-08-02T12:38:24.054Z"
   },
   {
    "duration": 5,
    "start_time": "2022-08-02T12:39:46.927Z"
   },
   {
    "duration": 99,
    "start_time": "2022-08-02T12:39:54.123Z"
   },
   {
    "duration": 4,
    "start_time": "2022-08-02T12:40:00.225Z"
   },
   {
    "duration": 3,
    "start_time": "2022-08-02T12:40:06.646Z"
   },
   {
    "duration": 4,
    "start_time": "2022-08-02T12:40:11.185Z"
   },
   {
    "duration": 4,
    "start_time": "2022-08-02T12:40:19.285Z"
   },
   {
    "duration": 4,
    "start_time": "2022-08-02T12:40:22.128Z"
   },
   {
    "duration": 4,
    "start_time": "2022-08-02T12:40:24.427Z"
   },
   {
    "duration": 1251,
    "start_time": "2022-08-02T12:40:30.496Z"
   },
   {
    "duration": 4,
    "start_time": "2022-08-02T12:40:31.749Z"
   },
   {
    "duration": 16,
    "start_time": "2022-08-02T12:40:31.755Z"
   },
   {
    "duration": 1248,
    "start_time": "2022-08-02T12:40:32.036Z"
   },
   {
    "duration": 1284,
    "start_time": "2022-08-02T12:40:33.286Z"
   },
   {
    "duration": 1274,
    "start_time": "2022-08-02T12:40:34.572Z"
   },
   {
    "duration": 1299,
    "start_time": "2022-08-02T12:40:44.411Z"
   },
   {
    "duration": 5,
    "start_time": "2022-08-02T12:40:45.712Z"
   },
   {
    "duration": 10,
    "start_time": "2022-08-02T12:40:45.718Z"
   },
   {
    "duration": 1281,
    "start_time": "2022-08-02T12:40:45.729Z"
   },
   {
    "duration": 1355,
    "start_time": "2022-08-02T12:40:47.012Z"
   },
   {
    "duration": 1267,
    "start_time": "2022-08-02T12:40:48.369Z"
   },
   {
    "duration": 6,
    "start_time": "2022-08-02T12:42:53.866Z"
   },
   {
    "duration": 1284,
    "start_time": "2022-08-02T12:42:54.055Z"
   },
   {
    "duration": 1275,
    "start_time": "2022-08-02T12:42:55.341Z"
   },
   {
    "duration": 1362,
    "start_time": "2022-08-02T12:42:56.617Z"
   },
   {
    "duration": 1253,
    "start_time": "2022-08-02T12:44:45.859Z"
   },
   {
    "duration": 345,
    "start_time": "2022-08-02T12:44:47.114Z"
   },
   {
    "duration": 352,
    "start_time": "2022-08-02T12:44:47.461Z"
   },
   {
    "duration": 17,
    "start_time": "2022-08-02T12:44:47.815Z"
   },
   {
    "duration": 14,
    "start_time": "2022-08-02T12:44:47.834Z"
   },
   {
    "duration": 76,
    "start_time": "2022-08-02T12:44:47.849Z"
   },
   {
    "duration": 13,
    "start_time": "2022-08-02T12:44:47.926Z"
   },
   {
    "duration": 14,
    "start_time": "2022-08-02T12:44:47.941Z"
   },
   {
    "duration": 14,
    "start_time": "2022-08-02T12:44:47.956Z"
   },
   {
    "duration": 2,
    "start_time": "2022-08-02T12:44:48.004Z"
   },
   {
    "duration": 94,
    "start_time": "2022-08-02T12:44:48.008Z"
   },
   {
    "duration": 105,
    "start_time": "2022-08-02T12:44:48.103Z"
   },
   {
    "duration": 189,
    "start_time": "2022-08-02T12:44:48.213Z"
   },
   {
    "duration": 4,
    "start_time": "2022-08-02T12:44:48.404Z"
   },
   {
    "duration": 100,
    "start_time": "2022-08-02T12:44:48.410Z"
   },
   {
    "duration": 7,
    "start_time": "2022-08-02T12:44:48.511Z"
   },
   {
    "duration": 5,
    "start_time": "2022-08-02T12:44:48.519Z"
   },
   {
    "duration": 9,
    "start_time": "2022-08-02T12:44:48.526Z"
   },
   {
    "duration": 6,
    "start_time": "2022-08-02T12:44:48.536Z"
   },
   {
    "duration": 107,
    "start_time": "2022-08-02T12:44:48.544Z"
   },
   {
    "duration": 0,
    "start_time": "2022-08-02T12:44:48.653Z"
   },
   {
    "duration": 0,
    "start_time": "2022-08-02T12:44:48.654Z"
   },
   {
    "duration": 6,
    "start_time": "2022-08-02T12:46:42.179Z"
   },
   {
    "duration": 1322,
    "start_time": "2022-08-02T12:46:42.186Z"
   },
   {
    "duration": 1330,
    "start_time": "2022-08-02T12:46:44.229Z"
   },
   {
    "duration": 1379,
    "start_time": "2022-08-02T12:46:46.729Z"
   },
   {
    "duration": 1253,
    "start_time": "2022-08-02T12:52:11.349Z"
   },
   {
    "duration": 326,
    "start_time": "2022-08-02T12:52:12.604Z"
   },
   {
    "duration": 300,
    "start_time": "2022-08-02T12:52:12.932Z"
   },
   {
    "duration": 17,
    "start_time": "2022-08-02T12:52:13.233Z"
   },
   {
    "duration": 34,
    "start_time": "2022-08-02T12:52:13.252Z"
   },
   {
    "duration": 66,
    "start_time": "2022-08-02T12:52:13.287Z"
   },
   {
    "duration": 12,
    "start_time": "2022-08-02T12:52:13.354Z"
   },
   {
    "duration": 39,
    "start_time": "2022-08-02T12:52:13.368Z"
   },
   {
    "duration": 12,
    "start_time": "2022-08-02T12:52:13.409Z"
   },
   {
    "duration": 24,
    "start_time": "2022-08-02T12:52:13.422Z"
   },
   {
    "duration": 24,
    "start_time": "2022-08-02T12:52:13.448Z"
   },
   {
    "duration": 141,
    "start_time": "2022-08-02T12:52:13.473Z"
   },
   {
    "duration": 192,
    "start_time": "2022-08-02T12:52:13.616Z"
   },
   {
    "duration": 93,
    "start_time": "2022-08-02T12:52:13.810Z"
   },
   {
    "duration": 102,
    "start_time": "2022-08-02T12:52:13.908Z"
   },
   {
    "duration": 24,
    "start_time": "2022-08-02T12:52:14.011Z"
   },
   {
    "duration": 1334,
    "start_time": "2022-08-02T12:52:14.036Z"
   },
   {
    "duration": 1303,
    "start_time": "2022-08-02T12:52:15.372Z"
   },
   {
    "duration": 1350,
    "start_time": "2022-08-02T12:52:16.677Z"
   },
   {
    "duration": 95,
    "start_time": "2022-08-02T12:54:09.549Z"
   },
   {
    "duration": 3,
    "start_time": "2022-08-02T12:54:14.379Z"
   },
   {
    "duration": 3,
    "start_time": "2022-08-02T12:54:14.670Z"
   },
   {
    "duration": 3,
    "start_time": "2022-08-02T12:54:25.149Z"
   },
   {
    "duration": 3,
    "start_time": "2022-08-02T12:54:31.139Z"
   },
   {
    "duration": 1570,
    "start_time": "2022-08-03T11:33:46.627Z"
   },
   {
    "duration": 1536,
    "start_time": "2022-08-03T11:33:48.199Z"
   },
   {
    "duration": 315,
    "start_time": "2022-08-03T11:33:49.736Z"
   },
   {
    "duration": 17,
    "start_time": "2022-08-03T11:33:50.053Z"
   },
   {
    "duration": 10,
    "start_time": "2022-08-03T11:33:50.072Z"
   },
   {
    "duration": 92,
    "start_time": "2022-08-03T11:33:50.083Z"
   },
   {
    "duration": 12,
    "start_time": "2022-08-03T11:33:50.176Z"
   },
   {
    "duration": 44,
    "start_time": "2022-08-03T11:33:50.190Z"
   },
   {
    "duration": 15,
    "start_time": "2022-08-03T11:33:50.236Z"
   },
   {
    "duration": 3,
    "start_time": "2022-08-03T11:33:50.252Z"
   },
   {
    "duration": 175,
    "start_time": "2022-08-03T11:33:50.257Z"
   },
   {
    "duration": 100,
    "start_time": "2022-08-03T11:33:50.434Z"
   },
   {
    "duration": 99,
    "start_time": "2022-08-03T11:33:50.536Z"
   },
   {
    "duration": 3,
    "start_time": "2022-08-03T11:33:50.638Z"
   },
   {
    "duration": 102,
    "start_time": "2022-08-03T11:33:50.730Z"
   },
   {
    "duration": 3,
    "start_time": "2022-08-03T11:33:50.834Z"
   },
   {
    "duration": 4,
    "start_time": "2022-08-03T11:33:50.839Z"
   },
   {
    "duration": 6,
    "start_time": "2022-08-03T11:33:50.845Z"
   },
   {
    "duration": 4,
    "start_time": "2022-08-03T11:33:50.852Z"
   },
   {
    "duration": 6,
    "start_time": "2022-08-03T11:33:50.857Z"
   },
   {
    "duration": 1322,
    "start_time": "2022-08-03T11:33:50.864Z"
   },
   {
    "duration": 1276,
    "start_time": "2022-08-03T11:33:52.188Z"
   },
   {
    "duration": 1255,
    "start_time": "2022-08-03T11:33:53.465Z"
   },
   {
    "duration": 4,
    "start_time": "2022-08-03T11:35:05.131Z"
   },
   {
    "duration": 92,
    "start_time": "2022-08-03T11:35:14.100Z"
   },
   {
    "duration": 0,
    "start_time": "2022-08-03T11:37:06.646Z"
   },
   {
    "duration": 0,
    "start_time": "2022-08-03T11:37:06.648Z"
   },
   {
    "duration": 0,
    "start_time": "2022-08-03T11:37:06.648Z"
   },
   {
    "duration": 1293,
    "start_time": "2022-08-03T11:37:13.360Z"
   },
   {
    "duration": 347,
    "start_time": "2022-08-03T11:37:14.655Z"
   },
   {
    "duration": 301,
    "start_time": "2022-08-03T11:37:15.004Z"
   },
   {
    "duration": 25,
    "start_time": "2022-08-03T11:37:15.306Z"
   },
   {
    "duration": 10,
    "start_time": "2022-08-03T11:37:15.334Z"
   },
   {
    "duration": 90,
    "start_time": "2022-08-03T11:37:15.346Z"
   },
   {
    "duration": 13,
    "start_time": "2022-08-03T11:37:15.437Z"
   },
   {
    "duration": 13,
    "start_time": "2022-08-03T11:37:15.451Z"
   },
   {
    "duration": 13,
    "start_time": "2022-08-03T11:37:15.465Z"
   },
   {
    "duration": 2,
    "start_time": "2022-08-03T11:37:15.479Z"
   },
   {
    "duration": 50,
    "start_time": "2022-08-03T11:37:15.483Z"
   },
   {
    "duration": 100,
    "start_time": "2022-08-03T11:37:15.535Z"
   },
   {
    "duration": 195,
    "start_time": "2022-08-03T11:37:15.637Z"
   },
   {
    "duration": 6,
    "start_time": "2022-08-03T11:37:15.835Z"
   },
   {
    "duration": 97,
    "start_time": "2022-08-03T11:37:15.932Z"
   },
   {
    "duration": 0,
    "start_time": "2022-08-03T11:37:16.030Z"
   },
   {
    "duration": 0,
    "start_time": "2022-08-03T11:37:16.031Z"
   },
   {
    "duration": 1,
    "start_time": "2022-08-03T11:37:16.032Z"
   },
   {
    "duration": 0,
    "start_time": "2022-08-03T11:37:16.034Z"
   },
   {
    "duration": 0,
    "start_time": "2022-08-03T11:37:16.035Z"
   },
   {
    "duration": 0,
    "start_time": "2022-08-03T11:37:16.036Z"
   },
   {
    "duration": 0,
    "start_time": "2022-08-03T11:37:16.037Z"
   },
   {
    "duration": 0,
    "start_time": "2022-08-03T11:37:16.038Z"
   },
   {
    "duration": 103,
    "start_time": "2022-08-03T11:37:36.688Z"
   },
   {
    "duration": 71,
    "start_time": "2022-08-03T11:37:41.278Z"
   },
   {
    "duration": 4,
    "start_time": "2022-08-03T11:38:21.727Z"
   },
   {
    "duration": 2,
    "start_time": "2022-08-03T11:43:25.989Z"
   },
   {
    "duration": 3,
    "start_time": "2022-08-03T11:43:26.253Z"
   },
   {
    "duration": 4,
    "start_time": "2022-08-03T11:43:27.526Z"
   },
   {
    "duration": 4,
    "start_time": "2022-08-03T11:43:28.384Z"
   },
   {
    "duration": 3,
    "start_time": "2022-08-03T11:43:51.756Z"
   },
   {
    "duration": 3,
    "start_time": "2022-08-03T11:43:52.657Z"
   },
   {
    "duration": 3,
    "start_time": "2022-08-03T11:43:53.273Z"
   },
   {
    "duration": 3,
    "start_time": "2022-08-03T11:43:53.923Z"
   },
   {
    "duration": 4,
    "start_time": "2022-08-03T11:44:55.829Z"
   },
   {
    "duration": 3,
    "start_time": "2022-08-03T11:44:56.017Z"
   },
   {
    "duration": 4,
    "start_time": "2022-08-03T11:44:56.240Z"
   },
   {
    "duration": 177,
    "start_time": "2022-08-03T11:45:03.445Z"
   },
   {
    "duration": 4,
    "start_time": "2022-08-03T11:45:03.916Z"
   },
   {
    "duration": 4,
    "start_time": "2022-08-03T11:45:04.629Z"
   },
   {
    "duration": 112,
    "start_time": "2022-08-03T11:45:15.560Z"
   },
   {
    "duration": 3,
    "start_time": "2022-08-03T11:45:18.081Z"
   },
   {
    "duration": 3,
    "start_time": "2022-08-03T11:45:18.672Z"
   },
   {
    "duration": 2,
    "start_time": "2022-08-03T11:45:19.273Z"
   },
   {
    "duration": 3,
    "start_time": "2022-08-03T11:45:19.440Z"
   },
   {
    "duration": 4,
    "start_time": "2022-08-03T11:46:38.424Z"
   },
   {
    "duration": 3,
    "start_time": "2022-08-03T11:46:38.792Z"
   },
   {
    "duration": 3,
    "start_time": "2022-08-03T11:46:39.328Z"
   },
   {
    "duration": 4,
    "start_time": "2022-08-03T11:46:39.952Z"
   },
   {
    "duration": 3,
    "start_time": "2022-08-03T11:54:20.018Z"
   },
   {
    "duration": 4,
    "start_time": "2022-08-03T11:54:20.423Z"
   },
   {
    "duration": 6,
    "start_time": "2022-08-03T11:54:21.058Z"
   },
   {
    "duration": 3,
    "start_time": "2022-08-03T11:54:21.415Z"
   },
   {
    "duration": 3,
    "start_time": "2022-08-03T11:58:42.698Z"
   },
   {
    "duration": 4,
    "start_time": "2022-08-03T11:59:50.823Z"
   },
   {
    "duration": 367,
    "start_time": "2022-08-03T11:59:51.490Z"
   },
   {
    "duration": 308,
    "start_time": "2022-08-03T11:59:51.859Z"
   },
   {
    "duration": 13,
    "start_time": "2022-08-03T11:59:52.169Z"
   },
   {
    "duration": 8,
    "start_time": "2022-08-03T11:59:52.430Z"
   },
   {
    "duration": 61,
    "start_time": "2022-08-03T11:59:52.623Z"
   },
   {
    "duration": 11,
    "start_time": "2022-08-03T11:59:53.098Z"
   },
   {
    "duration": 11,
    "start_time": "2022-08-03T11:59:53.374Z"
   },
   {
    "duration": 11,
    "start_time": "2022-08-03T11:59:53.670Z"
   },
   {
    "duration": 2,
    "start_time": "2022-08-03T11:59:53.825Z"
   },
   {
    "duration": 109,
    "start_time": "2022-08-03T11:59:54.023Z"
   },
   {
    "duration": 13,
    "start_time": "2022-08-03T11:59:54.282Z"
   },
   {
    "duration": 13,
    "start_time": "2022-08-03T11:59:54.470Z"
   },
   {
    "duration": 3,
    "start_time": "2022-08-03T11:59:55.098Z"
   },
   {
    "duration": 5,
    "start_time": "2022-08-03T11:59:55.277Z"
   },
   {
    "duration": 4,
    "start_time": "2022-08-03T11:59:55.963Z"
   },
   {
    "duration": 4,
    "start_time": "2022-08-03T11:59:55.998Z"
   },
   {
    "duration": 3,
    "start_time": "2022-08-03T11:59:56.047Z"
   },
   {
    "duration": 12,
    "start_time": "2022-08-03T11:59:56.053Z"
   },
   {
    "duration": 8,
    "start_time": "2022-08-03T11:59:56.478Z"
   },
   {
    "duration": 1410,
    "start_time": "2022-08-03T11:59:56.623Z"
   },
   {
    "duration": 1289,
    "start_time": "2022-08-03T11:59:58.035Z"
   },
   {
    "duration": 1282,
    "start_time": "2022-08-03T11:59:59.326Z"
   },
   {
    "duration": 10,
    "start_time": "2022-08-03T12:05:23.630Z"
   },
   {
    "duration": 69,
    "start_time": "2022-08-03T12:05:23.856Z"
   },
   {
    "duration": 64,
    "start_time": "2022-08-03T12:05:24.326Z"
   },
   {
    "duration": 71,
    "start_time": "2022-08-03T12:05:24.776Z"
   },
   {
    "duration": 3,
    "start_time": "2022-08-03T12:08:56.744Z"
   },
   {
    "duration": 71,
    "start_time": "2022-08-03T12:08:56.875Z"
   },
   {
    "duration": 65,
    "start_time": "2022-08-03T12:08:57.467Z"
   },
   {
    "duration": 84,
    "start_time": "2022-08-03T12:08:57.636Z"
   },
   {
    "duration": 112,
    "start_time": "2022-08-03T12:08:57.800Z"
   },
   {
    "duration": 8,
    "start_time": "2022-08-03T12:08:58.441Z"
   },
   {
    "duration": 12,
    "start_time": "2022-08-03T12:09:10.581Z"
   },
   {
    "duration": 10,
    "start_time": "2022-08-03T12:09:11.259Z"
   },
   {
    "duration": 54,
    "start_time": "2022-08-03T12:09:11.987Z"
   },
   {
    "duration": 12,
    "start_time": "2022-08-03T12:09:13.039Z"
   },
   {
    "duration": 1275,
    "start_time": "2022-08-03T12:09:17.875Z"
   },
   {
    "duration": 329,
    "start_time": "2022-08-03T12:09:19.152Z"
   },
   {
    "duration": 3,
    "start_time": "2022-08-03T12:09:19.483Z"
   },
   {
    "duration": 106,
    "start_time": "2022-08-03T12:09:19.487Z"
   },
   {
    "duration": 103,
    "start_time": "2022-08-03T12:09:19.595Z"
   },
   {
    "duration": 113,
    "start_time": "2022-08-03T12:09:19.700Z"
   },
   {
    "duration": 22,
    "start_time": "2022-08-03T12:09:19.814Z"
   },
   {
    "duration": 12,
    "start_time": "2022-08-03T12:09:19.837Z"
   },
   {
    "duration": 92,
    "start_time": "2022-08-03T12:09:19.850Z"
   },
   {
    "duration": 12,
    "start_time": "2022-08-03T12:09:19.944Z"
   },
   {
    "duration": 14,
    "start_time": "2022-08-03T12:09:19.957Z"
   },
   {
    "duration": 12,
    "start_time": "2022-08-03T12:09:19.973Z"
   },
   {
    "duration": 2,
    "start_time": "2022-08-03T12:09:19.987Z"
   },
   {
    "duration": 46,
    "start_time": "2022-08-03T12:09:19.991Z"
   },
   {
    "duration": 98,
    "start_time": "2022-08-03T12:09:20.038Z"
   },
   {
    "duration": 193,
    "start_time": "2022-08-03T12:09:20.137Z"
   },
   {
    "duration": 11,
    "start_time": "2022-08-03T12:09:20.332Z"
   },
   {
    "duration": 89,
    "start_time": "2022-08-03T12:09:20.344Z"
   },
   {
    "duration": 6,
    "start_time": "2022-08-03T12:09:20.434Z"
   },
   {
    "duration": 9,
    "start_time": "2022-08-03T12:09:20.442Z"
   },
   {
    "duration": 4,
    "start_time": "2022-08-03T12:09:20.453Z"
   },
   {
    "duration": 4,
    "start_time": "2022-08-03T12:09:20.459Z"
   },
   {
    "duration": 6,
    "start_time": "2022-08-03T12:09:20.465Z"
   },
   {
    "duration": 1350,
    "start_time": "2022-08-03T12:09:20.473Z"
   },
   {
    "duration": 1339,
    "start_time": "2022-08-03T12:09:21.825Z"
   },
   {
    "duration": 1249,
    "start_time": "2022-08-03T12:09:23.165Z"
   },
   {
    "duration": 1290,
    "start_time": "2022-08-03T12:52:55.296Z"
   },
   {
    "duration": 348,
    "start_time": "2022-08-03T12:52:56.588Z"
   },
   {
    "duration": 3,
    "start_time": "2022-08-03T12:52:56.938Z"
   },
   {
    "duration": 108,
    "start_time": "2022-08-03T12:52:56.942Z"
   },
   {
    "duration": 96,
    "start_time": "2022-08-03T12:52:57.052Z"
   },
   {
    "duration": 103,
    "start_time": "2022-08-03T12:52:57.149Z"
   },
   {
    "duration": 16,
    "start_time": "2022-08-03T12:52:57.253Z"
   },
   {
    "duration": 15,
    "start_time": "2022-08-03T12:52:57.271Z"
   },
   {
    "duration": 71,
    "start_time": "2022-08-03T12:52:57.287Z"
   },
   {
    "duration": 11,
    "start_time": "2022-08-03T12:52:57.359Z"
   },
   {
    "duration": 12,
    "start_time": "2022-08-03T12:52:57.371Z"
   },
   {
    "duration": 13,
    "start_time": "2022-08-03T12:52:57.385Z"
   },
   {
    "duration": 32,
    "start_time": "2022-08-03T12:52:57.400Z"
   },
   {
    "duration": 22,
    "start_time": "2022-08-03T12:52:57.435Z"
   },
   {
    "duration": 102,
    "start_time": "2022-08-03T12:52:57.532Z"
   },
   {
    "duration": 110,
    "start_time": "2022-08-03T12:52:57.635Z"
   },
   {
    "duration": 201,
    "start_time": "2022-08-03T12:52:57.746Z"
   },
   {
    "duration": 13,
    "start_time": "2022-08-03T12:52:57.948Z"
   },
   {
    "duration": 22,
    "start_time": "2022-08-03T12:52:57.963Z"
   },
   {
    "duration": 19,
    "start_time": "2022-08-03T12:52:57.986Z"
   },
   {
    "duration": 20,
    "start_time": "2022-08-03T12:52:58.007Z"
   },
   {
    "duration": 16,
    "start_time": "2022-08-03T12:52:58.028Z"
   },
   {
    "duration": 9,
    "start_time": "2022-08-03T12:52:58.046Z"
   },
   {
    "duration": 1302,
    "start_time": "2022-08-03T12:52:58.056Z"
   },
   {
    "duration": 1291,
    "start_time": "2022-08-03T12:52:59.359Z"
   },
   {
    "duration": 1309,
    "start_time": "2022-08-03T12:53:00.651Z"
   },
   {
    "duration": 4,
    "start_time": "2022-08-03T12:55:30.962Z"
   },
   {
    "duration": 367,
    "start_time": "2022-08-03T12:55:31.358Z"
   },
   {
    "duration": 410,
    "start_time": "2022-08-03T12:55:38.730Z"
   },
   {
    "duration": 407,
    "start_time": "2022-08-03T12:55:49.834Z"
   },
   {
    "duration": 356,
    "start_time": "2022-08-03T12:55:59.163Z"
   },
   {
    "duration": 107,
    "start_time": "2022-08-03T12:56:00.870Z"
   },
   {
    "duration": 1331,
    "start_time": "2022-08-03T12:56:23.819Z"
   },
   {
    "duration": 318,
    "start_time": "2022-08-03T12:56:25.152Z"
   },
   {
    "duration": 5,
    "start_time": "2022-08-03T12:56:25.471Z"
   },
   {
    "duration": 410,
    "start_time": "2022-08-03T12:56:25.477Z"
   },
   {
    "duration": 384,
    "start_time": "2022-08-03T12:56:25.889Z"
   },
   {
    "duration": 405,
    "start_time": "2022-08-03T12:56:26.274Z"
   },
   {
    "duration": 18,
    "start_time": "2022-08-03T12:56:26.681Z"
   },
   {
    "duration": 13,
    "start_time": "2022-08-03T12:56:26.701Z"
   },
   {
    "duration": 78,
    "start_time": "2022-08-03T12:56:26.715Z"
   },
   {
    "duration": 37,
    "start_time": "2022-08-03T12:56:26.794Z"
   },
   {
    "duration": 16,
    "start_time": "2022-08-03T12:56:26.833Z"
   },
   {
    "duration": 15,
    "start_time": "2022-08-03T12:56:26.851Z"
   },
   {
    "duration": 3,
    "start_time": "2022-08-03T12:56:26.868Z"
   },
   {
    "duration": 61,
    "start_time": "2022-08-03T12:56:26.874Z"
   },
   {
    "duration": 100,
    "start_time": "2022-08-03T12:56:26.938Z"
   },
   {
    "duration": 104,
    "start_time": "2022-08-03T12:56:27.039Z"
   },
   {
    "duration": 105,
    "start_time": "2022-08-03T12:56:27.230Z"
   },
   {
    "duration": 5,
    "start_time": "2022-08-03T12:56:27.336Z"
   },
   {
    "duration": 3,
    "start_time": "2022-08-03T12:56:27.343Z"
   },
   {
    "duration": 5,
    "start_time": "2022-08-03T12:56:27.348Z"
   },
   {
    "duration": 4,
    "start_time": "2022-08-03T12:56:27.354Z"
   },
   {
    "duration": 5,
    "start_time": "2022-08-03T12:56:27.359Z"
   },
   {
    "duration": 6,
    "start_time": "2022-08-03T12:56:27.365Z"
   },
   {
    "duration": 1392,
    "start_time": "2022-08-03T12:56:27.372Z"
   },
   {
    "duration": 1271,
    "start_time": "2022-08-03T12:56:28.765Z"
   },
   {
    "duration": 1364,
    "start_time": "2022-08-03T12:56:30.038Z"
   },
   {
    "duration": 1208,
    "start_time": "2022-08-03T12:57:04.336Z"
   },
   {
    "duration": 325,
    "start_time": "2022-08-03T12:57:05.546Z"
   },
   {
    "duration": 4,
    "start_time": "2022-08-03T12:57:05.873Z"
   },
   {
    "duration": 205,
    "start_time": "2022-08-03T12:57:05.878Z"
   },
   {
    "duration": 0,
    "start_time": "2022-08-03T12:57:06.085Z"
   },
   {
    "duration": 0,
    "start_time": "2022-08-03T12:57:06.086Z"
   },
   {
    "duration": 0,
    "start_time": "2022-08-03T12:57:06.088Z"
   },
   {
    "duration": 0,
    "start_time": "2022-08-03T12:57:06.089Z"
   },
   {
    "duration": 0,
    "start_time": "2022-08-03T12:57:06.091Z"
   },
   {
    "duration": 0,
    "start_time": "2022-08-03T12:57:06.092Z"
   },
   {
    "duration": 0,
    "start_time": "2022-08-03T12:57:06.093Z"
   },
   {
    "duration": 0,
    "start_time": "2022-08-03T12:57:06.095Z"
   },
   {
    "duration": 0,
    "start_time": "2022-08-03T12:57:06.096Z"
   },
   {
    "duration": 0,
    "start_time": "2022-08-03T12:57:06.097Z"
   },
   {
    "duration": 0,
    "start_time": "2022-08-03T12:57:06.099Z"
   },
   {
    "duration": 0,
    "start_time": "2022-08-03T12:57:06.100Z"
   },
   {
    "duration": 0,
    "start_time": "2022-08-03T12:57:06.102Z"
   },
   {
    "duration": 0,
    "start_time": "2022-08-03T12:57:06.131Z"
   },
   {
    "duration": 0,
    "start_time": "2022-08-03T12:57:06.132Z"
   },
   {
    "duration": 0,
    "start_time": "2022-08-03T12:57:06.133Z"
   },
   {
    "duration": 0,
    "start_time": "2022-08-03T12:57:06.135Z"
   },
   {
    "duration": 0,
    "start_time": "2022-08-03T12:57:06.136Z"
   },
   {
    "duration": 0,
    "start_time": "2022-08-03T12:57:06.137Z"
   },
   {
    "duration": 0,
    "start_time": "2022-08-03T12:57:06.139Z"
   },
   {
    "duration": 0,
    "start_time": "2022-08-03T12:57:06.140Z"
   },
   {
    "duration": 0,
    "start_time": "2022-08-03T12:57:06.142Z"
   },
   {
    "duration": 1280,
    "start_time": "2022-08-03T12:57:28.538Z"
   },
   {
    "duration": 333,
    "start_time": "2022-08-03T12:57:29.820Z"
   },
   {
    "duration": 4,
    "start_time": "2022-08-03T12:57:30.154Z"
   },
   {
    "duration": 402,
    "start_time": "2022-08-03T12:57:30.159Z"
   },
   {
    "duration": 398,
    "start_time": "2022-08-03T12:57:30.563Z"
   },
   {
    "duration": 390,
    "start_time": "2022-08-03T12:57:30.962Z"
   },
   {
    "duration": 15,
    "start_time": "2022-08-03T12:57:31.353Z"
   },
   {
    "duration": 12,
    "start_time": "2022-08-03T12:57:31.369Z"
   },
   {
    "duration": 76,
    "start_time": "2022-08-03T12:57:31.382Z"
   },
   {
    "duration": 11,
    "start_time": "2022-08-03T12:57:31.459Z"
   },
   {
    "duration": 12,
    "start_time": "2022-08-03T12:57:31.471Z"
   },
   {
    "duration": 47,
    "start_time": "2022-08-03T12:57:31.485Z"
   },
   {
    "duration": 2,
    "start_time": "2022-08-03T12:57:31.533Z"
   },
   {
    "duration": 21,
    "start_time": "2022-08-03T12:57:31.538Z"
   },
   {
    "duration": 80,
    "start_time": "2022-08-03T12:57:31.560Z"
   },
   {
    "duration": 106,
    "start_time": "2022-08-03T12:57:31.730Z"
   },
   {
    "duration": 94,
    "start_time": "2022-08-03T12:57:31.837Z"
   },
   {
    "duration": 7,
    "start_time": "2022-08-03T12:57:31.933Z"
   },
   {
    "duration": 93,
    "start_time": "2022-08-03T12:57:31.942Z"
   },
   {
    "duration": 5,
    "start_time": "2022-08-03T12:57:32.037Z"
   },
   {
    "duration": 6,
    "start_time": "2022-08-03T12:57:32.043Z"
   },
   {
    "duration": 6,
    "start_time": "2022-08-03T12:57:32.050Z"
   },
   {
    "duration": 5,
    "start_time": "2022-08-03T12:57:32.057Z"
   },
   {
    "duration": 1300,
    "start_time": "2022-08-03T12:57:32.064Z"
   },
   {
    "duration": 1299,
    "start_time": "2022-08-03T12:57:33.366Z"
   },
   {
    "duration": 1274,
    "start_time": "2022-08-03T12:57:34.667Z"
   },
   {
    "duration": 370,
    "start_time": "2022-08-03T12:59:35.221Z"
   },
   {
    "duration": 449,
    "start_time": "2022-08-03T12:59:49.793Z"
   },
   {
    "duration": 12,
    "start_time": "2022-08-03T13:20:39.776Z"
   },
   {
    "duration": 11,
    "start_time": "2022-08-03T13:20:40.346Z"
   },
   {
    "duration": 11,
    "start_time": "2022-08-03T13:20:41.412Z"
   },
   {
    "duration": 6,
    "start_time": "2022-08-03T13:20:41.424Z"
   },
   {
    "duration": 21,
    "start_time": "2022-08-03T13:26:19.177Z"
   },
   {
    "duration": 14,
    "start_time": "2022-08-03T13:26:27.629Z"
   },
   {
    "duration": 13,
    "start_time": "2022-08-03T13:26:28.127Z"
   },
   {
    "duration": 14,
    "start_time": "2022-08-03T13:26:28.527Z"
   },
   {
    "duration": 17,
    "start_time": "2022-08-03T13:26:57.533Z"
   },
   {
    "duration": 13,
    "start_time": "2022-08-03T13:27:14.862Z"
   },
   {
    "duration": 3,
    "start_time": "2022-08-03T13:27:52.472Z"
   },
   {
    "duration": 13,
    "start_time": "2022-08-03T13:27:52.752Z"
   },
   {
    "duration": 13,
    "start_time": "2022-08-03T13:27:53.233Z"
   },
   {
    "duration": 12,
    "start_time": "2022-08-03T13:27:53.683Z"
   },
   {
    "duration": 10,
    "start_time": "2022-08-03T13:40:23.928Z"
   },
   {
    "duration": 129,
    "start_time": "2022-08-03T13:40:41.245Z"
   },
   {
    "duration": 9,
    "start_time": "2022-08-03T13:41:18.556Z"
   },
   {
    "duration": 1565,
    "start_time": "2022-08-04T07:11:02.306Z"
   },
   {
    "duration": 769,
    "start_time": "2022-08-04T07:11:03.873Z"
   },
   {
    "duration": 3,
    "start_time": "2022-08-04T07:11:04.644Z"
   },
   {
    "duration": 515,
    "start_time": "2022-08-04T07:11:04.649Z"
   },
   {
    "duration": 430,
    "start_time": "2022-08-04T07:11:05.167Z"
   },
   {
    "duration": 450,
    "start_time": "2022-08-04T07:11:05.599Z"
   },
   {
    "duration": 18,
    "start_time": "2022-08-04T07:11:06.051Z"
   },
   {
    "duration": 82,
    "start_time": "2022-08-04T07:11:06.071Z"
   },
   {
    "duration": 11,
    "start_time": "2022-08-04T07:11:06.155Z"
   },
   {
    "duration": 44,
    "start_time": "2022-08-04T07:11:06.167Z"
   },
   {
    "duration": 57,
    "start_time": "2022-08-04T07:11:06.213Z"
   },
   {
    "duration": 0,
    "start_time": "2022-08-04T07:11:06.272Z"
   },
   {
    "duration": 0,
    "start_time": "2022-08-04T07:11:06.273Z"
   },
   {
    "duration": 0,
    "start_time": "2022-08-04T07:11:06.274Z"
   },
   {
    "duration": 0,
    "start_time": "2022-08-04T07:11:06.276Z"
   },
   {
    "duration": 0,
    "start_time": "2022-08-04T07:11:06.277Z"
   },
   {
    "duration": 0,
    "start_time": "2022-08-04T07:11:06.278Z"
   },
   {
    "duration": 0,
    "start_time": "2022-08-04T07:11:06.280Z"
   },
   {
    "duration": 0,
    "start_time": "2022-08-04T07:11:06.281Z"
   },
   {
    "duration": 0,
    "start_time": "2022-08-04T07:11:06.282Z"
   },
   {
    "duration": 0,
    "start_time": "2022-08-04T07:11:06.283Z"
   },
   {
    "duration": 0,
    "start_time": "2022-08-04T07:11:06.284Z"
   },
   {
    "duration": 0,
    "start_time": "2022-08-04T07:11:06.285Z"
   },
   {
    "duration": 0,
    "start_time": "2022-08-04T07:11:06.286Z"
   },
   {
    "duration": 0,
    "start_time": "2022-08-04T07:11:06.287Z"
   },
   {
    "duration": 0,
    "start_time": "2022-08-04T07:11:06.288Z"
   },
   {
    "duration": 15,
    "start_time": "2022-08-04T07:11:21.585Z"
   },
   {
    "duration": 3,
    "start_time": "2022-08-04T07:11:22.426Z"
   },
   {
    "duration": 194,
    "start_time": "2022-08-04T07:11:22.620Z"
   },
   {
    "duration": 111,
    "start_time": "2022-08-04T07:11:22.819Z"
   },
   {
    "duration": 105,
    "start_time": "2022-08-04T07:11:23.011Z"
   },
   {
    "duration": 99,
    "start_time": "2022-08-04T07:11:23.211Z"
   },
   {
    "duration": 3,
    "start_time": "2022-08-04T07:11:24.018Z"
   },
   {
    "duration": 4,
    "start_time": "2022-08-04T07:11:24.175Z"
   },
   {
    "duration": 4,
    "start_time": "2022-08-04T07:11:24.350Z"
   },
   {
    "duration": 4,
    "start_time": "2022-08-04T07:11:24.475Z"
   },
   {
    "duration": 4,
    "start_time": "2022-08-04T07:11:24.665Z"
   },
   {
    "duration": 4,
    "start_time": "2022-08-04T07:11:24.866Z"
   },
   {
    "duration": 6,
    "start_time": "2022-08-04T07:11:25.418Z"
   },
   {
    "duration": 1479,
    "start_time": "2022-08-04T07:11:25.595Z"
   },
   {
    "duration": 1566,
    "start_time": "2022-08-04T07:11:27.076Z"
   },
   {
    "duration": 1440,
    "start_time": "2022-08-04T07:11:28.643Z"
   },
   {
    "duration": 1407,
    "start_time": "2022-08-04T07:19:57.999Z"
   },
   {
    "duration": 390,
    "start_time": "2022-08-04T07:19:59.408Z"
   },
   {
    "duration": 4,
    "start_time": "2022-08-04T07:19:59.800Z"
   },
   {
    "duration": 443,
    "start_time": "2022-08-04T07:19:59.808Z"
   },
   {
    "duration": 465,
    "start_time": "2022-08-04T07:20:00.253Z"
   },
   {
    "duration": 420,
    "start_time": "2022-08-04T07:20:00.719Z"
   },
   {
    "duration": 16,
    "start_time": "2022-08-04T07:20:01.141Z"
   },
   {
    "duration": 109,
    "start_time": "2022-08-04T07:20:01.159Z"
   },
   {
    "duration": 12,
    "start_time": "2022-08-04T07:20:01.269Z"
   },
   {
    "duration": 19,
    "start_time": "2022-08-04T07:20:01.310Z"
   },
   {
    "duration": 34,
    "start_time": "2022-08-04T07:20:01.331Z"
   },
   {
    "duration": 16,
    "start_time": "2022-08-04T07:20:01.367Z"
   },
   {
    "duration": 33,
    "start_time": "2022-08-04T07:20:01.384Z"
   },
   {
    "duration": 192,
    "start_time": "2022-08-04T07:20:01.421Z"
   },
   {
    "duration": 226,
    "start_time": "2022-08-04T07:20:01.615Z"
   },
   {
    "duration": 174,
    "start_time": "2022-08-04T07:20:01.843Z"
   },
   {
    "duration": 7,
    "start_time": "2022-08-04T07:20:02.019Z"
   },
   {
    "duration": 27,
    "start_time": "2022-08-04T07:20:02.028Z"
   },
   {
    "duration": 8,
    "start_time": "2022-08-04T07:20:02.057Z"
   },
   {
    "duration": 13,
    "start_time": "2022-08-04T07:20:02.066Z"
   },
   {
    "duration": 7,
    "start_time": "2022-08-04T07:20:02.081Z"
   },
   {
    "duration": 11,
    "start_time": "2022-08-04T07:20:02.090Z"
   },
   {
    "duration": 8,
    "start_time": "2022-08-04T07:20:02.103Z"
   },
   {
    "duration": 1466,
    "start_time": "2022-08-04T07:20:02.113Z"
   },
   {
    "duration": 1472,
    "start_time": "2022-08-04T07:20:03.580Z"
   },
   {
    "duration": 1478,
    "start_time": "2022-08-04T07:20:05.054Z"
   },
   {
    "duration": 10,
    "start_time": "2022-08-04T07:38:29.111Z"
   },
   {
    "duration": 1567,
    "start_time": "2022-08-04T07:38:29.257Z"
   },
   {
    "duration": 1568,
    "start_time": "2022-08-04T07:38:30.827Z"
   },
   {
    "duration": 1527,
    "start_time": "2022-08-04T07:38:32.397Z"
   },
   {
    "duration": 7,
    "start_time": "2022-08-04T07:39:19.252Z"
   },
   {
    "duration": 1547,
    "start_time": "2022-08-04T07:39:19.487Z"
   },
   {
    "duration": 1598,
    "start_time": "2022-08-04T07:39:21.036Z"
   },
   {
    "duration": 1566,
    "start_time": "2022-08-04T07:39:22.636Z"
   },
   {
    "duration": 6,
    "start_time": "2022-08-04T07:39:32.452Z"
   },
   {
    "duration": 1561,
    "start_time": "2022-08-04T07:39:32.728Z"
   },
   {
    "duration": 1653,
    "start_time": "2022-08-04T07:39:34.291Z"
   },
   {
    "duration": 1689,
    "start_time": "2022-08-04T07:39:35.946Z"
   },
   {
    "duration": 6,
    "start_time": "2022-08-04T07:39:45.126Z"
   },
   {
    "duration": 1598,
    "start_time": "2022-08-04T07:39:45.248Z"
   },
   {
    "duration": 1594,
    "start_time": "2022-08-04T07:39:46.848Z"
   },
   {
    "duration": 1587,
    "start_time": "2022-08-04T07:39:48.443Z"
   },
   {
    "duration": 113,
    "start_time": "2022-08-04T07:41:28.581Z"
   },
   {
    "duration": 7,
    "start_time": "2022-08-04T07:42:24.851Z"
   },
   {
    "duration": 1620,
    "start_time": "2022-08-04T07:42:25.241Z"
   },
   {
    "duration": 0,
    "start_time": "2022-08-04T07:42:26.863Z"
   },
   {
    "duration": 0,
    "start_time": "2022-08-04T07:42:26.864Z"
   },
   {
    "duration": 0,
    "start_time": "2022-08-04T07:42:26.866Z"
   },
   {
    "duration": 10,
    "start_time": "2022-08-04T07:42:35.626Z"
   },
   {
    "duration": 1684,
    "start_time": "2022-08-04T07:42:35.790Z"
   },
   {
    "duration": 1631,
    "start_time": "2022-08-04T07:42:37.476Z"
   },
   {
    "duration": 1579,
    "start_time": "2022-08-04T07:42:39.109Z"
   },
   {
    "duration": 26,
    "start_time": "2022-08-04T07:42:40.690Z"
   },
   {
    "duration": 12,
    "start_time": "2022-08-04T07:42:56.980Z"
   },
   {
    "duration": 7,
    "start_time": "2022-08-04T07:43:04.786Z"
   },
   {
    "duration": 1648,
    "start_time": "2022-08-04T07:43:04.875Z"
   },
   {
    "duration": 1688,
    "start_time": "2022-08-04T07:43:06.529Z"
   },
   {
    "duration": 1568,
    "start_time": "2022-08-04T07:43:08.219Z"
   },
   {
    "duration": 9,
    "start_time": "2022-08-04T07:43:09.789Z"
   },
   {
    "duration": 9,
    "start_time": "2022-08-04T07:43:54.754Z"
   },
   {
    "duration": 10,
    "start_time": "2022-08-04T07:44:27.690Z"
   },
   {
    "duration": 1570,
    "start_time": "2022-08-04T07:44:27.885Z"
   },
   {
    "duration": 1737,
    "start_time": "2022-08-04T07:44:29.457Z"
   },
   {
    "duration": 1642,
    "start_time": "2022-08-04T07:44:31.197Z"
   },
   {
    "duration": 6,
    "start_time": "2022-08-04T07:44:32.841Z"
   },
   {
    "duration": 18,
    "start_time": "2022-08-04T07:44:32.849Z"
   },
   {
    "duration": 10,
    "start_time": "2022-08-04T07:45:41.827Z"
   },
   {
    "duration": 1743,
    "start_time": "2022-08-04T07:45:41.974Z"
   },
   {
    "duration": 1712,
    "start_time": "2022-08-04T07:45:43.720Z"
   },
   {
    "duration": 1587,
    "start_time": "2022-08-04T07:45:45.433Z"
   },
   {
    "duration": 5,
    "start_time": "2022-08-04T07:45:47.022Z"
   },
   {
    "duration": 34,
    "start_time": "2022-08-04T07:45:47.029Z"
   },
   {
    "duration": 7,
    "start_time": "2022-08-04T07:46:10.464Z"
   },
   {
    "duration": 1572,
    "start_time": "2022-08-04T07:46:10.690Z"
   },
   {
    "duration": 1596,
    "start_time": "2022-08-04T07:46:12.264Z"
   },
   {
    "duration": 1581,
    "start_time": "2022-08-04T07:46:13.861Z"
   },
   {
    "duration": 5,
    "start_time": "2022-08-04T07:46:15.444Z"
   },
   {
    "duration": 18,
    "start_time": "2022-08-04T07:46:15.450Z"
   },
   {
    "duration": 10,
    "start_time": "2022-08-04T07:53:35.611Z"
   },
   {
    "duration": 11,
    "start_time": "2022-08-04T07:54:19.258Z"
   },
   {
    "duration": 11,
    "start_time": "2022-08-04T07:56:44.194Z"
   }
  ],
  "kernelspec": {
   "display_name": "Python 3 (ipykernel)",
   "language": "python",
   "name": "python3"
  },
  "language_info": {
   "codemirror_mode": {
    "name": "ipython",
    "version": 3
   },
   "file_extension": ".py",
   "mimetype": "text/x-python",
   "name": "python",
   "nbconvert_exporter": "python",
   "pygments_lexer": "ipython3",
   "version": "3.9.5"
  },
  "toc": {
   "base_numbering": 1,
   "nav_menu": {},
   "number_sections": true,
   "sideBar": true,
   "skip_h1_title": true,
   "title_cell": "Table of Contents",
   "title_sidebar": "Contents",
   "toc_cell": false,
   "toc_position": {},
   "toc_section_display": true,
   "toc_window_display": false
  }
 },
 "nbformat": 4,
 "nbformat_minor": 2
}
