{
 "cells": [
  {
   "cell_type": "markdown",
   "metadata": {},
   "source": [
    "# Определение стоимости автомобилей"
   ]
  },
  {
   "cell_type": "markdown",
   "metadata": {},
   "source": [
    "Основная цель: построить модель для определения стоимости б/у автомобилей.  \n",
    "\n",
    "Вводные: \n",
    "* исторические данные\n",
    "* технические характеристики\n",
    "* комплектации\n",
    "* цены автомобилей\n",
    "\n",
    "Заказчику важны:\n",
    "\n",
    "- качество предсказания - целевой показатель клиента среднеквадратичная ошибка (RMSE);\n",
    "- скорость предсказания;\n",
    "- время обучения."
   ]
  },
  {
   "cell_type": "markdown",
   "metadata": {},
   "source": [
    "# Описание данных"
   ]
  },
  {
   "cell_type": "markdown",
   "metadata": {},
   "source": [
    "Признаки:\n",
    "\n",
    "* DateCrawled — дата скачивания анкеты из базы\n",
    "* VehicleType — тип автомобильного кузова\n",
    "* RegistrationYear — год регистрации автомобиля\n",
    "* Gearbox — тип коробки передач\n",
    "* Power — мощность (л. с.)\n",
    "* Model — модель автомобиля\n",
    "* Kilometer — пробег (км)\n",
    "* RegistrationMonth — месяц регистрации автомобиля\n",
    "* FuelType — тип топлива\n",
    "* Brand — марка автомобиля\n",
    "* NotRepaired — была машина в ремонте или нет\n",
    "* DateCreated — дата создания анкеты\n",
    "* NumberOfPictures — количество фотографий автомобиля\n",
    "* PostalCode — почтовый индекс владельца анкеты (пользователя)\n",
    "* LastSeen — дата последней активности пользователя  \n",
    "\n",
    "Целевой признак\n",
    "\n",
    "* Price — цена (евро)"
   ]
  },
  {
   "cell_type": "markdown",
   "metadata": {},
   "source": [
    "# Задачи"
   ]
  },
  {
   "cell_type": "markdown",
   "metadata": {},
   "source": [
    "* Загрузить,подготовить и исследовать данные.\n",
    "* Обучить разные модели.\n",
    "* Проанализировать скорость работы и качество моделей.\n",
    "* Выбрать наулилучшую модель по 3 параметрам: качество, скорость и время обучения."
   ]
  },
  {
   "cell_type": "markdown",
   "metadata": {},
   "source": [
    "## Подготовка данных"
   ]
  },
  {
   "cell_type": "code",
   "execution_count": 1,
   "metadata": {},
   "outputs": [],
   "source": [
    "import matplotlib.pyplot as plt\n",
    "import pandas as pd\n",
    "import seaborn as sns\n",
    "import time\n",
    "from catboost import CatBoostRegressor\n",
    "from catboost import cv\n",
    "from catboost import Pool\n",
    "from lightgbm import LGBMRegressor\n",
    "from sklearn.dummy import DummyRegressor\n",
    "from sklearn.model_selection import GridSearchCV\n",
    "from sklearn.ensemble import RandomForestRegressor\n",
    "from sklearn.linear_model import LinearRegression\n",
    "from sklearn.metrics import mean_squared_error, make_scorer\n",
    "from sklearn.model_selection import train_test_split\n",
    "from sklearn.preprocessing import StandardScaler, OrdinalEncoder\n",
    "from sklearn.tree import DecisionTreeRegressor"
   ]
  },
  {
   "cell_type": "code",
   "execution_count": 2,
   "metadata": {},
   "outputs": [],
   "source": [
    "df = pd.read_csv('/Users/andreyshagin/Downloads/autos.csv')"
   ]
  },
  {
   "cell_type": "code",
   "execution_count": 3,
   "metadata": {
    "scrolled": false
   },
   "outputs": [
    {
     "data": {
      "text/html": [
       "<div>\n",
       "<style scoped>\n",
       "    .dataframe tbody tr th:only-of-type {\n",
       "        vertical-align: middle;\n",
       "    }\n",
       "\n",
       "    .dataframe tbody tr th {\n",
       "        vertical-align: top;\n",
       "    }\n",
       "\n",
       "    .dataframe thead th {\n",
       "        text-align: right;\n",
       "    }\n",
       "</style>\n",
       "<table border=\"1\" class=\"dataframe\">\n",
       "  <thead>\n",
       "    <tr style=\"text-align: right;\">\n",
       "      <th></th>\n",
       "      <th>DateCrawled</th>\n",
       "      <th>Price</th>\n",
       "      <th>VehicleType</th>\n",
       "      <th>RegistrationYear</th>\n",
       "      <th>Gearbox</th>\n",
       "      <th>Power</th>\n",
       "      <th>Model</th>\n",
       "      <th>Kilometer</th>\n",
       "      <th>RegistrationMonth</th>\n",
       "      <th>FuelType</th>\n",
       "      <th>Brand</th>\n",
       "      <th>NotRepaired</th>\n",
       "      <th>DateCreated</th>\n",
       "      <th>NumberOfPictures</th>\n",
       "      <th>PostalCode</th>\n",
       "      <th>LastSeen</th>\n",
       "    </tr>\n",
       "  </thead>\n",
       "  <tbody>\n",
       "    <tr>\n",
       "      <th>0</th>\n",
       "      <td>2016-03-24 11:52:17</td>\n",
       "      <td>480</td>\n",
       "      <td>NaN</td>\n",
       "      <td>1993</td>\n",
       "      <td>manual</td>\n",
       "      <td>0</td>\n",
       "      <td>golf</td>\n",
       "      <td>150000</td>\n",
       "      <td>0</td>\n",
       "      <td>petrol</td>\n",
       "      <td>volkswagen</td>\n",
       "      <td>NaN</td>\n",
       "      <td>2016-03-24 00:00:00</td>\n",
       "      <td>0</td>\n",
       "      <td>70435</td>\n",
       "      <td>2016-04-07 03:16:57</td>\n",
       "    </tr>\n",
       "    <tr>\n",
       "      <th>1</th>\n",
       "      <td>2016-03-24 10:58:45</td>\n",
       "      <td>18300</td>\n",
       "      <td>coupe</td>\n",
       "      <td>2011</td>\n",
       "      <td>manual</td>\n",
       "      <td>190</td>\n",
       "      <td>NaN</td>\n",
       "      <td>125000</td>\n",
       "      <td>5</td>\n",
       "      <td>gasoline</td>\n",
       "      <td>audi</td>\n",
       "      <td>yes</td>\n",
       "      <td>2016-03-24 00:00:00</td>\n",
       "      <td>0</td>\n",
       "      <td>66954</td>\n",
       "      <td>2016-04-07 01:46:50</td>\n",
       "    </tr>\n",
       "    <tr>\n",
       "      <th>2</th>\n",
       "      <td>2016-03-14 12:52:21</td>\n",
       "      <td>9800</td>\n",
       "      <td>suv</td>\n",
       "      <td>2004</td>\n",
       "      <td>auto</td>\n",
       "      <td>163</td>\n",
       "      <td>grand</td>\n",
       "      <td>125000</td>\n",
       "      <td>8</td>\n",
       "      <td>gasoline</td>\n",
       "      <td>jeep</td>\n",
       "      <td>NaN</td>\n",
       "      <td>2016-03-14 00:00:00</td>\n",
       "      <td>0</td>\n",
       "      <td>90480</td>\n",
       "      <td>2016-04-05 12:47:46</td>\n",
       "    </tr>\n",
       "    <tr>\n",
       "      <th>3</th>\n",
       "      <td>2016-03-17 16:54:04</td>\n",
       "      <td>1500</td>\n",
       "      <td>small</td>\n",
       "      <td>2001</td>\n",
       "      <td>manual</td>\n",
       "      <td>75</td>\n",
       "      <td>golf</td>\n",
       "      <td>150000</td>\n",
       "      <td>6</td>\n",
       "      <td>petrol</td>\n",
       "      <td>volkswagen</td>\n",
       "      <td>no</td>\n",
       "      <td>2016-03-17 00:00:00</td>\n",
       "      <td>0</td>\n",
       "      <td>91074</td>\n",
       "      <td>2016-03-17 17:40:17</td>\n",
       "    </tr>\n",
       "    <tr>\n",
       "      <th>4</th>\n",
       "      <td>2016-03-31 17:25:20</td>\n",
       "      <td>3600</td>\n",
       "      <td>small</td>\n",
       "      <td>2008</td>\n",
       "      <td>manual</td>\n",
       "      <td>69</td>\n",
       "      <td>fabia</td>\n",
       "      <td>90000</td>\n",
       "      <td>7</td>\n",
       "      <td>gasoline</td>\n",
       "      <td>skoda</td>\n",
       "      <td>no</td>\n",
       "      <td>2016-03-31 00:00:00</td>\n",
       "      <td>0</td>\n",
       "      <td>60437</td>\n",
       "      <td>2016-04-06 10:17:21</td>\n",
       "    </tr>\n",
       "    <tr>\n",
       "      <th>...</th>\n",
       "      <td>...</td>\n",
       "      <td>...</td>\n",
       "      <td>...</td>\n",
       "      <td>...</td>\n",
       "      <td>...</td>\n",
       "      <td>...</td>\n",
       "      <td>...</td>\n",
       "      <td>...</td>\n",
       "      <td>...</td>\n",
       "      <td>...</td>\n",
       "      <td>...</td>\n",
       "      <td>...</td>\n",
       "      <td>...</td>\n",
       "      <td>...</td>\n",
       "      <td>...</td>\n",
       "      <td>...</td>\n",
       "    </tr>\n",
       "    <tr>\n",
       "      <th>354364</th>\n",
       "      <td>2016-03-21 09:50:58</td>\n",
       "      <td>0</td>\n",
       "      <td>NaN</td>\n",
       "      <td>2005</td>\n",
       "      <td>manual</td>\n",
       "      <td>0</td>\n",
       "      <td>colt</td>\n",
       "      <td>150000</td>\n",
       "      <td>7</td>\n",
       "      <td>petrol</td>\n",
       "      <td>mitsubishi</td>\n",
       "      <td>yes</td>\n",
       "      <td>2016-03-21 00:00:00</td>\n",
       "      <td>0</td>\n",
       "      <td>2694</td>\n",
       "      <td>2016-03-21 10:42:49</td>\n",
       "    </tr>\n",
       "    <tr>\n",
       "      <th>354365</th>\n",
       "      <td>2016-03-14 17:48:27</td>\n",
       "      <td>2200</td>\n",
       "      <td>NaN</td>\n",
       "      <td>2005</td>\n",
       "      <td>NaN</td>\n",
       "      <td>0</td>\n",
       "      <td>NaN</td>\n",
       "      <td>20000</td>\n",
       "      <td>1</td>\n",
       "      <td>NaN</td>\n",
       "      <td>sonstige_autos</td>\n",
       "      <td>NaN</td>\n",
       "      <td>2016-03-14 00:00:00</td>\n",
       "      <td>0</td>\n",
       "      <td>39576</td>\n",
       "      <td>2016-04-06 00:46:52</td>\n",
       "    </tr>\n",
       "    <tr>\n",
       "      <th>354366</th>\n",
       "      <td>2016-03-05 19:56:21</td>\n",
       "      <td>1199</td>\n",
       "      <td>convertible</td>\n",
       "      <td>2000</td>\n",
       "      <td>auto</td>\n",
       "      <td>101</td>\n",
       "      <td>fortwo</td>\n",
       "      <td>125000</td>\n",
       "      <td>3</td>\n",
       "      <td>petrol</td>\n",
       "      <td>smart</td>\n",
       "      <td>no</td>\n",
       "      <td>2016-03-05 00:00:00</td>\n",
       "      <td>0</td>\n",
       "      <td>26135</td>\n",
       "      <td>2016-03-11 18:17:12</td>\n",
       "    </tr>\n",
       "    <tr>\n",
       "      <th>354367</th>\n",
       "      <td>2016-03-19 18:57:12</td>\n",
       "      <td>9200</td>\n",
       "      <td>bus</td>\n",
       "      <td>1996</td>\n",
       "      <td>manual</td>\n",
       "      <td>102</td>\n",
       "      <td>transporter</td>\n",
       "      <td>150000</td>\n",
       "      <td>3</td>\n",
       "      <td>gasoline</td>\n",
       "      <td>volkswagen</td>\n",
       "      <td>no</td>\n",
       "      <td>2016-03-19 00:00:00</td>\n",
       "      <td>0</td>\n",
       "      <td>87439</td>\n",
       "      <td>2016-04-07 07:15:26</td>\n",
       "    </tr>\n",
       "    <tr>\n",
       "      <th>354368</th>\n",
       "      <td>2016-03-20 19:41:08</td>\n",
       "      <td>3400</td>\n",
       "      <td>wagon</td>\n",
       "      <td>2002</td>\n",
       "      <td>manual</td>\n",
       "      <td>100</td>\n",
       "      <td>golf</td>\n",
       "      <td>150000</td>\n",
       "      <td>6</td>\n",
       "      <td>gasoline</td>\n",
       "      <td>volkswagen</td>\n",
       "      <td>NaN</td>\n",
       "      <td>2016-03-20 00:00:00</td>\n",
       "      <td>0</td>\n",
       "      <td>40764</td>\n",
       "      <td>2016-03-24 12:45:21</td>\n",
       "    </tr>\n",
       "  </tbody>\n",
       "</table>\n",
       "<p>354369 rows × 16 columns</p>\n",
       "</div>"
      ],
      "text/plain": [
       "                DateCrawled  Price  VehicleType  RegistrationYear Gearbox  \\\n",
       "0       2016-03-24 11:52:17    480          NaN              1993  manual   \n",
       "1       2016-03-24 10:58:45  18300        coupe              2011  manual   \n",
       "2       2016-03-14 12:52:21   9800          suv              2004    auto   \n",
       "3       2016-03-17 16:54:04   1500        small              2001  manual   \n",
       "4       2016-03-31 17:25:20   3600        small              2008  manual   \n",
       "...                     ...    ...          ...               ...     ...   \n",
       "354364  2016-03-21 09:50:58      0          NaN              2005  manual   \n",
       "354365  2016-03-14 17:48:27   2200          NaN              2005     NaN   \n",
       "354366  2016-03-05 19:56:21   1199  convertible              2000    auto   \n",
       "354367  2016-03-19 18:57:12   9200          bus              1996  manual   \n",
       "354368  2016-03-20 19:41:08   3400        wagon              2002  manual   \n",
       "\n",
       "        Power        Model  Kilometer  RegistrationMonth  FuelType  \\\n",
       "0           0         golf     150000                  0    petrol   \n",
       "1         190          NaN     125000                  5  gasoline   \n",
       "2         163        grand     125000                  8  gasoline   \n",
       "3          75         golf     150000                  6    petrol   \n",
       "4          69        fabia      90000                  7  gasoline   \n",
       "...       ...          ...        ...                ...       ...   \n",
       "354364      0         colt     150000                  7    petrol   \n",
       "354365      0          NaN      20000                  1       NaN   \n",
       "354366    101       fortwo     125000                  3    petrol   \n",
       "354367    102  transporter     150000                  3  gasoline   \n",
       "354368    100         golf     150000                  6  gasoline   \n",
       "\n",
       "                 Brand NotRepaired          DateCreated  NumberOfPictures  \\\n",
       "0           volkswagen         NaN  2016-03-24 00:00:00                 0   \n",
       "1                 audi         yes  2016-03-24 00:00:00                 0   \n",
       "2                 jeep         NaN  2016-03-14 00:00:00                 0   \n",
       "3           volkswagen          no  2016-03-17 00:00:00                 0   \n",
       "4                skoda          no  2016-03-31 00:00:00                 0   \n",
       "...                ...         ...                  ...               ...   \n",
       "354364      mitsubishi         yes  2016-03-21 00:00:00                 0   \n",
       "354365  sonstige_autos         NaN  2016-03-14 00:00:00                 0   \n",
       "354366           smart          no  2016-03-05 00:00:00                 0   \n",
       "354367      volkswagen          no  2016-03-19 00:00:00                 0   \n",
       "354368      volkswagen         NaN  2016-03-20 00:00:00                 0   \n",
       "\n",
       "        PostalCode             LastSeen  \n",
       "0            70435  2016-04-07 03:16:57  \n",
       "1            66954  2016-04-07 01:46:50  \n",
       "2            90480  2016-04-05 12:47:46  \n",
       "3            91074  2016-03-17 17:40:17  \n",
       "4            60437  2016-04-06 10:17:21  \n",
       "...            ...                  ...  \n",
       "354364        2694  2016-03-21 10:42:49  \n",
       "354365       39576  2016-04-06 00:46:52  \n",
       "354366       26135  2016-03-11 18:17:12  \n",
       "354367       87439  2016-04-07 07:15:26  \n",
       "354368       40764  2016-03-24 12:45:21  \n",
       "\n",
       "[354369 rows x 16 columns]"
      ]
     },
     "execution_count": 3,
     "metadata": {},
     "output_type": "execute_result"
    }
   ],
   "source": [
    "df"
   ]
  },
  {
   "cell_type": "markdown",
   "metadata": {},
   "source": [
    "Делаю проверку на пропуски, дубликаты, также смотрю общую информацию и корреляцию"
   ]
  },
  {
   "cell_type": "code",
   "execution_count": 4,
   "metadata": {},
   "outputs": [],
   "source": [
    "def check (dataframe):\n",
    "    display ('*******'*5)\n",
    "    dataframe.info()\n",
    "    display (dataframe.describe(include = 'all'))\n",
    "    display ('Пропуски',dataframe.isna().sum())\n",
    "    display ('Сумма дубликатов',dataframe.duplicated().sum())\n",
    "    plt.figure(figsize=(8,8))\n",
    "    sns.heatmap(dataframe.corr(),  cmap='RdYlGn', center=0, annot=True)\n",
    "    plt.show()"
   ]
  },
  {
   "cell_type": "code",
   "execution_count": 5,
   "metadata": {
    "scrolled": false
   },
   "outputs": [
    {
     "data": {
      "text/plain": [
       "'***********************************'"
      ]
     },
     "metadata": {},
     "output_type": "display_data"
    },
    {
     "name": "stdout",
     "output_type": "stream",
     "text": [
      "<class 'pandas.core.frame.DataFrame'>\n",
      "RangeIndex: 354369 entries, 0 to 354368\n",
      "Data columns (total 16 columns):\n",
      " #   Column             Non-Null Count   Dtype \n",
      "---  ------             --------------   ----- \n",
      " 0   DateCrawled        354369 non-null  object\n",
      " 1   Price              354369 non-null  int64 \n",
      " 2   VehicleType        316879 non-null  object\n",
      " 3   RegistrationYear   354369 non-null  int64 \n",
      " 4   Gearbox            334536 non-null  object\n",
      " 5   Power              354369 non-null  int64 \n",
      " 6   Model              334664 non-null  object\n",
      " 7   Kilometer          354369 non-null  int64 \n",
      " 8   RegistrationMonth  354369 non-null  int64 \n",
      " 9   FuelType           321474 non-null  object\n",
      " 10  Brand              354369 non-null  object\n",
      " 11  NotRepaired        283215 non-null  object\n",
      " 12  DateCreated        354369 non-null  object\n",
      " 13  NumberOfPictures   354369 non-null  int64 \n",
      " 14  PostalCode         354369 non-null  int64 \n",
      " 15  LastSeen           354369 non-null  object\n",
      "dtypes: int64(7), object(9)\n",
      "memory usage: 43.3+ MB\n"
     ]
    },
    {
     "data": {
      "text/html": [
       "<div>\n",
       "<style scoped>\n",
       "    .dataframe tbody tr th:only-of-type {\n",
       "        vertical-align: middle;\n",
       "    }\n",
       "\n",
       "    .dataframe tbody tr th {\n",
       "        vertical-align: top;\n",
       "    }\n",
       "\n",
       "    .dataframe thead th {\n",
       "        text-align: right;\n",
       "    }\n",
       "</style>\n",
       "<table border=\"1\" class=\"dataframe\">\n",
       "  <thead>\n",
       "    <tr style=\"text-align: right;\">\n",
       "      <th></th>\n",
       "      <th>DateCrawled</th>\n",
       "      <th>Price</th>\n",
       "      <th>VehicleType</th>\n",
       "      <th>RegistrationYear</th>\n",
       "      <th>Gearbox</th>\n",
       "      <th>Power</th>\n",
       "      <th>Model</th>\n",
       "      <th>Kilometer</th>\n",
       "      <th>RegistrationMonth</th>\n",
       "      <th>FuelType</th>\n",
       "      <th>Brand</th>\n",
       "      <th>NotRepaired</th>\n",
       "      <th>DateCreated</th>\n",
       "      <th>NumberOfPictures</th>\n",
       "      <th>PostalCode</th>\n",
       "      <th>LastSeen</th>\n",
       "    </tr>\n",
       "  </thead>\n",
       "  <tbody>\n",
       "    <tr>\n",
       "      <th>count</th>\n",
       "      <td>354369</td>\n",
       "      <td>354369.000000</td>\n",
       "      <td>316879</td>\n",
       "      <td>354369.000000</td>\n",
       "      <td>334536</td>\n",
       "      <td>354369.000000</td>\n",
       "      <td>334664</td>\n",
       "      <td>354369.000000</td>\n",
       "      <td>354369.000000</td>\n",
       "      <td>321474</td>\n",
       "      <td>354369</td>\n",
       "      <td>283215</td>\n",
       "      <td>354369</td>\n",
       "      <td>354369.0</td>\n",
       "      <td>354369.000000</td>\n",
       "      <td>354369</td>\n",
       "    </tr>\n",
       "    <tr>\n",
       "      <th>unique</th>\n",
       "      <td>271174</td>\n",
       "      <td>NaN</td>\n",
       "      <td>8</td>\n",
       "      <td>NaN</td>\n",
       "      <td>2</td>\n",
       "      <td>NaN</td>\n",
       "      <td>250</td>\n",
       "      <td>NaN</td>\n",
       "      <td>NaN</td>\n",
       "      <td>7</td>\n",
       "      <td>40</td>\n",
       "      <td>2</td>\n",
       "      <td>109</td>\n",
       "      <td>NaN</td>\n",
       "      <td>NaN</td>\n",
       "      <td>179150</td>\n",
       "    </tr>\n",
       "    <tr>\n",
       "      <th>top</th>\n",
       "      <td>2016-03-24 14:49:47</td>\n",
       "      <td>NaN</td>\n",
       "      <td>sedan</td>\n",
       "      <td>NaN</td>\n",
       "      <td>manual</td>\n",
       "      <td>NaN</td>\n",
       "      <td>golf</td>\n",
       "      <td>NaN</td>\n",
       "      <td>NaN</td>\n",
       "      <td>petrol</td>\n",
       "      <td>volkswagen</td>\n",
       "      <td>no</td>\n",
       "      <td>2016-04-03 00:00:00</td>\n",
       "      <td>NaN</td>\n",
       "      <td>NaN</td>\n",
       "      <td>2016-04-06 13:45:54</td>\n",
       "    </tr>\n",
       "    <tr>\n",
       "      <th>freq</th>\n",
       "      <td>7</td>\n",
       "      <td>NaN</td>\n",
       "      <td>91457</td>\n",
       "      <td>NaN</td>\n",
       "      <td>268251</td>\n",
       "      <td>NaN</td>\n",
       "      <td>29232</td>\n",
       "      <td>NaN</td>\n",
       "      <td>NaN</td>\n",
       "      <td>216352</td>\n",
       "      <td>77013</td>\n",
       "      <td>247161</td>\n",
       "      <td>13719</td>\n",
       "      <td>NaN</td>\n",
       "      <td>NaN</td>\n",
       "      <td>17</td>\n",
       "    </tr>\n",
       "    <tr>\n",
       "      <th>mean</th>\n",
       "      <td>NaN</td>\n",
       "      <td>4416.656776</td>\n",
       "      <td>NaN</td>\n",
       "      <td>2004.234448</td>\n",
       "      <td>NaN</td>\n",
       "      <td>110.094337</td>\n",
       "      <td>NaN</td>\n",
       "      <td>128211.172535</td>\n",
       "      <td>5.714645</td>\n",
       "      <td>NaN</td>\n",
       "      <td>NaN</td>\n",
       "      <td>NaN</td>\n",
       "      <td>NaN</td>\n",
       "      <td>0.0</td>\n",
       "      <td>50508.689087</td>\n",
       "      <td>NaN</td>\n",
       "    </tr>\n",
       "    <tr>\n",
       "      <th>std</th>\n",
       "      <td>NaN</td>\n",
       "      <td>4514.158514</td>\n",
       "      <td>NaN</td>\n",
       "      <td>90.227958</td>\n",
       "      <td>NaN</td>\n",
       "      <td>189.850405</td>\n",
       "      <td>NaN</td>\n",
       "      <td>37905.341530</td>\n",
       "      <td>3.726421</td>\n",
       "      <td>NaN</td>\n",
       "      <td>NaN</td>\n",
       "      <td>NaN</td>\n",
       "      <td>NaN</td>\n",
       "      <td>0.0</td>\n",
       "      <td>25783.096248</td>\n",
       "      <td>NaN</td>\n",
       "    </tr>\n",
       "    <tr>\n",
       "      <th>min</th>\n",
       "      <td>NaN</td>\n",
       "      <td>0.000000</td>\n",
       "      <td>NaN</td>\n",
       "      <td>1000.000000</td>\n",
       "      <td>NaN</td>\n",
       "      <td>0.000000</td>\n",
       "      <td>NaN</td>\n",
       "      <td>5000.000000</td>\n",
       "      <td>0.000000</td>\n",
       "      <td>NaN</td>\n",
       "      <td>NaN</td>\n",
       "      <td>NaN</td>\n",
       "      <td>NaN</td>\n",
       "      <td>0.0</td>\n",
       "      <td>1067.000000</td>\n",
       "      <td>NaN</td>\n",
       "    </tr>\n",
       "    <tr>\n",
       "      <th>25%</th>\n",
       "      <td>NaN</td>\n",
       "      <td>1050.000000</td>\n",
       "      <td>NaN</td>\n",
       "      <td>1999.000000</td>\n",
       "      <td>NaN</td>\n",
       "      <td>69.000000</td>\n",
       "      <td>NaN</td>\n",
       "      <td>125000.000000</td>\n",
       "      <td>3.000000</td>\n",
       "      <td>NaN</td>\n",
       "      <td>NaN</td>\n",
       "      <td>NaN</td>\n",
       "      <td>NaN</td>\n",
       "      <td>0.0</td>\n",
       "      <td>30165.000000</td>\n",
       "      <td>NaN</td>\n",
       "    </tr>\n",
       "    <tr>\n",
       "      <th>50%</th>\n",
       "      <td>NaN</td>\n",
       "      <td>2700.000000</td>\n",
       "      <td>NaN</td>\n",
       "      <td>2003.000000</td>\n",
       "      <td>NaN</td>\n",
       "      <td>105.000000</td>\n",
       "      <td>NaN</td>\n",
       "      <td>150000.000000</td>\n",
       "      <td>6.000000</td>\n",
       "      <td>NaN</td>\n",
       "      <td>NaN</td>\n",
       "      <td>NaN</td>\n",
       "      <td>NaN</td>\n",
       "      <td>0.0</td>\n",
       "      <td>49413.000000</td>\n",
       "      <td>NaN</td>\n",
       "    </tr>\n",
       "    <tr>\n",
       "      <th>75%</th>\n",
       "      <td>NaN</td>\n",
       "      <td>6400.000000</td>\n",
       "      <td>NaN</td>\n",
       "      <td>2008.000000</td>\n",
       "      <td>NaN</td>\n",
       "      <td>143.000000</td>\n",
       "      <td>NaN</td>\n",
       "      <td>150000.000000</td>\n",
       "      <td>9.000000</td>\n",
       "      <td>NaN</td>\n",
       "      <td>NaN</td>\n",
       "      <td>NaN</td>\n",
       "      <td>NaN</td>\n",
       "      <td>0.0</td>\n",
       "      <td>71083.000000</td>\n",
       "      <td>NaN</td>\n",
       "    </tr>\n",
       "    <tr>\n",
       "      <th>max</th>\n",
       "      <td>NaN</td>\n",
       "      <td>20000.000000</td>\n",
       "      <td>NaN</td>\n",
       "      <td>9999.000000</td>\n",
       "      <td>NaN</td>\n",
       "      <td>20000.000000</td>\n",
       "      <td>NaN</td>\n",
       "      <td>150000.000000</td>\n",
       "      <td>12.000000</td>\n",
       "      <td>NaN</td>\n",
       "      <td>NaN</td>\n",
       "      <td>NaN</td>\n",
       "      <td>NaN</td>\n",
       "      <td>0.0</td>\n",
       "      <td>99998.000000</td>\n",
       "      <td>NaN</td>\n",
       "    </tr>\n",
       "  </tbody>\n",
       "</table>\n",
       "</div>"
      ],
      "text/plain": [
       "                DateCrawled          Price VehicleType  RegistrationYear  \\\n",
       "count                354369  354369.000000      316879     354369.000000   \n",
       "unique               271174            NaN           8               NaN   \n",
       "top     2016-03-24 14:49:47            NaN       sedan               NaN   \n",
       "freq                      7            NaN       91457               NaN   \n",
       "mean                    NaN    4416.656776         NaN       2004.234448   \n",
       "std                     NaN    4514.158514         NaN         90.227958   \n",
       "min                     NaN       0.000000         NaN       1000.000000   \n",
       "25%                     NaN    1050.000000         NaN       1999.000000   \n",
       "50%                     NaN    2700.000000         NaN       2003.000000   \n",
       "75%                     NaN    6400.000000         NaN       2008.000000   \n",
       "max                     NaN   20000.000000         NaN       9999.000000   \n",
       "\n",
       "       Gearbox          Power   Model      Kilometer  RegistrationMonth  \\\n",
       "count   334536  354369.000000  334664  354369.000000      354369.000000   \n",
       "unique       2            NaN     250            NaN                NaN   \n",
       "top     manual            NaN    golf            NaN                NaN   \n",
       "freq    268251            NaN   29232            NaN                NaN   \n",
       "mean       NaN     110.094337     NaN  128211.172535           5.714645   \n",
       "std        NaN     189.850405     NaN   37905.341530           3.726421   \n",
       "min        NaN       0.000000     NaN    5000.000000           0.000000   \n",
       "25%        NaN      69.000000     NaN  125000.000000           3.000000   \n",
       "50%        NaN     105.000000     NaN  150000.000000           6.000000   \n",
       "75%        NaN     143.000000     NaN  150000.000000           9.000000   \n",
       "max        NaN   20000.000000     NaN  150000.000000          12.000000   \n",
       "\n",
       "       FuelType       Brand NotRepaired          DateCreated  \\\n",
       "count    321474      354369      283215               354369   \n",
       "unique        7          40           2                  109   \n",
       "top      petrol  volkswagen          no  2016-04-03 00:00:00   \n",
       "freq     216352       77013      247161                13719   \n",
       "mean        NaN         NaN         NaN                  NaN   \n",
       "std         NaN         NaN         NaN                  NaN   \n",
       "min         NaN         NaN         NaN                  NaN   \n",
       "25%         NaN         NaN         NaN                  NaN   \n",
       "50%         NaN         NaN         NaN                  NaN   \n",
       "75%         NaN         NaN         NaN                  NaN   \n",
       "max         NaN         NaN         NaN                  NaN   \n",
       "\n",
       "        NumberOfPictures     PostalCode             LastSeen  \n",
       "count           354369.0  354369.000000               354369  \n",
       "unique               NaN            NaN               179150  \n",
       "top                  NaN            NaN  2016-04-06 13:45:54  \n",
       "freq                 NaN            NaN                   17  \n",
       "mean                 0.0   50508.689087                  NaN  \n",
       "std                  0.0   25783.096248                  NaN  \n",
       "min                  0.0    1067.000000                  NaN  \n",
       "25%                  0.0   30165.000000                  NaN  \n",
       "50%                  0.0   49413.000000                  NaN  \n",
       "75%                  0.0   71083.000000                  NaN  \n",
       "max                  0.0   99998.000000                  NaN  "
      ]
     },
     "metadata": {},
     "output_type": "display_data"
    },
    {
     "data": {
      "text/plain": [
       "'Пропуски'"
      ]
     },
     "metadata": {},
     "output_type": "display_data"
    },
    {
     "data": {
      "text/plain": [
       "DateCrawled              0\n",
       "Price                    0\n",
       "VehicleType          37490\n",
       "RegistrationYear         0\n",
       "Gearbox              19833\n",
       "Power                    0\n",
       "Model                19705\n",
       "Kilometer                0\n",
       "RegistrationMonth        0\n",
       "FuelType             32895\n",
       "Brand                    0\n",
       "NotRepaired          71154\n",
       "DateCreated              0\n",
       "NumberOfPictures         0\n",
       "PostalCode               0\n",
       "LastSeen                 0\n",
       "dtype: int64"
      ]
     },
     "metadata": {},
     "output_type": "display_data"
    },
    {
     "data": {
      "text/plain": [
       "'Сумма дубликатов'"
      ]
     },
     "metadata": {},
     "output_type": "display_data"
    },
    {
     "data": {
      "text/plain": [
       "4"
      ]
     },
     "metadata": {},
     "output_type": "display_data"
    },
    {
     "data": {
      "image/png": "[encoded data removed]",
      "text/plain": [
       "<Figure size 576x576 with 2 Axes>"
      ]
     },
     "metadata": {
      "needs_background": "light"
     },
     "output_type": "display_data"
    }
   ],
   "source": [
    "check (df)"
   ]
  },
  {
   "cell_type": "markdown",
   "metadata": {},
   "source": [
    "После первичного знакомства с нашими данными можно сделать вывод, что:\n",
    "\n",
    "* В RegistrationYear (регистрация автомобиля) минимальное значение 1000 год, максимальное 9999 год, это ошибка, далее нужно удалить лишние;\n",
    "* В Power (мощность)минимум 0, а максимум 20000. Мощность в лощадиных силах, поэтому 0 точно ошибка, но и значение 20000 тоже, самые мощные серийные машины до 1000 л.с. за единичным редким исключением;\n",
    "* В столбце NumberOfPictures не ни одного значения. Можно удалить данный столбец;\n",
    "* В Price (цена) есть аномальное значение в 0, это ошибка. В даннном столбце будет сложно корректно убрать лишние данные, так как минимальную цену для б/у автомобиля сложно оценить, его могут продавать под востановление.\n",
    "* В столбце RegistrationMonth есть 0, вероятно это значит отсутствие данных;\n",
    "* В столбцах: VehicleType, Gearbox, Model, FuelType, NotRepaired есть пропущенные значения;\n",
    "* В столбце Kilometer 50,75 квантили и максимальное значение 150 000 км, вероятно при заполнении данных есть шаблон - пробег более 150 000 км\n",
    "* Есть 4 дубликата"
   ]
  },
  {
   "cell_type": "markdown",
   "metadata": {},
   "source": [
    "Удаляем дубликаты и проверяем"
   ]
  },
  {
   "cell_type": "code",
   "execution_count": 6,
   "metadata": {},
   "outputs": [],
   "source": [
    "df.drop_duplicates(inplace=True)"
   ]
  },
  {
   "cell_type": "code",
   "execution_count": 7,
   "metadata": {
    "scrolled": true
   },
   "outputs": [
    {
     "data": {
      "text/plain": [
       "0"
      ]
     },
     "execution_count": 7,
     "metadata": {},
     "output_type": "execute_result"
    }
   ],
   "source": [
    "df.duplicated().sum()"
   ]
  },
  {
   "cell_type": "code",
   "execution_count": 8,
   "metadata": {
    "scrolled": true
   },
   "outputs": [
    {
     "data": {
      "text/plain": [
       "Index(['DateCrawled', 'Price', 'VehicleType', 'RegistrationYear', 'Gearbox',\n",
       "       'Power', 'Model', 'Kilometer', 'RegistrationMonth', 'FuelType', 'Brand',\n",
       "       'NotRepaired', 'DateCreated', 'NumberOfPictures', 'PostalCode',\n",
       "       'LastSeen'],\n",
       "      dtype='object')"
      ]
     },
     "execution_count": 8,
     "metadata": {},
     "output_type": "execute_result"
    }
   ],
   "source": [
    "df.columns"
   ]
  },
  {
   "cell_type": "markdown",
   "metadata": {},
   "source": [
    "Проверяем какие значения в годе регистрации"
   ]
  },
  {
   "cell_type": "code",
   "execution_count": 9,
   "metadata": {},
   "outputs": [
    {
     "data": {
      "text/plain": [
       "array([1000, 1001, 1039, 1111, 1200, 1234, 1253, 1255, 1300, 1400, 1500,\n",
       "       1600, 1602, 1688, 1800, 1910, 1915, 1919, 1920, 1923, 1925, 1927,\n",
       "       1928, 1929, 1930, 1931, 1932, 1933, 1934, 1935, 1936, 1937, 1938,\n",
       "       1940, 1941, 1942, 1943, 1944, 1945, 1946, 1947, 1948, 1949, 1950,\n",
       "       1951, 1952, 1953, 1954, 1955, 1956, 1957, 1958, 1959, 1960, 1961,\n",
       "       1962, 1963, 1964, 1965, 1966, 1967, 1968, 1969, 1970, 1971, 1972,\n",
       "       1973, 1974, 1975, 1976, 1977, 1978, 1979, 1980, 1981, 1982, 1983,\n",
       "       1984, 1985, 1986, 1987, 1988, 1989, 1990, 1991, 1992, 1993, 1994,\n",
       "       1995, 1996, 1997, 1998, 1999, 2000, 2001, 2002, 2003, 2004, 2005,\n",
       "       2006, 2007, 2008, 2009, 2010, 2011, 2012, 2013, 2014, 2015, 2016,\n",
       "       2017, 2018, 2019, 2066, 2200, 2222, 2290, 2500, 2800, 2900, 3000,\n",
       "       3200, 3500, 3700, 3800, 4000, 4100, 4500, 4800, 5000, 5300, 5555,\n",
       "       5600, 5900, 5911, 6000, 6500, 7000, 7100, 7500, 7800, 8000, 8200,\n",
       "       8455, 8500, 8888, 9000, 9229, 9450, 9996, 9999])"
      ]
     },
     "execution_count": 9,
     "metadata": {},
     "output_type": "execute_result"
    }
   ],
   "source": [
    "df ['RegistrationYear'].sort_values().unique()"
   ]
  },
  {
   "cell_type": "code",
   "execution_count": 10,
   "metadata": {},
   "outputs": [
    {
     "data": {
      "image/png": "[encoded data removed]",
      "text/plain": [
       "<Figure size 432x288 with 1 Axes>"
      ]
     },
     "metadata": {
      "needs_background": "light"
     },
     "output_type": "display_data"
    }
   ],
   "source": [
    "plt.boxplot(df ['RegistrationYear'])\n",
    "plt.show()"
   ]
  },
  {
   "cell_type": "markdown",
   "metadata": {},
   "source": [
    "Она из первых машин \"Motorwagen\" появилась в 1886, но полноценное серийное производтсво начинается после 1900 года, в значениях видно, что нет значений между 1800 и 1910 годами, можно поставить нижнюю отсечку в 1886. \n",
    "Верхнюю отсечку ставлю 2016 год включительно, это последний год выгрузки."
   ]
  },
  {
   "cell_type": "code",
   "execution_count": 11,
   "metadata": {},
   "outputs": [],
   "source": [
    "df1 = df.loc[(df['RegistrationYear'] >= 1886) & (df['RegistrationYear'] <= 2016)]"
   ]
  },
  {
   "cell_type": "code",
   "execution_count": 12,
   "metadata": {},
   "outputs": [
    {
     "data": {
      "text/plain": [
       "array([1910, 1915, 1919, 1920, 1923, 1925, 1927, 1928, 1929, 1930, 1931,\n",
       "       1932, 1933, 1934, 1935, 1936, 1937, 1938, 1940, 1941, 1942, 1943,\n",
       "       1944, 1945, 1946, 1947, 1948, 1949, 1950, 1951, 1952, 1953, 1954,\n",
       "       1955, 1956, 1957, 1958, 1959, 1960, 1961, 1962, 1963, 1964, 1965,\n",
       "       1966, 1967, 1968, 1969, 1970, 1971, 1972, 1973, 1974, 1975, 1976,\n",
       "       1977, 1978, 1979, 1980, 1981, 1982, 1983, 1984, 1985, 1986, 1987,\n",
       "       1988, 1989, 1990, 1991, 1992, 1993, 1994, 1995, 1996, 1997, 1998,\n",
       "       1999, 2000, 2001, 2002, 2003, 2004, 2005, 2006, 2007, 2008, 2009,\n",
       "       2010, 2011, 2012, 2013, 2014, 2015, 2016])"
      ]
     },
     "execution_count": 12,
     "metadata": {},
     "output_type": "execute_result"
    }
   ],
   "source": [
    "df1 ['RegistrationYear'].sort_values().unique()"
   ]
  },
  {
   "cell_type": "markdown",
   "metadata": {},
   "source": [
    "Мощность в данных идет от 0 до 20000"
   ]
  },
  {
   "cell_type": "code",
   "execution_count": 13,
   "metadata": {
    "scrolled": false
   },
   "outputs": [
    {
     "data": {
      "text/plain": [
       "array([    0,     1,     2,     3,     4,     5,     6,     7,     8,\n",
       "           9,    10,    11,    12,    13,    14,    15,    16,    17,\n",
       "          18,    19,    20,    21,    22,    23,    24,    25,    26,\n",
       "          27,    28,    29,    30,    31,    32,    33,    34,    35,\n",
       "          36,    37,    38,    39,    40,    41,    42,    43,    44,\n",
       "          45,    46,    47,    48,    49,    50,    51,    52,    53,\n",
       "          54,    55,    56,    57,    58,    59,    60,    61,    62,\n",
       "          63,    64,    65,    66,    67,    68,    69,    70,    71,\n",
       "          72,    73,    74,    75,    76,    77,    78,    79,    80,\n",
       "          81,    82,    83,    84,    85,    86,    87,    88,    89,\n",
       "          90,    91,    92,    93,    94,    95,    96,    97,    98,\n",
       "          99,   100,   101,   102,   103,   104,   105,   106,   107,\n",
       "         108,   109,   110,   111,   112,   113,   114,   115,   116,\n",
       "         117,   118,   119,   120,   121,   122,   123,   124,   125,\n",
       "         126,   127,   128,   129,   130,   131,   132,   133,   134,\n",
       "         135,   136,   137,   138,   139,   140,   141,   142,   143,\n",
       "         144,   145,   146,   147,   148,   149,   150,   151,   152,\n",
       "         153,   154,   155,   156,   157,   158,   159,   160,   161,\n",
       "         162,   163,   164,   165,   166,   167,   168,   169,   170,\n",
       "         171,   172,   173,   174,   175,   176,   177,   178,   179,\n",
       "         180,   181,   182,   183,   184,   185,   186,   187,   188,\n",
       "         189,   190,   191,   192,   193,   194,   195,   196,   197,\n",
       "         198,   199,   200,   201,   202,   203,   204,   205,   206,\n",
       "         207,   208,   209,   210,   211,   212,   213,   214,   215,\n",
       "         216,   217,   218,   219,   220,   221,   222,   223,   224,\n",
       "         225,   226,   227,   228,   229,   230,   231,   232,   233,\n",
       "         234,   235,   236,   237,   238,   239,   240,   241,   242,\n",
       "         243,   244,   245,   246,   247,   248,   249,   250,   251,\n",
       "         252,   253,   254,   255,   256,   257,   258,   259,   260,\n",
       "         261,   262,   264,   265,   266,   267,   268,   269,   270,\n",
       "         271,   272,   273,   274,   275,   276,   277,   278,   279,\n",
       "         280,   281,   282,   283,   284,   285,   286,   287,   288,\n",
       "         289,   290,   292,   293,   294,   295,   296,   297,   298,\n",
       "         299,   300,   301,   303,   304,   305,   306,   307,   308,\n",
       "         309,   310,   311,   313,   314,   315,   316,   317,   318,\n",
       "         320,   321,   322,   323,   324,   325,   326,   327,   328,\n",
       "         329,   330,   331,   332,   333,   334,   335,   336,   337,\n",
       "         338,   339,   340,   341,   343,   344,   345,   346,   347,\n",
       "         348,   349,   350,   351,   352,   353,   354,   355,   356,\n",
       "         357,   358,   360,   361,   362,   363,   364,   365,   367,\n",
       "         368,   370,   371,   374,   375,   376,   377,   379,   380,\n",
       "         381,   382,   385,   386,   387,   388,   390,   392,   394,\n",
       "         396,   398,   399,   400,   401,   402,   405,   408,   409,\n",
       "         411,   416,   420,   421,   425,   426,   428,   430,   431,\n",
       "         435,   440,   442,   445,   449,   450,   454,   457,   459,\n",
       "         460,   475,   476,   485,   487,   489,   490,   500,   504,\n",
       "         505,   507,   508,   510,   514,   515,   517,   519,   520,\n",
       "         521,   525,   530,   540,   541,   544,   550,   551,   553,\n",
       "         560,   572,   574,   579,   580,   584,   585,   599,   600,\n",
       "         601,   602,   603,   604,   606,   607,   610,   612,   620,\n",
       "         640,   645,   650,   651,   671,   678,   682,   685,   696,\n",
       "         700,   702,   703,   732,   743,   750,   751,   754,   771,\n",
       "         776,   800,   805,   808,   850,   851,   871,   900,   901,\n",
       "         902,   903,   907,   909,   923,   950,   952,   953,   960,\n",
       "         998,   999,  1000,  1001,  1002,  1003,  1004,  1005,  1011,\n",
       "        1012,  1016,  1017,  1021,  1024,  1054,  1055,  1056,  1062,\n",
       "        1079,  1082,  1090,  1100,  1102,  1103,  1105,  1111,  1115,\n",
       "        1120,  1149,  1151,  1158,  1160,  1162,  1164,  1199,  1200,\n",
       "        1202,  1221,  1223,  1230,  1239,  1240,  1241,  1250,  1252,\n",
       "        1256,  1275,  1288,  1299,  1300,  1312,  1317,  1324,  1339,\n",
       "        1351,  1360,  1362,  1363,  1367,  1390,  1394,  1398,  1399,\n",
       "        1400,  1401,  1403,  1405,  1416,  1432,  1433,  1436,  1500,\n",
       "        1501,  1502,  1503,  1506,  1521,  1548,  1595,  1596,  1597,\n",
       "        1598,  1600,  1625,  1631,  1653,  1659,  1689,  1700,  1701,\n",
       "        1703,  1704,  1707,  1753,  1771,  1779,  1780,  1781,  1783,\n",
       "        1793,  1796,  1799,  1800,  1801,  1870,  1895,  1896,  1900,\n",
       "        1910,  1920,  1922,  1933,  1937,  1968,  1986,  1988,  1992,\n",
       "        1993,  1995,  1998,  1999,  2000,  2004,  2005,  2007,  2009,\n",
       "        2016,  2017,  2018,  2172,  2200,  2201,  2331,  2340,  2389,\n",
       "        2402,  2461,  2598,  2729,  2789,  2792,  2799,  3000,  3199,\n",
       "        3454,  3500,  3750,  4400,  4507,  4700,  5000,  5411,  5420,\n",
       "        5575,  5809,  5815,  5867,  6006,  6010,  6011,  6012,  6018,\n",
       "        6045,  6062,  6226,  6512,  6920,  7508,  7511,  7512,  7515,\n",
       "        7518,  7529,  7544,  8011,  8259,  8404,  8500,  9000,  9007,\n",
       "        9010,  9011,  9012,  9013,  9710, 10000, 10110, 10218, 10311,\n",
       "       10317, 10520, 10522, 10710, 10910, 10912, 11011, 11025, 11111,\n",
       "       11509, 11530, 11635, 12012, 12510, 12512, 12684, 13616, 13636,\n",
       "       14009, 15001, 15016, 15017, 15020, 15033, 16011, 16051, 16311,\n",
       "       16312, 17011, 17019, 17410, 17700, 17932, 19208, 19211, 19312,\n",
       "       20000])"
      ]
     },
     "execution_count": 13,
     "metadata": {},
     "output_type": "execute_result"
    }
   ],
   "source": [
    "df ['Power'].sort_values().unique()"
   ]
  },
  {
   "cell_type": "code",
   "execution_count": 14,
   "metadata": {},
   "outputs": [
    {
     "data": {
      "image/png": "[encoded data removed]",
      "text/plain": [
       "<Figure size 432x288 with 1 Axes>"
      ]
     },
     "metadata": {
      "needs_background": "light"
     },
     "output_type": "display_data"
    }
   ],
   "source": [
    "plt.boxplot(df ['Power'])\n",
    "plt.show()"
   ]
  },
  {
   "cell_type": "code",
   "execution_count": 15,
   "metadata": {},
   "outputs": [
    {
     "data": {
      "image/png": "[encoded data removed]",
      "text/plain": [
       "<Figure size 432x288 with 1 Axes>"
      ]
     },
     "metadata": {
      "needs_background": "light"
     },
     "output_type": "display_data"
    }
   ],
   "source": [
    "plt.boxplot(df ['Power'])\n",
    "plt.ylim(0, 300)\n",
    "plt.show()"
   ]
  },
  {
   "cell_type": "markdown",
   "metadata": {},
   "source": [
    "Основные значения в диапазоне примерно от 75 до 125.  \n",
    "Просмотрев популярный сайт Автоскаут я увидел, что действительно много предложений с нереалистичными значениями в районе от 1 до 50 л.с., поэтому эти данные будет опасно обрезать, нижнюю границу задаю от 1 включительно.  \n",
    "Верхнюю границу ставлю в 1000 л.с., для серийный машин это практически максимум, и то это единичные случаи, но и они должны быть в модели для оценки."
   ]
  },
  {
   "cell_type": "code",
   "execution_count": 16,
   "metadata": {},
   "outputs": [],
   "source": [
    "df1 = df1.loc[(df1['Power'] >= 1) & (df1['Power'] <= 1000)]"
   ]
  },
  {
   "cell_type": "markdown",
   "metadata": {},
   "source": [
    "С ценой схожая ситуация, как с мощностью, на сайтах действительно есть предложения по 1 евро, это проблемные машины, но нет продажи за 0 евро, поэтому убираю значения с ценой 0 евро."
   ]
  },
  {
   "cell_type": "code",
   "execution_count": 17,
   "metadata": {
    "scrolled": false
   },
   "outputs": [
    {
     "data": {
      "image/png": "[encoded data removed]",
      "text/plain": [
       "<Figure size 432x288 with 1 Axes>"
      ]
     },
     "metadata": {
      "needs_background": "light"
     },
     "output_type": "display_data"
    }
   ],
   "source": [
    "df1 ['Price'].plot.hist(grid=True, bins=20, rwidth=0.9,\n",
    "                   color='#607c8e')\n",
    "plt.title('Price, EUR')\n",
    "plt.xlabel('Цена, евро')\n",
    "plt.ylabel('Количество')\n",
    "plt.grid(axis='y', alpha=0.75)"
   ]
  },
  {
   "cell_type": "markdown",
   "metadata": {},
   "source": [
    "Проверяю, какие значения лежат в диапазоне от 1 до 50, тут разные модели и новые и старые, ремонтированные и нет, однозначно сказать что это ошибка нельзя, поэтому оставляем."
   ]
  },
  {
   "cell_type": "code",
   "execution_count": 18,
   "metadata": {},
   "outputs": [
    {
     "data": {
      "text/html": [
       "<div>\n",
       "<style scoped>\n",
       "    .dataframe tbody tr th:only-of-type {\n",
       "        vertical-align: middle;\n",
       "    }\n",
       "\n",
       "    .dataframe tbody tr th {\n",
       "        vertical-align: top;\n",
       "    }\n",
       "\n",
       "    .dataframe thead th {\n",
       "        text-align: right;\n",
       "    }\n",
       "</style>\n",
       "<table border=\"1\" class=\"dataframe\">\n",
       "  <thead>\n",
       "    <tr style=\"text-align: right;\">\n",
       "      <th></th>\n",
       "      <th>DateCrawled</th>\n",
       "      <th>Price</th>\n",
       "      <th>VehicleType</th>\n",
       "      <th>RegistrationYear</th>\n",
       "      <th>Gearbox</th>\n",
       "      <th>Power</th>\n",
       "      <th>Model</th>\n",
       "      <th>Kilometer</th>\n",
       "      <th>RegistrationMonth</th>\n",
       "      <th>FuelType</th>\n",
       "      <th>Brand</th>\n",
       "      <th>NotRepaired</th>\n",
       "      <th>DateCreated</th>\n",
       "      <th>NumberOfPictures</th>\n",
       "      <th>PostalCode</th>\n",
       "      <th>LastSeen</th>\n",
       "    </tr>\n",
       "  </thead>\n",
       "  <tbody>\n",
       "    <tr>\n",
       "      <th>1025</th>\n",
       "      <td>2016-03-15 18:57:12</td>\n",
       "      <td>3</td>\n",
       "      <td>convertible</td>\n",
       "      <td>1998</td>\n",
       "      <td>manual</td>\n",
       "      <td>110</td>\n",
       "      <td>mx_reihe</td>\n",
       "      <td>150000</td>\n",
       "      <td>11</td>\n",
       "      <td>NaN</td>\n",
       "      <td>mazda</td>\n",
       "      <td>yes</td>\n",
       "      <td>2016-03-15 00:00:00</td>\n",
       "      <td>0</td>\n",
       "      <td>89312</td>\n",
       "      <td>2016-04-06 21:16:58</td>\n",
       "    </tr>\n",
       "    <tr>\n",
       "      <th>1634</th>\n",
       "      <td>2016-03-13 03:36:19</td>\n",
       "      <td>2</td>\n",
       "      <td>bus</td>\n",
       "      <td>2004</td>\n",
       "      <td>manual</td>\n",
       "      <td>135</td>\n",
       "      <td>scenic</td>\n",
       "      <td>150000</td>\n",
       "      <td>0</td>\n",
       "      <td>petrol</td>\n",
       "      <td>renault</td>\n",
       "      <td>NaN</td>\n",
       "      <td>2016-03-13 00:00:00</td>\n",
       "      <td>0</td>\n",
       "      <td>30926</td>\n",
       "      <td>2016-04-02 15:17:36</td>\n",
       "    </tr>\n",
       "    <tr>\n",
       "      <th>3071</th>\n",
       "      <td>2016-03-24 19:57:53</td>\n",
       "      <td>30</td>\n",
       "      <td>sedan</td>\n",
       "      <td>1995</td>\n",
       "      <td>manual</td>\n",
       "      <td>75</td>\n",
       "      <td>polo</td>\n",
       "      <td>150000</td>\n",
       "      <td>0</td>\n",
       "      <td>petrol</td>\n",
       "      <td>volkswagen</td>\n",
       "      <td>no</td>\n",
       "      <td>2016-03-24 00:00:00</td>\n",
       "      <td>0</td>\n",
       "      <td>59067</td>\n",
       "      <td>2016-04-05 13:16:29</td>\n",
       "    </tr>\n",
       "    <tr>\n",
       "      <th>3742</th>\n",
       "      <td>2016-03-23 17:30:02</td>\n",
       "      <td>2</td>\n",
       "      <td>sedan</td>\n",
       "      <td>2002</td>\n",
       "      <td>auto</td>\n",
       "      <td>272</td>\n",
       "      <td>7er</td>\n",
       "      <td>5000</td>\n",
       "      <td>9</td>\n",
       "      <td>petrol</td>\n",
       "      <td>bmw</td>\n",
       "      <td>NaN</td>\n",
       "      <td>2016-03-23 00:00:00</td>\n",
       "      <td>0</td>\n",
       "      <td>65183</td>\n",
       "      <td>2016-03-24 21:28:34</td>\n",
       "    </tr>\n",
       "    <tr>\n",
       "      <th>6669</th>\n",
       "      <td>2016-03-23 12:40:54</td>\n",
       "      <td>9</td>\n",
       "      <td>small</td>\n",
       "      <td>1994</td>\n",
       "      <td>manual</td>\n",
       "      <td>90</td>\n",
       "      <td>golf</td>\n",
       "      <td>150000</td>\n",
       "      <td>9</td>\n",
       "      <td>petrol</td>\n",
       "      <td>volkswagen</td>\n",
       "      <td>no</td>\n",
       "      <td>2016-03-23 00:00:00</td>\n",
       "      <td>0</td>\n",
       "      <td>3054</td>\n",
       "      <td>2016-04-05 11:18:19</td>\n",
       "    </tr>\n",
       "    <tr>\n",
       "      <th>...</th>\n",
       "      <td>...</td>\n",
       "      <td>...</td>\n",
       "      <td>...</td>\n",
       "      <td>...</td>\n",
       "      <td>...</td>\n",
       "      <td>...</td>\n",
       "      <td>...</td>\n",
       "      <td>...</td>\n",
       "      <td>...</td>\n",
       "      <td>...</td>\n",
       "      <td>...</td>\n",
       "      <td>...</td>\n",
       "      <td>...</td>\n",
       "      <td>...</td>\n",
       "      <td>...</td>\n",
       "      <td>...</td>\n",
       "    </tr>\n",
       "    <tr>\n",
       "      <th>342742</th>\n",
       "      <td>2016-03-13 02:57:07</td>\n",
       "      <td>3</td>\n",
       "      <td>sedan</td>\n",
       "      <td>2007</td>\n",
       "      <td>manual</td>\n",
       "      <td>65</td>\n",
       "      <td>clio</td>\n",
       "      <td>125000</td>\n",
       "      <td>3</td>\n",
       "      <td>petrol</td>\n",
       "      <td>renault</td>\n",
       "      <td>no</td>\n",
       "      <td>2016-03-13 00:00:00</td>\n",
       "      <td>0</td>\n",
       "      <td>41334</td>\n",
       "      <td>2016-03-15 15:15:16</td>\n",
       "    </tr>\n",
       "    <tr>\n",
       "      <th>343524</th>\n",
       "      <td>2016-04-05 09:36:24</td>\n",
       "      <td>10</td>\n",
       "      <td>NaN</td>\n",
       "      <td>2000</td>\n",
       "      <td>NaN</td>\n",
       "      <td>170</td>\n",
       "      <td>vectra</td>\n",
       "      <td>150000</td>\n",
       "      <td>12</td>\n",
       "      <td>NaN</td>\n",
       "      <td>opel</td>\n",
       "      <td>NaN</td>\n",
       "      <td>2016-04-05 00:00:00</td>\n",
       "      <td>0</td>\n",
       "      <td>93449</td>\n",
       "      <td>2016-04-07 13:17:27</td>\n",
       "    </tr>\n",
       "    <tr>\n",
       "      <th>349043</th>\n",
       "      <td>2016-03-26 11:39:00</td>\n",
       "      <td>10</td>\n",
       "      <td>small</td>\n",
       "      <td>1999</td>\n",
       "      <td>NaN</td>\n",
       "      <td>75</td>\n",
       "      <td>NaN</td>\n",
       "      <td>150000</td>\n",
       "      <td>0</td>\n",
       "      <td>NaN</td>\n",
       "      <td>volkswagen</td>\n",
       "      <td>no</td>\n",
       "      <td>2016-03-26 00:00:00</td>\n",
       "      <td>0</td>\n",
       "      <td>85221</td>\n",
       "      <td>2016-04-05 22:45:11</td>\n",
       "    </tr>\n",
       "    <tr>\n",
       "      <th>351442</th>\n",
       "      <td>2016-03-11 08:55:34</td>\n",
       "      <td>20</td>\n",
       "      <td>NaN</td>\n",
       "      <td>1970</td>\n",
       "      <td>NaN</td>\n",
       "      <td>55</td>\n",
       "      <td>NaN</td>\n",
       "      <td>150000</td>\n",
       "      <td>8</td>\n",
       "      <td>NaN</td>\n",
       "      <td>opel</td>\n",
       "      <td>NaN</td>\n",
       "      <td>2016-03-11 00:00:00</td>\n",
       "      <td>0</td>\n",
       "      <td>59872</td>\n",
       "      <td>2016-04-06 11:45:55</td>\n",
       "    </tr>\n",
       "    <tr>\n",
       "      <th>353015</th>\n",
       "      <td>2016-03-26 12:37:56</td>\n",
       "      <td>30</td>\n",
       "      <td>NaN</td>\n",
       "      <td>2016</td>\n",
       "      <td>manual</td>\n",
       "      <td>75</td>\n",
       "      <td>golf</td>\n",
       "      <td>150000</td>\n",
       "      <td>10</td>\n",
       "      <td>petrol</td>\n",
       "      <td>volkswagen</td>\n",
       "      <td>yes</td>\n",
       "      <td>2016-03-26 00:00:00</td>\n",
       "      <td>0</td>\n",
       "      <td>84048</td>\n",
       "      <td>2016-04-05 23:46:46</td>\n",
       "    </tr>\n",
       "  </tbody>\n",
       "</table>\n",
       "<p>113 rows × 16 columns</p>\n",
       "</div>"
      ],
      "text/plain": [
       "                DateCrawled  Price  VehicleType  RegistrationYear Gearbox  \\\n",
       "1025    2016-03-15 18:57:12      3  convertible              1998  manual   \n",
       "1634    2016-03-13 03:36:19      2          bus              2004  manual   \n",
       "3071    2016-03-24 19:57:53     30        sedan              1995  manual   \n",
       "3742    2016-03-23 17:30:02      2        sedan              2002    auto   \n",
       "6669    2016-03-23 12:40:54      9        small              1994  manual   \n",
       "...                     ...    ...          ...               ...     ...   \n",
       "342742  2016-03-13 02:57:07      3        sedan              2007  manual   \n",
       "343524  2016-04-05 09:36:24     10          NaN              2000     NaN   \n",
       "349043  2016-03-26 11:39:00     10        small              1999     NaN   \n",
       "351442  2016-03-11 08:55:34     20          NaN              1970     NaN   \n",
       "353015  2016-03-26 12:37:56     30          NaN              2016  manual   \n",
       "\n",
       "        Power     Model  Kilometer  RegistrationMonth FuelType       Brand  \\\n",
       "1025      110  mx_reihe     150000                 11      NaN       mazda   \n",
       "1634      135    scenic     150000                  0   petrol     renault   \n",
       "3071       75      polo     150000                  0   petrol  volkswagen   \n",
       "3742      272       7er       5000                  9   petrol         bmw   \n",
       "6669       90      golf     150000                  9   petrol  volkswagen   \n",
       "...       ...       ...        ...                ...      ...         ...   \n",
       "342742     65      clio     125000                  3   petrol     renault   \n",
       "343524    170    vectra     150000                 12      NaN        opel   \n",
       "349043     75       NaN     150000                  0      NaN  volkswagen   \n",
       "351442     55       NaN     150000                  8      NaN        opel   \n",
       "353015     75      golf     150000                 10   petrol  volkswagen   \n",
       "\n",
       "       NotRepaired          DateCreated  NumberOfPictures  PostalCode  \\\n",
       "1025           yes  2016-03-15 00:00:00                 0       89312   \n",
       "1634           NaN  2016-03-13 00:00:00                 0       30926   \n",
       "3071            no  2016-03-24 00:00:00                 0       59067   \n",
       "3742           NaN  2016-03-23 00:00:00                 0       65183   \n",
       "6669            no  2016-03-23 00:00:00                 0        3054   \n",
       "...            ...                  ...               ...         ...   \n",
       "342742          no  2016-03-13 00:00:00                 0       41334   \n",
       "343524         NaN  2016-04-05 00:00:00                 0       93449   \n",
       "349043          no  2016-03-26 00:00:00                 0       85221   \n",
       "351442         NaN  2016-03-11 00:00:00                 0       59872   \n",
       "353015         yes  2016-03-26 00:00:00                 0       84048   \n",
       "\n",
       "                   LastSeen  \n",
       "1025    2016-04-06 21:16:58  \n",
       "1634    2016-04-02 15:17:36  \n",
       "3071    2016-04-05 13:16:29  \n",
       "3742    2016-03-24 21:28:34  \n",
       "6669    2016-04-05 11:18:19  \n",
       "...                     ...  \n",
       "342742  2016-03-15 15:15:16  \n",
       "343524  2016-04-07 13:17:27  \n",
       "349043  2016-04-05 22:45:11  \n",
       "351442  2016-04-06 11:45:55  \n",
       "353015  2016-04-05 23:46:46  \n",
       "\n",
       "[113 rows x 16 columns]"
      ]
     },
     "execution_count": 18,
     "metadata": {},
     "output_type": "execute_result"
    }
   ],
   "source": [
    "df1 [(df1['Price']<50) & (df1['Price']>1)]"
   ]
  },
  {
   "cell_type": "markdown",
   "metadata": {},
   "source": [
    "Поэтому чтобы не обрезать полезную информацию убираю только нулевые значения"
   ]
  },
  {
   "cell_type": "code",
   "execution_count": 19,
   "metadata": {},
   "outputs": [],
   "source": [
    "df1 = df1.loc[df1['Price'] >= 1]"
   ]
  },
  {
   "cell_type": "code",
   "execution_count": 20,
   "metadata": {
    "scrolled": true
   },
   "outputs": [
    {
     "data": {
      "text/html": [
       "<div>\n",
       "<style scoped>\n",
       "    .dataframe tbody tr th:only-of-type {\n",
       "        vertical-align: middle;\n",
       "    }\n",
       "\n",
       "    .dataframe tbody tr th {\n",
       "        vertical-align: top;\n",
       "    }\n",
       "\n",
       "    .dataframe thead th {\n",
       "        text-align: right;\n",
       "    }\n",
       "</style>\n",
       "<table border=\"1\" class=\"dataframe\">\n",
       "  <thead>\n",
       "    <tr style=\"text-align: right;\">\n",
       "      <th></th>\n",
       "      <th>Price</th>\n",
       "      <th>RegistrationYear</th>\n",
       "      <th>Power</th>\n",
       "      <th>Kilometer</th>\n",
       "      <th>RegistrationMonth</th>\n",
       "      <th>NumberOfPictures</th>\n",
       "      <th>PostalCode</th>\n",
       "    </tr>\n",
       "  </thead>\n",
       "  <tbody>\n",
       "    <tr>\n",
       "      <th>count</th>\n",
       "      <td>296633.000000</td>\n",
       "      <td>296633.000000</td>\n",
       "      <td>296633.000000</td>\n",
       "      <td>296633.000000</td>\n",
       "      <td>296633.000000</td>\n",
       "      <td>296633.0</td>\n",
       "      <td>296633.000000</td>\n",
       "    </tr>\n",
       "    <tr>\n",
       "      <th>mean</th>\n",
       "      <td>4854.625099</td>\n",
       "      <td>2002.815206</td>\n",
       "      <td>120.727377</td>\n",
       "      <td>128260.443039</td>\n",
       "      <td>5.992890</td>\n",
       "      <td>0.0</td>\n",
       "      <td>51237.013188</td>\n",
       "    </tr>\n",
       "    <tr>\n",
       "      <th>std</th>\n",
       "      <td>4612.152399</td>\n",
       "      <td>6.558912</td>\n",
       "      <td>54.852889</td>\n",
       "      <td>36808.502616</td>\n",
       "      <td>3.584171</td>\n",
       "      <td>0.0</td>\n",
       "      <td>25782.950105</td>\n",
       "    </tr>\n",
       "    <tr>\n",
       "      <th>min</th>\n",
       "      <td>1.000000</td>\n",
       "      <td>1910.000000</td>\n",
       "      <td>1.000000</td>\n",
       "      <td>5000.000000</td>\n",
       "      <td>0.000000</td>\n",
       "      <td>0.0</td>\n",
       "      <td>1067.000000</td>\n",
       "    </tr>\n",
       "    <tr>\n",
       "      <th>25%</th>\n",
       "      <td>1350.000000</td>\n",
       "      <td>1999.000000</td>\n",
       "      <td>75.000000</td>\n",
       "      <td>125000.000000</td>\n",
       "      <td>3.000000</td>\n",
       "      <td>0.0</td>\n",
       "      <td>30926.000000</td>\n",
       "    </tr>\n",
       "    <tr>\n",
       "      <th>50%</th>\n",
       "      <td>3200.000000</td>\n",
       "      <td>2003.000000</td>\n",
       "      <td>111.000000</td>\n",
       "      <td>150000.000000</td>\n",
       "      <td>6.000000</td>\n",
       "      <td>0.0</td>\n",
       "      <td>50259.000000</td>\n",
       "    </tr>\n",
       "    <tr>\n",
       "      <th>75%</th>\n",
       "      <td>6999.000000</td>\n",
       "      <td>2007.000000</td>\n",
       "      <td>150.000000</td>\n",
       "      <td>150000.000000</td>\n",
       "      <td>9.000000</td>\n",
       "      <td>0.0</td>\n",
       "      <td>72108.000000</td>\n",
       "    </tr>\n",
       "    <tr>\n",
       "      <th>max</th>\n",
       "      <td>20000.000000</td>\n",
       "      <td>2016.000000</td>\n",
       "      <td>1000.000000</td>\n",
       "      <td>150000.000000</td>\n",
       "      <td>12.000000</td>\n",
       "      <td>0.0</td>\n",
       "      <td>99998.000000</td>\n",
       "    </tr>\n",
       "  </tbody>\n",
       "</table>\n",
       "</div>"
      ],
      "text/plain": [
       "               Price  RegistrationYear          Power      Kilometer  \\\n",
       "count  296633.000000     296633.000000  296633.000000  296633.000000   \n",
       "mean     4854.625099       2002.815206     120.727377  128260.443039   \n",
       "std      4612.152399          6.558912      54.852889   36808.502616   \n",
       "min         1.000000       1910.000000       1.000000    5000.000000   \n",
       "25%      1350.000000       1999.000000      75.000000  125000.000000   \n",
       "50%      3200.000000       2003.000000     111.000000  150000.000000   \n",
       "75%      6999.000000       2007.000000     150.000000  150000.000000   \n",
       "max     20000.000000       2016.000000    1000.000000  150000.000000   \n",
       "\n",
       "       RegistrationMonth  NumberOfPictures     PostalCode  \n",
       "count      296633.000000          296633.0  296633.000000  \n",
       "mean            5.992890               0.0   51237.013188  \n",
       "std             3.584171               0.0   25782.950105  \n",
       "min             0.000000               0.0    1067.000000  \n",
       "25%             3.000000               0.0   30926.000000  \n",
       "50%             6.000000               0.0   50259.000000  \n",
       "75%             9.000000               0.0   72108.000000  \n",
       "max            12.000000               0.0   99998.000000  "
      ]
     },
     "execution_count": 20,
     "metadata": {},
     "output_type": "execute_result"
    }
   ],
   "source": [
    "df1.describe()"
   ]
  },
  {
   "cell_type": "markdown",
   "metadata": {},
   "source": [
    "Работа с пропусками"
   ]
  },
  {
   "cell_type": "code",
   "execution_count": 21,
   "metadata": {
    "scrolled": true
   },
   "outputs": [
    {
     "data": {
      "text/plain": [
       "NotRepaired          42980\n",
       "FuelType             15594\n",
       "Model                11209\n",
       "VehicleType          11057\n",
       "Gearbox               5391\n",
       "DateCrawled              0\n",
       "Price                    0\n",
       "RegistrationYear         0\n",
       "Power                    0\n",
       "Kilometer                0\n",
       "RegistrationMonth        0\n",
       "Brand                    0\n",
       "DateCreated              0\n",
       "NumberOfPictures         0\n",
       "PostalCode               0\n",
       "LastSeen                 0\n",
       "dtype: int64"
      ]
     },
     "execution_count": 21,
     "metadata": {},
     "output_type": "execute_result"
    }
   ],
   "source": [
    "df1.isnull().sum().sort_values(ascending = False)"
   ]
  },
  {
   "cell_type": "code",
   "execution_count": 22,
   "metadata": {},
   "outputs": [],
   "source": [
    "def func (dataframe):\n",
    "    display (dataframe.value_counts(normalize=True))"
   ]
  },
  {
   "cell_type": "markdown",
   "metadata": {},
   "source": [
    "В значения по ремонту только да и нет, пропуски вероятно значат нет информации, ставим вместо пропусков."
   ]
  },
  {
   "cell_type": "code",
   "execution_count": 23,
   "metadata": {
    "scrolled": true
   },
   "outputs": [
    {
     "data": {
      "text/plain": [
       "no     0.885848\n",
       "yes    0.114152\n",
       "Name: NotRepaired, dtype: float64"
      ]
     },
     "metadata": {},
     "output_type": "display_data"
    }
   ],
   "source": [
    "func(df1['NotRepaired'])"
   ]
  },
  {
   "cell_type": "code",
   "execution_count": 24,
   "metadata": {},
   "outputs": [],
   "source": [
    "df1['NotRepaired'] = df1['NotRepaired'].fillna('no info')"
   ]
  },
  {
   "cell_type": "markdown",
   "metadata": {},
   "source": [
    "В значения по типу топлива есть значение другое, значит все пропуски это отсутвие информации, также меняю на нет информации."
   ]
  },
  {
   "cell_type": "code",
   "execution_count": 25,
   "metadata": {
    "scrolled": true
   },
   "outputs": [
    {
     "data": {
      "text/plain": [
       "petrol      0.667648\n",
       "gasoline    0.312636\n",
       "lpg         0.016677\n",
       "cng         0.001719\n",
       "hybrid      0.000719\n",
       "other       0.000331\n",
       "electric    0.000270\n",
       "Name: FuelType, dtype: float64"
      ]
     },
     "metadata": {},
     "output_type": "display_data"
    }
   ],
   "source": [
    "func(df1['FuelType'])"
   ]
  },
  {
   "cell_type": "code",
   "execution_count": 26,
   "metadata": {},
   "outputs": [],
   "source": [
    "df1['FuelType'] = df1['FuelType'].fillna('no info')"
   ]
  },
  {
   "cell_type": "markdown",
   "metadata": {},
   "source": [
    "В значения по типу машины есть значение другое, значит все пропуски это отсутвие информации, также меняю на нет информации, аналогично типу машины."
   ]
  },
  {
   "cell_type": "code",
   "execution_count": 27,
   "metadata": {},
   "outputs": [
    {
     "data": {
      "text/plain": [
       "sedan          0.290984\n",
       "small          0.245567\n",
       "wagon          0.207573\n",
       "bus            0.091804\n",
       "convertible    0.065741\n",
       "coupe          0.051202\n",
       "suv            0.038389\n",
       "other          0.008740\n",
       "Name: VehicleType, dtype: float64"
      ]
     },
     "metadata": {},
     "output_type": "display_data"
    }
   ],
   "source": [
    "func(df1['VehicleType'])"
   ]
  },
  {
   "cell_type": "code",
   "execution_count": 28,
   "metadata": {},
   "outputs": [],
   "source": [
    "df1['VehicleType'] = df1['VehicleType'].fillna('no info')"
   ]
  },
  {
   "cell_type": "markdown",
   "metadata": {},
   "source": [
    "В значения модель конкретные наименования, значит пропуски это отсутствие информации, меняю на нет информации."
   ]
  },
  {
   "cell_type": "code",
   "execution_count": 29,
   "metadata": {},
   "outputs": [
    {
     "data": {
      "text/plain": [
       "golf                  0.086643\n",
       "other                 0.071700\n",
       "3er                   0.060920\n",
       "polo                  0.037474\n",
       "corsa                 0.035509\n",
       "                        ...   \n",
       "serie_2               0.000018\n",
       "kalina                0.000018\n",
       "serie_3               0.000011\n",
       "range_rover_evoque    0.000007\n",
       "rangerover            0.000007\n",
       "Name: Model, Length: 249, dtype: float64"
      ]
     },
     "metadata": {},
     "output_type": "display_data"
    }
   ],
   "source": [
    "func(df1['Model'])"
   ]
  },
  {
   "cell_type": "code",
   "execution_count": 30,
   "metadata": {},
   "outputs": [],
   "source": [
    "df1['Model'] = df1['Model'].fillna('no info')"
   ]
  },
  {
   "cell_type": "markdown",
   "metadata": {},
   "source": [
    "В типе коробки передач, можно предположить, что есть еще и вариантор, но наверно он часть автоматической коробки передач, также меняю на нет информации."
   ]
  },
  {
   "cell_type": "code",
   "execution_count": 31,
   "metadata": {
    "scrolled": true
   },
   "outputs": [
    {
     "data": {
      "text/plain": [
       "manual    0.797581\n",
       "auto      0.202419\n",
       "Name: Gearbox, dtype: float64"
      ]
     },
     "metadata": {},
     "output_type": "display_data"
    }
   ],
   "source": [
    "func(df1['Gearbox'])"
   ]
  },
  {
   "cell_type": "code",
   "execution_count": 32,
   "metadata": {},
   "outputs": [],
   "source": [
    "df1['Gearbox'] = df1['Gearbox'].fillna('no info')"
   ]
  },
  {
   "cell_type": "markdown",
   "metadata": {},
   "source": [
    "Проверяем, что пропусков не осталось"
   ]
  },
  {
   "cell_type": "code",
   "execution_count": 33,
   "metadata": {},
   "outputs": [
    {
     "data": {
      "text/plain": [
       "DateCrawled          0\n",
       "Price                0\n",
       "VehicleType          0\n",
       "RegistrationYear     0\n",
       "Gearbox              0\n",
       "Power                0\n",
       "Model                0\n",
       "Kilometer            0\n",
       "RegistrationMonth    0\n",
       "FuelType             0\n",
       "Brand                0\n",
       "NotRepaired          0\n",
       "DateCreated          0\n",
       "NumberOfPictures     0\n",
       "PostalCode           0\n",
       "LastSeen             0\n",
       "dtype: int64"
      ]
     },
     "execution_count": 33,
     "metadata": {},
     "output_type": "execute_result"
    }
   ],
   "source": [
    "df1.isnull().sum().sort_values(ascending = False)"
   ]
  },
  {
   "cell_type": "markdown",
   "metadata": {},
   "source": [
    "## Обучение моделей"
   ]
  },
  {
   "cell_type": "code",
   "execution_count": 34,
   "metadata": {},
   "outputs": [
    {
     "name": "stdout",
     "output_type": "stream",
     "text": [
      "<class 'pandas.core.frame.DataFrame'>\n",
      "Int64Index: 296633 entries, 1 to 354368\n",
      "Data columns (total 16 columns):\n",
      " #   Column             Non-Null Count   Dtype \n",
      "---  ------             --------------   ----- \n",
      " 0   DateCrawled        296633 non-null  object\n",
      " 1   Price              296633 non-null  int64 \n",
      " 2   VehicleType        296633 non-null  object\n",
      " 3   RegistrationYear   296633 non-null  int64 \n",
      " 4   Gearbox            296633 non-null  object\n",
      " 5   Power              296633 non-null  int64 \n",
      " 6   Model              296633 non-null  object\n",
      " 7   Kilometer          296633 non-null  int64 \n",
      " 8   RegistrationMonth  296633 non-null  int64 \n",
      " 9   FuelType           296633 non-null  object\n",
      " 10  Brand              296633 non-null  object\n",
      " 11  NotRepaired        296633 non-null  object\n",
      " 12  DateCreated        296633 non-null  object\n",
      " 13  NumberOfPictures   296633 non-null  int64 \n",
      " 14  PostalCode         296633 non-null  int64 \n",
      " 15  LastSeen           296633 non-null  object\n",
      "dtypes: int64(7), object(9)\n",
      "memory usage: 38.5+ MB\n"
     ]
    }
   ],
   "source": [
    "df1.info()"
   ]
  },
  {
   "cell_type": "markdown",
   "metadata": {},
   "source": [
    "Удаляем не нужные столбцы: \n",
    "* DateCrawled - дата скачивания анкеты - не влияет на цену\n",
    "* NumberOfPictures - был бы нужен, но в нем нет информации\n",
    "* PostalCode - почтовый индекс владельца, не влияет. Если был бы регион продажи это бы влияло\n",
    "* LastSeen - дата последнего присутствия на сайте не нужна\n",
    "* DateCreated - не имеет значимого влияния на цену\n",
    "* RegistrationMonth - не влияет на цену, покупатели ориентируются на год выпуска"
   ]
  },
  {
   "cell_type": "code",
   "execution_count": 35,
   "metadata": {},
   "outputs": [],
   "source": [
    "df1 = df1.drop (['DateCrawled', 'NumberOfPictures', 'PostalCode', 'LastSeen', 'DateCreated', 'RegistrationMonth'],axis = 1)\n"
   ]
  },
  {
   "cell_type": "markdown",
   "metadata": {},
   "source": [
    "Меняем тип данных object на category"
   ]
  },
  {
   "cell_type": "code",
   "execution_count": 36,
   "metadata": {},
   "outputs": [],
   "source": [
    "for col in ['VehicleType', 'Gearbox', 'Model', 'FuelType', 'Brand', 'NotRepaired']:\n",
    "    df1[col] = df1[col].astype('category')"
   ]
  },
  {
   "cell_type": "markdown",
   "metadata": {},
   "source": [
    "Датафрейм с кодированными категориальными признаками делю на target и features"
   ]
  },
  {
   "cell_type": "code",
   "execution_count": 37,
   "metadata": {},
   "outputs": [],
   "source": [
    "target = df1['Price']\n",
    "features = df1.drop('Price', axis=1)"
   ]
  },
  {
   "cell_type": "markdown",
   "metadata": {},
   "source": [
    "Делю на выборки в пропорции 60/20/20 тренировочная/валидационная/тестовая"
   ]
  },
  {
   "cell_type": "code",
   "execution_count": 38,
   "metadata": {},
   "outputs": [],
   "source": [
    "features_train, x_valid, target_train, y_valid = train_test_split(\n",
    "   features, target, test_size=0.4, random_state=12345)\n",
    "\n",
    "features_valid, features_test, target_valid, target_test = train_test_split(\n",
    "    x_valid,y_valid, test_size=0.5, random_state=12345)"
   ]
  },
  {
   "cell_type": "code",
   "execution_count": 39,
   "metadata": {
    "scrolled": true
   },
   "outputs": [
    {
     "name": "stdout",
     "output_type": "stream",
     "text": [
      "<class 'pandas.core.frame.DataFrame'>\n",
      "Int64Index: 177979 entries, 326694 to 259860\n",
      "Data columns (total 9 columns):\n",
      " #   Column            Non-Null Count   Dtype   \n",
      "---  ------            --------------   -----   \n",
      " 0   VehicleType       177979 non-null  category\n",
      " 1   RegistrationYear  177979 non-null  int64   \n",
      " 2   Gearbox           177979 non-null  category\n",
      " 3   Power             177979 non-null  int64   \n",
      " 4   Model             177979 non-null  category\n",
      " 5   Kilometer         177979 non-null  int64   \n",
      " 6   FuelType          177979 non-null  category\n",
      " 7   Brand             177979 non-null  category\n",
      " 8   NotRepaired       177979 non-null  category\n",
      "dtypes: category(6), int64(3)\n",
      "memory usage: 6.6 MB\n"
     ]
    }
   ],
   "source": [
    "features_train.info()"
   ]
  },
  {
   "cell_type": "markdown",
   "metadata": {},
   "source": [
    "Выполняю кодирование категориальных переменных методом OrdinalEncoder"
   ]
  },
  {
   "cell_type": "code",
   "execution_count": 40,
   "metadata": {},
   "outputs": [],
   "source": [
    "encoder = OrdinalEncoder()\n",
    "cat_columns = ['VehicleType','FuelType','Brand','Model', 'Gearbox','NotRepaired']\n",
    "#train\n",
    "cat_features_train = features_train[cat_columns]\n",
    "cat_features_train = pd.DataFrame(encoder.fit_transform(cat_features_train),\n",
    "                                columns=cat_features_train.columns, \n",
    "                                index=cat_features_train.index)\n",
    "features_train_OE = features_train.copy()\n",
    "for column in cat_columns:\n",
    "    features_train_OE[column] = cat_features_train[column]\n",
    "#test\n",
    "cat_features_test = features_test[cat_columns]\n",
    "cat_features_test = pd.DataFrame(encoder.fit_transform(cat_features_test),\n",
    "                                columns=cat_features_test.columns, \n",
    "                                index=cat_features_test.index)\n",
    "features_test_OE = features_test.copy()\n",
    "for column in cat_columns:\n",
    "    features_test_OE[column] = cat_features_test[column]\n",
    "#valid\n",
    "cat_features_valid = features_valid[cat_columns]\n",
    "cat_features_valid = pd.DataFrame(encoder.fit_transform(cat_features_valid),\n",
    "                                columns=cat_features_valid.columns, \n",
    "                                index=cat_features_valid.index)\n",
    "features_valid_OE = features_valid.copy()\n",
    "for column in cat_columns:\n",
    "    features_valid_OE[column] = cat_features_valid[column]"
   ]
  },
  {
   "cell_type": "code",
   "execution_count": 41,
   "metadata": {},
   "outputs": [
    {
     "data": {
      "text/html": [
       "<div>\n",
       "<style scoped>\n",
       "    .dataframe tbody tr th:only-of-type {\n",
       "        vertical-align: middle;\n",
       "    }\n",
       "\n",
       "    .dataframe tbody tr th {\n",
       "        vertical-align: top;\n",
       "    }\n",
       "\n",
       "    .dataframe thead th {\n",
       "        text-align: right;\n",
       "    }\n",
       "</style>\n",
       "<table border=\"1\" class=\"dataframe\">\n",
       "  <thead>\n",
       "    <tr style=\"text-align: right;\">\n",
       "      <th></th>\n",
       "      <th>VehicleType</th>\n",
       "      <th>RegistrationYear</th>\n",
       "      <th>Gearbox</th>\n",
       "      <th>Power</th>\n",
       "      <th>Model</th>\n",
       "      <th>Kilometer</th>\n",
       "      <th>FuelType</th>\n",
       "      <th>Brand</th>\n",
       "      <th>NotRepaired</th>\n",
       "    </tr>\n",
       "  </thead>\n",
       "  <tbody>\n",
       "    <tr>\n",
       "      <th>326694</th>\n",
       "      <td>6.0</td>\n",
       "      <td>2001</td>\n",
       "      <td>1.0</td>\n",
       "      <td>80</td>\n",
       "      <td>177.0</td>\n",
       "      <td>150000</td>\n",
       "      <td>7.0</td>\n",
       "      <td>9.0</td>\n",
       "      <td>2.0</td>\n",
       "    </tr>\n",
       "    <tr>\n",
       "      <th>262927</th>\n",
       "      <td>6.0</td>\n",
       "      <td>2010</td>\n",
       "      <td>1.0</td>\n",
       "      <td>84</td>\n",
       "      <td>45.0</td>\n",
       "      <td>150000</td>\n",
       "      <td>4.0</td>\n",
       "      <td>3.0</td>\n",
       "      <td>2.0</td>\n",
       "    </tr>\n",
       "    <tr>\n",
       "      <th>178861</th>\n",
       "      <td>8.0</td>\n",
       "      <td>2000</td>\n",
       "      <td>0.0</td>\n",
       "      <td>136</td>\n",
       "      <td>59.0</td>\n",
       "      <td>150000</td>\n",
       "      <td>4.0</td>\n",
       "      <td>20.0</td>\n",
       "      <td>0.0</td>\n",
       "    </tr>\n",
       "    <tr>\n",
       "      <th>51125</th>\n",
       "      <td>8.0</td>\n",
       "      <td>1997</td>\n",
       "      <td>1.0</td>\n",
       "      <td>136</td>\n",
       "      <td>165.0</td>\n",
       "      <td>150000</td>\n",
       "      <td>7.0</td>\n",
       "      <td>24.0</td>\n",
       "      <td>1.0</td>\n",
       "    </tr>\n",
       "    <tr>\n",
       "      <th>318799</th>\n",
       "      <td>6.0</td>\n",
       "      <td>2004</td>\n",
       "      <td>1.0</td>\n",
       "      <td>37</td>\n",
       "      <td>143.0</td>\n",
       "      <td>150000</td>\n",
       "      <td>7.0</td>\n",
       "      <td>38.0</td>\n",
       "      <td>2.0</td>\n",
       "    </tr>\n",
       "    <tr>\n",
       "      <th>...</th>\n",
       "      <td>...</td>\n",
       "      <td>...</td>\n",
       "      <td>...</td>\n",
       "      <td>...</td>\n",
       "      <td>...</td>\n",
       "      <td>...</td>\n",
       "      <td>...</td>\n",
       "      <td>...</td>\n",
       "      <td>...</td>\n",
       "    </tr>\n",
       "    <tr>\n",
       "      <th>189718</th>\n",
       "      <td>8.0</td>\n",
       "      <td>1999</td>\n",
       "      <td>1.0</td>\n",
       "      <td>136</td>\n",
       "      <td>161.0</td>\n",
       "      <td>150000</td>\n",
       "      <td>5.0</td>\n",
       "      <td>2.0</td>\n",
       "      <td>2.0</td>\n",
       "    </tr>\n",
       "    <tr>\n",
       "      <th>57321</th>\n",
       "      <td>5.0</td>\n",
       "      <td>1998</td>\n",
       "      <td>1.0</td>\n",
       "      <td>75</td>\n",
       "      <td>42.0</td>\n",
       "      <td>150000</td>\n",
       "      <td>7.0</td>\n",
       "      <td>24.0</td>\n",
       "      <td>0.0</td>\n",
       "    </tr>\n",
       "    <tr>\n",
       "      <th>103194</th>\n",
       "      <td>5.0</td>\n",
       "      <td>2005</td>\n",
       "      <td>1.0</td>\n",
       "      <td>105</td>\n",
       "      <td>28.0</td>\n",
       "      <td>150000</td>\n",
       "      <td>2.0</td>\n",
       "      <td>1.0</td>\n",
       "      <td>1.0</td>\n",
       "    </tr>\n",
       "    <tr>\n",
       "      <th>92371</th>\n",
       "      <td>8.0</td>\n",
       "      <td>1998</td>\n",
       "      <td>1.0</td>\n",
       "      <td>101</td>\n",
       "      <td>164.0</td>\n",
       "      <td>150000</td>\n",
       "      <td>7.0</td>\n",
       "      <td>31.0</td>\n",
       "      <td>1.0</td>\n",
       "    </tr>\n",
       "    <tr>\n",
       "      <th>259860</th>\n",
       "      <td>2.0</td>\n",
       "      <td>1999</td>\n",
       "      <td>1.0</td>\n",
       "      <td>170</td>\n",
       "      <td>167.0</td>\n",
       "      <td>80000</td>\n",
       "      <td>7.0</td>\n",
       "      <td>10.0</td>\n",
       "      <td>0.0</td>\n",
       "    </tr>\n",
       "  </tbody>\n",
       "</table>\n",
       "<p>177979 rows × 9 columns</p>\n",
       "</div>"
      ],
      "text/plain": [
       "        VehicleType  RegistrationYear  Gearbox  Power  Model  Kilometer  \\\n",
       "326694          6.0              2001      1.0     80  177.0     150000   \n",
       "262927          6.0              2010      1.0     84   45.0     150000   \n",
       "178861          8.0              2000      0.0    136   59.0     150000   \n",
       "51125           8.0              1997      1.0    136  165.0     150000   \n",
       "318799          6.0              2004      1.0     37  143.0     150000   \n",
       "...             ...               ...      ...    ...    ...        ...   \n",
       "189718          8.0              1999      1.0    136  161.0     150000   \n",
       "57321           5.0              1998      1.0     75   42.0     150000   \n",
       "103194          5.0              2005      1.0    105   28.0     150000   \n",
       "92371           8.0              1998      1.0    101  164.0     150000   \n",
       "259860          2.0              1999      1.0    170  167.0      80000   \n",
       "\n",
       "        FuelType  Brand  NotRepaired  \n",
       "326694       7.0    9.0          2.0  \n",
       "262927       4.0    3.0          2.0  \n",
       "178861       4.0   20.0          0.0  \n",
       "51125        7.0   24.0          1.0  \n",
       "318799       7.0   38.0          2.0  \n",
       "...          ...    ...          ...  \n",
       "189718       5.0    2.0          2.0  \n",
       "57321        7.0   24.0          0.0  \n",
       "103194       2.0    1.0          1.0  \n",
       "92371        7.0   31.0          1.0  \n",
       "259860       7.0   10.0          0.0  \n",
       "\n",
       "[177979 rows x 9 columns]"
      ]
     },
     "execution_count": 41,
     "metadata": {},
     "output_type": "execute_result"
    }
   ],
   "source": [
    "features_train_OE"
   ]
  },
  {
   "cell_type": "markdown",
   "metadata": {},
   "source": [
    "Выполняю кодирование категориальных переменных методом OHE для линейной модели"
   ]
  },
  {
   "cell_type": "code",
   "execution_count": 42,
   "metadata": {},
   "outputs": [],
   "source": [
    "features_train_ohe = pd.get_dummies(features_train, drop_first = True)\n",
    "features_test_ohe = pd.get_dummies(features_test, drop_first = True)\n",
    "features_valid_ohe = pd.get_dummies(features_valid, drop_first = True)"
   ]
  },
  {
   "cell_type": "code",
   "execution_count": 43,
   "metadata": {},
   "outputs": [
    {
     "name": "stdout",
     "output_type": "stream",
     "text": [
      "Размер обучающей выборки составляет: 60.0%\n",
      "Размер валидационной выборки составляет: 20.0%\n",
      "Размер тестовой выборки составляет: 20.0%\n"
     ]
    }
   ],
   "source": [
    "print(f'Размер обучающей выборки составляет: {features_train.shape[0] / df1.shape[0]:.1%}')\n",
    "print(f'Размер валидационной выборки составляет: {features_valid.shape[0] / df1.shape[0]:.1%}')\n",
    "print(f'Размер тестовой выборки составляет: {features_test.shape[0] / df1.shape[0]:.1%}')"
   ]
  },
  {
   "cell_type": "markdown",
   "metadata": {},
   "source": [
    "Масштабирую числовые переменные"
   ]
  },
  {
   "cell_type": "code",
   "execution_count": 45,
   "metadata": {},
   "outputs": [],
   "source": [
    "pd.options.mode.chained_assignment = None\n",
    "numeric = ['RegistrationYear', 'Power', 'Kilometer']\n",
    "\n",
    "scaler = StandardScaler()\n",
    "scaler.fit(features_train[numeric])\n",
    "features_train[numeric] = scaler.transform(features_train[numeric])\n",
    "features_valid[numeric] = scaler.transform(features_valid[numeric])\n",
    "features_test[numeric] = scaler.transform(features_test[numeric])"
   ]
  },
  {
   "cell_type": "markdown",
   "metadata": {},
   "source": [
    "### Линейная регрессия"
   ]
  },
  {
   "cell_type": "code",
   "execution_count": 46,
   "metadata": {},
   "outputs": [],
   "source": [
    "LRmodel = LinearRegression()"
   ]
  },
  {
   "cell_type": "markdown",
   "metadata": {},
   "source": [
    "Обучаем модель."
   ]
  },
  {
   "cell_type": "code",
   "execution_count": 47,
   "metadata": {},
   "outputs": [],
   "source": [
    "tic_LRfit = time.time()\n",
    "LRmodel.fit(features_train_ohe, target_train)\n",
    "toc_LRfit = time.time()\n",
    "time_taken_LRfit = toc_LRfit - tic_LRfit "
   ]
  },
  {
   "cell_type": "markdown",
   "metadata": {},
   "source": [
    "Затраченное время на обучение в секундах"
   ]
  },
  {
   "cell_type": "code",
   "execution_count": 48,
   "metadata": {},
   "outputs": [
    {
     "data": {
      "text/plain": [
       "2.5316410064697266"
      ]
     },
     "execution_count": 48,
     "metadata": {},
     "output_type": "execute_result"
    }
   ],
   "source": [
    "time_taken_LRfit"
   ]
  },
  {
   "cell_type": "code",
   "execution_count": 49,
   "metadata": {},
   "outputs": [],
   "source": [
    "tic_LRpred = time.time()\n",
    "\n",
    "predictions_valid_LR = LRmodel.predict(features_valid_ohe)\n",
    "RMSE_LR = mean_squared_error(target_valid, predictions_valid_LR)**0.5\n",
    "RMSE_LR\n",
    "toc_LRpred = time.time()\n",
    "time_taken_LRpred = toc_LRpred - tic_LRpred "
   ]
  },
  {
   "cell_type": "code",
   "execution_count": 50,
   "metadata": {},
   "outputs": [
    {
     "data": {
      "text/plain": [
       "2615.3968895126113"
      ]
     },
     "execution_count": 50,
     "metadata": {},
     "output_type": "execute_result"
    }
   ],
   "source": [
    "RMSE_LR"
   ]
  },
  {
   "cell_type": "markdown",
   "metadata": {},
   "source": [
    "Время затраченное на предсказание в секундах"
   ]
  },
  {
   "cell_type": "code",
   "execution_count": 51,
   "metadata": {},
   "outputs": [
    {
     "data": {
      "text/plain": [
       "0.25432491302490234"
      ]
     },
     "execution_count": 51,
     "metadata": {},
     "output_type": "execute_result"
    }
   ],
   "source": [
    "time_taken_LRpred"
   ]
  },
  {
   "cell_type": "markdown",
   "metadata": {},
   "source": [
    "У модели долгое время обучения и предсказания. Параметр RMSE сравним с дальнейшими моделями."
   ]
  },
  {
   "cell_type": "markdown",
   "metadata": {},
   "source": [
    "### Случайный лес"
   ]
  },
  {
   "cell_type": "code",
   "execution_count": 52,
   "metadata": {},
   "outputs": [],
   "source": [
    "RFmodel = RandomForestRegressor(random_state=42, n_estimators=15, max_depth = 20)"
   ]
  },
  {
   "cell_type": "markdown",
   "metadata": {},
   "source": [
    "Обучаем модель."
   ]
  },
  {
   "cell_type": "code",
   "execution_count": 53,
   "metadata": {},
   "outputs": [],
   "source": [
    "tic_RFmodel = time.time()\n",
    "RFmodel.fit(features_train_ohe, target_train)\n",
    "toc_RFmodel = time.time()\n",
    "time_taken_RFmodel = toc_LRfit - tic_LRfit "
   ]
  },
  {
   "cell_type": "code",
   "execution_count": 54,
   "metadata": {},
   "outputs": [
    {
     "data": {
      "text/plain": [
       "2.5316410064697266"
      ]
     },
     "execution_count": 54,
     "metadata": {},
     "output_type": "execute_result"
    }
   ],
   "source": [
    "time_taken_RFmodel"
   ]
  },
  {
   "cell_type": "code",
   "execution_count": 55,
   "metadata": {
    "scrolled": false
   },
   "outputs": [],
   "source": [
    "tic_RFmodel_pred = time.time()\n",
    "predictions_valid_RF = RFmodel.predict(features_valid_ohe)\n",
    "RMSE_RF = mean_squared_error(target_valid, predictions_valid_RF)**0.5\n",
    "toc_RFmodel_pred = time.time()\n",
    "time_taken_RFmodel_pred = toc_RFmodel_pred - tic_RFmodel_pred "
   ]
  },
  {
   "cell_type": "code",
   "execution_count": 56,
   "metadata": {},
   "outputs": [
    {
     "data": {
      "text/plain": [
       "0.4118659496307373"
      ]
     },
     "execution_count": 56,
     "metadata": {},
     "output_type": "execute_result"
    }
   ],
   "source": [
    "time_taken_RFmodel_pred"
   ]
  },
  {
   "cell_type": "markdown",
   "metadata": {},
   "source": [
    "Среднеквадратичная ошибка (RMSE) значительно ниже, чем у линейной регрессии. Подбираю параметры, чтобы улучшить результат"
   ]
  },
  {
   "cell_type": "code",
   "execution_count": 57,
   "metadata": {},
   "outputs": [
    {
     "data": {
      "text/plain": [
       "1631.0648964234088"
      ]
     },
     "execution_count": 57,
     "metadata": {},
     "output_type": "execute_result"
    }
   ],
   "source": [
    "RMSE_RF"
   ]
  },
  {
   "cell_type": "code",
   "execution_count": 58,
   "metadata": {},
   "outputs": [
    {
     "name": "stdout",
     "output_type": "stream",
     "text": [
      "{'criterion': 'squared_error', 'max_depth': 25, 'n_estimators': 15, 'random_state': 42}\n"
     ]
    }
   ],
   "source": [
    "regressor = RandomForestRegressor() \n",
    "max_depth_list = [x for x in range(20,36,5)]\n",
    "n_estimators_list = [x for x in range(15, 26,5)]\n",
    "hyperparams = [{'criterion':['squared_error'], \n",
    "                'n_estimators': [15],\n",
    "                'max_depth':n_estimators_list, \n",
    "                'random_state':[42]}]\n",
    "\n",
    "clf = GridSearchCV(regressor, hyperparams, scoring='neg_mean_squared_error')\n",
    "clf.fit(features_train_ohe, target_train)\n",
    "print(clf.best_params_)"
   ]
  },
  {
   "cell_type": "code",
   "execution_count": 59,
   "metadata": {},
   "outputs": [],
   "source": [
    "RFmodel1 = RandomForestRegressor(criterion='squared_error', \n",
    "                              max_depth=21,\n",
    "                                 n_estimators = 15,\n",
    "                              random_state=19072020)"
   ]
  },
  {
   "cell_type": "code",
   "execution_count": 60,
   "metadata": {},
   "outputs": [],
   "source": [
    "tic_RFmodel1 = time.time()\n",
    "RFmodel1.fit(features_train_ohe, target_train)\n",
    "toc_RFmodel1 = time.time()\n",
    "time_taken_RFmodel1 = toc_RFmodel1 - tic_RFmodel1"
   ]
  },
  {
   "cell_type": "code",
   "execution_count": 61,
   "metadata": {},
   "outputs": [
    {
     "data": {
      "text/plain": [
       "38.45230507850647"
      ]
     },
     "execution_count": 61,
     "metadata": {},
     "output_type": "execute_result"
    }
   ],
   "source": [
    "time_taken_RFmodel1"
   ]
  },
  {
   "cell_type": "code",
   "execution_count": 62,
   "metadata": {},
   "outputs": [],
   "source": [
    "tic_RFmodel1_pred = time.time()\n",
    "predictions_valid_RF1 = RFmodel1.predict(features_valid_ohe)\n",
    "RMSE_RF1 = mean_squared_error(target_valid, predictions_valid_RF1)**0.5\n",
    "toc_RFmodel1_pred = time.time()\n",
    "time_taken_RFmodel1_pred = toc_RFmodel1_pred - tic_RFmodel1_pred "
   ]
  },
  {
   "cell_type": "code",
   "execution_count": 63,
   "metadata": {},
   "outputs": [
    {
     "data": {
      "text/plain": [
       "0.41347384452819824"
      ]
     },
     "execution_count": 63,
     "metadata": {},
     "output_type": "execute_result"
    }
   ],
   "source": [
    "time_taken_RFmodel1_pred"
   ]
  },
  {
   "cell_type": "markdown",
   "metadata": {},
   "source": [
    "Среднеквадратичная ошибка стала еще ниже"
   ]
  },
  {
   "cell_type": "code",
   "execution_count": 64,
   "metadata": {},
   "outputs": [
    {
     "data": {
      "text/plain": [
       "1622.9710895196968"
      ]
     },
     "execution_count": 64,
     "metadata": {},
     "output_type": "execute_result"
    }
   ],
   "source": [
    "RMSE_RF1"
   ]
  },
  {
   "cell_type": "markdown",
   "metadata": {},
   "source": [
    "### LGBM регрессия"
   ]
  },
  {
   "cell_type": "markdown",
   "metadata": {},
   "source": [
    "Обучаем модель."
   ]
  },
  {
   "cell_type": "code",
   "execution_count": 65,
   "metadata": {
    "scrolled": true
   },
   "outputs": [],
   "source": [
    "tic_LGBMmodel_fit = time.time()\n",
    "\n",
    "LGBM_model = LGBMRegressor(random_state=42)\n",
    "LGBM_model.fit(features_train, target_train)\n",
    "toc_LGBMmodel_fit = time.time()\n",
    "time_taken_LGBMmodel_fit = toc_LGBMmodel_fit - tic_LGBMmodel_fit "
   ]
  },
  {
   "cell_type": "code",
   "execution_count": 66,
   "metadata": {},
   "outputs": [
    {
     "data": {
      "text/plain": [
       "0.4532201290130615"
      ]
     },
     "execution_count": 66,
     "metadata": {},
     "output_type": "execute_result"
    }
   ],
   "source": [
    "time_taken_LGBMmodel_fit"
   ]
  },
  {
   "cell_type": "code",
   "execution_count": 67,
   "metadata": {
    "scrolled": true
   },
   "outputs": [],
   "source": [
    "tic_LGBMmodel_pred = time.time()\n",
    "\n",
    "predictions_valid_LGBM = LGBM_model.predict(features_valid)\n",
    "RMSE_LGBN = mean_squared_error(target_valid, predictions_valid_LGBM)**0.5\n",
    "\n",
    "toc_LGBMmodel_pred = time.time()\n",
    "time_taken_LGBMmodel_pred = toc_LGBMmodel_pred - tic_LGBMmodel_pred "
   ]
  },
  {
   "cell_type": "code",
   "execution_count": 68,
   "metadata": {},
   "outputs": [
    {
     "data": {
      "text/plain": [
       "1619.4911348402961"
      ]
     },
     "execution_count": 68,
     "metadata": {},
     "output_type": "execute_result"
    }
   ],
   "source": [
    "RMSE_LGBN"
   ]
  },
  {
   "cell_type": "code",
   "execution_count": 69,
   "metadata": {
    "scrolled": true
   },
   "outputs": [
    {
     "data": {
      "text/plain": [
       "0.09665703773498535"
      ]
     },
     "execution_count": 69,
     "metadata": {},
     "output_type": "execute_result"
    }
   ],
   "source": [
    "time_taken_LGBMmodel_pred"
   ]
  },
  {
   "cell_type": "markdown",
   "metadata": {},
   "source": [
    "Подбираю гиперпараметры для улучшения результата"
   ]
  },
  {
   "cell_type": "code",
   "execution_count": 70,
   "metadata": {
    "scrolled": false
   },
   "outputs": [
    {
     "name": "stdout",
     "output_type": "stream",
     "text": [
      "{'learning_rate': 0.1, 'max_depth': -1, 'num_leaves': 300, 'random_state': 42}\n"
     ]
    }
   ],
   "source": [
    "regressor = LGBMRegressor() \n",
    "hyperparams = [{'num_leaves':[50, 100, 300], \n",
    "                'learning_rate':[0.05, 0.1, 0.3],\n",
    "                'max_depth': [-1, 100,600],\n",
    "                'random_state':[42]}]\n",
    "\n",
    "clf = GridSearchCV(regressor, hyperparams, scoring='neg_mean_squared_error')\n",
    "clf.fit(features_train, target_train)\n",
    "print(clf.best_params_)"
   ]
  },
  {
   "cell_type": "code",
   "execution_count": 71,
   "metadata": {},
   "outputs": [],
   "source": [
    "LGBM_model1 = LGBMRegressor(learning_rate=0.1,\n",
    "                            max_depth=-1,\n",
    "                      num_leaves=300, \n",
    "                      random_state=19072020)"
   ]
  },
  {
   "cell_type": "code",
   "execution_count": 72,
   "metadata": {},
   "outputs": [],
   "source": [
    "tic_LGBMmodel1_fit = time.time()\n",
    "LGBM_model1.fit(features_train, target_train)\n",
    "toc_LGBMmodel1_fit = time.time()\n",
    "time_taken_LGBMmodel1_fit = toc_LGBMmodel1_fit - tic_LGBMmodel1_fit"
   ]
  },
  {
   "cell_type": "code",
   "execution_count": 73,
   "metadata": {},
   "outputs": [
    {
     "data": {
      "text/plain": [
       "1.9055991172790527"
      ]
     },
     "execution_count": 73,
     "metadata": {},
     "output_type": "execute_result"
    }
   ],
   "source": [
    "time_taken_LGBMmodel1_fit"
   ]
  },
  {
   "cell_type": "code",
   "execution_count": 74,
   "metadata": {},
   "outputs": [],
   "source": [
    "tic_LGBMmodel1_pred = time.time()\n",
    "predictions_valid_LGBM1 = LGBM_model1.predict(features_valid)\n",
    "RMSE_LGBN1 = mean_squared_error(target_valid, predictions_valid_LGBM1)**0.5\n",
    "toc_LGBMmodel1_pred = time.time()\n",
    "time_taken_LGBMmodel1_pred = toc_LGBMmodel1_pred - tic_LGBMmodel1_pred "
   ]
  },
  {
   "cell_type": "code",
   "execution_count": 75,
   "metadata": {},
   "outputs": [
    {
     "data": {
      "text/plain": [
       "0.22090792655944824"
      ]
     },
     "execution_count": 75,
     "metadata": {},
     "output_type": "execute_result"
    }
   ],
   "source": [
    "time_taken_LGBMmodel1_pred"
   ]
  },
  {
   "cell_type": "code",
   "execution_count": 76,
   "metadata": {},
   "outputs": [
    {
     "data": {
      "text/plain": [
       "1528.0833517195313"
      ]
     },
     "execution_count": 76,
     "metadata": {},
     "output_type": "execute_result"
    }
   ],
   "source": [
    "RMSE_LGBN1"
   ]
  },
  {
   "cell_type": "markdown",
   "metadata": {},
   "source": [
    "Параметр RMSE значимо лучше, чем у предыдущих моделей"
   ]
  },
  {
   "cell_type": "markdown",
   "metadata": {},
   "source": [
    "### Catboost "
   ]
  },
  {
   "cell_type": "markdown",
   "metadata": {},
   "source": [
    "Обучаем модель."
   ]
  },
  {
   "cell_type": "code",
   "execution_count": 77,
   "metadata": {},
   "outputs": [],
   "source": [
    "tic_CBMmodel_fit = time.time()\n",
    "cat_features = ['VehicleType', 'Gearbox', 'Model', 'FuelType', 'Brand', 'NotRepaired']\n",
    "\n",
    "catboost_model = CatBoostRegressor(random_state=42,silent=True)\n",
    "catboost_model.fit(features_train, target_train, cat_features=cat_features)\n",
    "toc_CBmodel_fit = time.time()\n",
    "time_taken_CBmodel_fit = toc_CBmodel_fit - tic_CBMmodel_fit "
   ]
  },
  {
   "cell_type": "code",
   "execution_count": 78,
   "metadata": {},
   "outputs": [
    {
     "data": {
      "text/plain": [
       "58.845365047454834"
      ]
     },
     "execution_count": 78,
     "metadata": {},
     "output_type": "execute_result"
    }
   ],
   "source": [
    "time_taken_CBmodel_fit"
   ]
  },
  {
   "cell_type": "code",
   "execution_count": 79,
   "metadata": {
    "scrolled": true
   },
   "outputs": [],
   "source": [
    "tic_CBmodel_pred = time.time()\n",
    "\n",
    "predictions_valid_cat = catboost_model.predict(features_valid)\n",
    "RMSE_CB = mean_squared_error(target_valid, predictions_valid_cat)**0.5\n",
    "\n",
    "toc_CBmodel_pred = time.time()\n",
    "time_taken_CBmodel_pred = toc_CBmodel_pred - tic_CBmodel_pred "
   ]
  },
  {
   "cell_type": "code",
   "execution_count": 80,
   "metadata": {},
   "outputs": [
    {
     "data": {
      "text/plain": [
       "1597.1711627215734"
      ]
     },
     "execution_count": 80,
     "metadata": {},
     "output_type": "execute_result"
    }
   ],
   "source": [
    "RMSE_CB"
   ]
  },
  {
   "cell_type": "code",
   "execution_count": 81,
   "metadata": {},
   "outputs": [
    {
     "data": {
      "text/plain": [
       "0.1651320457458496"
      ]
     },
     "execution_count": 81,
     "metadata": {},
     "output_type": "execute_result"
    }
   ],
   "source": [
    "time_taken_CBmodel_pred"
   ]
  },
  {
   "cell_type": "markdown",
   "metadata": {},
   "source": [
    "Пробую улучшить модель, чтобы среднеквадратичная ошибка (RMSE) стала еще меньше"
   ]
  },
  {
   "cell_type": "code",
   "execution_count": 82,
   "metadata": {},
   "outputs": [
    {
     "name": "stdout",
     "output_type": "stream",
     "text": [
      "Training on fold [0/3]\n",
      "0:\tlearn: 5094.1470318\ttest: 5031.7576378\tbest: 5031.7576378 (0)\ttotal: 99.1ms\tremaining: 1m 38s\n",
      "100:\tlearn: 1641.2669097\ttest: 1665.0912470\tbest: 1665.0912470 (100)\ttotal: 5.14s\tremaining: 45.7s\n",
      "200:\tlearn: 1570.8816225\ttest: 1626.7428600\tbest: 1626.7428600 (200)\ttotal: 10.5s\tremaining: 41.8s\n",
      "300:\tlearn: 1528.4719081\ttest: 1607.9916730\tbest: 1607.9916730 (300)\ttotal: 15.1s\tremaining: 35.2s\n",
      "400:\tlearn: 1497.8226114\ttest: 1596.5653556\tbest: 1596.5291141 (394)\ttotal: 19.5s\tremaining: 29.1s\n",
      "500:\tlearn: 1472.0344347\ttest: 1590.9583285\tbest: 1590.8374093 (498)\ttotal: 24.7s\tremaining: 24.6s\n",
      "600:\tlearn: 1450.8284487\ttest: 1585.0822660\tbest: 1584.9710763 (585)\ttotal: 29.8s\tremaining: 19.8s\n",
      "700:\tlearn: 1431.0128585\ttest: 1580.7395938\tbest: 1580.6670639 (697)\ttotal: 34.7s\tremaining: 14.8s\n",
      "800:\tlearn: 1412.6011245\ttest: 1578.1581732\tbest: 1578.1581732 (800)\ttotal: 39.9s\tremaining: 9.91s\n",
      "900:\tlearn: 1398.1176353\ttest: 1576.8489249\tbest: 1576.8209457 (864)\ttotal: 44.7s\tremaining: 4.91s\n",
      "999:\tlearn: 1386.0147313\ttest: 1574.5847093\tbest: 1574.5847093 (999)\ttotal: 49.1s\tremaining: 0us\n",
      "\n",
      "bestTest = 1574.584709\n",
      "bestIteration = 999\n",
      "\n",
      "Training on fold [1/3]\n",
      "0:\tlearn: 5042.8401892\ttest: 5085.2456992\tbest: 5085.2456992 (0)\ttotal: 65.3ms\tremaining: 1m 5s\n",
      "100:\tlearn: 1621.1917974\ttest: 1679.2025083\tbest: 1679.2025083 (100)\ttotal: 4.32s\tremaining: 38.5s\n",
      "200:\tlearn: 1552.6660084\ttest: 1642.3411812\tbest: 1642.3411812 (200)\ttotal: 8.86s\tremaining: 35.2s\n",
      "300:\tlearn: 1511.0359335\ttest: 1622.9812474\tbest: 1622.6254712 (293)\ttotal: 13.2s\tremaining: 30.7s\n",
      "400:\tlearn: 1482.4611887\ttest: 1612.2714023\tbest: 1612.2714023 (400)\ttotal: 17.6s\tremaining: 26.3s\n",
      "500:\tlearn: 1461.9817975\ttest: 1606.3395401\tbest: 1606.2635109 (483)\ttotal: 22.2s\tremaining: 22.1s\n",
      "600:\tlearn: 1442.2194173\ttest: 1602.7822576\tbest: 1602.7822576 (600)\ttotal: 26.5s\tremaining: 17.6s\n",
      "700:\tlearn: 1421.7965667\ttest: 1596.9742687\tbest: 1596.9742687 (700)\ttotal: 31.4s\tremaining: 13.4s\n",
      "800:\tlearn: 1405.2976235\ttest: 1591.6978047\tbest: 1591.5551507 (799)\ttotal: 35.9s\tremaining: 8.91s\n",
      "900:\tlearn: 1391.2029352\ttest: 1589.5347821\tbest: 1589.5347821 (900)\ttotal: 40.8s\tremaining: 4.49s\n",
      "999:\tlearn: 1378.2861687\ttest: 1586.6990465\tbest: 1586.6936740 (992)\ttotal: 45.7s\tremaining: 0us\n",
      "\n",
      "bestTest = 1586.693674\n",
      "bestIteration = 992\n",
      "\n",
      "Training on fold [2/3]\n",
      "0:\tlearn: 5078.3518721\ttest: 5102.5212539\tbest: 5102.5212539 (0)\ttotal: 74.7ms\tremaining: 1m 14s\n",
      "100:\tlearn: 1639.5737974\ttest: 1685.8011906\tbest: 1685.8011906 (100)\ttotal: 4.67s\tremaining: 41.5s\n",
      "200:\tlearn: 1559.1640550\ttest: 1639.7752569\tbest: 1639.7752569 (200)\ttotal: 9.55s\tremaining: 38s\n",
      "300:\tlearn: 1518.5885040\ttest: 1618.6421687\tbest: 1618.6421687 (300)\ttotal: 14.1s\tremaining: 32.8s\n",
      "400:\tlearn: 1488.7702208\ttest: 1607.0353693\tbest: 1607.0353693 (400)\ttotal: 18.8s\tremaining: 28.1s\n",
      "500:\tlearn: 1462.2240390\ttest: 1598.0183204\tbest: 1598.0183204 (500)\ttotal: 23.8s\tremaining: 23.7s\n",
      "600:\tlearn: 1441.5673549\ttest: 1591.8244655\tbest: 1591.8126109 (598)\ttotal: 28.9s\tremaining: 19.2s\n",
      "700:\tlearn: 1425.9041869\ttest: 1587.8996755\tbest: 1587.8996755 (700)\ttotal: 35s\tremaining: 14.9s\n",
      "800:\tlearn: 1410.6817659\ttest: 1584.4300322\tbest: 1584.4300322 (800)\ttotal: 40.5s\tremaining: 10.1s\n",
      "900:\tlearn: 1396.7243184\ttest: 1581.6014697\tbest: 1581.6014697 (900)\ttotal: 45.5s\tremaining: 5s\n",
      "999:\tlearn: 1383.9711144\ttest: 1579.7786434\tbest: 1579.6627510 (991)\ttotal: 50.1s\tremaining: 0us\n",
      "\n",
      "bestTest = 1579.662751\n",
      "bestIteration = 991\n",
      "\n"
     ]
    }
   ],
   "source": [
    "train_data = Pool(data=features_train,\n",
    "              label=target_train,\n",
    "              cat_features = cat_features\n",
    "              )\n",
    "\n",
    "test_data = Pool(data=features_valid,\n",
    "              label=target_valid,\n",
    "              cat_features = cat_features\n",
    "              )\n",
    "\n",
    "model_params = {'random_state': 42,\n",
    "                'eval_metric': 'RMSE',\n",
    "                'verbose': 100,\n",
    "                'cat_features': cat_features,\n",
    "                'loss_function': 'RMSE',\n",
    "                'learning_rate': 0.3}\n",
    "\n",
    "cv_params = {'params': model_params,\n",
    "             'pool': train_data,\n",
    "             'fold_count': 3,\n",
    "             'shuffle':True,\n",
    "             'partition_random_seed':42,\n",
    "             'verbose': 100,\n",
    "             'early_stopping_rounds':200}\n",
    "\n",
    "cv_data = cv(**cv_params)"
   ]
  },
  {
   "cell_type": "code",
   "execution_count": 83,
   "metadata": {},
   "outputs": [],
   "source": [
    "catboost_model1 = CatBoostRegressor(**model_params)"
   ]
  },
  {
   "cell_type": "code",
   "execution_count": 84,
   "metadata": {},
   "outputs": [
    {
     "name": "stdout",
     "output_type": "stream",
     "text": [
      "0:\tlearn: 3740.7143902\ttotal: 75.4ms\tremaining: 1m 15s\n",
      "100:\tlearn: 1630.3115581\ttotal: 6.01s\tremaining: 53.5s\n",
      "200:\tlearn: 1566.8567320\ttotal: 12.2s\tremaining: 48.4s\n",
      "300:\tlearn: 1527.5596994\ttotal: 19.5s\tremaining: 45.2s\n",
      "400:\tlearn: 1501.3280989\ttotal: 26.5s\tremaining: 39.5s\n",
      "500:\tlearn: 1479.0032733\ttotal: 32.8s\tremaining: 32.7s\n",
      "600:\tlearn: 1459.7420719\ttotal: 39.3s\tremaining: 26.1s\n",
      "700:\tlearn: 1443.3022516\ttotal: 45.4s\tremaining: 19.4s\n",
      "800:\tlearn: 1430.4973109\ttotal: 51.4s\tremaining: 12.8s\n",
      "900:\tlearn: 1418.9721742\ttotal: 57.7s\tremaining: 6.34s\n",
      "999:\tlearn: 1408.6075253\ttotal: 1m 3s\tremaining: 0us\n"
     ]
    }
   ],
   "source": [
    "tic_CBMmodel_fit1 = time.time()\n",
    "catboost_model1.fit(features_train, target_train)\n",
    "toc_CBmodel_fit1 = time.time()\n",
    "time_taken_CBmodel_fit1 = toc_CBmodel_fit1 - tic_CBMmodel_fit1"
   ]
  },
  {
   "cell_type": "code",
   "execution_count": 85,
   "metadata": {
    "scrolled": false
   },
   "outputs": [],
   "source": [
    "tic_CBmodel_pred1 = time.time()\n",
    "predictions_valid_cat1 = catboost_model1.predict(features_valid)\n",
    "RMSE_CB1 = mean_squared_error(target_valid, predictions_valid_cat1)**0.5\n",
    "toc_CBmodel_pred1 = time.time()\n",
    "time_taken_CBmodel_pred1 = toc_CBmodel_pred1 - tic_CBmodel_pred1"
   ]
  },
  {
   "cell_type": "markdown",
   "metadata": {},
   "source": [
    "Среднеквадратичная ошибка (RMSE) еще уменьшилась, можно делать сводную таблицу со всеми моделями"
   ]
  },
  {
   "cell_type": "code",
   "execution_count": 86,
   "metadata": {},
   "outputs": [
    {
     "data": {
      "text/plain": [
       "1569.8059235424394"
      ]
     },
     "execution_count": 86,
     "metadata": {},
     "output_type": "execute_result"
    }
   ],
   "source": [
    "RMSE_CB1"
   ]
  },
  {
   "cell_type": "code",
   "execution_count": 87,
   "metadata": {},
   "outputs": [
    {
     "data": {
      "text/plain": [
       "0.2590599060058594"
      ]
     },
     "execution_count": 87,
     "metadata": {},
     "output_type": "execute_result"
    }
   ],
   "source": [
    "time_taken_CBmodel_pred1"
   ]
  },
  {
   "cell_type": "code",
   "execution_count": 88,
   "metadata": {},
   "outputs": [],
   "source": [
    "model_1 = {'Время обучения, сек': time_taken_LGBMmodel_fit,\n",
    "            'Время предсказания, сек': time_taken_LGBMmodel_pred,\n",
    "            'RMSE': RMSE_LGBN}\n",
    "model_2 = {'Время обучения, сек': time_taken_LGBMmodel1_fit,\n",
    "            'Время предсказания, сек': time_taken_LGBMmodel_pred,\n",
    "            'RMSE': RMSE_LGBN1}\n",
    "model_3 = {'Время обучения, сек': time_taken_LRfit,\n",
    "            'Время предсказания, сек': time_taken_LRpred,\n",
    "              'RMSE': RMSE_LR}\n",
    "model_4 = {'Время обучения, сек': time_taken_RFmodel,\n",
    "            'Время предсказания, сек': time_taken_RFmodel_pred,\n",
    "              'RMSE': RMSE_RF}\n",
    "model_5 = {'Время обучения, сек': time_taken_RFmodel1,\n",
    "            'Время предсказания, сек': time_taken_RFmodel1_pred,\n",
    "              'RMSE': RMSE_RF1}\n",
    "model_6 = {'Время обучения, сек': time_taken_CBmodel_fit,\n",
    "            'Время предсказания, сек': time_taken_CBmodel_pred,\n",
    "              'RMSE': RMSE_CB}\n",
    "model_7 = {'Время обучения, сек': time_taken_CBmodel_fit1,\n",
    "            'Время предсказания, сек': time_taken_CBmodel_pred1,\n",
    "              'RMSE': RMSE_CB1}"
   ]
  },
  {
   "cell_type": "code",
   "execution_count": 89,
   "metadata": {},
   "outputs": [],
   "source": [
    "Models = pd.DataFrame([model_1, model_2, model_3, model_4, model_5, model_6, model_7], \n",
    "                      index=['LightGBM', 'LightGBM_tune','LinearRegression', 'RandomForest','RandomForest_tune', 'CatBoost','CatBoost_cv'])"
   ]
  },
  {
   "cell_type": "markdown",
   "metadata": {},
   "source": [
    "## Анализ моделей"
   ]
  },
  {
   "cell_type": "code",
   "execution_count": 90,
   "metadata": {
    "scrolled": false
   },
   "outputs": [
    {
     "data": {
      "text/html": [
       "<div>\n",
       "<style scoped>\n",
       "    .dataframe tbody tr th:only-of-type {\n",
       "        vertical-align: middle;\n",
       "    }\n",
       "\n",
       "    .dataframe tbody tr th {\n",
       "        vertical-align: top;\n",
       "    }\n",
       "\n",
       "    .dataframe thead th {\n",
       "        text-align: right;\n",
       "    }\n",
       "</style>\n",
       "<table border=\"1\" class=\"dataframe\">\n",
       "  <thead>\n",
       "    <tr style=\"text-align: right;\">\n",
       "      <th></th>\n",
       "      <th>Время обучения, сек</th>\n",
       "      <th>Время предсказания, сек</th>\n",
       "      <th>RMSE</th>\n",
       "    </tr>\n",
       "  </thead>\n",
       "  <tbody>\n",
       "    <tr>\n",
       "      <th>LightGBM</th>\n",
       "      <td>0.453220</td>\n",
       "      <td>0.096657</td>\n",
       "      <td>1619.491135</td>\n",
       "    </tr>\n",
       "    <tr>\n",
       "      <th>LightGBM_tune</th>\n",
       "      <td>1.905599</td>\n",
       "      <td>0.096657</td>\n",
       "      <td>1528.083352</td>\n",
       "    </tr>\n",
       "    <tr>\n",
       "      <th>LinearRegression</th>\n",
       "      <td>2.531641</td>\n",
       "      <td>0.254325</td>\n",
       "      <td>2615.396890</td>\n",
       "    </tr>\n",
       "    <tr>\n",
       "      <th>RandomForest</th>\n",
       "      <td>2.531641</td>\n",
       "      <td>0.411866</td>\n",
       "      <td>1631.064896</td>\n",
       "    </tr>\n",
       "    <tr>\n",
       "      <th>RandomForest_tune</th>\n",
       "      <td>38.452305</td>\n",
       "      <td>0.413474</td>\n",
       "      <td>1622.971090</td>\n",
       "    </tr>\n",
       "    <tr>\n",
       "      <th>CatBoost</th>\n",
       "      <td>58.845365</td>\n",
       "      <td>0.165132</td>\n",
       "      <td>1597.171163</td>\n",
       "    </tr>\n",
       "    <tr>\n",
       "      <th>CatBoost_cv</th>\n",
       "      <td>64.517677</td>\n",
       "      <td>0.259060</td>\n",
       "      <td>1569.805924</td>\n",
       "    </tr>\n",
       "  </tbody>\n",
       "</table>\n",
       "</div>"
      ],
      "text/plain": [
       "                   Время обучения, сек  Время предсказания, сек         RMSE\n",
       "LightGBM                      0.453220                 0.096657  1619.491135\n",
       "LightGBM_tune                 1.905599                 0.096657  1528.083352\n",
       "LinearRegression              2.531641                 0.254325  2615.396890\n",
       "RandomForest                  2.531641                 0.411866  1631.064896\n",
       "RandomForest_tune            38.452305                 0.413474  1622.971090\n",
       "CatBoost                     58.845365                 0.165132  1597.171163\n",
       "CatBoost_cv                  64.517677                 0.259060  1569.805924"
      ]
     },
     "execution_count": 90,
     "metadata": {},
     "output_type": "execute_result"
    }
   ],
   "source": [
    "Models"
   ]
  },
  {
   "cell_type": "markdown",
   "metadata": {},
   "source": [
    "На основе параметре RMSE лидер LightGBM с подобранными гиперпараметрами, не сильно ей уступает модель CatBoost с кросс-валидацией. По времени обучения и предсказания LGBM значительно быстрее CatBoost."
   ]
  },
  {
   "cell_type": "markdown",
   "metadata": {},
   "source": [
    "Проверяю две лучшие модели на тестовой выборке. Результат у модели LGBM снова лучше, RMSE ниже. Показатели на тестовой выборке незначительно хуже."
   ]
  },
  {
   "cell_type": "code",
   "execution_count": 91,
   "metadata": {},
   "outputs": [
    {
     "data": {
      "text/plain": [
       "1573.1662523602163"
      ]
     },
     "execution_count": 91,
     "metadata": {},
     "output_type": "execute_result"
    }
   ],
   "source": [
    "predictions_test_CB = catboost_model1.predict(features_test)\n",
    "RMSE = mean_squared_error(target_test, predictions_test_CB)**0.5\n",
    "RMSE"
   ]
  },
  {
   "cell_type": "code",
   "execution_count": 92,
   "metadata": {},
   "outputs": [
    {
     "data": {
      "text/plain": [
       "1525.6897398794208"
      ]
     },
     "execution_count": 92,
     "metadata": {},
     "output_type": "execute_result"
    }
   ],
   "source": [
    "predictions_test_LGBM = LGBM_model1.predict(features_test)\n",
    "RMSE1 = mean_squared_error(target_test, predictions_test_LGBM)**0.5\n",
    "RMSE1"
   ]
  },
  {
   "cell_type": "markdown",
   "metadata": {},
   "source": [
    "## Вывод"
   ]
  },
  {
   "cell_type": "markdown",
   "metadata": {},
   "source": [
    "Были выполнены шаги:\n",
    "\n",
    "Загружены данные, выполнена предобработка (удалены дубликаты, замены пропуски).\n",
    "Проведено обучение и предсказание моделей с параметрами по умолчанию и дополнительно с использованием различных наборов гиперпараметров.\n",
    "Выбрана лучшая модель по результатам метрики RMSE и времени обучения.\n",
    "\n",
    "Лучшая модель по скорости обучения, предсказания - LGBM.\n",
    "\n",
    "Исходя из этого общая рекомендация:\n",
    "\n",
    "В качестве использования модели для предсказания цен на б/у автомобили рекомендуется выбрать LGBM с подобранными гиперпараметрами."
   ]
  }
 ],
 "metadata": {
  "ExecuteTimeLog": [
   {
    "duration": 1599,
    "start_time": "2022-09-14T11:13:37.202Z"
   },
   {
    "duration": 79,
    "start_time": "2022-09-14T11:13:58.301Z"
   },
   {
    "duration": 2975,
    "start_time": "2022-09-14T11:14:39.622Z"
   },
   {
    "duration": 24,
    "start_time": "2022-09-14T11:14:48.023Z"
   },
   {
    "duration": 10,
    "start_time": "2022-09-17T14:11:50.436Z"
   },
   {
    "duration": 1831,
    "start_time": "2022-09-17T14:12:01.754Z"
   },
   {
    "duration": 3589,
    "start_time": "2022-09-17T14:12:03.587Z"
   },
   {
    "duration": 43,
    "start_time": "2022-09-17T14:12:07.178Z"
   },
   {
    "duration": 5,
    "start_time": "2022-09-17T14:12:07.224Z"
   },
   {
    "duration": 1754,
    "start_time": "2022-09-17T14:12:19.205Z"
   },
   {
    "duration": 5,
    "start_time": "2022-09-17T14:12:43.418Z"
   },
   {
    "duration": 1888,
    "start_time": "2022-09-17T14:12:43.820Z"
   },
   {
    "duration": 6,
    "start_time": "2022-09-17T14:13:50.692Z"
   },
   {
    "duration": 1671,
    "start_time": "2022-09-17T14:13:50.944Z"
   },
   {
    "duration": 5,
    "start_time": "2022-09-17T14:14:35.224Z"
   },
   {
    "duration": 1544,
    "start_time": "2022-09-17T14:14:35.570Z"
   },
   {
    "duration": 541,
    "start_time": "2022-09-17T14:14:58.185Z"
   },
   {
    "duration": 167,
    "start_time": "2022-09-17T14:15:15.826Z"
   },
   {
    "duration": 540,
    "start_time": "2022-09-17T14:15:26.825Z"
   },
   {
    "duration": 483,
    "start_time": "2022-09-17T14:15:33.332Z"
   },
   {
    "duration": 4,
    "start_time": "2022-09-17T14:19:47.226Z"
   },
   {
    "duration": 175,
    "start_time": "2022-09-17T14:20:04.322Z"
   },
   {
    "duration": 13,
    "start_time": "2022-09-17T14:20:25.182Z"
   },
   {
    "duration": 17,
    "start_time": "2022-09-17T14:20:30.832Z"
   },
   {
    "duration": 16,
    "start_time": "2022-09-17T14:20:40.021Z"
   },
   {
    "duration": 11,
    "start_time": "2022-09-17T14:21:02.459Z"
   },
   {
    "duration": 13,
    "start_time": "2022-09-17T14:21:39.710Z"
   },
   {
    "duration": 12,
    "start_time": "2022-09-17T14:21:45.302Z"
   },
   {
    "duration": 12,
    "start_time": "2022-09-17T14:21:55.811Z"
   },
   {
    "duration": 32,
    "start_time": "2022-09-17T14:22:03.436Z"
   },
   {
    "duration": 14,
    "start_time": "2022-09-17T14:25:43.493Z"
   },
   {
    "duration": 47,
    "start_time": "2022-09-17T14:25:51.074Z"
   },
   {
    "duration": 55,
    "start_time": "2022-09-17T14:25:54.613Z"
   },
   {
    "duration": 43,
    "start_time": "2022-09-17T14:25:58.216Z"
   },
   {
    "duration": 24,
    "start_time": "2022-09-17T14:26:01.723Z"
   },
   {
    "duration": 29,
    "start_time": "2022-09-17T14:26:15.551Z"
   },
   {
    "duration": 39,
    "start_time": "2022-09-17T14:26:21.505Z"
   },
   {
    "duration": 49,
    "start_time": "2022-09-17T14:26:21.804Z"
   },
   {
    "duration": 28,
    "start_time": "2022-09-17T14:26:50.021Z"
   },
   {
    "duration": 34,
    "start_time": "2022-09-17T14:27:04.252Z"
   },
   {
    "duration": 38,
    "start_time": "2022-09-17T15:12:44.445Z"
   },
   {
    "duration": 34,
    "start_time": "2022-09-17T15:13:29.608Z"
   },
   {
    "duration": 65,
    "start_time": "2022-09-17T15:14:03.155Z"
   },
   {
    "duration": 21,
    "start_time": "2022-09-17T15:17:15.991Z"
   },
   {
    "duration": 50,
    "start_time": "2022-09-17T15:17:22.037Z"
   },
   {
    "duration": 30,
    "start_time": "2022-09-17T15:17:29.119Z"
   },
   {
    "duration": 22,
    "start_time": "2022-09-17T15:18:08.727Z"
   },
   {
    "duration": 108,
    "start_time": "2022-09-17T15:19:43.322Z"
   },
   {
    "duration": 94,
    "start_time": "2022-09-17T15:19:53.718Z"
   },
   {
    "duration": 40,
    "start_time": "2022-09-17T15:21:22.968Z"
   },
   {
    "duration": 206,
    "start_time": "2022-09-17T15:21:41.751Z"
   },
   {
    "duration": 220,
    "start_time": "2022-09-17T15:23:38.738Z"
   },
   {
    "duration": 30,
    "start_time": "2022-09-17T15:25:05.414Z"
   },
   {
    "duration": 28,
    "start_time": "2022-09-17T15:25:19.849Z"
   },
   {
    "duration": 12,
    "start_time": "2022-09-17T15:25:38.685Z"
   },
   {
    "duration": 11,
    "start_time": "2022-09-17T15:25:44.113Z"
   },
   {
    "duration": 11,
    "start_time": "2022-09-17T15:25:47.482Z"
   },
   {
    "duration": 24,
    "start_time": "2022-09-17T15:26:02.929Z"
   },
   {
    "duration": 17,
    "start_time": "2022-09-17T15:26:51.966Z"
   },
   {
    "duration": 44,
    "start_time": "2022-09-18T13:16:23.699Z"
   },
   {
    "duration": 1566,
    "start_time": "2022-09-18T13:16:29.298Z"
   },
   {
    "duration": 1117,
    "start_time": "2022-09-18T13:16:30.866Z"
   },
   {
    "duration": 24,
    "start_time": "2022-09-18T13:16:31.985Z"
   },
   {
    "duration": 30,
    "start_time": "2022-09-18T13:16:32.010Z"
   },
   {
    "duration": 1460,
    "start_time": "2022-09-18T13:16:32.042Z"
   },
   {
    "duration": 496,
    "start_time": "2022-09-18T13:16:33.503Z"
   },
   {
    "duration": 442,
    "start_time": "2022-09-18T13:16:34.000Z"
   },
   {
    "duration": 6,
    "start_time": "2022-09-18T13:16:34.448Z"
   },
   {
    "duration": 41,
    "start_time": "2022-09-18T13:16:34.455Z"
   },
   {
    "duration": 40,
    "start_time": "2022-09-18T13:16:34.498Z"
   },
   {
    "duration": 43,
    "start_time": "2022-09-18T13:16:34.540Z"
   },
   {
    "duration": 30,
    "start_time": "2022-09-18T13:16:34.585Z"
   },
   {
    "duration": 61,
    "start_time": "2022-09-18T13:16:34.617Z"
   },
   {
    "duration": 195,
    "start_time": "2022-09-18T13:16:34.681Z"
   },
   {
    "duration": 21,
    "start_time": "2022-09-18T13:16:34.878Z"
   },
   {
    "duration": 54,
    "start_time": "2022-09-18T13:16:34.901Z"
   },
   {
    "duration": 270,
    "start_time": "2022-09-18T13:16:48.298Z"
   },
   {
    "duration": 81,
    "start_time": "2022-09-18T13:17:35.789Z"
   },
   {
    "duration": 134,
    "start_time": "2022-09-18T13:18:01.560Z"
   },
   {
    "duration": 64,
    "start_time": "2022-09-18T13:19:48.301Z"
   },
   {
    "duration": 114,
    "start_time": "2022-09-18T13:19:54.403Z"
   },
   {
    "duration": 116,
    "start_time": "2022-09-18T13:20:02.317Z"
   },
   {
    "duration": 6,
    "start_time": "2022-09-18T13:22:29.645Z"
   },
   {
    "duration": 126,
    "start_time": "2022-09-18T13:22:39.718Z"
   },
   {
    "duration": 10,
    "start_time": "2022-09-18T13:23:59.617Z"
   },
   {
    "duration": 4,
    "start_time": "2022-09-18T13:24:55.902Z"
   },
   {
    "duration": 10,
    "start_time": "2022-09-18T13:24:56.295Z"
   },
   {
    "duration": 54,
    "start_time": "2022-09-18T13:25:11.362Z"
   },
   {
    "duration": 28,
    "start_time": "2022-09-18T13:31:12.187Z"
   },
   {
    "duration": 2,
    "start_time": "2022-09-18T13:31:25.367Z"
   },
   {
    "duration": 12,
    "start_time": "2022-09-18T13:31:37.353Z"
   },
   {
    "duration": 1536,
    "start_time": "2022-09-18T13:32:17.761Z"
   },
   {
    "duration": 3,
    "start_time": "2022-09-18T13:32:57.196Z"
   },
   {
    "duration": 27,
    "start_time": "2022-09-18T13:32:57.787Z"
   },
   {
    "duration": 3,
    "start_time": "2022-09-18T13:33:33.974Z"
   },
   {
    "duration": 31,
    "start_time": "2022-09-18T13:33:34.460Z"
   },
   {
    "duration": 3,
    "start_time": "2022-09-18T13:33:55.090Z"
   },
   {
    "duration": 31,
    "start_time": "2022-09-18T13:33:55.478Z"
   },
   {
    "duration": 3,
    "start_time": "2022-09-18T13:34:51.813Z"
   },
   {
    "duration": 12,
    "start_time": "2022-09-18T13:34:58.514Z"
   },
   {
    "duration": 5,
    "start_time": "2022-09-18T13:35:44.448Z"
   },
   {
    "duration": 47,
    "start_time": "2022-09-18T13:35:56.647Z"
   },
   {
    "duration": 3,
    "start_time": "2022-09-18T13:36:01.718Z"
   },
   {
    "duration": 15,
    "start_time": "2022-09-18T13:36:10.367Z"
   },
   {
    "duration": 117,
    "start_time": "2022-09-18T13:36:43.214Z"
   },
   {
    "duration": 118,
    "start_time": "2022-09-18T13:36:55.158Z"
   },
   {
    "duration": 1551,
    "start_time": "2022-09-18T13:37:15.963Z"
   },
   {
    "duration": 832,
    "start_time": "2022-09-18T13:37:17.516Z"
   },
   {
    "duration": 35,
    "start_time": "2022-09-18T13:37:18.350Z"
   },
   {
    "duration": 4,
    "start_time": "2022-09-18T13:37:18.388Z"
   },
   {
    "duration": 1444,
    "start_time": "2022-09-18T13:37:18.394Z"
   },
   {
    "duration": 520,
    "start_time": "2022-09-18T13:37:19.839Z"
   },
   {
    "duration": 460,
    "start_time": "2022-09-18T13:37:20.362Z"
   },
   {
    "duration": 4,
    "start_time": "2022-09-18T13:37:20.824Z"
   },
   {
    "duration": 70,
    "start_time": "2022-09-18T13:37:20.830Z"
   },
   {
    "duration": 42,
    "start_time": "2022-09-18T13:37:20.903Z"
   },
   {
    "duration": 35,
    "start_time": "2022-09-18T13:37:20.947Z"
   },
   {
    "duration": 38,
    "start_time": "2022-09-18T13:37:20.984Z"
   },
   {
    "duration": 77,
    "start_time": "2022-09-18T13:37:21.023Z"
   },
   {
    "duration": 239,
    "start_time": "2022-09-18T13:37:21.102Z"
   },
   {
    "duration": 28,
    "start_time": "2022-09-18T13:37:21.342Z"
   },
   {
    "duration": 39,
    "start_time": "2022-09-18T13:37:21.371Z"
   },
   {
    "duration": 91,
    "start_time": "2022-09-18T13:37:21.412Z"
   },
   {
    "duration": 118,
    "start_time": "2022-09-18T13:37:21.505Z"
   },
   {
    "duration": 4,
    "start_time": "2022-09-18T13:37:21.625Z"
   },
   {
    "duration": 138,
    "start_time": "2022-09-18T13:37:21.631Z"
   },
   {
    "duration": 0,
    "start_time": "2022-09-18T13:37:21.771Z"
   },
   {
    "duration": 112,
    "start_time": "2022-09-18T13:37:34.882Z"
   },
   {
    "duration": 112,
    "start_time": "2022-09-18T13:37:43.964Z"
   },
   {
    "duration": 19,
    "start_time": "2022-09-18T13:38:00.451Z"
   },
   {
    "duration": 148,
    "start_time": "2022-09-18T13:38:02.737Z"
   },
   {
    "duration": 12,
    "start_time": "2022-09-18T13:38:09.693Z"
   },
   {
    "duration": 2,
    "start_time": "2022-09-18T13:38:25.197Z"
   },
   {
    "duration": 41,
    "start_time": "2022-09-18T13:38:26.299Z"
   },
   {
    "duration": 43,
    "start_time": "2022-09-18T13:38:46.744Z"
   },
   {
    "duration": 32,
    "start_time": "2022-09-18T13:39:26.473Z"
   },
   {
    "duration": 31,
    "start_time": "2022-09-18T13:39:26.762Z"
   },
   {
    "duration": 38,
    "start_time": "2022-09-18T13:39:27.168Z"
   },
   {
    "duration": 30,
    "start_time": "2022-09-18T13:39:27.794Z"
   },
   {
    "duration": 29,
    "start_time": "2022-09-18T13:39:48.267Z"
   },
   {
    "duration": 28,
    "start_time": "2022-09-18T13:39:53.652Z"
   },
   {
    "duration": 33,
    "start_time": "2022-09-18T13:39:58.162Z"
   },
   {
    "duration": 32,
    "start_time": "2022-09-18T13:40:03.247Z"
   },
   {
    "duration": 28,
    "start_time": "2022-09-18T13:40:08.845Z"
   },
   {
    "duration": 31,
    "start_time": "2022-09-18T13:41:28.421Z"
   },
   {
    "duration": 31,
    "start_time": "2022-09-18T13:41:39.944Z"
   },
   {
    "duration": 14,
    "start_time": "2022-09-18T13:41:44.221Z"
   },
   {
    "duration": 19,
    "start_time": "2022-09-18T13:42:05.673Z"
   },
   {
    "duration": 17,
    "start_time": "2022-09-18T13:42:19.191Z"
   },
   {
    "duration": 21,
    "start_time": "2022-09-18T13:42:32.958Z"
   },
   {
    "duration": 1477,
    "start_time": "2022-09-18T13:43:02.675Z"
   },
   {
    "duration": 837,
    "start_time": "2022-09-18T13:43:04.154Z"
   },
   {
    "duration": 32,
    "start_time": "2022-09-18T13:43:04.993Z"
   },
   {
    "duration": 6,
    "start_time": "2022-09-18T13:43:05.027Z"
   },
   {
    "duration": 1574,
    "start_time": "2022-09-18T13:43:05.047Z"
   },
   {
    "duration": 566,
    "start_time": "2022-09-18T13:43:06.623Z"
   },
   {
    "duration": 503,
    "start_time": "2022-09-18T13:43:07.191Z"
   },
   {
    "duration": 4,
    "start_time": "2022-09-18T13:43:07.696Z"
   },
   {
    "duration": 30,
    "start_time": "2022-09-18T13:43:07.701Z"
   },
   {
    "duration": 52,
    "start_time": "2022-09-18T13:43:07.734Z"
   },
   {
    "duration": 31,
    "start_time": "2022-09-18T13:43:07.788Z"
   },
   {
    "duration": 56,
    "start_time": "2022-09-18T13:43:07.821Z"
   },
   {
    "duration": 51,
    "start_time": "2022-09-18T13:43:07.878Z"
   },
   {
    "duration": 238,
    "start_time": "2022-09-18T13:43:07.930Z"
   },
   {
    "duration": 25,
    "start_time": "2022-09-18T13:43:08.170Z"
   },
   {
    "duration": 38,
    "start_time": "2022-09-18T13:43:08.196Z"
   },
   {
    "duration": 76,
    "start_time": "2022-09-18T13:43:08.248Z"
   },
   {
    "duration": 127,
    "start_time": "2022-09-18T13:43:08.326Z"
   },
   {
    "duration": 6,
    "start_time": "2022-09-18T13:43:08.455Z"
   },
   {
    "duration": 33,
    "start_time": "2022-09-18T13:43:08.464Z"
   },
   {
    "duration": 21,
    "start_time": "2022-09-18T13:43:08.498Z"
   },
   {
    "duration": 55,
    "start_time": "2022-09-18T13:43:08.521Z"
   },
   {
    "duration": 18,
    "start_time": "2022-09-18T13:43:08.578Z"
   },
   {
    "duration": 30,
    "start_time": "2022-09-18T13:43:08.597Z"
   },
   {
    "duration": 30,
    "start_time": "2022-09-18T13:43:08.646Z"
   },
   {
    "duration": 118,
    "start_time": "2022-09-18T13:43:08.678Z"
   },
   {
    "duration": 21,
    "start_time": "2022-09-18T13:43:08.798Z"
   },
   {
    "duration": 49,
    "start_time": "2022-09-18T13:43:08.822Z"
   },
   {
    "duration": 32,
    "start_time": "2022-09-18T13:43:08.873Z"
   },
   {
    "duration": 142,
    "start_time": "2022-09-18T13:43:08.907Z"
   },
   {
    "duration": 2164,
    "start_time": "2022-09-18T14:01:36.353Z"
   },
   {
    "duration": 1228,
    "start_time": "2022-09-18T14:01:38.519Z"
   },
   {
    "duration": 41,
    "start_time": "2022-09-18T14:01:39.749Z"
   },
   {
    "duration": 4,
    "start_time": "2022-09-18T14:01:39.792Z"
   },
   {
    "duration": 1529,
    "start_time": "2022-09-18T14:01:39.798Z"
   },
   {
    "duration": 651,
    "start_time": "2022-09-18T14:01:41.329Z"
   },
   {
    "duration": 512,
    "start_time": "2022-09-18T14:01:41.981Z"
   },
   {
    "duration": 4,
    "start_time": "2022-09-18T14:01:42.495Z"
   },
   {
    "duration": 35,
    "start_time": "2022-09-18T14:01:42.501Z"
   },
   {
    "duration": 55,
    "start_time": "2022-09-18T14:01:42.553Z"
   },
   {
    "duration": 43,
    "start_time": "2022-09-18T14:01:42.610Z"
   },
   {
    "duration": 36,
    "start_time": "2022-09-18T14:01:42.654Z"
   },
   {
    "duration": 67,
    "start_time": "2022-09-18T14:01:42.691Z"
   },
   {
    "duration": 209,
    "start_time": "2022-09-18T14:01:42.759Z"
   },
   {
    "duration": 22,
    "start_time": "2022-09-18T14:01:42.970Z"
   },
   {
    "duration": 53,
    "start_time": "2022-09-18T14:01:42.994Z"
   },
   {
    "duration": 80,
    "start_time": "2022-09-18T14:01:43.050Z"
   },
   {
    "duration": 127,
    "start_time": "2022-09-18T14:01:43.132Z"
   },
   {
    "duration": 24,
    "start_time": "2022-09-18T14:01:43.261Z"
   },
   {
    "duration": 47,
    "start_time": "2022-09-18T14:01:43.286Z"
   },
   {
    "duration": 50,
    "start_time": "2022-09-18T14:01:43.335Z"
   },
   {
    "duration": 58,
    "start_time": "2022-09-18T14:01:43.388Z"
   },
   {
    "duration": 59,
    "start_time": "2022-09-18T14:01:43.448Z"
   },
   {
    "duration": 69,
    "start_time": "2022-09-18T14:01:43.509Z"
   },
   {
    "duration": 46,
    "start_time": "2022-09-18T14:01:43.580Z"
   },
   {
    "duration": 147,
    "start_time": "2022-09-18T14:01:43.628Z"
   },
   {
    "duration": 16,
    "start_time": "2022-09-18T14:01:43.777Z"
   },
   {
    "duration": 52,
    "start_time": "2022-09-18T14:01:43.796Z"
   },
   {
    "duration": 33,
    "start_time": "2022-09-18T14:01:43.850Z"
   },
   {
    "duration": 110,
    "start_time": "2022-09-18T14:01:43.884Z"
   },
   {
    "duration": 2045,
    "start_time": "2022-09-18T14:02:15.575Z"
   },
   {
    "duration": 1234,
    "start_time": "2022-09-18T14:02:17.623Z"
   },
   {
    "duration": 31,
    "start_time": "2022-09-18T14:02:18.859Z"
   },
   {
    "duration": 5,
    "start_time": "2022-09-18T14:02:18.893Z"
   },
   {
    "duration": 1516,
    "start_time": "2022-09-18T14:02:18.900Z"
   },
   {
    "duration": 568,
    "start_time": "2022-09-18T14:02:20.417Z"
   },
   {
    "duration": 505,
    "start_time": "2022-09-18T14:02:20.987Z"
   },
   {
    "duration": 5,
    "start_time": "2022-09-18T14:02:21.493Z"
   },
   {
    "duration": 38,
    "start_time": "2022-09-18T14:02:21.500Z"
   },
   {
    "duration": 55,
    "start_time": "2022-09-18T14:02:21.541Z"
   },
   {
    "duration": 34,
    "start_time": "2022-09-18T14:02:21.598Z"
   },
   {
    "duration": 48,
    "start_time": "2022-09-18T14:02:21.633Z"
   },
   {
    "duration": 74,
    "start_time": "2022-09-18T14:02:21.682Z"
   },
   {
    "duration": 222,
    "start_time": "2022-09-18T14:02:21.758Z"
   },
   {
    "duration": 21,
    "start_time": "2022-09-18T14:02:21.982Z"
   },
   {
    "duration": 54,
    "start_time": "2022-09-18T14:02:22.004Z"
   },
   {
    "duration": 92,
    "start_time": "2022-09-18T14:02:22.060Z"
   },
   {
    "duration": 112,
    "start_time": "2022-09-18T14:02:22.154Z"
   },
   {
    "duration": 3,
    "start_time": "2022-09-18T14:02:22.268Z"
   },
   {
    "duration": 33,
    "start_time": "2022-09-18T14:02:22.272Z"
   },
   {
    "duration": 41,
    "start_time": "2022-09-18T14:02:22.307Z"
   },
   {
    "duration": 31,
    "start_time": "2022-09-18T14:02:22.350Z"
   },
   {
    "duration": 17,
    "start_time": "2022-09-18T14:02:22.383Z"
   },
   {
    "duration": 46,
    "start_time": "2022-09-18T14:02:22.402Z"
   },
   {
    "duration": 114,
    "start_time": "2022-09-18T14:02:22.450Z"
   },
   {
    "duration": 41,
    "start_time": "2022-09-18T14:02:22.567Z"
   },
   {
    "duration": 24,
    "start_time": "2022-09-18T14:02:22.609Z"
   },
   {
    "duration": 34,
    "start_time": "2022-09-18T14:02:22.636Z"
   },
   {
    "duration": 28,
    "start_time": "2022-09-18T14:02:22.672Z"
   },
   {
    "duration": 125,
    "start_time": "2022-09-18T14:02:22.702Z"
   },
   {
    "duration": 1936,
    "start_time": "2022-09-18T14:02:39.955Z"
   },
   {
    "duration": 1265,
    "start_time": "2022-09-18T14:02:41.893Z"
   },
   {
    "duration": 27,
    "start_time": "2022-09-18T14:02:43.161Z"
   },
   {
    "duration": 4,
    "start_time": "2022-09-18T14:02:43.190Z"
   },
   {
    "duration": 1511,
    "start_time": "2022-09-18T14:02:43.196Z"
   },
   {
    "duration": 576,
    "start_time": "2022-09-18T14:02:44.709Z"
   },
   {
    "duration": 512,
    "start_time": "2022-09-18T14:02:45.287Z"
   },
   {
    "duration": 4,
    "start_time": "2022-09-18T14:02:45.801Z"
   },
   {
    "duration": 41,
    "start_time": "2022-09-18T14:02:45.807Z"
   },
   {
    "duration": 46,
    "start_time": "2022-09-18T14:02:45.853Z"
   },
   {
    "duration": 51,
    "start_time": "2022-09-18T14:02:45.900Z"
   },
   {
    "duration": 38,
    "start_time": "2022-09-18T14:02:45.953Z"
   },
   {
    "duration": 76,
    "start_time": "2022-09-18T14:02:45.993Z"
   },
   {
    "duration": 210,
    "start_time": "2022-09-18T14:02:46.072Z"
   },
   {
    "duration": 33,
    "start_time": "2022-09-18T14:02:46.285Z"
   },
   {
    "duration": 61,
    "start_time": "2022-09-18T14:02:46.320Z"
   },
   {
    "duration": 107,
    "start_time": "2022-09-18T14:02:46.383Z"
   },
   {
    "duration": 140,
    "start_time": "2022-09-18T14:02:46.492Z"
   },
   {
    "duration": 3,
    "start_time": "2022-09-18T14:02:46.634Z"
   },
   {
    "duration": 32,
    "start_time": "2022-09-18T14:02:46.647Z"
   },
   {
    "duration": 30,
    "start_time": "2022-09-18T14:02:46.680Z"
   },
   {
    "duration": 47,
    "start_time": "2022-09-18T14:02:46.712Z"
   },
   {
    "duration": 29,
    "start_time": "2022-09-18T14:02:46.762Z"
   },
   {
    "duration": 29,
    "start_time": "2022-09-18T14:02:46.793Z"
   },
   {
    "duration": 31,
    "start_time": "2022-09-18T14:02:46.824Z"
   },
   {
    "duration": 126,
    "start_time": "2022-09-18T14:02:46.858Z"
   },
   {
    "duration": 17,
    "start_time": "2022-09-18T14:02:46.986Z"
   },
   {
    "duration": 42,
    "start_time": "2022-09-18T14:02:47.007Z"
   },
   {
    "duration": 35,
    "start_time": "2022-09-18T14:02:47.051Z"
   },
   {
    "duration": 118,
    "start_time": "2022-09-18T14:02:47.088Z"
   },
   {
    "duration": 3,
    "start_time": "2022-09-18T14:02:47.207Z"
   },
   {
    "duration": 6,
    "start_time": "2022-09-18T14:02:47.212Z"
   },
   {
    "duration": 62,
    "start_time": "2022-09-18T14:05:05.442Z"
   },
   {
    "duration": 7,
    "start_time": "2022-09-18T14:05:29.415Z"
   },
   {
    "duration": 1620,
    "start_time": "2022-09-18T14:05:38.354Z"
   },
   {
    "duration": 1229,
    "start_time": "2022-09-18T14:05:39.976Z"
   },
   {
    "duration": 35,
    "start_time": "2022-09-18T14:05:41.207Z"
   },
   {
    "duration": 4,
    "start_time": "2022-09-18T14:05:41.244Z"
   },
   {
    "duration": 1648,
    "start_time": "2022-09-18T14:05:41.251Z"
   },
   {
    "duration": 571,
    "start_time": "2022-09-18T14:05:42.901Z"
   },
   {
    "duration": 488,
    "start_time": "2022-09-18T14:05:43.475Z"
   },
   {
    "duration": 5,
    "start_time": "2022-09-18T14:05:43.967Z"
   },
   {
    "duration": 33,
    "start_time": "2022-09-18T14:05:43.973Z"
   },
   {
    "duration": 66,
    "start_time": "2022-09-18T14:05:44.007Z"
   },
   {
    "duration": 34,
    "start_time": "2022-09-18T14:05:44.074Z"
   },
   {
    "duration": 53,
    "start_time": "2022-09-18T14:05:44.110Z"
   },
   {
    "duration": 52,
    "start_time": "2022-09-18T14:05:44.165Z"
   },
   {
    "duration": 215,
    "start_time": "2022-09-18T14:05:44.220Z"
   },
   {
    "duration": 29,
    "start_time": "2022-09-18T14:05:44.436Z"
   },
   {
    "duration": 39,
    "start_time": "2022-09-18T14:05:44.468Z"
   },
   {
    "duration": 97,
    "start_time": "2022-09-18T14:05:44.509Z"
   },
   {
    "duration": 115,
    "start_time": "2022-09-18T14:05:44.608Z"
   },
   {
    "duration": 123,
    "start_time": "2022-09-18T14:05:44.724Z"
   },
   {
    "duration": 3,
    "start_time": "2022-09-18T14:05:44.849Z"
   },
   {
    "duration": 46,
    "start_time": "2022-09-18T14:05:44.854Z"
   },
   {
    "duration": 103,
    "start_time": "2022-09-18T14:05:44.902Z"
   },
   {
    "duration": 32,
    "start_time": "2022-09-18T14:05:45.007Z"
   },
   {
    "duration": 31,
    "start_time": "2022-09-18T14:05:45.048Z"
   },
   {
    "duration": 32,
    "start_time": "2022-09-18T14:05:45.080Z"
   },
   {
    "duration": 33,
    "start_time": "2022-09-18T14:05:45.114Z"
   },
   {
    "duration": 33,
    "start_time": "2022-09-18T14:05:45.149Z"
   },
   {
    "duration": 17,
    "start_time": "2022-09-18T14:05:45.184Z"
   },
   {
    "duration": 48,
    "start_time": "2022-09-18T14:05:45.203Z"
   },
   {
    "duration": 31,
    "start_time": "2022-09-18T14:05:45.253Z"
   },
   {
    "duration": 119,
    "start_time": "2022-09-18T14:05:45.286Z"
   },
   {
    "duration": 123,
    "start_time": "2022-09-18T14:05:45.407Z"
   },
   {
    "duration": 15,
    "start_time": "2022-09-18T14:05:45.532Z"
   },
   {
    "duration": 12,
    "start_time": "2022-09-18T14:05:45.549Z"
   },
   {
    "duration": 126,
    "start_time": "2022-09-18T14:07:29.577Z"
   },
   {
    "duration": 13,
    "start_time": "2022-09-18T14:07:50.857Z"
   },
   {
    "duration": 17,
    "start_time": "2022-09-18T14:08:12.568Z"
   },
   {
    "duration": 649,
    "start_time": "2022-09-18T14:08:16.546Z"
   },
   {
    "duration": 99,
    "start_time": "2022-09-18T14:11:41.501Z"
   },
   {
    "duration": 133,
    "start_time": "2022-09-18T14:13:16.087Z"
   },
   {
    "duration": 22,
    "start_time": "2022-09-18T14:13:22.791Z"
   },
   {
    "duration": 6,
    "start_time": "2022-09-18T14:14:09.334Z"
   },
   {
    "duration": 67,
    "start_time": "2022-09-18T14:16:41.048Z"
   },
   {
    "duration": 7,
    "start_time": "2022-09-18T14:16:59.792Z"
   },
   {
    "duration": 7,
    "start_time": "2022-09-18T14:17:41.990Z"
   },
   {
    "duration": 197,
    "start_time": "2022-09-18T14:18:28.190Z"
   },
   {
    "duration": 423,
    "start_time": "2022-09-18T14:18:28.708Z"
   },
   {
    "duration": 7,
    "start_time": "2022-09-18T14:18:29.580Z"
   },
   {
    "duration": 8,
    "start_time": "2022-09-18T14:18:30.491Z"
   },
   {
    "duration": 52,
    "start_time": "2022-09-18T14:18:44.942Z"
   },
   {
    "duration": 5,
    "start_time": "2022-09-18T14:18:49.301Z"
   },
   {
    "duration": 115,
    "start_time": "2022-09-18T14:18:59.068Z"
   },
   {
    "duration": 387,
    "start_time": "2022-09-18T14:18:59.497Z"
   },
   {
    "duration": 8,
    "start_time": "2022-09-18T14:19:04.895Z"
   },
   {
    "duration": 15,
    "start_time": "2022-09-18T14:19:20.203Z"
   },
   {
    "duration": 1026,
    "start_time": "2022-09-18T14:19:35.364Z"
   },
   {
    "duration": 0,
    "start_time": "2022-09-18T14:19:36.392Z"
   },
   {
    "duration": 0,
    "start_time": "2022-09-18T14:19:36.394Z"
   },
   {
    "duration": 17,
    "start_time": "2022-09-18T14:20:09.395Z"
   },
   {
    "duration": 491,
    "start_time": "2022-09-18T14:20:09.660Z"
   },
   {
    "duration": 1489,
    "start_time": "2022-09-18T14:20:25.853Z"
   },
   {
    "duration": 935,
    "start_time": "2022-09-18T14:20:27.343Z"
   },
   {
    "duration": 25,
    "start_time": "2022-09-18T14:20:28.279Z"
   },
   {
    "duration": 4,
    "start_time": "2022-09-18T14:20:28.305Z"
   },
   {
    "duration": 1584,
    "start_time": "2022-09-18T14:20:28.311Z"
   },
   {
    "duration": 615,
    "start_time": "2022-09-18T14:20:29.897Z"
   },
   {
    "duration": 530,
    "start_time": "2022-09-18T14:20:30.514Z"
   },
   {
    "duration": 9,
    "start_time": "2022-09-18T14:20:31.045Z"
   },
   {
    "duration": 62,
    "start_time": "2022-09-18T14:20:31.060Z"
   },
   {
    "duration": 54,
    "start_time": "2022-09-18T14:20:31.124Z"
   },
   {
    "duration": 35,
    "start_time": "2022-09-18T14:20:31.184Z"
   },
   {
    "duration": 42,
    "start_time": "2022-09-18T14:20:31.220Z"
   },
   {
    "duration": 58,
    "start_time": "2022-09-18T14:20:31.267Z"
   },
   {
    "duration": 224,
    "start_time": "2022-09-18T14:20:31.330Z"
   },
   {
    "duration": 35,
    "start_time": "2022-09-18T14:20:31.555Z"
   },
   {
    "duration": 38,
    "start_time": "2022-09-18T14:20:31.592Z"
   },
   {
    "duration": 90,
    "start_time": "2022-09-18T14:20:31.632Z"
   },
   {
    "duration": 136,
    "start_time": "2022-09-18T14:20:31.724Z"
   },
   {
    "duration": 16,
    "start_time": "2022-09-18T14:20:31.869Z"
   },
   {
    "duration": 67,
    "start_time": "2022-09-18T14:20:31.887Z"
   },
   {
    "duration": 55,
    "start_time": "2022-09-18T14:20:31.956Z"
   },
   {
    "duration": 37,
    "start_time": "2022-09-18T14:20:32.013Z"
   },
   {
    "duration": 54,
    "start_time": "2022-09-18T14:20:32.051Z"
   },
   {
    "duration": 70,
    "start_time": "2022-09-18T14:20:32.107Z"
   },
   {
    "duration": 33,
    "start_time": "2022-09-18T14:20:32.179Z"
   },
   {
    "duration": 72,
    "start_time": "2022-09-18T14:20:32.214Z"
   },
   {
    "duration": 15,
    "start_time": "2022-09-18T14:20:32.287Z"
   },
   {
    "duration": 134,
    "start_time": "2022-09-18T14:20:32.304Z"
   },
   {
    "duration": 29,
    "start_time": "2022-09-18T14:20:32.440Z"
   },
   {
    "duration": 145,
    "start_time": "2022-09-18T14:20:32.474Z"
   },
   {
    "duration": 132,
    "start_time": "2022-09-18T14:20:32.621Z"
   },
   {
    "duration": 31,
    "start_time": "2022-09-18T14:20:32.756Z"
   },
   {
    "duration": 634,
    "start_time": "2022-09-18T14:20:32.788Z"
   },
   {
    "duration": 98,
    "start_time": "2022-09-18T14:20:33.423Z"
   },
   {
    "duration": 163,
    "start_time": "2022-09-18T14:20:33.522Z"
   },
   {
    "duration": 20,
    "start_time": "2022-09-18T14:20:33.686Z"
   },
   {
    "duration": 5,
    "start_time": "2022-09-18T14:20:33.707Z"
   },
   {
    "duration": 89,
    "start_time": "2022-09-18T14:20:33.714Z"
   },
   {
    "duration": 8,
    "start_time": "2022-09-18T14:20:33.805Z"
   },
   {
    "duration": 15,
    "start_time": "2022-09-18T14:20:33.814Z"
   },
   {
    "duration": 13,
    "start_time": "2022-09-18T14:21:18.711Z"
   },
   {
    "duration": 24,
    "start_time": "2022-09-18T14:21:39.544Z"
   },
   {
    "duration": 504,
    "start_time": "2022-09-18T14:22:50.574Z"
   },
   {
    "duration": 140,
    "start_time": "2022-09-18T14:23:08.260Z"
   },
   {
    "duration": 10,
    "start_time": "2022-09-18T14:23:08.542Z"
   },
   {
    "duration": 1494,
    "start_time": "2022-09-18T14:23:14.750Z"
   },
   {
    "duration": 1003,
    "start_time": "2022-09-18T14:23:16.247Z"
   },
   {
    "duration": 34,
    "start_time": "2022-09-18T14:23:17.252Z"
   },
   {
    "duration": 5,
    "start_time": "2022-09-18T14:23:17.290Z"
   },
   {
    "duration": 1624,
    "start_time": "2022-09-18T14:23:17.297Z"
   },
   {
    "duration": 598,
    "start_time": "2022-09-18T14:23:18.923Z"
   },
   {
    "duration": 535,
    "start_time": "2022-09-18T14:23:19.523Z"
   },
   {
    "duration": 15,
    "start_time": "2022-09-18T14:23:20.065Z"
   },
   {
    "duration": 47,
    "start_time": "2022-09-18T14:23:20.082Z"
   },
   {
    "duration": 53,
    "start_time": "2022-09-18T14:23:20.131Z"
   },
   {
    "duration": 31,
    "start_time": "2022-09-18T14:23:20.187Z"
   },
   {
    "duration": 47,
    "start_time": "2022-09-18T14:23:20.220Z"
   },
   {
    "duration": 53,
    "start_time": "2022-09-18T14:23:20.272Z"
   },
   {
    "duration": 218,
    "start_time": "2022-09-18T14:23:20.330Z"
   },
   {
    "duration": 28,
    "start_time": "2022-09-18T14:23:20.554Z"
   },
   {
    "duration": 48,
    "start_time": "2022-09-18T14:23:20.584Z"
   },
   {
    "duration": 87,
    "start_time": "2022-09-18T14:23:20.634Z"
   },
   {
    "duration": 142,
    "start_time": "2022-09-18T14:23:20.723Z"
   },
   {
    "duration": 11,
    "start_time": "2022-09-18T14:23:20.869Z"
   },
   {
    "duration": 34,
    "start_time": "2022-09-18T14:23:20.882Z"
   },
   {
    "duration": 33,
    "start_time": "2022-09-18T14:23:20.917Z"
   },
   {
    "duration": 54,
    "start_time": "2022-09-18T14:23:20.952Z"
   },
   {
    "duration": 29,
    "start_time": "2022-09-18T14:23:21.007Z"
   },
   {
    "duration": 56,
    "start_time": "2022-09-18T14:23:21.038Z"
   },
   {
    "duration": 24,
    "start_time": "2022-09-18T14:23:21.095Z"
   },
   {
    "duration": 47,
    "start_time": "2022-09-18T14:23:21.121Z"
   },
   {
    "duration": 29,
    "start_time": "2022-09-18T14:23:21.169Z"
   },
   {
    "duration": 116,
    "start_time": "2022-09-18T14:23:21.200Z"
   },
   {
    "duration": 20,
    "start_time": "2022-09-18T14:23:21.318Z"
   },
   {
    "duration": 154,
    "start_time": "2022-09-18T14:23:21.340Z"
   },
   {
    "duration": 131,
    "start_time": "2022-09-18T14:23:21.496Z"
   },
   {
    "duration": 33,
    "start_time": "2022-09-18T14:23:21.629Z"
   },
   {
    "duration": 159,
    "start_time": "2022-09-18T14:23:21.664Z"
   },
   {
    "duration": 589,
    "start_time": "2022-09-18T14:23:21.825Z"
   },
   {
    "duration": 41,
    "start_time": "2022-09-18T14:23:22.417Z"
   },
   {
    "duration": 12,
    "start_time": "2022-09-18T14:23:22.463Z"
   },
   {
    "duration": 65,
    "start_time": "2022-09-18T14:23:22.480Z"
   },
   {
    "duration": 11,
    "start_time": "2022-09-18T14:23:22.550Z"
   },
   {
    "duration": 41,
    "start_time": "2022-09-18T14:23:22.563Z"
   },
   {
    "duration": 197,
    "start_time": "2022-09-18T14:23:53.271Z"
   },
   {
    "duration": 440,
    "start_time": "2022-09-18T14:23:53.682Z"
   },
   {
    "duration": 10,
    "start_time": "2022-09-18T14:23:54.445Z"
   },
   {
    "duration": 74,
    "start_time": "2022-09-18T14:24:25.753Z"
   },
   {
    "duration": 157,
    "start_time": "2022-09-18T14:24:31.004Z"
   },
   {
    "duration": 1423,
    "start_time": "2022-09-18T14:24:38.994Z"
   },
   {
    "duration": 852,
    "start_time": "2022-09-18T14:24:40.419Z"
   },
   {
    "duration": 28,
    "start_time": "2022-09-18T14:24:41.274Z"
   },
   {
    "duration": 4,
    "start_time": "2022-09-18T14:24:41.304Z"
   },
   {
    "duration": 1586,
    "start_time": "2022-09-18T14:24:41.309Z"
   },
   {
    "duration": 538,
    "start_time": "2022-09-18T14:24:42.897Z"
   },
   {
    "duration": 484,
    "start_time": "2022-09-18T14:24:43.436Z"
   },
   {
    "duration": 4,
    "start_time": "2022-09-18T14:24:43.921Z"
   },
   {
    "duration": 48,
    "start_time": "2022-09-18T14:24:43.926Z"
   },
   {
    "duration": 46,
    "start_time": "2022-09-18T14:24:43.978Z"
   },
   {
    "duration": 54,
    "start_time": "2022-09-18T14:24:44.026Z"
   },
   {
    "duration": 33,
    "start_time": "2022-09-18T14:24:44.082Z"
   },
   {
    "duration": 77,
    "start_time": "2022-09-18T14:24:44.117Z"
   },
   {
    "duration": 208,
    "start_time": "2022-09-18T14:24:44.196Z"
   },
   {
    "duration": 21,
    "start_time": "2022-09-18T14:24:44.406Z"
   },
   {
    "duration": 59,
    "start_time": "2022-09-18T14:24:44.428Z"
   },
   {
    "duration": 89,
    "start_time": "2022-09-18T14:24:44.488Z"
   },
   {
    "duration": 125,
    "start_time": "2022-09-18T14:24:44.580Z"
   },
   {
    "duration": 3,
    "start_time": "2022-09-18T14:24:44.706Z"
   },
   {
    "duration": 58,
    "start_time": "2022-09-18T14:24:44.711Z"
   },
   {
    "duration": 23,
    "start_time": "2022-09-18T14:24:44.772Z"
   },
   {
    "duration": 28,
    "start_time": "2022-09-18T14:24:44.796Z"
   },
   {
    "duration": 28,
    "start_time": "2022-09-18T14:24:44.826Z"
   },
   {
    "duration": 30,
    "start_time": "2022-09-18T14:24:44.862Z"
   },
   {
    "duration": 18,
    "start_time": "2022-09-18T14:24:44.894Z"
   },
   {
    "duration": 114,
    "start_time": "2022-09-18T14:24:44.913Z"
   },
   {
    "duration": 42,
    "start_time": "2022-09-18T14:24:45.029Z"
   },
   {
    "duration": 31,
    "start_time": "2022-09-18T14:24:45.076Z"
   },
   {
    "duration": 18,
    "start_time": "2022-09-18T14:24:45.108Z"
   },
   {
    "duration": 147,
    "start_time": "2022-09-18T14:24:45.127Z"
   },
   {
    "duration": 123,
    "start_time": "2022-09-18T14:24:45.276Z"
   },
   {
    "duration": 24,
    "start_time": "2022-09-18T14:24:45.401Z"
   },
   {
    "duration": 163,
    "start_time": "2022-09-18T14:24:45.427Z"
   },
   {
    "duration": 530,
    "start_time": "2022-09-18T14:24:45.592Z"
   },
   {
    "duration": 193,
    "start_time": "2022-09-18T14:24:46.124Z"
   },
   {
    "duration": 191,
    "start_time": "2022-09-18T14:24:46.319Z"
   },
   {
    "duration": 0,
    "start_time": "2022-09-18T14:24:46.511Z"
   },
   {
    "duration": 0,
    "start_time": "2022-09-18T14:24:46.513Z"
   },
   {
    "duration": 109,
    "start_time": "2022-09-18T14:25:15.287Z"
   },
   {
    "duration": 33,
    "start_time": "2022-09-18T14:25:15.597Z"
   },
   {
    "duration": 113,
    "start_time": "2022-09-18T14:28:28.551Z"
   },
   {
    "duration": 386,
    "start_time": "2022-09-18T14:28:29.286Z"
   },
   {
    "duration": 10,
    "start_time": "2022-09-18T14:28:35.082Z"
   },
   {
    "duration": 4,
    "start_time": "2022-09-18T14:28:57.175Z"
   },
   {
    "duration": 5,
    "start_time": "2022-09-18T14:29:10.294Z"
   },
   {
    "duration": 2556,
    "start_time": "2022-09-18T14:30:06.855Z"
   },
   {
    "duration": 2338,
    "start_time": "2022-09-18T14:30:32.394Z"
   },
   {
    "duration": 5,
    "start_time": "2022-09-18T14:32:32.491Z"
   },
   {
    "duration": 10,
    "start_time": "2022-09-18T14:32:32.995Z"
   },
   {
    "duration": 2188,
    "start_time": "2022-09-18T14:32:34.378Z"
   },
   {
    "duration": 148,
    "start_time": "2022-09-18T14:34:23.047Z"
   },
   {
    "duration": 22,
    "start_time": "2022-09-18T14:35:05.080Z"
   },
   {
    "duration": 10,
    "start_time": "2022-09-18T14:36:05.449Z"
   },
   {
    "duration": 11,
    "start_time": "2022-09-18T14:36:47.751Z"
   },
   {
    "duration": 11,
    "start_time": "2022-09-18T14:38:53.534Z"
   },
   {
    "duration": 1377,
    "start_time": "2022-09-18T14:39:18.399Z"
   },
   {
    "duration": 809,
    "start_time": "2022-09-18T14:39:19.778Z"
   },
   {
    "duration": 22,
    "start_time": "2022-09-18T14:39:20.589Z"
   },
   {
    "duration": 3,
    "start_time": "2022-09-18T14:39:20.613Z"
   },
   {
    "duration": 1398,
    "start_time": "2022-09-18T14:39:20.618Z"
   },
   {
    "duration": 510,
    "start_time": "2022-09-18T14:39:22.018Z"
   },
   {
    "duration": 434,
    "start_time": "2022-09-18T14:39:22.530Z"
   },
   {
    "duration": 4,
    "start_time": "2022-09-18T14:39:22.966Z"
   },
   {
    "duration": 30,
    "start_time": "2022-09-18T14:39:22.972Z"
   },
   {
    "duration": 62,
    "start_time": "2022-09-18T14:39:23.004Z"
   },
   {
    "duration": 28,
    "start_time": "2022-09-18T14:39:23.068Z"
   },
   {
    "duration": 50,
    "start_time": "2022-09-18T14:39:23.098Z"
   },
   {
    "duration": 56,
    "start_time": "2022-09-18T14:39:23.151Z"
   },
   {
    "duration": 229,
    "start_time": "2022-09-18T14:39:23.210Z"
   },
   {
    "duration": 34,
    "start_time": "2022-09-18T14:39:23.441Z"
   },
   {
    "duration": 38,
    "start_time": "2022-09-18T14:39:23.477Z"
   },
   {
    "duration": 102,
    "start_time": "2022-09-18T14:39:23.517Z"
   },
   {
    "duration": 106,
    "start_time": "2022-09-18T14:39:23.620Z"
   },
   {
    "duration": 2,
    "start_time": "2022-09-18T14:39:23.728Z"
   },
   {
    "duration": 41,
    "start_time": "2022-09-18T14:39:23.732Z"
   },
   {
    "duration": 22,
    "start_time": "2022-09-18T14:39:23.774Z"
   },
   {
    "duration": 31,
    "start_time": "2022-09-18T14:39:23.797Z"
   },
   {
    "duration": 16,
    "start_time": "2022-09-18T14:39:23.847Z"
   },
   {
    "duration": 33,
    "start_time": "2022-09-18T14:39:23.865Z"
   },
   {
    "duration": 18,
    "start_time": "2022-09-18T14:39:23.900Z"
   },
   {
    "duration": 47,
    "start_time": "2022-09-18T14:39:23.919Z"
   },
   {
    "duration": 17,
    "start_time": "2022-09-18T14:39:23.968Z"
   },
   {
    "duration": 111,
    "start_time": "2022-09-18T14:39:23.987Z"
   },
   {
    "duration": 18,
    "start_time": "2022-09-18T14:39:24.100Z"
   },
   {
    "duration": 106,
    "start_time": "2022-09-18T14:39:24.120Z"
   },
   {
    "duration": 122,
    "start_time": "2022-09-18T14:39:24.227Z"
   },
   {
    "duration": 22,
    "start_time": "2022-09-18T14:39:24.351Z"
   },
   {
    "duration": 142,
    "start_time": "2022-09-18T14:39:24.375Z"
   },
   {
    "duration": 457,
    "start_time": "2022-09-18T14:39:24.519Z"
   },
   {
    "duration": 187,
    "start_time": "2022-09-18T14:39:24.978Z"
   },
   {
    "duration": 379,
    "start_time": "2022-09-18T14:39:25.167Z"
   },
   {
    "duration": 4,
    "start_time": "2022-09-18T14:39:25.548Z"
   },
   {
    "duration": 23,
    "start_time": "2022-09-18T14:39:25.553Z"
   },
   {
    "duration": 186,
    "start_time": "2022-09-18T14:39:25.578Z"
   },
   {
    "duration": 2523,
    "start_time": "2022-09-18T14:39:25.765Z"
   },
   {
    "duration": 1506,
    "start_time": "2022-09-19T10:08:55.361Z"
   },
   {
    "duration": 2713,
    "start_time": "2022-09-19T10:08:56.869Z"
   },
   {
    "duration": 24,
    "start_time": "2022-09-19T10:08:59.584Z"
   },
   {
    "duration": 4,
    "start_time": "2022-09-19T10:08:59.610Z"
   },
   {
    "duration": 1341,
    "start_time": "2022-09-19T10:08:59.615Z"
   },
   {
    "duration": 468,
    "start_time": "2022-09-19T10:09:00.959Z"
   },
   {
    "duration": 389,
    "start_time": "2022-09-19T10:09:01.429Z"
   },
   {
    "duration": 6,
    "start_time": "2022-09-19T10:09:01.819Z"
   },
   {
    "duration": 38,
    "start_time": "2022-09-19T10:09:01.826Z"
   },
   {
    "duration": 39,
    "start_time": "2022-09-19T10:09:01.866Z"
   },
   {
    "duration": 41,
    "start_time": "2022-09-19T10:09:01.906Z"
   },
   {
    "duration": 31,
    "start_time": "2022-09-19T10:09:01.948Z"
   },
   {
    "duration": 56,
    "start_time": "2022-09-19T10:09:01.980Z"
   },
   {
    "duration": 202,
    "start_time": "2022-09-19T10:09:02.038Z"
   },
   {
    "duration": 20,
    "start_time": "2022-09-19T10:09:02.241Z"
   },
   {
    "duration": 35,
    "start_time": "2022-09-19T10:09:02.262Z"
   },
   {
    "duration": 86,
    "start_time": "2022-09-19T10:09:02.299Z"
   },
   {
    "duration": 87,
    "start_time": "2022-09-19T10:09:02.387Z"
   },
   {
    "duration": 5,
    "start_time": "2022-09-19T10:09:02.475Z"
   },
   {
    "duration": 31,
    "start_time": "2022-09-19T10:09:02.481Z"
   },
   {
    "duration": 27,
    "start_time": "2022-09-19T10:09:02.514Z"
   },
   {
    "duration": 26,
    "start_time": "2022-09-19T10:09:02.542Z"
   },
   {
    "duration": 40,
    "start_time": "2022-09-19T10:09:02.569Z"
   },
   {
    "duration": 37,
    "start_time": "2022-09-19T10:09:02.611Z"
   },
   {
    "duration": 22,
    "start_time": "2022-09-19T10:09:02.650Z"
   },
   {
    "duration": 102,
    "start_time": "2022-09-19T10:09:02.674Z"
   },
   {
    "duration": 24,
    "start_time": "2022-09-19T10:09:02.778Z"
   },
   {
    "duration": 27,
    "start_time": "2022-09-19T10:09:02.805Z"
   },
   {
    "duration": 19,
    "start_time": "2022-09-19T10:09:02.834Z"
   },
   {
    "duration": 93,
    "start_time": "2022-09-19T10:09:02.855Z"
   },
   {
    "duration": 85,
    "start_time": "2022-09-19T10:09:02.950Z"
   },
   {
    "duration": 20,
    "start_time": "2022-09-19T10:09:03.037Z"
   },
   {
    "duration": 129,
    "start_time": "2022-09-19T10:09:03.058Z"
   },
   {
    "duration": 456,
    "start_time": "2022-09-19T10:09:03.189Z"
   },
   {
    "duration": 187,
    "start_time": "2022-09-19T10:09:03.647Z"
   },
   {
    "duration": 366,
    "start_time": "2022-09-19T10:09:03.835Z"
   },
   {
    "duration": 3,
    "start_time": "2022-09-19T10:09:04.202Z"
   },
   {
    "duration": 29,
    "start_time": "2022-09-19T10:09:04.207Z"
   },
   {
    "duration": 170,
    "start_time": "2022-09-19T10:09:04.238Z"
   },
   {
    "duration": 2479,
    "start_time": "2022-09-19T10:09:04.410Z"
   },
   {
    "duration": 2,
    "start_time": "2022-09-19T10:11:06.337Z"
   },
   {
    "duration": 1397,
    "start_time": "2022-09-19T10:13:22.716Z"
   },
   {
    "duration": 704,
    "start_time": "2022-09-19T10:13:24.115Z"
   },
   {
    "duration": 24,
    "start_time": "2022-09-19T10:13:24.822Z"
   },
   {
    "duration": 3,
    "start_time": "2022-09-19T10:13:24.847Z"
   },
   {
    "duration": 1290,
    "start_time": "2022-09-19T10:13:24.852Z"
   },
   {
    "duration": 482,
    "start_time": "2022-09-19T10:13:26.144Z"
   },
   {
    "duration": 400,
    "start_time": "2022-09-19T10:13:26.627Z"
   },
   {
    "duration": 4,
    "start_time": "2022-09-19T10:13:27.029Z"
   },
   {
    "duration": 35,
    "start_time": "2022-09-19T10:13:27.034Z"
   },
   {
    "duration": 38,
    "start_time": "2022-09-19T10:13:27.071Z"
   },
   {
    "duration": 41,
    "start_time": "2022-09-19T10:13:27.111Z"
   },
   {
    "duration": 32,
    "start_time": "2022-09-19T10:13:27.153Z"
   },
   {
    "duration": 65,
    "start_time": "2022-09-19T10:13:27.187Z"
   },
   {
    "duration": 181,
    "start_time": "2022-09-19T10:13:27.253Z"
   },
   {
    "duration": 21,
    "start_time": "2022-09-19T10:13:27.435Z"
   },
   {
    "duration": 37,
    "start_time": "2022-09-19T10:13:27.457Z"
   },
   {
    "duration": 87,
    "start_time": "2022-09-19T10:13:27.495Z"
   },
   {
    "duration": 87,
    "start_time": "2022-09-19T10:13:27.583Z"
   },
   {
    "duration": 3,
    "start_time": "2022-09-19T10:13:27.671Z"
   },
   {
    "duration": 25,
    "start_time": "2022-09-19T10:13:27.675Z"
   },
   {
    "duration": 30,
    "start_time": "2022-09-19T10:13:27.702Z"
   },
   {
    "duration": 24,
    "start_time": "2022-09-19T10:13:27.734Z"
   },
   {
    "duration": 16,
    "start_time": "2022-09-19T10:13:27.759Z"
   },
   {
    "duration": 26,
    "start_time": "2022-09-19T10:13:27.777Z"
   },
   {
    "duration": 28,
    "start_time": "2022-09-19T10:13:27.805Z"
   },
   {
    "duration": 110,
    "start_time": "2022-09-19T10:13:27.835Z"
   },
   {
    "duration": 15,
    "start_time": "2022-09-19T10:13:27.947Z"
   },
   {
    "duration": 24,
    "start_time": "2022-09-19T10:13:27.965Z"
   },
   {
    "duration": 32,
    "start_time": "2022-09-19T10:13:27.990Z"
   },
   {
    "duration": 80,
    "start_time": "2022-09-19T10:13:28.023Z"
   },
   {
    "duration": 93,
    "start_time": "2022-09-19T10:13:28.105Z"
   },
   {
    "duration": 32,
    "start_time": "2022-09-19T10:13:28.199Z"
   },
   {
    "duration": 124,
    "start_time": "2022-09-19T10:13:28.232Z"
   },
   {
    "duration": 452,
    "start_time": "2022-09-19T10:13:28.358Z"
   },
   {
    "duration": 187,
    "start_time": "2022-09-19T10:13:28.812Z"
   },
   {
    "duration": 362,
    "start_time": "2022-09-19T10:13:29.001Z"
   },
   {
    "duration": 4,
    "start_time": "2022-09-19T10:13:29.365Z"
   },
   {
    "duration": 29,
    "start_time": "2022-09-19T10:13:29.370Z"
   },
   {
    "duration": 169,
    "start_time": "2022-09-19T10:13:29.401Z"
   },
   {
    "duration": 2480,
    "start_time": "2022-09-19T10:13:29.572Z"
   },
   {
    "duration": 2,
    "start_time": "2022-09-19T10:13:32.053Z"
   },
   {
    "duration": 229,
    "start_time": "2022-09-19T10:13:32.057Z"
   },
   {
    "duration": 100,
    "start_time": "2022-09-19T10:13:32.287Z"
   },
   {
    "duration": 8,
    "start_time": "2022-09-19T10:13:32.388Z"
   },
   {
    "duration": 0,
    "start_time": "2022-09-19T10:13:32.397Z"
   },
   {
    "duration": 0,
    "start_time": "2022-09-19T10:13:32.398Z"
   },
   {
    "duration": 0,
    "start_time": "2022-09-19T10:13:32.399Z"
   },
   {
    "duration": 0,
    "start_time": "2022-09-19T10:13:32.400Z"
   },
   {
    "duration": 0,
    "start_time": "2022-09-19T10:13:32.401Z"
   },
   {
    "duration": 0,
    "start_time": "2022-09-19T10:13:32.402Z"
   },
   {
    "duration": 0,
    "start_time": "2022-09-19T10:13:32.403Z"
   },
   {
    "duration": 0,
    "start_time": "2022-09-19T10:13:32.404Z"
   },
   {
    "duration": 1379,
    "start_time": "2022-09-19T10:14:40.753Z"
   },
   {
    "duration": 729,
    "start_time": "2022-09-19T10:14:42.134Z"
   },
   {
    "duration": 29,
    "start_time": "2022-09-19T10:14:42.864Z"
   },
   {
    "duration": 4,
    "start_time": "2022-09-19T10:14:42.896Z"
   },
   {
    "duration": 1311,
    "start_time": "2022-09-19T10:14:42.902Z"
   },
   {
    "duration": 472,
    "start_time": "2022-09-19T10:14:44.215Z"
   },
   {
    "duration": 398,
    "start_time": "2022-09-19T10:14:44.688Z"
   },
   {
    "duration": 4,
    "start_time": "2022-09-19T10:14:45.087Z"
   },
   {
    "duration": 36,
    "start_time": "2022-09-19T10:14:45.093Z"
   },
   {
    "duration": 38,
    "start_time": "2022-09-19T10:14:45.132Z"
   },
   {
    "duration": 31,
    "start_time": "2022-09-19T10:14:45.172Z"
   },
   {
    "duration": 47,
    "start_time": "2022-09-19T10:14:45.204Z"
   },
   {
    "duration": 46,
    "start_time": "2022-09-19T10:14:45.252Z"
   },
   {
    "duration": 198,
    "start_time": "2022-09-19T10:14:45.300Z"
   },
   {
    "duration": 30,
    "start_time": "2022-09-19T10:14:45.500Z"
   },
   {
    "duration": 35,
    "start_time": "2022-09-19T10:14:45.532Z"
   },
   {
    "duration": 83,
    "start_time": "2022-09-19T10:14:45.569Z"
   },
   {
    "duration": 85,
    "start_time": "2022-09-19T10:14:45.654Z"
   },
   {
    "duration": 3,
    "start_time": "2022-09-19T10:14:45.740Z"
   },
   {
    "duration": 24,
    "start_time": "2022-09-19T10:14:45.744Z"
   },
   {
    "duration": 17,
    "start_time": "2022-09-19T10:14:45.769Z"
   },
   {
    "duration": 37,
    "start_time": "2022-09-19T10:14:45.787Z"
   },
   {
    "duration": 14,
    "start_time": "2022-09-19T10:14:45.826Z"
   },
   {
    "duration": 26,
    "start_time": "2022-09-19T10:14:45.841Z"
   },
   {
    "duration": 16,
    "start_time": "2022-09-19T10:14:45.868Z"
   },
   {
    "duration": 109,
    "start_time": "2022-09-19T10:14:45.885Z"
   },
   {
    "duration": 20,
    "start_time": "2022-09-19T10:14:45.996Z"
   },
   {
    "duration": 33,
    "start_time": "2022-09-19T10:14:46.024Z"
   },
   {
    "duration": 29,
    "start_time": "2022-09-19T10:14:46.059Z"
   },
   {
    "duration": 116,
    "start_time": "2022-09-19T10:14:46.091Z"
   },
   {
    "duration": 99,
    "start_time": "2022-09-19T10:14:46.209Z"
   },
   {
    "duration": 28,
    "start_time": "2022-09-19T10:14:46.310Z"
   },
   {
    "duration": 131,
    "start_time": "2022-09-19T10:14:46.340Z"
   },
   {
    "duration": 474,
    "start_time": "2022-09-19T10:14:46.472Z"
   },
   {
    "duration": 188,
    "start_time": "2022-09-19T10:14:46.948Z"
   },
   {
    "duration": 423,
    "start_time": "2022-09-19T10:14:47.138Z"
   },
   {
    "duration": 4,
    "start_time": "2022-09-19T10:14:47.564Z"
   },
   {
    "duration": 37,
    "start_time": "2022-09-19T10:14:47.570Z"
   },
   {
    "duration": 217,
    "start_time": "2022-09-19T10:14:47.609Z"
   },
   {
    "duration": 2490,
    "start_time": "2022-09-19T10:14:47.828Z"
   },
   {
    "duration": 3,
    "start_time": "2022-09-19T10:14:50.319Z"
   },
   {
    "duration": 192,
    "start_time": "2022-09-19T10:14:50.323Z"
   },
   {
    "duration": 83,
    "start_time": "2022-09-19T10:14:50.517Z"
   },
   {
    "duration": 2,
    "start_time": "2022-09-19T10:14:50.602Z"
   },
   {
    "duration": 15224,
    "start_time": "2022-09-19T10:14:50.606Z"
   },
   {
    "duration": 194,
    "start_time": "2022-09-19T10:15:05.831Z"
   },
   {
    "duration": 5,
    "start_time": "2022-09-19T10:15:06.027Z"
   },
   {
    "duration": 20896,
    "start_time": "2022-09-19T10:15:06.034Z"
   },
   {
    "duration": 108,
    "start_time": "2022-09-19T10:15:26.932Z"
   },
   {
    "duration": 2,
    "start_time": "2022-09-19T10:15:27.041Z"
   },
   {
    "duration": 44008,
    "start_time": "2022-09-19T10:15:27.045Z"
   },
   {
    "duration": 314,
    "start_time": "2022-09-19T10:16:11.054Z"
   },
   {
    "duration": 3,
    "start_time": "2022-09-19T10:21:52.041Z"
   },
   {
    "duration": 27175,
    "start_time": "2022-09-19T10:21:52.452Z"
   },
   {
    "duration": 88,
    "start_time": "2022-09-19T10:22:19.636Z"
   },
   {
    "duration": 8,
    "start_time": "2022-09-19T10:22:19.730Z"
   },
   {
    "duration": 21757,
    "start_time": "2022-09-19T10:22:19.740Z"
   },
   {
    "duration": 110,
    "start_time": "2022-09-19T10:22:41.498Z"
   },
   {
    "duration": 13,
    "start_time": "2022-09-19T10:22:41.609Z"
   },
   {
    "duration": 45723,
    "start_time": "2022-09-19T10:22:41.630Z"
   },
   {
    "duration": 299,
    "start_time": "2022-09-19T10:23:27.355Z"
   },
   {
    "duration": 2,
    "start_time": "2022-09-19T10:39:10.804Z"
   },
   {
    "duration": 85,
    "start_time": "2022-09-19T10:39:12.248Z"
   },
   {
    "duration": 104,
    "start_time": "2022-09-19T10:39:18.106Z"
   },
   {
    "duration": 11,
    "start_time": "2022-09-19T10:40:07.805Z"
   },
   {
    "duration": 16,
    "start_time": "2022-09-19T10:40:29.012Z"
   },
   {
    "duration": 302816,
    "start_time": "2022-09-19T10:46:26.123Z"
   },
   {
    "duration": 13024,
    "start_time": "2022-09-19T10:51:28.941Z"
   },
   {
    "duration": 3,
    "start_time": "2022-09-19T10:52:24.563Z"
   },
   {
    "duration": 5,
    "start_time": "2022-09-19T10:52:35.498Z"
   },
   {
    "duration": 8,
    "start_time": "2022-09-19T10:52:43.422Z"
   },
   {
    "duration": 4,
    "start_time": "2022-09-19T10:53:30.265Z"
   },
   {
    "duration": 5,
    "start_time": "2022-09-19T10:53:30.618Z"
   },
   {
    "duration": 8,
    "start_time": "2022-09-19T10:53:31.158Z"
   },
   {
    "duration": 3,
    "start_time": "2022-09-19T11:01:45.324Z"
   },
   {
    "duration": 47997,
    "start_time": "2022-09-19T11:01:45.633Z"
   },
   {
    "duration": 340,
    "start_time": "2022-09-19T11:02:33.632Z"
   },
   {
    "duration": 5,
    "start_time": "2022-09-19T11:02:42.369Z"
   },
   {
    "duration": 4,
    "start_time": "2022-09-19T11:03:13.170Z"
   },
   {
    "duration": 92,
    "start_time": "2022-09-19T11:03:13.569Z"
   },
   {
    "duration": 25727,
    "start_time": "2022-09-19T11:03:40.033Z"
   },
   {
    "duration": 108,
    "start_time": "2022-09-19T11:04:05.762Z"
   },
   {
    "duration": 14,
    "start_time": "2022-09-19T11:04:56.061Z"
   },
   {
    "duration": 11,
    "start_time": "2022-09-19T11:05:44.676Z"
   },
   {
    "duration": 1763,
    "start_time": "2022-09-19T11:06:25.116Z"
   },
   {
    "duration": 831,
    "start_time": "2022-09-19T11:06:26.882Z"
   },
   {
    "duration": 28,
    "start_time": "2022-09-19T11:06:27.715Z"
   },
   {
    "duration": 5,
    "start_time": "2022-09-19T11:06:27.745Z"
   },
   {
    "duration": 1400,
    "start_time": "2022-09-19T11:06:27.752Z"
   },
   {
    "duration": 581,
    "start_time": "2022-09-19T11:06:29.154Z"
   },
   {
    "duration": 500,
    "start_time": "2022-09-19T11:06:29.736Z"
   },
   {
    "duration": 5,
    "start_time": "2022-09-19T11:06:30.237Z"
   },
   {
    "duration": 38,
    "start_time": "2022-09-19T11:06:30.243Z"
   },
   {
    "duration": 55,
    "start_time": "2022-09-19T11:06:30.282Z"
   },
   {
    "duration": 33,
    "start_time": "2022-09-19T11:06:30.339Z"
   },
   {
    "duration": 49,
    "start_time": "2022-09-19T11:06:30.374Z"
   },
   {
    "duration": 50,
    "start_time": "2022-09-19T11:06:30.425Z"
   },
   {
    "duration": 210,
    "start_time": "2022-09-19T11:06:30.479Z"
   },
   {
    "duration": 34,
    "start_time": "2022-09-19T11:06:30.691Z"
   },
   {
    "duration": 39,
    "start_time": "2022-09-19T11:06:30.727Z"
   },
   {
    "duration": 99,
    "start_time": "2022-09-19T11:06:30.767Z"
   },
   {
    "duration": 125,
    "start_time": "2022-09-19T11:06:30.868Z"
   },
   {
    "duration": 3,
    "start_time": "2022-09-19T11:06:30.995Z"
   },
   {
    "duration": 39,
    "start_time": "2022-09-19T11:06:30.999Z"
   },
   {
    "duration": 39,
    "start_time": "2022-09-19T11:06:31.041Z"
   },
   {
    "duration": 36,
    "start_time": "2022-09-19T11:06:31.082Z"
   },
   {
    "duration": 26,
    "start_time": "2022-09-19T11:06:31.120Z"
   },
   {
    "duration": 26,
    "start_time": "2022-09-19T11:06:31.148Z"
   },
   {
    "duration": 31,
    "start_time": "2022-09-19T11:06:31.176Z"
   },
   {
    "duration": 117,
    "start_time": "2022-09-19T11:06:31.209Z"
   },
   {
    "duration": 39,
    "start_time": "2022-09-19T11:06:31.329Z"
   },
   {
    "duration": 32,
    "start_time": "2022-09-19T11:06:31.370Z"
   },
   {
    "duration": 38,
    "start_time": "2022-09-19T11:06:31.404Z"
   },
   {
    "duration": 111,
    "start_time": "2022-09-19T11:06:31.443Z"
   },
   {
    "duration": 115,
    "start_time": "2022-09-19T11:06:31.556Z"
   },
   {
    "duration": 28,
    "start_time": "2022-09-19T11:06:31.673Z"
   },
   {
    "duration": 151,
    "start_time": "2022-09-19T11:06:31.703Z"
   },
   {
    "duration": 520,
    "start_time": "2022-09-19T11:06:31.855Z"
   },
   {
    "duration": 189,
    "start_time": "2022-09-19T11:06:32.376Z"
   },
   {
    "duration": 369,
    "start_time": "2022-09-19T11:06:32.567Z"
   },
   {
    "duration": 4,
    "start_time": "2022-09-19T11:06:32.938Z"
   },
   {
    "duration": 26,
    "start_time": "2022-09-19T11:06:32.943Z"
   },
   {
    "duration": 184,
    "start_time": "2022-09-19T11:06:32.971Z"
   },
   {
    "duration": 2578,
    "start_time": "2022-09-19T11:06:33.156Z"
   },
   {
    "duration": 3,
    "start_time": "2022-09-19T11:06:35.737Z"
   },
   {
    "duration": 32115,
    "start_time": "2022-09-19T11:06:35.741Z"
   },
   {
    "duration": 172,
    "start_time": "2022-09-19T11:07:07.859Z"
   },
   {
    "duration": 6,
    "start_time": "2022-09-19T11:07:08.035Z"
   },
   {
    "duration": 52065,
    "start_time": "2022-09-19T11:07:08.046Z"
   },
   {
    "duration": 344,
    "start_time": "2022-09-19T11:08:00.113Z"
   },
   {
    "duration": 117,
    "start_time": "2022-09-19T11:08:00.458Z"
   },
   {
    "duration": 0,
    "start_time": "2022-09-19T11:08:00.576Z"
   },
   {
    "duration": 0,
    "start_time": "2022-09-19T11:08:00.577Z"
   },
   {
    "duration": 0,
    "start_time": "2022-09-19T11:08:00.578Z"
   },
   {
    "duration": 0,
    "start_time": "2022-09-19T11:08:00.580Z"
   },
   {
    "duration": 0,
    "start_time": "2022-09-19T11:08:00.582Z"
   },
   {
    "duration": 0,
    "start_time": "2022-09-19T11:08:00.583Z"
   },
   {
    "duration": 369569,
    "start_time": "2022-09-19T11:08:18.754Z"
   },
   {
    "duration": 703,
    "start_time": "2022-09-19T11:14:28.325Z"
   },
   {
    "duration": 24417,
    "start_time": "2022-09-19T11:14:29.030Z"
   },
   {
    "duration": 137,
    "start_time": "2022-09-19T11:14:53.449Z"
   },
   {
    "duration": 5,
    "start_time": "2022-09-19T11:14:53.588Z"
   },
   {
    "duration": 36,
    "start_time": "2022-09-19T11:14:53.595Z"
   },
   {
    "duration": 24,
    "start_time": "2022-09-19T11:14:53.633Z"
   },
   {
    "duration": 201,
    "start_time": "2022-09-19T11:19:20.682Z"
   },
   {
    "duration": 5,
    "start_time": "2022-09-19T11:19:22.572Z"
   },
   {
    "duration": 5,
    "start_time": "2022-09-19T11:19:23.289Z"
   },
   {
    "duration": 9,
    "start_time": "2022-09-19T11:19:23.648Z"
   },
   {
    "duration": 94,
    "start_time": "2022-09-19T12:18:01.410Z"
   },
   {
    "duration": 101,
    "start_time": "2022-09-19T12:18:07.236Z"
   },
   {
    "duration": 110,
    "start_time": "2022-09-19T12:21:46.271Z"
   },
   {
    "duration": 92,
    "start_time": "2022-09-19T12:27:45.305Z"
   },
   {
    "duration": 94,
    "start_time": "2022-09-19T12:27:48.206Z"
   },
   {
    "duration": 106,
    "start_time": "2022-09-19T12:28:05.560Z"
   },
   {
    "duration": 95,
    "start_time": "2022-09-19T12:28:09.333Z"
   },
   {
    "duration": 108,
    "start_time": "2022-09-19T12:28:14.702Z"
   },
   {
    "duration": 98,
    "start_time": "2022-09-19T12:31:30.212Z"
   },
   {
    "duration": 101,
    "start_time": "2022-09-19T12:31:37.037Z"
   },
   {
    "duration": 179,
    "start_time": "2022-09-19T12:36:05.522Z"
   },
   {
    "duration": 15,
    "start_time": "2022-09-19T12:36:43.882Z"
   },
   {
    "duration": 107,
    "start_time": "2022-09-19T13:49:09.545Z"
   },
   {
    "duration": 25119,
    "start_time": "2022-09-19T13:53:55.070Z"
   },
   {
    "duration": 1389,
    "start_time": "2022-09-19T13:56:43.196Z"
   },
   {
    "duration": 762,
    "start_time": "2022-09-19T13:56:44.588Z"
   },
   {
    "duration": 27,
    "start_time": "2022-09-19T13:56:45.352Z"
   },
   {
    "duration": 3,
    "start_time": "2022-09-19T13:56:45.381Z"
   },
   {
    "duration": 1398,
    "start_time": "2022-09-19T13:56:45.386Z"
   },
   {
    "duration": 501,
    "start_time": "2022-09-19T13:56:46.785Z"
   },
   {
    "duration": 479,
    "start_time": "2022-09-19T13:56:47.288Z"
   },
   {
    "duration": 4,
    "start_time": "2022-09-19T13:56:47.768Z"
   },
   {
    "duration": 36,
    "start_time": "2022-09-19T13:56:47.774Z"
   },
   {
    "duration": 118,
    "start_time": "2022-09-19T13:56:47.823Z"
   },
   {
    "duration": 45,
    "start_time": "2022-09-19T13:56:47.944Z"
   },
   {
    "duration": 42,
    "start_time": "2022-09-19T13:56:47.990Z"
   },
   {
    "duration": 38,
    "start_time": "2022-09-19T13:56:48.040Z"
   },
   {
    "duration": 203,
    "start_time": "2022-09-19T13:56:48.079Z"
   },
   {
    "duration": 120,
    "start_time": "2022-09-19T13:56:48.284Z"
   },
   {
    "duration": 63,
    "start_time": "2022-09-19T13:56:48.406Z"
   },
   {
    "duration": 214,
    "start_time": "2022-09-19T13:56:48.471Z"
   },
   {
    "duration": 20,
    "start_time": "2022-09-19T13:56:48.687Z"
   },
   {
    "duration": 54,
    "start_time": "2022-09-19T13:56:48.709Z"
   },
   {
    "duration": 86,
    "start_time": "2022-09-19T13:56:48.764Z"
   },
   {
    "duration": 91,
    "start_time": "2022-09-19T13:56:48.855Z"
   },
   {
    "duration": 16,
    "start_time": "2022-09-19T13:56:48.947Z"
   },
   {
    "duration": 26,
    "start_time": "2022-09-19T13:56:48.964Z"
   },
   {
    "duration": 15,
    "start_time": "2022-09-19T13:56:48.992Z"
   },
   {
    "duration": 46,
    "start_time": "2022-09-19T13:56:49.009Z"
   },
   {
    "duration": 20,
    "start_time": "2022-09-19T13:56:49.056Z"
   },
   {
    "duration": 25,
    "start_time": "2022-09-19T13:56:49.077Z"
   },
   {
    "duration": 33,
    "start_time": "2022-09-19T13:56:49.105Z"
   },
   {
    "duration": 40,
    "start_time": "2022-09-19T13:56:49.140Z"
   },
   {
    "duration": 13,
    "start_time": "2022-09-19T13:56:49.182Z"
   },
   {
    "duration": 23,
    "start_time": "2022-09-19T13:56:49.197Z"
   },
   {
    "duration": 39,
    "start_time": "2022-09-19T13:56:49.221Z"
   },
   {
    "duration": 89,
    "start_time": "2022-09-19T13:56:49.262Z"
   },
   {
    "duration": 105,
    "start_time": "2022-09-19T13:56:49.355Z"
   },
   {
    "duration": 23,
    "start_time": "2022-09-19T13:56:49.461Z"
   },
   {
    "duration": 149,
    "start_time": "2022-09-19T13:56:49.486Z"
   },
   {
    "duration": 452,
    "start_time": "2022-09-19T13:56:49.643Z"
   },
   {
    "duration": 178,
    "start_time": "2022-09-19T13:56:50.096Z"
   },
   {
    "duration": 377,
    "start_time": "2022-09-19T13:56:50.275Z"
   },
   {
    "duration": 5,
    "start_time": "2022-09-19T13:56:50.653Z"
   },
   {
    "duration": 24,
    "start_time": "2022-09-19T13:56:50.660Z"
   },
   {
    "duration": 185,
    "start_time": "2022-09-19T13:56:50.685Z"
   },
   {
    "duration": 2457,
    "start_time": "2022-09-19T13:56:50.872Z"
   },
   {
    "duration": 5,
    "start_time": "2022-09-19T13:56:53.330Z"
   },
   {
    "duration": 51295,
    "start_time": "2022-09-19T13:56:53.336Z"
   },
   {
    "duration": 107,
    "start_time": "2022-09-19T13:57:44.632Z"
   },
   {
    "duration": 5,
    "start_time": "2022-09-19T13:57:44.825Z"
   },
   {
    "duration": 47191,
    "start_time": "2022-09-19T13:57:44.835Z"
   },
   {
    "duration": 320,
    "start_time": "2022-09-19T13:58:32.028Z"
   },
   {
    "duration": 222392,
    "start_time": "2022-09-19T13:58:32.350Z"
   },
   {
    "duration": 687,
    "start_time": "2022-09-19T14:02:14.744Z"
   },
   {
    "duration": 25047,
    "start_time": "2022-09-19T14:02:15.437Z"
   },
   {
    "duration": 117,
    "start_time": "2022-09-19T14:02:40.485Z"
   },
   {
    "duration": 3,
    "start_time": "2022-09-19T14:02:40.604Z"
   },
   {
    "duration": 26,
    "start_time": "2022-09-19T14:02:40.609Z"
   },
   {
    "duration": 18,
    "start_time": "2022-09-19T14:02:40.647Z"
   },
   {
    "duration": 119,
    "start_time": "2022-09-19T14:02:40.667Z"
   },
   {
    "duration": 402559,
    "start_time": "2022-09-19T14:03:54.387Z"
   },
   {
    "duration": 1450,
    "start_time": "2022-09-19T14:14:16.457Z"
   },
   {
    "duration": 840,
    "start_time": "2022-09-19T14:14:17.909Z"
   },
   {
    "duration": 30,
    "start_time": "2022-09-19T14:14:18.752Z"
   },
   {
    "duration": 4,
    "start_time": "2022-09-19T14:14:18.784Z"
   },
   {
    "duration": 1504,
    "start_time": "2022-09-19T14:14:18.790Z"
   },
   {
    "duration": 579,
    "start_time": "2022-09-19T14:14:20.297Z"
   },
   {
    "duration": 573,
    "start_time": "2022-09-19T14:14:20.877Z"
   },
   {
    "duration": 6,
    "start_time": "2022-09-19T14:14:21.451Z"
   },
   {
    "duration": 46,
    "start_time": "2022-09-19T14:14:21.458Z"
   },
   {
    "duration": 108,
    "start_time": "2022-09-19T14:14:21.506Z"
   },
   {
    "duration": 56,
    "start_time": "2022-09-19T14:14:21.615Z"
   },
   {
    "duration": 32,
    "start_time": "2022-09-19T14:14:21.673Z"
   },
   {
    "duration": 49,
    "start_time": "2022-09-19T14:14:21.707Z"
   },
   {
    "duration": 211,
    "start_time": "2022-09-19T14:14:21.758Z"
   },
   {
    "duration": 120,
    "start_time": "2022-09-19T14:14:21.971Z"
   },
   {
    "duration": 65,
    "start_time": "2022-09-19T14:14:22.093Z"
   },
   {
    "duration": 243,
    "start_time": "2022-09-19T14:14:22.160Z"
   },
   {
    "duration": 41,
    "start_time": "2022-09-19T14:14:22.405Z"
   },
   {
    "duration": 61,
    "start_time": "2022-09-19T14:14:22.448Z"
   },
   {
    "duration": 89,
    "start_time": "2022-09-19T14:14:22.511Z"
   },
   {
    "duration": 105,
    "start_time": "2022-09-19T14:14:22.601Z"
   },
   {
    "duration": 17,
    "start_time": "2022-09-19T14:14:22.708Z"
   },
   {
    "duration": 70,
    "start_time": "2022-09-19T14:14:22.729Z"
   },
   {
    "duration": 71,
    "start_time": "2022-09-19T14:14:22.801Z"
   },
   {
    "duration": 30,
    "start_time": "2022-09-19T14:14:22.874Z"
   },
   {
    "duration": 28,
    "start_time": "2022-09-19T14:14:22.905Z"
   },
   {
    "duration": 38,
    "start_time": "2022-09-19T14:14:22.934Z"
   },
   {
    "duration": 15,
    "start_time": "2022-09-19T14:14:22.975Z"
   },
   {
    "duration": 27,
    "start_time": "2022-09-19T14:14:22.991Z"
   },
   {
    "duration": 58,
    "start_time": "2022-09-19T14:14:23.019Z"
   },
   {
    "duration": 27,
    "start_time": "2022-09-19T14:14:23.079Z"
   },
   {
    "duration": 16,
    "start_time": "2022-09-19T14:14:23.107Z"
   },
   {
    "duration": 111,
    "start_time": "2022-09-19T14:14:23.131Z"
   },
   {
    "duration": 96,
    "start_time": "2022-09-19T14:14:23.248Z"
   },
   {
    "duration": 26,
    "start_time": "2022-09-19T14:14:23.350Z"
   },
   {
    "duration": 124,
    "start_time": "2022-09-19T14:14:23.378Z"
   },
   {
    "duration": 469,
    "start_time": "2022-09-19T14:14:23.504Z"
   },
   {
    "duration": 192,
    "start_time": "2022-09-19T14:14:23.974Z"
   },
   {
    "duration": 390,
    "start_time": "2022-09-19T14:14:24.172Z"
   },
   {
    "duration": 3,
    "start_time": "2022-09-19T14:14:24.564Z"
   },
   {
    "duration": 36,
    "start_time": "2022-09-19T14:14:24.569Z"
   },
   {
    "duration": 183,
    "start_time": "2022-09-19T14:14:24.606Z"
   },
   {
    "duration": 2444,
    "start_time": "2022-09-19T14:14:24.791Z"
   },
   {
    "duration": 4,
    "start_time": "2022-09-19T14:14:27.236Z"
   },
   {
    "duration": 45820,
    "start_time": "2022-09-19T14:14:27.243Z"
   },
   {
    "duration": 158,
    "start_time": "2022-09-19T14:15:13.064Z"
   },
   {
    "duration": 12,
    "start_time": "2022-09-19T14:15:13.225Z"
   },
   {
    "duration": 48052,
    "start_time": "2022-09-19T14:15:13.240Z"
   },
   {
    "duration": 306,
    "start_time": "2022-09-19T14:16:01.293Z"
   },
   {
    "duration": 503137,
    "start_time": "2022-09-19T14:16:01.601Z"
   },
   {
    "duration": 707,
    "start_time": "2022-09-19T14:24:24.739Z"
   },
   {
    "duration": 26111,
    "start_time": "2022-09-19T14:24:25.448Z"
   },
   {
    "duration": 114,
    "start_time": "2022-09-19T14:24:51.561Z"
   },
   {
    "duration": 4,
    "start_time": "2022-09-19T14:24:51.677Z"
   },
   {
    "duration": 23,
    "start_time": "2022-09-19T14:24:51.683Z"
   },
   {
    "duration": 11,
    "start_time": "2022-09-19T14:24:51.708Z"
   },
   {
    "duration": 144,
    "start_time": "2022-09-19T14:24:51.721Z"
   },
   {
    "duration": 140,
    "start_time": "2022-09-20T07:35:40.720Z"
   },
   {
    "duration": 1857,
    "start_time": "2022-09-20T07:38:03.017Z"
   },
   {
    "duration": 5,
    "start_time": "2022-09-20T07:40:32.660Z"
   },
   {
    "duration": 1247,
    "start_time": "2022-09-20T07:40:34.072Z"
   },
   {
    "duration": 39,
    "start_time": "2022-09-20T07:40:35.321Z"
   },
   {
    "duration": 6,
    "start_time": "2022-09-20T07:40:35.362Z"
   },
   {
    "duration": 2430,
    "start_time": "2022-09-20T07:40:35.496Z"
   },
   {
    "duration": 5,
    "start_time": "2022-09-20T07:52:27.934Z"
   },
   {
    "duration": 936,
    "start_time": "2022-09-20T07:52:28.540Z"
   },
   {
    "duration": 23,
    "start_time": "2022-09-20T07:52:29.478Z"
   },
   {
    "duration": 21,
    "start_time": "2022-09-20T07:52:29.503Z"
   },
   {
    "duration": 2547,
    "start_time": "2022-09-20T07:52:29.526Z"
   },
   {
    "duration": 594,
    "start_time": "2022-09-20T07:52:32.076Z"
   },
   {
    "duration": 554,
    "start_time": "2022-09-20T07:52:32.673Z"
   },
   {
    "duration": 4,
    "start_time": "2022-09-20T07:52:33.229Z"
   },
   {
    "duration": 60,
    "start_time": "2022-09-20T07:52:33.235Z"
   },
   {
    "duration": 138,
    "start_time": "2022-09-20T07:52:33.297Z"
   },
   {
    "duration": 63,
    "start_time": "2022-09-20T07:52:33.437Z"
   },
   {
    "duration": 36,
    "start_time": "2022-09-20T07:52:33.502Z"
   },
   {
    "duration": 49,
    "start_time": "2022-09-20T07:52:33.540Z"
   },
   {
    "duration": 164,
    "start_time": "2022-09-20T07:52:33.592Z"
   },
   {
    "duration": 130,
    "start_time": "2022-09-20T07:52:33.759Z"
   },
   {
    "duration": 63,
    "start_time": "2022-09-20T07:52:33.891Z"
   },
   {
    "duration": 240,
    "start_time": "2022-09-20T07:52:34.366Z"
   },
   {
    "duration": 24,
    "start_time": "2022-09-20T07:52:34.797Z"
   },
   {
    "duration": 51,
    "start_time": "2022-09-20T07:52:35.373Z"
   },
   {
    "duration": 83,
    "start_time": "2022-09-20T07:52:36.218Z"
   },
   {
    "duration": 93,
    "start_time": "2022-09-20T07:52:37.207Z"
   },
   {
    "duration": 4,
    "start_time": "2022-09-20T07:52:37.999Z"
   },
   {
    "duration": 40,
    "start_time": "2022-09-20T07:52:38.740Z"
   },
   {
    "duration": 17,
    "start_time": "2022-09-20T07:52:38.970Z"
   },
   {
    "duration": 28,
    "start_time": "2022-09-20T07:52:39.898Z"
   },
   {
    "duration": 25,
    "start_time": "2022-09-20T07:52:40.125Z"
   },
   {
    "duration": 41,
    "start_time": "2022-09-20T07:52:40.890Z"
   },
   {
    "duration": 26,
    "start_time": "2022-09-20T07:52:41.088Z"
   },
   {
    "duration": 43,
    "start_time": "2022-09-20T07:52:41.876Z"
   },
   {
    "duration": 17,
    "start_time": "2022-09-20T07:52:42.058Z"
   },
   {
    "duration": 28,
    "start_time": "2022-09-20T07:52:42.783Z"
   },
   {
    "duration": 17,
    "start_time": "2022-09-20T07:52:42.974Z"
   },
   {
    "duration": 88,
    "start_time": "2022-09-20T07:52:44.089Z"
   },
   {
    "duration": 97,
    "start_time": "2022-09-20T07:52:45.960Z"
   },
   {
    "duration": 27,
    "start_time": "2022-09-20T07:52:46.855Z"
   },
   {
    "duration": 136,
    "start_time": "2022-09-20T07:52:49.023Z"
   },
   {
    "duration": 3,
    "start_time": "2022-09-20T07:52:50.014Z"
   },
   {
    "duration": 8,
    "start_time": "2022-09-20T07:52:52.016Z"
   },
   {
    "duration": 53,
    "start_time": "2022-09-20T07:52:52.878Z"
   },
   {
    "duration": 152,
    "start_time": "2022-09-20T07:52:53.409Z"
   },
   {
    "duration": 12,
    "start_time": "2022-09-20T07:53:58.834Z"
   },
   {
    "duration": 11,
    "start_time": "2022-09-20T07:54:15.672Z"
   },
   {
    "duration": 17,
    "start_time": "2022-09-20T07:55:58.054Z"
   },
   {
    "duration": 72,
    "start_time": "2022-09-20T07:58:35.514Z"
   },
   {
    "duration": 104,
    "start_time": "2022-09-20T07:58:40.473Z"
   },
   {
    "duration": 15,
    "start_time": "2022-09-20T08:03:02.774Z"
   },
   {
    "duration": 4,
    "start_time": "2022-09-20T08:03:45.387Z"
   },
   {
    "duration": 862,
    "start_time": "2022-09-20T08:03:46.439Z"
   },
   {
    "duration": 36,
    "start_time": "2022-09-20T08:03:47.304Z"
   },
   {
    "duration": 10,
    "start_time": "2022-09-20T08:03:47.354Z"
   },
   {
    "duration": 2352,
    "start_time": "2022-09-20T08:03:47.377Z"
   },
   {
    "duration": 557,
    "start_time": "2022-09-20T08:03:49.732Z"
   },
   {
    "duration": 558,
    "start_time": "2022-09-20T08:03:50.291Z"
   },
   {
    "duration": 13,
    "start_time": "2022-09-20T08:03:50.854Z"
   },
   {
    "duration": 43,
    "start_time": "2022-09-20T08:03:50.869Z"
   },
   {
    "duration": 130,
    "start_time": "2022-09-20T08:03:50.915Z"
   },
   {
    "duration": 50,
    "start_time": "2022-09-20T08:03:51.047Z"
   },
   {
    "duration": 36,
    "start_time": "2022-09-20T08:03:51.099Z"
   },
   {
    "duration": 41,
    "start_time": "2022-09-20T08:03:51.156Z"
   },
   {
    "duration": 174,
    "start_time": "2022-09-20T08:03:51.201Z"
   },
   {
    "duration": 151,
    "start_time": "2022-09-20T08:03:51.377Z"
   },
   {
    "duration": 64,
    "start_time": "2022-09-20T08:03:51.533Z"
   },
   {
    "duration": 275,
    "start_time": "2022-09-20T08:03:51.603Z"
   },
   {
    "duration": 39,
    "start_time": "2022-09-20T08:03:51.880Z"
   },
   {
    "duration": 58,
    "start_time": "2022-09-20T08:03:51.993Z"
   },
   {
    "duration": 103,
    "start_time": "2022-09-20T08:03:52.793Z"
   },
   {
    "duration": 102,
    "start_time": "2022-09-20T08:03:53.226Z"
   },
   {
    "duration": 3,
    "start_time": "2022-09-20T08:03:53.543Z"
   },
   {
    "duration": 41,
    "start_time": "2022-09-20T08:03:54.065Z"
   },
   {
    "duration": 18,
    "start_time": "2022-09-20T08:03:54.308Z"
   },
   {
    "duration": 36,
    "start_time": "2022-09-20T08:03:55.333Z"
   },
   {
    "duration": 19,
    "start_time": "2022-09-20T08:03:55.530Z"
   },
   {
    "duration": 27,
    "start_time": "2022-09-20T08:03:56.316Z"
   },
   {
    "duration": 15,
    "start_time": "2022-09-20T08:03:56.515Z"
   },
   {
    "duration": 31,
    "start_time": "2022-09-20T08:03:57.124Z"
   },
   {
    "duration": 19,
    "start_time": "2022-09-20T08:03:57.326Z"
   },
   {
    "duration": 49,
    "start_time": "2022-09-20T08:03:58.052Z"
   },
   {
    "duration": 28,
    "start_time": "2022-09-20T08:03:58.274Z"
   },
   {
    "duration": 113,
    "start_time": "2022-09-20T08:03:58.897Z"
   },
   {
    "duration": 121,
    "start_time": "2022-09-20T08:03:59.873Z"
   },
   {
    "duration": 37,
    "start_time": "2022-09-20T08:04:00.638Z"
   },
   {
    "duration": 150,
    "start_time": "2022-09-20T08:04:02.149Z"
   },
   {
    "duration": 2,
    "start_time": "2022-09-20T08:04:03.374Z"
   },
   {
    "duration": 6,
    "start_time": "2022-09-20T08:04:04.910Z"
   },
   {
    "duration": 54,
    "start_time": "2022-09-20T08:04:05.773Z"
   },
   {
    "duration": 14,
    "start_time": "2022-09-20T08:04:06.566Z"
   },
   {
    "duration": 16,
    "start_time": "2022-09-20T08:04:15.381Z"
   },
   {
    "duration": 13,
    "start_time": "2022-09-20T08:04:19.178Z"
   },
   {
    "duration": 12,
    "start_time": "2022-09-20T08:05:17.594Z"
   },
   {
    "duration": 4,
    "start_time": "2022-09-20T08:05:21.369Z"
   },
   {
    "duration": 3,
    "start_time": "2022-09-20T08:11:14.352Z"
   },
   {
    "duration": 351,
    "start_time": "2022-09-20T08:13:08.570Z"
   },
   {
    "duration": 5,
    "start_time": "2022-09-20T08:14:39.261Z"
   },
   {
    "duration": 849,
    "start_time": "2022-09-20T08:14:40.033Z"
   },
   {
    "duration": 23,
    "start_time": "2022-09-20T08:14:40.884Z"
   },
   {
    "duration": 20,
    "start_time": "2022-09-20T08:14:40.908Z"
   },
   {
    "duration": 2576,
    "start_time": "2022-09-20T08:14:40.930Z"
   },
   {
    "duration": 501,
    "start_time": "2022-09-20T08:14:43.509Z"
   },
   {
    "duration": 476,
    "start_time": "2022-09-20T08:14:44.012Z"
   },
   {
    "duration": 4,
    "start_time": "2022-09-20T08:14:44.491Z"
   },
   {
    "duration": 40,
    "start_time": "2022-09-20T08:14:45.069Z"
   },
   {
    "duration": 122,
    "start_time": "2022-09-20T08:14:45.268Z"
   },
   {
    "duration": 43,
    "start_time": "2022-09-20T08:14:45.604Z"
   },
   {
    "duration": 32,
    "start_time": "2022-09-20T08:14:45.765Z"
   },
   {
    "duration": 37,
    "start_time": "2022-09-20T08:14:46.283Z"
   },
   {
    "duration": 126,
    "start_time": "2022-09-20T08:14:46.469Z"
   },
   {
    "duration": 139,
    "start_time": "2022-09-20T08:14:46.639Z"
   },
   {
    "duration": 58,
    "start_time": "2022-09-20T08:14:47.112Z"
   },
   {
    "duration": 219,
    "start_time": "2022-09-20T08:14:47.616Z"
   },
   {
    "duration": 25,
    "start_time": "2022-09-20T08:14:47.969Z"
   },
   {
    "duration": 47,
    "start_time": "2022-09-20T08:14:48.139Z"
   },
   {
    "duration": 96,
    "start_time": "2022-09-20T08:14:48.494Z"
   },
   {
    "duration": 119,
    "start_time": "2022-09-20T08:14:48.847Z"
   },
   {
    "duration": 3,
    "start_time": "2022-09-20T08:14:49.047Z"
   },
   {
    "duration": 27,
    "start_time": "2022-09-20T08:14:49.421Z"
   },
   {
    "duration": 18,
    "start_time": "2022-09-20T08:14:49.615Z"
   },
   {
    "duration": 28,
    "start_time": "2022-09-20T08:14:50.197Z"
   },
   {
    "duration": 17,
    "start_time": "2022-09-20T08:14:50.372Z"
   },
   {
    "duration": 28,
    "start_time": "2022-09-20T08:14:50.965Z"
   },
   {
    "duration": 15,
    "start_time": "2022-09-20T08:14:51.135Z"
   },
   {
    "duration": 32,
    "start_time": "2022-09-20T08:14:51.714Z"
   },
   {
    "duration": 16,
    "start_time": "2022-09-20T08:14:51.886Z"
   },
   {
    "duration": 40,
    "start_time": "2022-09-20T08:14:52.450Z"
   },
   {
    "duration": 17,
    "start_time": "2022-09-20T08:14:52.772Z"
   },
   {
    "duration": 101,
    "start_time": "2022-09-20T08:14:53.328Z"
   },
   {
    "duration": 104,
    "start_time": "2022-09-20T08:14:54.127Z"
   },
   {
    "duration": 27,
    "start_time": "2022-09-20T08:14:54.497Z"
   },
   {
    "duration": 166,
    "start_time": "2022-09-20T08:14:55.510Z"
   },
   {
    "duration": 3,
    "start_time": "2022-09-20T08:14:56.104Z"
   },
   {
    "duration": 6,
    "start_time": "2022-09-20T08:14:57.290Z"
   },
   {
    "duration": 51,
    "start_time": "2022-09-20T08:14:58.169Z"
   },
   {
    "duration": 3,
    "start_time": "2022-09-20T08:14:58.757Z"
   },
   {
    "duration": 544,
    "start_time": "2022-09-20T08:14:59.470Z"
   },
   {
    "duration": 9,
    "start_time": "2022-09-20T08:15:00.960Z"
   },
   {
    "duration": 26,
    "start_time": "2022-09-20T08:15:03.382Z"
   },
   {
    "duration": 6,
    "start_time": "2022-09-20T08:20:01.974Z"
   },
   {
    "duration": 1342,
    "start_time": "2022-09-20T08:22:33.835Z"
   },
   {
    "duration": 1329,
    "start_time": "2022-09-20T08:22:54.873Z"
   },
   {
    "duration": 414,
    "start_time": "2022-09-20T08:23:12.037Z"
   },
   {
    "duration": 17,
    "start_time": "2022-09-20T08:59:53.723Z"
   },
   {
    "duration": 23,
    "start_time": "2022-09-20T09:01:49.635Z"
   },
   {
    "duration": 13,
    "start_time": "2022-09-20T09:03:38.807Z"
   },
   {
    "duration": 4,
    "start_time": "2022-09-20T09:03:42.932Z"
   },
   {
    "duration": 28,
    "start_time": "2022-09-20T09:09:51.274Z"
   },
   {
    "duration": 7,
    "start_time": "2022-09-20T09:10:00.413Z"
   },
   {
    "duration": 2,
    "start_time": "2022-09-20T09:10:00.885Z"
   },
   {
    "duration": 6,
    "start_time": "2022-09-20T09:10:02.821Z"
   },
   {
    "duration": 51,
    "start_time": "2022-09-20T09:10:03.677Z"
   },
   {
    "duration": 32,
    "start_time": "2022-09-20T09:10:04.462Z"
   },
   {
    "duration": 569,
    "start_time": "2022-09-20T09:10:06.625Z"
   },
   {
    "duration": 3,
    "start_time": "2022-09-20T09:11:57.112Z"
   },
   {
    "duration": 43,
    "start_time": "2022-09-20T09:11:58.010Z"
   },
   {
    "duration": 5,
    "start_time": "2022-09-20T09:11:58.680Z"
   },
   {
    "duration": 44,
    "start_time": "2022-09-20T09:12:01.439Z"
   },
   {
    "duration": 16,
    "start_time": "2022-09-20T09:12:02.673Z"
   },
   {
    "duration": 10,
    "start_time": "2022-09-20T09:12:13.186Z"
   },
   {
    "duration": 881,
    "start_time": "2022-09-20T09:12:13.728Z"
   },
   {
    "duration": 21,
    "start_time": "2022-09-20T09:12:14.611Z"
   },
   {
    "duration": 8,
    "start_time": "2022-09-20T09:12:14.633Z"
   },
   {
    "duration": 2377,
    "start_time": "2022-09-20T09:12:14.655Z"
   },
   {
    "duration": 545,
    "start_time": "2022-09-20T09:12:17.034Z"
   },
   {
    "duration": 525,
    "start_time": "2022-09-20T09:12:17.584Z"
   },
   {
    "duration": 5,
    "start_time": "2022-09-20T09:12:18.111Z"
   },
   {
    "duration": 58,
    "start_time": "2022-09-20T09:12:18.118Z"
   },
   {
    "duration": 113,
    "start_time": "2022-09-20T09:12:18.178Z"
   },
   {
    "duration": 47,
    "start_time": "2022-09-20T09:12:18.292Z"
   },
   {
    "duration": 46,
    "start_time": "2022-09-20T09:12:18.341Z"
   },
   {
    "duration": 35,
    "start_time": "2022-09-20T09:12:18.389Z"
   },
   {
    "duration": 156,
    "start_time": "2022-09-20T09:12:18.426Z"
   },
   {
    "duration": 134,
    "start_time": "2022-09-20T09:12:18.584Z"
   },
   {
    "duration": 65,
    "start_time": "2022-09-20T09:12:18.720Z"
   },
   {
    "duration": 219,
    "start_time": "2022-09-20T09:12:18.787Z"
   },
   {
    "duration": 23,
    "start_time": "2022-09-20T09:12:19.177Z"
   },
   {
    "duration": 46,
    "start_time": "2022-09-20T09:12:19.381Z"
   },
   {
    "duration": 92,
    "start_time": "2022-09-20T09:12:19.806Z"
   },
   {
    "duration": 109,
    "start_time": "2022-09-20T09:12:20.198Z"
   },
   {
    "duration": 3,
    "start_time": "2022-09-20T09:12:20.405Z"
   },
   {
    "duration": 35,
    "start_time": "2022-09-20T09:12:20.831Z"
   },
   {
    "duration": 17,
    "start_time": "2022-09-20T09:12:21.030Z"
   },
   {
    "duration": 32,
    "start_time": "2022-09-20T09:12:21.693Z"
   },
   {
    "duration": 16,
    "start_time": "2022-09-20T09:12:21.934Z"
   },
   {
    "duration": 28,
    "start_time": "2022-09-20T09:12:22.511Z"
   },
   {
    "duration": 16,
    "start_time": "2022-09-20T09:12:22.711Z"
   },
   {
    "duration": 29,
    "start_time": "2022-09-20T09:12:23.380Z"
   },
   {
    "duration": 40,
    "start_time": "2022-09-20T09:12:23.566Z"
   },
   {
    "duration": 28,
    "start_time": "2022-09-20T09:12:24.197Z"
   },
   {
    "duration": 16,
    "start_time": "2022-09-20T09:12:24.386Z"
   },
   {
    "duration": 105,
    "start_time": "2022-09-20T09:12:25.037Z"
   },
   {
    "duration": 111,
    "start_time": "2022-09-20T09:12:26.404Z"
   },
   {
    "duration": 28,
    "start_time": "2022-09-20T09:12:27.204Z"
   },
   {
    "duration": 160,
    "start_time": "2022-09-20T09:12:29.602Z"
   },
   {
    "duration": 3,
    "start_time": "2022-09-20T09:12:30.741Z"
   },
   {
    "duration": 7,
    "start_time": "2022-09-20T09:12:32.212Z"
   },
   {
    "duration": 60,
    "start_time": "2022-09-20T09:12:33.041Z"
   },
   {
    "duration": 28,
    "start_time": "2022-09-20T09:12:33.516Z"
   },
   {
    "duration": 3,
    "start_time": "2022-09-20T09:12:34.014Z"
   },
   {
    "duration": 546,
    "start_time": "2022-09-20T09:12:35.129Z"
   },
   {
    "duration": 4,
    "start_time": "2022-09-20T09:12:35.683Z"
   },
   {
    "duration": 26,
    "start_time": "2022-09-20T09:12:36.684Z"
   },
   {
    "duration": 14,
    "start_time": "2022-09-20T09:12:37.815Z"
   },
   {
    "duration": 257,
    "start_time": "2022-09-20T09:12:49.392Z"
   },
   {
    "duration": 2,
    "start_time": "2022-09-20T09:12:51.338Z"
   },
   {
    "duration": 33353,
    "start_time": "2022-09-20T09:13:10.021Z"
   },
   {
    "duration": 509,
    "start_time": "2022-09-20T09:13:43.455Z"
   },
   {
    "duration": 4,
    "start_time": "2022-09-20T09:16:08.602Z"
   },
   {
    "duration": 4,
    "start_time": "2022-09-20T09:16:12.129Z"
   },
   {
    "duration": 896,
    "start_time": "2022-09-20T09:16:12.638Z"
   },
   {
    "duration": 36,
    "start_time": "2022-09-20T09:16:13.536Z"
   },
   {
    "duration": 19,
    "start_time": "2022-09-20T09:16:13.574Z"
   },
   {
    "duration": 2572,
    "start_time": "2022-09-20T09:16:13.595Z"
   },
   {
    "duration": 530,
    "start_time": "2022-09-20T09:16:16.170Z"
   },
   {
    "duration": 470,
    "start_time": "2022-09-20T09:16:16.702Z"
   },
   {
    "duration": 5,
    "start_time": "2022-09-20T09:16:17.175Z"
   },
   {
    "duration": 35,
    "start_time": "2022-09-20T09:16:17.182Z"
   },
   {
    "duration": 153,
    "start_time": "2022-09-20T09:16:17.220Z"
   },
   {
    "duration": 45,
    "start_time": "2022-09-20T09:16:17.375Z"
   },
   {
    "duration": 51,
    "start_time": "2022-09-20T09:16:17.422Z"
   },
   {
    "duration": 37,
    "start_time": "2022-09-20T09:16:17.475Z"
   },
   {
    "duration": 160,
    "start_time": "2022-09-20T09:16:17.514Z"
   },
   {
    "duration": 121,
    "start_time": "2022-09-20T09:16:17.676Z"
   },
   {
    "duration": 71,
    "start_time": "2022-09-20T09:16:17.798Z"
   },
   {
    "duration": 220,
    "start_time": "2022-09-20T09:16:17.870Z"
   },
   {
    "duration": 22,
    "start_time": "2022-09-20T09:16:18.092Z"
   },
   {
    "duration": 67,
    "start_time": "2022-09-20T09:16:18.116Z"
   },
   {
    "duration": 95,
    "start_time": "2022-09-20T09:16:18.185Z"
   },
   {
    "duration": 119,
    "start_time": "2022-09-20T09:16:18.450Z"
   },
   {
    "duration": 4,
    "start_time": "2022-09-20T09:16:18.618Z"
   },
   {
    "duration": 40,
    "start_time": "2022-09-20T09:16:18.983Z"
   },
   {
    "duration": 27,
    "start_time": "2022-09-20T09:16:19.152Z"
   },
   {
    "duration": 28,
    "start_time": "2022-09-20T09:16:19.715Z"
   },
   {
    "duration": 15,
    "start_time": "2022-09-20T09:16:19.933Z"
   },
   {
    "duration": 29,
    "start_time": "2022-09-20T09:16:20.489Z"
   },
   {
    "duration": 23,
    "start_time": "2022-09-20T09:16:20.665Z"
   },
   {
    "duration": 39,
    "start_time": "2022-09-20T09:16:21.178Z"
   },
   {
    "duration": 21,
    "start_time": "2022-09-20T09:16:21.345Z"
   },
   {
    "duration": 26,
    "start_time": "2022-09-20T09:16:21.885Z"
   },
   {
    "duration": 23,
    "start_time": "2022-09-20T09:16:22.052Z"
   },
   {
    "duration": 113,
    "start_time": "2022-09-20T09:16:22.586Z"
   },
   {
    "duration": 113,
    "start_time": "2022-09-20T09:16:24.083Z"
   },
   {
    "duration": 27,
    "start_time": "2022-09-20T09:16:24.780Z"
   },
   {
    "duration": 170,
    "start_time": "2022-09-20T09:16:25.661Z"
   },
   {
    "duration": 3,
    "start_time": "2022-09-20T09:16:26.425Z"
   },
   {
    "duration": 6,
    "start_time": "2022-09-20T09:16:27.392Z"
   },
   {
    "duration": 63,
    "start_time": "2022-09-20T09:16:27.947Z"
   },
   {
    "duration": 25,
    "start_time": "2022-09-20T09:16:28.126Z"
   },
   {
    "duration": 3,
    "start_time": "2022-09-20T09:16:28.608Z"
   },
   {
    "duration": 523,
    "start_time": "2022-09-20T09:16:29.628Z"
   },
   {
    "duration": 16,
    "start_time": "2022-09-20T09:16:30.683Z"
   },
   {
    "duration": 28,
    "start_time": "2022-09-20T09:16:31.974Z"
   },
   {
    "duration": 278,
    "start_time": "2022-09-20T09:16:32.849Z"
   },
   {
    "duration": 3,
    "start_time": "2022-09-20T09:16:34.482Z"
   },
   {
    "duration": 21408,
    "start_time": "2022-09-20T09:17:27.646Z"
   },
   {
    "duration": 22121,
    "start_time": "2022-09-20T09:17:52.439Z"
   },
   {
    "duration": 600,
    "start_time": "2022-09-20T09:18:14.563Z"
   },
   {
    "duration": 5,
    "start_time": "2022-09-20T09:19:10.419Z"
   },
   {
    "duration": 301,
    "start_time": "2022-09-20T09:20:18.522Z"
   },
   {
    "duration": 4,
    "start_time": "2022-09-20T09:20:18.869Z"
   },
   {
    "duration": 27,
    "start_time": "2022-09-20T09:20:20.231Z"
   },
   {
    "duration": 238,
    "start_time": "2022-09-20T09:20:21.098Z"
   },
   {
    "duration": 2,
    "start_time": "2022-09-20T09:20:21.885Z"
   },
   {
    "duration": 29190,
    "start_time": "2022-09-20T09:20:22.974Z"
   },
   {
    "duration": 535,
    "start_time": "2022-09-20T09:20:52.166Z"
   },
   {
    "duration": 9,
    "start_time": "2022-09-20T09:24:15.703Z"
   },
   {
    "duration": 70,
    "start_time": "2022-09-20T09:24:26.000Z"
   },
   {
    "duration": 28,
    "start_time": "2022-09-20T09:24:27.153Z"
   },
   {
    "duration": 8,
    "start_time": "2022-09-20T09:24:30.668Z"
   },
   {
    "duration": 571,
    "start_time": "2022-09-20T09:24:31.625Z"
   },
   {
    "duration": 4,
    "start_time": "2022-09-20T09:24:40.014Z"
   },
   {
    "duration": 25,
    "start_time": "2022-09-20T09:24:44.489Z"
   },
   {
    "duration": 232,
    "start_time": "2022-09-20T09:24:45.788Z"
   },
   {
    "duration": 3,
    "start_time": "2022-09-20T09:30:11.377Z"
   },
   {
    "duration": 10,
    "start_time": "2022-09-20T09:30:13.454Z"
   },
   {
    "duration": 54144,
    "start_time": "2022-09-20T09:30:14.870Z"
   },
   {
    "duration": 472,
    "start_time": "2022-09-20T09:31:09.017Z"
   },
   {
    "duration": 54081,
    "start_time": "2022-09-20T09:33:34.603Z"
   },
   {
    "duration": 6,
    "start_time": "2022-09-20T09:34:39.484Z"
   },
   {
    "duration": 55869,
    "start_time": "2022-09-20T09:35:27.638Z"
   },
   {
    "duration": 4,
    "start_time": "2022-09-20T09:36:23.509Z"
   },
   {
    "duration": 419,
    "start_time": "2022-09-20T09:36:23.515Z"
   },
   {
    "duration": 4,
    "start_time": "2022-09-20T09:36:23.936Z"
   },
   {
    "duration": 20,
    "start_time": "2022-09-20T09:36:23.942Z"
   },
   {
    "duration": 425,
    "start_time": "2022-09-20T09:36:48.835Z"
   },
   {
    "duration": 4,
    "start_time": "2022-09-20T09:36:50.770Z"
   },
   {
    "duration": 4,
    "start_time": "2022-09-20T09:36:52.001Z"
   },
   {
    "duration": 17,
    "start_time": "2022-09-20T09:47:14.893Z"
   },
   {
    "duration": 161,
    "start_time": "2022-09-20T10:36:51.894Z"
   },
   {
    "duration": 13,
    "start_time": "2022-09-20T11:16:04.447Z"
   },
   {
    "duration": 4,
    "start_time": "2022-09-20T11:20:54.720Z"
   },
   {
    "duration": 4,
    "start_time": "2022-09-20T11:20:57.412Z"
   },
   {
    "duration": 29,
    "start_time": "2022-09-20T11:22:10.348Z"
   },
   {
    "duration": 28,
    "start_time": "2022-09-20T11:22:16.169Z"
   },
   {
    "duration": 4,
    "start_time": "2022-09-20T11:22:34.943Z"
   },
   {
    "duration": 812,
    "start_time": "2022-09-20T11:22:35.536Z"
   },
   {
    "duration": 34,
    "start_time": "2022-09-20T11:22:36.351Z"
   },
   {
    "duration": 4,
    "start_time": "2022-09-20T11:22:36.388Z"
   },
   {
    "duration": 2329,
    "start_time": "2022-09-20T11:22:36.394Z"
   },
   {
    "duration": 516,
    "start_time": "2022-09-20T11:22:38.726Z"
   },
   {
    "duration": 481,
    "start_time": "2022-09-20T11:22:39.244Z"
   },
   {
    "duration": 4,
    "start_time": "2022-09-20T11:22:39.728Z"
   },
   {
    "duration": 45,
    "start_time": "2022-09-20T11:22:39.733Z"
   },
   {
    "duration": 121,
    "start_time": "2022-09-20T11:22:39.780Z"
   },
   {
    "duration": 51,
    "start_time": "2022-09-20T11:22:39.903Z"
   },
   {
    "duration": 31,
    "start_time": "2022-09-20T11:22:39.956Z"
   },
   {
    "duration": 37,
    "start_time": "2022-09-20T11:22:39.989Z"
   },
   {
    "duration": 127,
    "start_time": "2022-09-20T11:22:40.054Z"
   },
   {
    "duration": 115,
    "start_time": "2022-09-20T11:22:40.183Z"
   },
   {
    "duration": 62,
    "start_time": "2022-09-20T11:22:40.299Z"
   },
   {
    "duration": 209,
    "start_time": "2022-09-20T11:22:40.364Z"
   },
   {
    "duration": 29,
    "start_time": "2022-09-20T11:22:40.657Z"
   },
   {
    "duration": 48,
    "start_time": "2022-09-20T11:22:40.841Z"
   },
   {
    "duration": 89,
    "start_time": "2022-09-20T11:22:41.187Z"
   },
   {
    "duration": 134,
    "start_time": "2022-09-20T11:22:41.530Z"
   },
   {
    "duration": 3,
    "start_time": "2022-09-20T11:22:41.720Z"
   },
   {
    "duration": 34,
    "start_time": "2022-09-20T11:22:42.085Z"
   },
   {
    "duration": 18,
    "start_time": "2022-09-20T11:22:42.293Z"
   },
   {
    "duration": 44,
    "start_time": "2022-09-20T11:22:43.134Z"
   },
   {
    "duration": 27,
    "start_time": "2022-09-20T11:22:43.300Z"
   },
   {
    "duration": 28,
    "start_time": "2022-09-20T11:22:43.866Z"
   },
   {
    "duration": 16,
    "start_time": "2022-09-20T11:22:44.052Z"
   },
   {
    "duration": 30,
    "start_time": "2022-09-20T11:22:44.812Z"
   },
   {
    "duration": 16,
    "start_time": "2022-09-20T11:22:44.991Z"
   },
   {
    "duration": 27,
    "start_time": "2022-09-20T11:22:45.675Z"
   },
   {
    "duration": 17,
    "start_time": "2022-09-20T11:22:45.882Z"
   },
   {
    "duration": 94,
    "start_time": "2022-09-20T11:22:46.483Z"
   },
   {
    "duration": 101,
    "start_time": "2022-09-20T11:22:48.488Z"
   },
   {
    "duration": 28,
    "start_time": "2022-09-20T11:22:50.897Z"
   },
   {
    "duration": 165,
    "start_time": "2022-09-20T11:22:54.611Z"
   },
   {
    "duration": 2,
    "start_time": "2022-09-20T11:22:57.101Z"
   },
   {
    "duration": 7,
    "start_time": "2022-09-20T11:23:01.850Z"
   },
   {
    "duration": 55,
    "start_time": "2022-09-20T11:23:03.369Z"
   },
   {
    "duration": 35,
    "start_time": "2022-09-20T11:23:03.899Z"
   },
   {
    "duration": 3,
    "start_time": "2022-09-20T11:24:04.770Z"
   },
   {
    "duration": 4,
    "start_time": "2022-09-20T11:24:23.334Z"
   },
   {
    "duration": 26,
    "start_time": "2022-09-20T11:24:27.704Z"
   },
   {
    "duration": 403,
    "start_time": "2022-09-20T11:25:13.620Z"
   },
   {
    "duration": 446,
    "start_time": "2022-09-20T11:25:20.362Z"
   },
   {
    "duration": 13,
    "start_time": "2022-09-20T11:40:18.265Z"
   },
   {
    "duration": 16,
    "start_time": "2022-09-20T11:40:26.889Z"
   },
   {
    "duration": 169,
    "start_time": "2022-09-20T11:41:06.258Z"
   },
   {
    "duration": 101,
    "start_time": "2022-09-20T11:41:25.908Z"
   },
   {
    "duration": 94,
    "start_time": "2022-09-20T11:41:50.218Z"
   },
   {
    "duration": 35,
    "start_time": "2022-09-20T11:41:54.252Z"
   },
   {
    "duration": 24,
    "start_time": "2022-09-20T11:42:16.585Z"
   },
   {
    "duration": 152,
    "start_time": "2022-09-20T11:42:43.371Z"
   },
   {
    "duration": 22,
    "start_time": "2022-09-20T11:42:44.068Z"
   },
   {
    "duration": 29,
    "start_time": "2022-09-20T11:42:46.896Z"
   },
   {
    "duration": 176,
    "start_time": "2022-09-20T11:42:59.503Z"
   },
   {
    "duration": 29,
    "start_time": "2022-09-20T11:42:59.682Z"
   },
   {
    "duration": 33,
    "start_time": "2022-09-20T11:43:00.264Z"
   },
   {
    "duration": 273,
    "start_time": "2022-09-20T11:43:34.561Z"
   },
   {
    "duration": 397,
    "start_time": "2022-09-20T11:44:37.953Z"
   },
   {
    "duration": 388,
    "start_time": "2022-09-20T11:45:28.335Z"
   },
   {
    "duration": 24,
    "start_time": "2022-09-20T11:45:30.892Z"
   },
   {
    "duration": 32,
    "start_time": "2022-09-20T11:45:32.139Z"
   },
   {
    "duration": 9,
    "start_time": "2022-09-20T11:50:47.436Z"
   },
   {
    "duration": 10,
    "start_time": "2022-09-20T11:50:53.414Z"
   },
   {
    "duration": 1526,
    "start_time": "2022-09-20T11:53:22.721Z"
   },
   {
    "duration": 918,
    "start_time": "2022-09-20T11:53:24.249Z"
   },
   {
    "duration": 29,
    "start_time": "2022-09-20T11:53:25.169Z"
   },
   {
    "duration": 12,
    "start_time": "2022-09-20T11:53:25.201Z"
   },
   {
    "duration": 2404,
    "start_time": "2022-09-20T11:53:25.215Z"
   },
   {
    "duration": 599,
    "start_time": "2022-09-20T11:53:27.621Z"
   },
   {
    "duration": 543,
    "start_time": "2022-09-20T11:53:28.222Z"
   },
   {
    "duration": 4,
    "start_time": "2022-09-20T11:53:28.767Z"
   },
   {
    "duration": 53,
    "start_time": "2022-09-20T11:53:28.773Z"
   },
   {
    "duration": 106,
    "start_time": "2022-09-20T11:53:28.828Z"
   },
   {
    "duration": 56,
    "start_time": "2022-09-20T11:53:28.936Z"
   },
   {
    "duration": 35,
    "start_time": "2022-09-20T11:53:28.994Z"
   },
   {
    "duration": 58,
    "start_time": "2022-09-20T11:53:29.031Z"
   },
   {
    "duration": 226,
    "start_time": "2022-09-20T11:53:29.091Z"
   },
   {
    "duration": 120,
    "start_time": "2022-09-20T11:53:29.320Z"
   },
   {
    "duration": 67,
    "start_time": "2022-09-20T11:53:29.442Z"
   },
   {
    "duration": 234,
    "start_time": "2022-09-20T11:53:29.511Z"
   },
   {
    "duration": 30,
    "start_time": "2022-09-20T11:53:29.747Z"
   },
   {
    "duration": 46,
    "start_time": "2022-09-20T11:53:29.779Z"
   },
   {
    "duration": 103,
    "start_time": "2022-09-20T11:53:29.827Z"
   },
   {
    "duration": 112,
    "start_time": "2022-09-20T11:53:29.932Z"
   },
   {
    "duration": 12,
    "start_time": "2022-09-20T11:53:30.046Z"
   },
   {
    "duration": 45,
    "start_time": "2022-09-20T11:53:30.060Z"
   },
   {
    "duration": 30,
    "start_time": "2022-09-20T11:53:30.107Z"
   },
   {
    "duration": 46,
    "start_time": "2022-09-20T11:53:30.139Z"
   },
   {
    "duration": 25,
    "start_time": "2022-09-20T11:53:30.187Z"
   },
   {
    "duration": 67,
    "start_time": "2022-09-20T11:53:30.214Z"
   },
   {
    "duration": 16,
    "start_time": "2022-09-20T11:53:30.286Z"
   },
   {
    "duration": 44,
    "start_time": "2022-09-20T11:53:30.303Z"
   },
   {
    "duration": 34,
    "start_time": "2022-09-20T11:53:30.349Z"
   },
   {
    "duration": 29,
    "start_time": "2022-09-20T11:53:30.385Z"
   },
   {
    "duration": 27,
    "start_time": "2022-09-20T11:53:30.415Z"
   },
   {
    "duration": 107,
    "start_time": "2022-09-20T11:53:30.444Z"
   },
   {
    "duration": 141,
    "start_time": "2022-09-20T11:53:30.553Z"
   },
   {
    "duration": 28,
    "start_time": "2022-09-20T11:53:30.696Z"
   },
   {
    "duration": 161,
    "start_time": "2022-09-20T11:53:30.725Z"
   },
   {
    "duration": 3,
    "start_time": "2022-09-20T11:53:30.888Z"
   },
   {
    "duration": 17,
    "start_time": "2022-09-20T11:53:30.893Z"
   },
   {
    "duration": 66,
    "start_time": "2022-09-20T11:53:30.912Z"
   },
   {
    "duration": 19,
    "start_time": "2022-09-20T11:53:30.980Z"
   },
   {
    "duration": 490,
    "start_time": "2022-09-20T11:53:31.001Z"
   },
   {
    "duration": 29,
    "start_time": "2022-09-20T11:53:31.493Z"
   },
   {
    "duration": 522,
    "start_time": "2022-09-20T11:53:31.524Z"
   },
   {
    "duration": 8,
    "start_time": "2022-09-20T11:53:32.048Z"
   },
   {
    "duration": 41,
    "start_time": "2022-09-20T11:53:32.058Z"
   },
   {
    "duration": 143,
    "start_time": "2022-09-20T11:53:32.101Z"
   },
   {
    "duration": 10,
    "start_time": "2022-09-20T11:53:32.246Z"
   },
   {
    "duration": 40814,
    "start_time": "2022-09-20T11:53:32.262Z"
   },
   {
    "duration": 8,
    "start_time": "2022-09-20T11:54:13.159Z"
   },
   {
    "duration": 382,
    "start_time": "2022-09-20T11:54:13.172Z"
   },
   {
    "duration": 7,
    "start_time": "2022-09-20T11:54:13.558Z"
   },
   {
    "duration": 114,
    "start_time": "2022-09-20T11:54:13.569Z"
   },
   {
    "duration": 21,
    "start_time": "2022-09-20T11:54:13.685Z"
   },
   {
    "duration": 2227,
    "start_time": "2022-09-20T11:54:13.707Z"
   },
   {
    "duration": 4,
    "start_time": "2022-09-20T11:54:15.936Z"
   },
   {
    "duration": 161,
    "start_time": "2022-09-20T11:54:15.941Z"
   },
   {
    "duration": 0,
    "start_time": "2022-09-20T11:54:16.104Z"
   },
   {
    "duration": 0,
    "start_time": "2022-09-20T11:54:16.105Z"
   },
   {
    "duration": 0,
    "start_time": "2022-09-20T11:54:16.106Z"
   },
   {
    "duration": 0,
    "start_time": "2022-09-20T11:54:16.107Z"
   },
   {
    "duration": 0,
    "start_time": "2022-09-20T11:54:16.109Z"
   },
   {
    "duration": 0,
    "start_time": "2022-09-20T11:54:16.110Z"
   },
   {
    "duration": 0,
    "start_time": "2022-09-20T11:54:16.111Z"
   },
   {
    "duration": 0,
    "start_time": "2022-09-20T11:54:16.112Z"
   },
   {
    "duration": 0,
    "start_time": "2022-09-20T11:54:16.112Z"
   },
   {
    "duration": 0,
    "start_time": "2022-09-20T11:54:16.113Z"
   },
   {
    "duration": 0,
    "start_time": "2022-09-20T11:54:16.114Z"
   },
   {
    "duration": 0,
    "start_time": "2022-09-20T11:54:16.115Z"
   },
   {
    "duration": 0,
    "start_time": "2022-09-20T11:54:16.116Z"
   },
   {
    "duration": 0,
    "start_time": "2022-09-20T11:54:16.117Z"
   },
   {
    "duration": 0,
    "start_time": "2022-09-20T11:54:16.118Z"
   },
   {
    "duration": 0,
    "start_time": "2022-09-20T11:54:16.119Z"
   },
   {
    "duration": 175,
    "start_time": "2022-09-20T11:54:58.877Z"
   },
   {
    "duration": 22,
    "start_time": "2022-09-20T11:56:35.523Z"
   },
   {
    "duration": 7,
    "start_time": "2022-09-20T11:58:48.278Z"
   },
   {
    "duration": 38,
    "start_time": "2022-09-20T11:59:00.055Z"
   },
   {
    "duration": 20,
    "start_time": "2022-09-20T12:00:12.870Z"
   },
   {
    "duration": 6749,
    "start_time": "2022-09-20T12:00:46.521Z"
   },
   {
    "duration": 5,
    "start_time": "2022-09-20T12:00:53.275Z"
   },
   {
    "duration": 309,
    "start_time": "2022-09-20T12:00:53.282Z"
   },
   {
    "duration": 4,
    "start_time": "2022-09-20T12:00:58.166Z"
   },
   {
    "duration": 4,
    "start_time": "2022-09-20T12:00:58.993Z"
   },
   {
    "duration": 375078,
    "start_time": "2022-09-20T12:01:00.889Z"
   },
   {
    "duration": 4,
    "start_time": "2022-09-20T12:07:15.974Z"
   },
   {
    "duration": 706,
    "start_time": "2022-09-20T12:07:15.980Z"
   },
   {
    "duration": 7,
    "start_time": "2022-09-20T12:07:16.690Z"
   },
   {
    "duration": 58,
    "start_time": "2022-09-20T12:07:16.699Z"
   },
   {
    "duration": 1996,
    "start_time": "2022-09-20T12:07:16.761Z"
   },
   {
    "duration": 0,
    "start_time": "2022-09-20T12:07:18.763Z"
   },
   {
    "duration": 1,
    "start_time": "2022-09-20T12:07:18.764Z"
   },
   {
    "duration": 0,
    "start_time": "2022-09-20T12:07:18.766Z"
   },
   {
    "duration": 0,
    "start_time": "2022-09-20T12:07:18.767Z"
   },
   {
    "duration": 0,
    "start_time": "2022-09-20T12:07:18.768Z"
   },
   {
    "duration": 0,
    "start_time": "2022-09-20T12:07:18.770Z"
   },
   {
    "duration": 0,
    "start_time": "2022-09-20T12:07:18.771Z"
   },
   {
    "duration": 100,
    "start_time": "2022-09-20T12:11:44.880Z"
   },
   {
    "duration": 162,
    "start_time": "2022-09-20T12:13:09.230Z"
   },
   {
    "duration": 208428,
    "start_time": "2022-09-20T12:13:16.315Z"
   },
   {
    "duration": 210275,
    "start_time": "2022-09-20T12:16:48.765Z"
   },
   {
    "duration": 4,
    "start_time": "2022-09-20T12:21:39.312Z"
   },
   {
    "duration": 530,
    "start_time": "2022-09-20T12:21:40.921Z"
   },
   {
    "duration": 4,
    "start_time": "2022-09-20T12:21:43.090Z"
   },
   {
    "duration": 7,
    "start_time": "2022-09-20T12:21:44.649Z"
   },
   {
    "duration": 28,
    "start_time": "2022-09-20T12:21:51.748Z"
   },
   {
    "duration": 16,
    "start_time": "2022-09-20T12:22:14.755Z"
   },
   {
    "duration": 12,
    "start_time": "2022-09-20T12:22:32.387Z"
   },
   {
    "duration": 13,
    "start_time": "2022-09-20T12:22:52.466Z"
   },
   {
    "duration": 4,
    "start_time": "2022-09-20T12:23:09.412Z"
   },
   {
    "duration": 5,
    "start_time": "2022-09-20T12:23:11.502Z"
   },
   {
    "duration": 9,
    "start_time": "2022-09-20T12:23:12.877Z"
   },
   {
    "duration": 3,
    "start_time": "2022-09-20T12:43:45.780Z"
   },
   {
    "duration": 4,
    "start_time": "2022-09-20T12:43:46.547Z"
   },
   {
    "duration": 13,
    "start_time": "2022-09-20T12:43:48.803Z"
   },
   {
    "duration": 1794,
    "start_time": "2022-09-20T12:51:01.565Z"
   },
   {
    "duration": 906,
    "start_time": "2022-09-20T12:51:03.362Z"
   },
   {
    "duration": 27,
    "start_time": "2022-09-20T12:51:04.270Z"
   },
   {
    "duration": 7,
    "start_time": "2022-09-20T12:51:04.300Z"
   },
   {
    "duration": 2605,
    "start_time": "2022-09-20T12:51:04.309Z"
   },
   {
    "duration": 617,
    "start_time": "2022-09-20T12:51:06.917Z"
   },
   {
    "duration": 551,
    "start_time": "2022-09-20T12:51:07.536Z"
   },
   {
    "duration": 5,
    "start_time": "2022-09-20T12:51:08.089Z"
   },
   {
    "duration": 39,
    "start_time": "2022-09-20T12:51:08.096Z"
   },
   {
    "duration": 140,
    "start_time": "2022-09-20T12:51:08.137Z"
   },
   {
    "duration": 49,
    "start_time": "2022-09-20T12:51:08.279Z"
   },
   {
    "duration": 52,
    "start_time": "2022-09-20T12:51:08.329Z"
   },
   {
    "duration": 41,
    "start_time": "2022-09-20T12:51:08.383Z"
   },
   {
    "duration": 254,
    "start_time": "2022-09-20T12:51:08.427Z"
   },
   {
    "duration": 129,
    "start_time": "2022-09-20T12:51:08.683Z"
   },
   {
    "duration": 87,
    "start_time": "2022-09-20T12:51:08.815Z"
   },
   {
    "duration": 233,
    "start_time": "2022-09-20T12:51:08.904Z"
   },
   {
    "duration": 31,
    "start_time": "2022-09-20T12:51:09.139Z"
   },
   {
    "duration": 49,
    "start_time": "2022-09-20T12:51:09.172Z"
   },
   {
    "duration": 118,
    "start_time": "2022-09-20T12:51:09.223Z"
   },
   {
    "duration": 120,
    "start_time": "2022-09-20T12:51:09.343Z"
   },
   {
    "duration": 3,
    "start_time": "2022-09-20T12:51:09.465Z"
   },
   {
    "duration": 32,
    "start_time": "2022-09-20T12:51:09.469Z"
   },
   {
    "duration": 25,
    "start_time": "2022-09-20T12:51:09.502Z"
   },
   {
    "duration": 47,
    "start_time": "2022-09-20T12:51:09.529Z"
   },
   {
    "duration": 22,
    "start_time": "2022-09-20T12:51:09.578Z"
   },
   {
    "duration": 30,
    "start_time": "2022-09-20T12:51:09.602Z"
   },
   {
    "duration": 19,
    "start_time": "2022-09-20T12:51:09.654Z"
   },
   {
    "duration": 34,
    "start_time": "2022-09-20T12:51:09.675Z"
   },
   {
    "duration": 44,
    "start_time": "2022-09-20T12:51:09.711Z"
   },
   {
    "duration": 29,
    "start_time": "2022-09-20T12:51:09.757Z"
   },
   {
    "duration": 67,
    "start_time": "2022-09-20T12:51:09.789Z"
   },
   {
    "duration": 163,
    "start_time": "2022-09-20T12:51:09.858Z"
   },
   {
    "duration": 129,
    "start_time": "2022-09-20T12:51:10.023Z"
   },
   {
    "duration": 42,
    "start_time": "2022-09-20T12:51:10.154Z"
   },
   {
    "duration": 160,
    "start_time": "2022-09-20T12:51:10.197Z"
   },
   {
    "duration": 3,
    "start_time": "2022-09-20T12:51:10.359Z"
   },
   {
    "duration": 40,
    "start_time": "2022-09-20T12:51:10.364Z"
   },
   {
    "duration": 81,
    "start_time": "2022-09-20T12:51:10.406Z"
   },
   {
    "duration": 33,
    "start_time": "2022-09-20T12:51:10.489Z"
   },
   {
    "duration": 469,
    "start_time": "2022-09-20T12:51:10.527Z"
   },
   {
    "duration": 25,
    "start_time": "2022-09-20T12:51:10.999Z"
   },
   {
    "duration": 635,
    "start_time": "2022-09-20T12:51:11.026Z"
   },
   {
    "duration": 7,
    "start_time": "2022-09-20T12:51:11.665Z"
   },
   {
    "duration": 91,
    "start_time": "2022-09-20T12:51:11.676Z"
   },
   {
    "duration": 241,
    "start_time": "2022-09-20T12:51:11.770Z"
   },
   {
    "duration": 3,
    "start_time": "2022-09-20T12:51:12.013Z"
   },
   {
    "duration": 42248,
    "start_time": "2022-09-20T12:51:12.018Z"
   },
   {
    "duration": 87,
    "start_time": "2022-09-20T12:51:54.268Z"
   },
   {
    "duration": 402,
    "start_time": "2022-09-20T12:51:54.361Z"
   },
   {
    "duration": 5,
    "start_time": "2022-09-20T12:51:54.765Z"
   },
   {
    "duration": 90,
    "start_time": "2022-09-20T12:51:54.772Z"
   },
   {
    "duration": 6,
    "start_time": "2022-09-20T12:51:54.864Z"
   },
   {
    "duration": 6338,
    "start_time": "2022-09-20T12:51:54.872Z"
   },
   {
    "duration": 5,
    "start_time": "2022-09-20T12:52:01.212Z"
   },
   {
    "duration": 350,
    "start_time": "2022-09-20T12:52:01.219Z"
   },
   {
    "duration": 4,
    "start_time": "2022-09-20T12:52:01.572Z"
   },
   {
    "duration": 22,
    "start_time": "2022-09-20T12:52:01.578Z"
   },
   {
    "duration": 60,
    "start_time": "2022-09-20T12:52:01.603Z"
   },
   {
    "duration": 42,
    "start_time": "2022-09-20T12:52:01.666Z"
   },
   {
    "duration": 26,
    "start_time": "2022-09-20T12:52:01.710Z"
   },
   {
    "duration": 45,
    "start_time": "2022-09-20T12:52:01.738Z"
   },
   {
    "duration": 28,
    "start_time": "2022-09-20T12:52:01.785Z"
   },
   {
    "duration": 217168,
    "start_time": "2022-09-20T12:52:01.815Z"
   },
   {
    "duration": 5,
    "start_time": "2022-09-20T12:55:38.986Z"
   },
   {
    "duration": 503,
    "start_time": "2022-09-20T12:55:38.993Z"
   },
   {
    "duration": 4,
    "start_time": "2022-09-20T12:55:39.498Z"
   },
   {
    "duration": 22,
    "start_time": "2022-09-20T12:55:39.504Z"
   },
   {
    "duration": 15,
    "start_time": "2022-09-20T12:55:39.529Z"
   },
   {
    "duration": 31,
    "start_time": "2022-09-20T12:55:39.547Z"
   },
   {
    "duration": 219769,
    "start_time": "2022-09-20T12:55:39.580Z"
   },
   {
    "duration": 395,
    "start_time": "2022-09-20T12:59:19.351Z"
   },
   {
    "duration": 146,
    "start_time": "2022-09-20T12:59:19.747Z"
   },
   {
    "duration": 0,
    "start_time": "2022-09-20T12:59:19.896Z"
   },
   {
    "duration": 0,
    "start_time": "2022-09-20T12:59:19.898Z"
   },
   {
    "duration": 0,
    "start_time": "2022-09-20T12:59:19.899Z"
   },
   {
    "duration": 4,
    "start_time": "2022-09-20T12:59:57.125Z"
   },
   {
    "duration": 5,
    "start_time": "2022-09-20T12:59:57.756Z"
   },
   {
    "duration": 215298,
    "start_time": "2022-09-20T12:59:58.077Z"
   },
   {
    "duration": 4,
    "start_time": "2022-09-20T13:04:10.322Z"
   },
   {
    "duration": 3,
    "start_time": "2022-09-20T13:04:10.841Z"
   },
   {
    "duration": 225470,
    "start_time": "2022-09-20T13:04:12.503Z"
   },
   {
    "duration": 754,
    "start_time": "2022-09-20T13:08:05.605Z"
   },
   {
    "duration": 5,
    "start_time": "2022-09-20T13:08:14.777Z"
   },
   {
    "duration": 3,
    "start_time": "2022-09-20T13:10:45.144Z"
   },
   {
    "duration": 1714,
    "start_time": "2022-09-20T13:17:05.175Z"
   },
   {
    "duration": 905,
    "start_time": "2022-09-20T13:17:06.891Z"
   },
   {
    "duration": 28,
    "start_time": "2022-09-20T13:17:07.798Z"
   },
   {
    "duration": 4,
    "start_time": "2022-09-20T13:17:07.829Z"
   },
   {
    "duration": 2440,
    "start_time": "2022-09-20T13:17:07.853Z"
   },
   {
    "duration": 633,
    "start_time": "2022-09-20T13:17:10.295Z"
   },
   {
    "duration": 592,
    "start_time": "2022-09-20T13:17:10.930Z"
   },
   {
    "duration": 5,
    "start_time": "2022-09-20T13:17:11.525Z"
   },
   {
    "duration": 84,
    "start_time": "2022-09-20T13:17:11.532Z"
   },
   {
    "duration": 145,
    "start_time": "2022-09-20T13:17:11.618Z"
   },
   {
    "duration": 61,
    "start_time": "2022-09-20T13:17:11.764Z"
   },
   {
    "duration": 48,
    "start_time": "2022-09-20T13:17:11.827Z"
   },
   {
    "duration": 37,
    "start_time": "2022-09-20T13:17:11.876Z"
   },
   {
    "duration": 244,
    "start_time": "2022-09-20T13:17:11.916Z"
   },
   {
    "duration": 117,
    "start_time": "2022-09-20T13:17:12.162Z"
   },
   {
    "duration": 83,
    "start_time": "2022-09-20T13:17:12.280Z"
   },
   {
    "duration": 247,
    "start_time": "2022-09-20T13:17:12.367Z"
   },
   {
    "duration": 26,
    "start_time": "2022-09-20T13:17:12.616Z"
   },
   {
    "duration": 54,
    "start_time": "2022-09-20T13:17:12.660Z"
   },
   {
    "duration": 106,
    "start_time": "2022-09-20T13:17:12.716Z"
   },
   {
    "duration": 112,
    "start_time": "2022-09-20T13:17:12.824Z"
   },
   {
    "duration": 3,
    "start_time": "2022-09-20T13:17:12.938Z"
   },
   {
    "duration": 49,
    "start_time": "2022-09-20T13:17:12.956Z"
   },
   {
    "duration": 21,
    "start_time": "2022-09-20T13:17:13.007Z"
   },
   {
    "duration": 44,
    "start_time": "2022-09-20T13:17:13.030Z"
   },
   {
    "duration": 21,
    "start_time": "2022-09-20T13:17:13.076Z"
   },
   {
    "duration": 32,
    "start_time": "2022-09-20T13:17:13.099Z"
   },
   {
    "duration": 36,
    "start_time": "2022-09-20T13:17:13.132Z"
   },
   {
    "duration": 44,
    "start_time": "2022-09-20T13:17:13.170Z"
   },
   {
    "duration": 33,
    "start_time": "2022-09-20T13:17:13.216Z"
   },
   {
    "duration": 37,
    "start_time": "2022-09-20T13:17:13.251Z"
   },
   {
    "duration": 18,
    "start_time": "2022-09-20T13:17:13.289Z"
   },
   {
    "duration": 114,
    "start_time": "2022-09-20T13:17:13.309Z"
   },
   {
    "duration": 116,
    "start_time": "2022-09-20T13:17:13.424Z"
   },
   {
    "duration": 44,
    "start_time": "2022-09-20T13:17:13.542Z"
   },
   {
    "duration": 151,
    "start_time": "2022-09-20T13:17:13.588Z"
   },
   {
    "duration": 2,
    "start_time": "2022-09-20T13:17:13.742Z"
   },
   {
    "duration": 10,
    "start_time": "2022-09-20T13:17:13.760Z"
   },
   {
    "duration": 54,
    "start_time": "2022-09-20T13:17:13.771Z"
   },
   {
    "duration": 38,
    "start_time": "2022-09-20T13:17:13.827Z"
   },
   {
    "duration": 457,
    "start_time": "2022-09-20T13:17:13.872Z"
   },
   {
    "duration": 34,
    "start_time": "2022-09-20T13:17:14.331Z"
   },
   {
    "duration": 497,
    "start_time": "2022-09-20T13:17:14.370Z"
   },
   {
    "duration": 4,
    "start_time": "2022-09-20T13:17:14.869Z"
   },
   {
    "duration": 26,
    "start_time": "2022-09-20T13:17:14.875Z"
   },
   {
    "duration": 172,
    "start_time": "2022-09-20T13:17:14.903Z"
   },
   {
    "duration": 3,
    "start_time": "2022-09-20T13:17:15.077Z"
   },
   {
    "duration": 36880,
    "start_time": "2022-09-20T13:17:15.082Z"
   },
   {
    "duration": 6,
    "start_time": "2022-09-20T13:17:51.965Z"
   },
   {
    "duration": 382,
    "start_time": "2022-09-20T13:17:51.977Z"
   },
   {
    "duration": 95,
    "start_time": "2022-09-20T13:17:52.362Z"
   },
   {
    "duration": 13,
    "start_time": "2022-09-20T13:17:52.468Z"
   },
   {
    "duration": 5,
    "start_time": "2022-09-20T13:17:52.483Z"
   },
   {
    "duration": 6200,
    "start_time": "2022-09-20T13:17:52.490Z"
   },
   {
    "duration": 5,
    "start_time": "2022-09-20T13:17:58.693Z"
   },
   {
    "duration": 310,
    "start_time": "2022-09-20T13:17:58.700Z"
   },
   {
    "duration": 4,
    "start_time": "2022-09-20T13:17:59.012Z"
   },
   {
    "duration": 8,
    "start_time": "2022-09-20T13:17:59.018Z"
   },
   {
    "duration": 7,
    "start_time": "2022-09-20T13:17:59.028Z"
   },
   {
    "duration": 1043,
    "start_time": "2022-09-20T13:17:59.037Z"
   },
   {
    "duration": 0,
    "start_time": "2022-09-20T13:18:00.082Z"
   },
   {
    "duration": 0,
    "start_time": "2022-09-20T13:18:00.084Z"
   },
   {
    "duration": 0,
    "start_time": "2022-09-20T13:18:00.085Z"
   },
   {
    "duration": 0,
    "start_time": "2022-09-20T13:18:00.087Z"
   },
   {
    "duration": 0,
    "start_time": "2022-09-20T13:18:00.088Z"
   },
   {
    "duration": 0,
    "start_time": "2022-09-20T13:18:00.089Z"
   },
   {
    "duration": 0,
    "start_time": "2022-09-20T13:18:00.091Z"
   },
   {
    "duration": 0,
    "start_time": "2022-09-20T13:18:00.092Z"
   },
   {
    "duration": 0,
    "start_time": "2022-09-20T13:18:00.093Z"
   },
   {
    "duration": 0,
    "start_time": "2022-09-20T13:18:00.094Z"
   },
   {
    "duration": 0,
    "start_time": "2022-09-20T13:18:00.096Z"
   },
   {
    "duration": 0,
    "start_time": "2022-09-20T13:18:00.098Z"
   },
   {
    "duration": 0,
    "start_time": "2022-09-20T13:18:00.099Z"
   },
   {
    "duration": 0,
    "start_time": "2022-09-20T13:18:00.101Z"
   },
   {
    "duration": 0,
    "start_time": "2022-09-20T13:18:00.102Z"
   },
   {
    "duration": 0,
    "start_time": "2022-09-20T13:18:00.104Z"
   },
   {
    "duration": 0,
    "start_time": "2022-09-20T13:18:00.105Z"
   },
   {
    "duration": 0,
    "start_time": "2022-09-20T13:18:00.107Z"
   },
   {
    "duration": 0,
    "start_time": "2022-09-20T13:18:00.108Z"
   },
   {
    "duration": 1,
    "start_time": "2022-09-20T13:18:00.109Z"
   },
   {
    "duration": 0,
    "start_time": "2022-09-20T13:18:00.111Z"
   },
   {
    "duration": 0,
    "start_time": "2022-09-20T13:18:00.112Z"
   },
   {
    "duration": 0,
    "start_time": "2022-09-20T13:18:00.113Z"
   },
   {
    "duration": 1687,
    "start_time": "2022-09-20T13:18:35.044Z"
   },
   {
    "duration": 887,
    "start_time": "2022-09-20T13:18:36.733Z"
   },
   {
    "duration": 42,
    "start_time": "2022-09-20T13:18:37.622Z"
   },
   {
    "duration": 6,
    "start_time": "2022-09-20T13:18:37.666Z"
   },
   {
    "duration": 2488,
    "start_time": "2022-09-20T13:18:37.674Z"
   },
   {
    "duration": 629,
    "start_time": "2022-09-20T13:18:40.165Z"
   },
   {
    "duration": 547,
    "start_time": "2022-09-20T13:18:40.795Z"
   },
   {
    "duration": 10,
    "start_time": "2022-09-20T13:18:41.344Z"
   },
   {
    "duration": 37,
    "start_time": "2022-09-20T13:18:41.356Z"
   },
   {
    "duration": 179,
    "start_time": "2022-09-20T13:18:41.397Z"
   },
   {
    "duration": 54,
    "start_time": "2022-09-20T13:18:41.579Z"
   },
   {
    "duration": 57,
    "start_time": "2022-09-20T13:18:41.635Z"
   },
   {
    "duration": 42,
    "start_time": "2022-09-20T13:18:41.695Z"
   },
   {
    "duration": 270,
    "start_time": "2022-09-20T13:18:41.739Z"
   },
   {
    "duration": 120,
    "start_time": "2022-09-20T13:18:42.010Z"
   },
   {
    "duration": 73,
    "start_time": "2022-09-20T13:18:42.132Z"
   },
   {
    "duration": 228,
    "start_time": "2022-09-20T13:18:42.207Z"
   },
   {
    "duration": 35,
    "start_time": "2022-09-20T13:18:42.437Z"
   },
   {
    "duration": 46,
    "start_time": "2022-09-20T13:18:42.474Z"
   },
   {
    "duration": 109,
    "start_time": "2022-09-20T13:18:42.522Z"
   },
   {
    "duration": 132,
    "start_time": "2022-09-20T13:18:42.634Z"
   },
   {
    "duration": 9,
    "start_time": "2022-09-20T13:18:42.768Z"
   },
   {
    "duration": 31,
    "start_time": "2022-09-20T13:18:42.779Z"
   },
   {
    "duration": 24,
    "start_time": "2022-09-20T13:18:42.812Z"
   },
   {
    "duration": 39,
    "start_time": "2022-09-20T13:18:42.838Z"
   },
   {
    "duration": 16,
    "start_time": "2022-09-20T13:18:42.878Z"
   },
   {
    "duration": 28,
    "start_time": "2022-09-20T13:18:42.896Z"
   },
   {
    "duration": 39,
    "start_time": "2022-09-20T13:18:42.929Z"
   },
   {
    "duration": 41,
    "start_time": "2022-09-20T13:18:42.970Z"
   },
   {
    "duration": 18,
    "start_time": "2022-09-20T13:18:43.013Z"
   },
   {
    "duration": 37,
    "start_time": "2022-09-20T13:18:43.033Z"
   },
   {
    "duration": 18,
    "start_time": "2022-09-20T13:18:43.072Z"
   },
   {
    "duration": 119,
    "start_time": "2022-09-20T13:18:43.092Z"
   },
   {
    "duration": 112,
    "start_time": "2022-09-20T13:18:43.213Z"
   },
   {
    "duration": 45,
    "start_time": "2022-09-20T13:18:43.327Z"
   },
   {
    "duration": 148,
    "start_time": "2022-09-20T13:18:43.374Z"
   },
   {
    "duration": 3,
    "start_time": "2022-09-20T13:18:43.524Z"
   },
   {
    "duration": 11,
    "start_time": "2022-09-20T13:18:43.529Z"
   },
   {
    "duration": 68,
    "start_time": "2022-09-20T13:18:43.542Z"
   },
   {
    "duration": 21,
    "start_time": "2022-09-20T13:18:43.612Z"
   },
   {
    "duration": 472,
    "start_time": "2022-09-20T13:18:43.635Z"
   },
   {
    "duration": 21,
    "start_time": "2022-09-20T13:18:44.109Z"
   },
   {
    "duration": 464,
    "start_time": "2022-09-20T13:18:44.132Z"
   },
   {
    "duration": 5,
    "start_time": "2022-09-20T13:18:44.598Z"
   },
   {
    "duration": 55,
    "start_time": "2022-09-20T13:18:44.605Z"
   },
   {
    "duration": 160,
    "start_time": "2022-09-20T13:18:44.665Z"
   },
   {
    "duration": 3,
    "start_time": "2022-09-20T13:18:44.827Z"
   },
   {
    "duration": 37738,
    "start_time": "2022-09-20T13:18:44.831Z"
   },
   {
    "duration": 4,
    "start_time": "2022-09-20T13:19:22.571Z"
   },
   {
    "duration": 379,
    "start_time": "2022-09-20T13:19:22.577Z"
   },
   {
    "duration": 11,
    "start_time": "2022-09-20T13:19:22.961Z"
   },
   {
    "duration": 99,
    "start_time": "2022-09-20T13:19:22.975Z"
   },
   {
    "duration": 8,
    "start_time": "2022-09-20T13:19:23.076Z"
   },
   {
    "duration": 6303,
    "start_time": "2022-09-20T13:19:23.086Z"
   },
   {
    "duration": 5,
    "start_time": "2022-09-20T13:19:29.391Z"
   },
   {
    "duration": 305,
    "start_time": "2022-09-20T13:19:29.398Z"
   },
   {
    "duration": 4,
    "start_time": "2022-09-20T13:19:29.705Z"
   },
   {
    "duration": 9,
    "start_time": "2022-09-20T13:19:29.711Z"
   },
   {
    "duration": 10,
    "start_time": "2022-09-20T13:19:29.722Z"
   },
   {
    "duration": 14401,
    "start_time": "2022-09-20T13:19:29.734Z"
   },
   {
    "duration": 0,
    "start_time": "2022-09-20T13:19:44.136Z"
   },
   {
    "duration": 0,
    "start_time": "2022-09-20T13:19:44.137Z"
   },
   {
    "duration": 0,
    "start_time": "2022-09-20T13:19:44.138Z"
   },
   {
    "duration": 0,
    "start_time": "2022-09-20T13:19:44.139Z"
   },
   {
    "duration": 0,
    "start_time": "2022-09-20T13:19:44.140Z"
   },
   {
    "duration": 0,
    "start_time": "2022-09-20T13:19:44.141Z"
   },
   {
    "duration": 0,
    "start_time": "2022-09-20T13:19:44.143Z"
   },
   {
    "duration": 0,
    "start_time": "2022-09-20T13:19:44.144Z"
   },
   {
    "duration": 0,
    "start_time": "2022-09-20T13:19:44.154Z"
   },
   {
    "duration": 0,
    "start_time": "2022-09-20T13:19:44.154Z"
   },
   {
    "duration": 0,
    "start_time": "2022-09-20T13:19:44.157Z"
   },
   {
    "duration": 0,
    "start_time": "2022-09-20T13:19:44.158Z"
   },
   {
    "duration": 0,
    "start_time": "2022-09-20T13:19:44.159Z"
   },
   {
    "duration": 0,
    "start_time": "2022-09-20T13:19:44.160Z"
   },
   {
    "duration": 0,
    "start_time": "2022-09-20T13:19:44.161Z"
   },
   {
    "duration": 0,
    "start_time": "2022-09-20T13:19:44.162Z"
   },
   {
    "duration": 0,
    "start_time": "2022-09-20T13:19:44.162Z"
   },
   {
    "duration": 0,
    "start_time": "2022-09-20T13:19:44.163Z"
   },
   {
    "duration": 0,
    "start_time": "2022-09-20T13:19:44.164Z"
   },
   {
    "duration": 0,
    "start_time": "2022-09-20T13:19:44.165Z"
   },
   {
    "duration": 0,
    "start_time": "2022-09-20T13:19:44.166Z"
   },
   {
    "duration": 0,
    "start_time": "2022-09-20T13:19:44.166Z"
   },
   {
    "duration": 0,
    "start_time": "2022-09-20T13:19:44.167Z"
   },
   {
    "duration": 13845,
    "start_time": "2022-09-20T13:21:49.945Z"
   },
   {
    "duration": 4,
    "start_time": "2022-09-20T13:28:09.016Z"
   },
   {
    "duration": 865,
    "start_time": "2022-09-20T13:28:10.909Z"
   },
   {
    "duration": 9,
    "start_time": "2022-09-20T13:28:11.777Z"
   },
   {
    "duration": 4,
    "start_time": "2022-09-20T13:28:11.900Z"
   },
   {
    "duration": 503524,
    "start_time": "2022-09-20T13:28:23.134Z"
   },
   {
    "duration": 4,
    "start_time": "2022-09-20T13:36:46.661Z"
   },
   {
    "duration": 701,
    "start_time": "2022-09-20T13:36:46.668Z"
   },
   {
    "duration": 4,
    "start_time": "2022-09-20T13:36:47.372Z"
   },
   {
    "duration": 27,
    "start_time": "2022-09-20T13:36:47.378Z"
   },
   {
    "duration": 204470,
    "start_time": "2022-09-20T13:36:56.527Z"
   },
   {
    "duration": 5,
    "start_time": "2022-09-20T13:40:20.999Z"
   },
   {
    "duration": 542,
    "start_time": "2022-09-20T13:40:21.006Z"
   },
   {
    "duration": 6,
    "start_time": "2022-09-20T13:40:21.551Z"
   },
   {
    "duration": 18,
    "start_time": "2022-09-20T13:40:21.559Z"
   },
   {
    "duration": 3,
    "start_time": "2022-09-20T13:40:39.129Z"
   },
   {
    "duration": 2,
    "start_time": "2022-09-20T13:40:39.400Z"
   },
   {
    "duration": 205444,
    "start_time": "2022-09-20T13:40:39.622Z"
   },
   {
    "duration": 740,
    "start_time": "2022-09-20T13:44:05.068Z"
   },
   {
    "duration": 4,
    "start_time": "2022-09-20T13:44:05.810Z"
   },
   {
    "duration": 27,
    "start_time": "2022-09-20T13:44:05.816Z"
   },
   {
    "duration": 31,
    "start_time": "2022-09-20T13:44:05.845Z"
   },
   {
    "duration": 13,
    "start_time": "2022-09-20T13:44:05.878Z"
   },
   {
    "duration": 743,
    "start_time": "2022-09-20T13:44:05.893Z"
   },
   {
    "duration": 35,
    "start_time": "2022-09-20T14:03:47.046Z"
   },
   {
    "duration": 1550,
    "start_time": "2022-09-20T14:04:04.876Z"
   },
   {
    "duration": 933,
    "start_time": "2022-09-20T14:04:06.428Z"
   },
   {
    "duration": 33,
    "start_time": "2022-09-20T14:04:07.363Z"
   },
   {
    "duration": 6,
    "start_time": "2022-09-20T14:04:07.398Z"
   },
   {
    "duration": 2488,
    "start_time": "2022-09-20T14:04:07.406Z"
   },
   {
    "duration": 585,
    "start_time": "2022-09-20T14:04:09.896Z"
   },
   {
    "duration": 518,
    "start_time": "2022-09-20T14:04:10.483Z"
   },
   {
    "duration": 4,
    "start_time": "2022-09-20T14:04:11.002Z"
   },
   {
    "duration": 51,
    "start_time": "2022-09-20T14:04:11.008Z"
   },
   {
    "duration": 110,
    "start_time": "2022-09-20T14:04:11.061Z"
   },
   {
    "duration": 47,
    "start_time": "2022-09-20T14:04:11.173Z"
   },
   {
    "duration": 59,
    "start_time": "2022-09-20T14:04:11.221Z"
   },
   {
    "duration": 39,
    "start_time": "2022-09-20T14:04:11.282Z"
   },
   {
    "duration": 282,
    "start_time": "2022-09-20T14:04:11.325Z"
   },
   {
    "duration": 144,
    "start_time": "2022-09-20T14:04:11.610Z"
   },
   {
    "duration": 62,
    "start_time": "2022-09-20T14:04:11.756Z"
   },
   {
    "duration": 231,
    "start_time": "2022-09-20T14:04:11.820Z"
   },
   {
    "duration": 23,
    "start_time": "2022-09-20T14:04:12.053Z"
   },
   {
    "duration": 46,
    "start_time": "2022-09-20T14:04:12.078Z"
   },
   {
    "duration": 105,
    "start_time": "2022-09-20T14:04:12.125Z"
   },
   {
    "duration": 112,
    "start_time": "2022-09-20T14:04:12.232Z"
   },
   {
    "duration": 3,
    "start_time": "2022-09-20T14:04:12.353Z"
   },
   {
    "duration": 36,
    "start_time": "2022-09-20T14:04:12.358Z"
   },
   {
    "duration": 22,
    "start_time": "2022-09-20T14:04:12.396Z"
   },
   {
    "duration": 39,
    "start_time": "2022-09-20T14:04:12.419Z"
   },
   {
    "duration": 26,
    "start_time": "2022-09-20T14:04:12.460Z"
   },
   {
    "duration": 28,
    "start_time": "2022-09-20T14:04:12.488Z"
   },
   {
    "duration": 40,
    "start_time": "2022-09-20T14:04:12.517Z"
   },
   {
    "duration": 28,
    "start_time": "2022-09-20T14:04:12.559Z"
   },
   {
    "duration": 21,
    "start_time": "2022-09-20T14:04:12.589Z"
   },
   {
    "duration": 43,
    "start_time": "2022-09-20T14:04:12.612Z"
   },
   {
    "duration": 19,
    "start_time": "2022-09-20T14:04:12.657Z"
   },
   {
    "duration": 107,
    "start_time": "2022-09-20T14:04:12.678Z"
   },
   {
    "duration": 112,
    "start_time": "2022-09-20T14:04:12.787Z"
   },
   {
    "duration": 28,
    "start_time": "2022-09-20T14:04:12.901Z"
   },
   {
    "duration": 164,
    "start_time": "2022-09-20T14:04:12.931Z"
   },
   {
    "duration": 3,
    "start_time": "2022-09-20T14:04:13.097Z"
   },
   {
    "duration": 10,
    "start_time": "2022-09-20T14:04:13.103Z"
   },
   {
    "duration": 69,
    "start_time": "2022-09-20T14:04:13.115Z"
   },
   {
    "duration": 25,
    "start_time": "2022-09-20T14:04:13.186Z"
   },
   {
    "duration": 454,
    "start_time": "2022-09-20T14:04:13.218Z"
   },
   {
    "duration": 22,
    "start_time": "2022-09-20T14:04:13.674Z"
   },
   {
    "duration": 466,
    "start_time": "2022-09-20T14:04:13.698Z"
   },
   {
    "duration": 4,
    "start_time": "2022-09-20T14:04:14.166Z"
   },
   {
    "duration": 41,
    "start_time": "2022-09-20T14:04:14.171Z"
   },
   {
    "duration": 164,
    "start_time": "2022-09-20T14:04:14.214Z"
   },
   {
    "duration": 2,
    "start_time": "2022-09-20T14:04:14.380Z"
   },
   {
    "duration": 16579,
    "start_time": "2022-09-20T14:04:14.384Z"
   },
   {
    "duration": 5,
    "start_time": "2022-09-20T14:04:31.055Z"
   },
   {
    "duration": 399,
    "start_time": "2022-09-20T14:04:31.062Z"
   },
   {
    "duration": 93,
    "start_time": "2022-09-20T14:04:31.463Z"
   },
   {
    "duration": 108,
    "start_time": "2022-09-20T14:04:31.558Z"
   },
   {
    "duration": 57,
    "start_time": "2022-09-20T14:04:31.668Z"
   },
   {
    "duration": 5712,
    "start_time": "2022-09-20T14:04:31.727Z"
   },
   {
    "duration": 12,
    "start_time": "2022-09-20T14:04:37.441Z"
   },
   {
    "duration": 275,
    "start_time": "2022-09-20T14:04:37.455Z"
   },
   {
    "duration": 4,
    "start_time": "2022-09-20T14:04:37.732Z"
   },
   {
    "duration": 16,
    "start_time": "2022-09-20T14:04:37.738Z"
   },
   {
    "duration": 20,
    "start_time": "2022-09-20T14:04:37.756Z"
   },
   {
    "duration": 12566,
    "start_time": "2022-09-20T14:04:37.778Z"
   },
   {
    "duration": 9,
    "start_time": "2022-09-20T14:04:50.346Z"
   },
   {
    "duration": 757,
    "start_time": "2022-09-20T14:04:50.356Z"
   },
   {
    "duration": 4,
    "start_time": "2022-09-20T14:04:51.114Z"
   },
   {
    "duration": 16,
    "start_time": "2022-09-20T14:04:51.120Z"
   },
   {
    "duration": 4726,
    "start_time": "2022-09-20T14:04:51.137Z"
   },
   {
    "duration": 4,
    "start_time": "2022-09-20T14:04:55.866Z"
   },
   {
    "duration": 702,
    "start_time": "2022-09-20T14:04:55.872Z"
   },
   {
    "duration": 17,
    "start_time": "2022-09-20T14:04:56.576Z"
   },
   {
    "duration": 14,
    "start_time": "2022-09-20T14:04:56.595Z"
   },
   {
    "duration": 194508,
    "start_time": "2022-09-20T14:04:56.655Z"
   },
   {
    "duration": 4,
    "start_time": "2022-09-20T14:08:11.165Z"
   },
   {
    "duration": 549,
    "start_time": "2022-09-20T14:08:11.171Z"
   },
   {
    "duration": 5,
    "start_time": "2022-09-20T14:08:11.721Z"
   },
   {
    "duration": 9,
    "start_time": "2022-09-20T14:08:11.728Z"
   },
   {
    "duration": 18,
    "start_time": "2022-09-20T14:08:11.739Z"
   },
   {
    "duration": 23,
    "start_time": "2022-09-20T14:08:11.760Z"
   },
   {
    "duration": 196467,
    "start_time": "2022-09-20T14:08:11.787Z"
   },
   {
    "duration": 635,
    "start_time": "2022-09-20T14:11:28.256Z"
   },
   {
    "duration": 3,
    "start_time": "2022-09-20T14:11:28.893Z"
   },
   {
    "duration": 18,
    "start_time": "2022-09-20T14:11:28.898Z"
   },
   {
    "duration": 29,
    "start_time": "2022-09-20T14:11:28.918Z"
   },
   {
    "duration": 23,
    "start_time": "2022-09-20T14:11:28.949Z"
   },
   {
    "duration": 687,
    "start_time": "2022-09-20T14:11:28.974Z"
   },
   {
    "duration": 153,
    "start_time": "2022-09-20T14:11:29.663Z"
   },
   {
    "duration": 735,
    "start_time": "2022-09-20T14:13:52.913Z"
   },
   {
    "duration": 121,
    "start_time": "2022-09-20T14:16:41.317Z"
   },
   {
    "duration": 200371,
    "start_time": "2022-09-20T14:16:45.108Z"
   },
   {
    "duration": 675,
    "start_time": "2022-09-20T14:20:05.482Z"
   },
   {
    "duration": 67,
    "start_time": "2022-09-20T14:21:31.194Z"
   }
  ],
  "kernelspec": {
   "display_name": "Python 3 (ipykernel)",
   "language": "python",
   "name": "python3"
  },
  "language_info": {
   "codemirror_mode": {
    "name": "ipython",
    "version": 3
   },
   "file_extension": ".py",
   "mimetype": "text/x-python",
   "name": "python",
   "nbconvert_exporter": "python",
   "pygments_lexer": "ipython3",
   "version": "3.9.12"
  },
  "toc": {
   "base_numbering": 1,
   "nav_menu": {},
   "number_sections": true,
   "sideBar": true,
   "skip_h1_title": true,
   "title_cell": "Table of Contents",
   "title_sidebar": "Contents",
   "toc_cell": false,
   "toc_position": {},
   "toc_section_display": true,
   "toc_window_display": false
  }
 },
 "nbformat": 4,
 "nbformat_minor": 2
}
